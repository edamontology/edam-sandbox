{
 "cells": [
  {
   "cell_type": "markdown",
   "metadata": {},
   "source": [
    "## Loading EDAM into an RDFlib graph"
   ]
  },
  {
   "cell_type": "code",
   "execution_count": 1,
   "metadata": {},
   "outputs": [],
   "source": [
    "from rdflib import ConjunctiveGraph"
   ]
  },
  {
   "cell_type": "markdown",
   "metadata": {},
   "source": [
    "Here we initialize the graph. "
   ]
  },
  {
   "cell_type": "code",
   "execution_count": 9,
   "metadata": {},
   "outputs": [],
   "source": [
    "kg = ConjunctiveGraph()\n",
    "\n",
    "def print_size():\n",
    "    print(f\"The knowledge graph has {len(kg)} triples\")"
   ]
  },
  {
   "cell_type": "markdown",
   "metadata": {},
   "source": [
    "Here we load the EDAM ontology into the graph. "
   ]
  },
  {
   "cell_type": "code",
   "execution_count": 10,
   "metadata": {},
   "outputs": [
    {
     "name": "stdout",
     "output_type": "stream",
     "text": [
      "The knowledge graph has 36198 triples\n"
     ]
    }
   ],
   "source": [
    "kg.load('http://edamontology.org/EDAM.owl', format='xml')\n",
    "print_size()"
   ]
  },
  {
   "cell_type": "code",
   "execution_count": 22,
   "metadata": {},
   "outputs": [
    {
     "name": "stdout",
     "output_type": "stream",
     "text": [
      "36198\n"
     ]
    }
   ],
   "source": [
    "# a single function to load EDAM and get the graph object as a result\n",
    "def load_EDAM():\n",
    "    g = ConjunctiveGraph()\n",
    "    g.load('http://edamontology.org/EDAM.owl', format='xml')\n",
    "    return g\n",
    "\n",
    "G = load_EDAM()\n",
    "print(len(G))"
   ]
  },
  {
   "cell_type": "markdown",
   "metadata": {},
   "source": [
    "## Listing the 100 first triples  "
   ]
  },
  {
   "cell_type": "code",
   "execution_count": 25,
   "metadata": {},
   "outputs": [
    {
     "name": "stdout",
     "output_type": "stream",
     "text": [
      "(http://edamontology.org/topic_1311, http://www.geneontology.org/formats/oboInOwl#hasDefinition, Operons (operators, promoters and genes) from a bacterial genome.)\n",
      "(N32389d23883d4a99bbccabc384943430, http://www.w3.org/2002/07/owl#onProperty, http://edamontology.org/has_topic)\n",
      "(http://edamontology.org/operation_1819, http://www.geneontology.org/formats/oboInOwl#hasDefinition, Calculate the solvent accessibility ('accessible surface') for each residue in a structure.)\n",
      "(http://edamontology.org/operation_3459, http://www.w3.org/2000/01/rdf-schema#subClassOf, Ne2e9fac208484107b2d9f689af4adf22)\n",
      "(http://edamontology.org/operation_2495, http://www.geneontology.org/formats/oboInOwl#hasNarrowSynonym, Gene expression data analysis)\n",
      "(http://edamontology.org/operation_1835, http://www.geneontology.org/formats/oboInOwl#hasDefinition, Calculate ion contacts in a structure (all ions for all side chain atoms).)\n",
      "(http://edamontology.org/format_2069, http://www.w3.org/1999/02/22-rdf-syntax-ns#type, http://www.w3.org/2002/07/owl#Class)\n",
      "(http://edamontology.org/operation_0396, http://www.geneontology.org/formats/oboInOwl#inSubset, http://purl.obolibrary.org/obo/edam#edam)\n",
      "(http://edamontology.org/format_3773, http://www.geneontology.org/formats/oboInOwl#hasExactSynonym, BioXSD+YAML)\n",
      "(http://edamontology.org/topic_3178, http://www.w3.org/2000/01/rdf-schema#label, RNA-Seq alignment)\n",
      "(http://edamontology.org/format_3602, http://www.w3.org/1999/02/22-rdf-syntax-ns#type, http://www.w3.org/2002/07/owl#Class)\n",
      "(http://edamontology.org/data_2605, http://www.geneontology.org/formats/oboInOwl#inSubset, http://purl.obolibrary.org/obo/edam#data)\n",
      "(http://edamontology.org/operation_2464, http://www.w3.org/2000/01/rdf-schema#label, Protein-protein binding site prediction)\n",
      "(http://edamontology.org/operation_0313, http://www.geneontology.org/formats/oboInOwl#inSubset, http://purl.obolibrary.org/obo/edam#edam)\n",
      "(http://edamontology.org/format_3683, http://www.geneontology.org/formats/oboInOwl#hasDbXref, http://code.google.com/archive/p/qcml)\n",
      "(http://edamontology.org/operation_0360, http://www.geneontology.org/formats/oboInOwl#hasExactSynonym, Structure retrieval by structure)\n",
      "(http://edamontology.org/data_1486, http://www.geneontology.org/formats/oboInOwl#consider, http://edamontology.org/data_1481)\n",
      "(http://edamontology.org/topic_0140, http://www.geneontology.org/formats/oboInOwl#inSubset, http://purl.obolibrary.org/obo/edam#topics)\n",
      "(http://edamontology.org/data_1158, http://www.geneontology.org/formats/oboInOwl#hasDefinition, Identifier of an entry from the INOH database.)\n",
      "(http://edamontology.org/topic_3419, http://www.w3.org/2000/01/rdf-schema#label, Psychiatry)\n",
      "(http://edamontology.org/data_2663, http://www.w3.org/2000/01/rdf-schema#subClassOf, N653b7914135e40f5874a968a341d7afd)\n",
      "(http://edamontology.org/operation_0430, http://www.w3.org/1999/02/22-rdf-syntax-ns#type, http://www.w3.org/2002/07/owl#Class)\n",
      "(http://edamontology.org/format_2572, http://www.w3.org/2000/01/rdf-schema#subClassOf, http://edamontology.org/format_2920)\n",
      "(http://edamontology.org/operation_3926, http://www.w3.org/2000/01/rdf-schema#subClassOf, http://edamontology.org/operation_0337)\n",
      "(http://edamontology.org/format_3651, http://www.geneontology.org/formats/oboInOwl#inSubset, http://purl.obolibrary.org/obo/edam#formats)\n",
      "(http://edamontology.org/topic_3407, http://edamontology.org/created_in, 1.4)\n",
      "(http://edamontology.org/data_1077, http://edamontology.org/created_in, beta12orEarlier)\n",
      "(N9ca286aaa7d143ceb05724f991ab8f00, http://www.w3.org/1999/02/22-rdf-syntax-ns#type, http://www.w3.org/2002/07/owl#Restriction)\n",
      "(http://edamontology.org/data_1362, http://edamontology.org/created_in, beta12orEarlier)\n",
      "(http://edamontology.org/data_2603, http://www.geneontology.org/formats/oboInOwl#hasNarrowSynonym, Protein expression data)\n",
      "(http://edamontology.org/data_1058, http://www.geneontology.org/formats/oboInOwl#hasDefinition, The name of a file (of any type) with restricted possible values.)\n",
      "(http://edamontology.org/operation_2407, http://www.w3.org/2000/01/rdf-schema#subClassOf, http://www.w3.org/2002/07/owl#DeprecatedClass)\n",
      "(http://edamontology.org/format_2202, http://www.geneontology.org/formats/oboInOwl#hasDefinition, Data format for a molecular sequence record, typically corresponding to a full entry from a molecular sequence database.)\n",
      "(http://edamontology.org/data_2642, http://www.geneontology.org/formats/oboInOwl#hasExactSynonym, miRNA name)\n",
      "(Nb1c205a554ff4bd98d8c977660088711, http://www.w3.org/2002/07/owl#someValuesFrom, http://edamontology.org/topic_0154)\n",
      "(http://edamontology.org/data_1058, http://www.w3.org/2000/01/rdf-schema#subClassOf, http://edamontology.org/data_1050)\n",
      "(http://edamontology.org/operation_0279, http://www.w3.org/1999/02/22-rdf-syntax-ns#type, http://www.w3.org/2002/07/owl#Class)\n",
      "(http://edamontology.org/data_1029, http://edamontology.org/created_in, beta12orEarlier)\n",
      "(http://edamontology.org/format_2211, http://www.geneontology.org/formats/oboInOwl#consider, http://edamontology.org/format_2331)\n",
      "(http://edamontology.org/format_3652, http://www.geneontology.org/formats/oboInOwl#inSubset, http://purl.obolibrary.org/obo/edam#formats)\n",
      "(http://edamontology.org/data_1146, http://www.w3.org/1999/02/22-rdf-syntax-ns#type, http://www.w3.org/2002/07/owl#Class)\n",
      "(http://edamontology.org/format_1991, http://www.geneontology.org/formats/oboInOwl#hasDefinition, Mega format for (typically aligned) sequences.)\n",
      "(http://edamontology.org/format_2197, http://www.w3.org/2000/01/rdf-schema#label, OWL format)\n",
      "(http://edamontology.org/data_1602, http://www.geneontology.org/formats/oboInOwl#hasDefinition, The differences in codon usage fractions between two codon usage tables.)\n",
      "(http://edamontology.org/operation_1780, http://www.w3.org/2000/01/rdf-schema#subClassOf, http://www.w3.org/2002/07/owl#DeprecatedClass)\n",
      "(http://edamontology.org/data_0878, http://www.geneontology.org/formats/oboInOwl#hasExactSynonym, Secondary structure alignment (protein))\n",
      "(http://edamontology.org/operation_2506, http://www.w3.org/2000/01/rdf-schema#label, Protein sequence alignment analysis)\n",
      "(http://edamontology.org/topic_3306, http://www.w3.org/2000/01/rdf-schema#seeAlso, https://en.wikipedia.org/wiki/Biophysics)\n",
      "(http://edamontology.org/format_3713, http://www.w3.org/2000/01/rdf-schema#label, Mascot .dat file)\n",
      "(http://edamontology.org/topic_2257, http://edamontology.org/created_in, beta12orEarlier)\n",
      "(http://edamontology.org/operation_3278, http://www.geneontology.org/formats/oboInOwl#hasDefinition, Calculate similarity between 2 or more documents.)\n",
      "(http://edamontology.org/topic_0081, http://www.w3.org/2000/01/rdf-schema#comment, This includes related concepts such as structural properties, alignments and structural motifs.)\n",
      "(http://edamontology.org/data_1414, http://www.w3.org/1999/02/22-rdf-syntax-ns#type, http://www.w3.org/2002/07/owl#Class)\n",
      "(http://edamontology.org/data_1794, http://www.w3.org/1999/02/22-rdf-syntax-ns#type, http://www.w3.org/2002/07/owl#Class)\n",
      "(http://edamontology.org/format_2562, http://www.w3.org/1999/02/22-rdf-syntax-ns#type, http://www.w3.org/2002/07/owl#Class)\n",
      "(http://edamontology.org/format_3164, http://www.geneontology.org/formats/oboInOwl#hasExactSynonym, GTrack format)\n",
      "(http://edamontology.org/operation_0481, http://www.w3.org/1999/02/22-rdf-syntax-ns#type, http://www.w3.org/2002/07/owl#Class)\n",
      "(http://edamontology.org/operation_2473, http://edamontology.org/created_in, beta12orEarlier)\n",
      "(http://edamontology.org/data_1002, http://www.w3.org/2000/01/rdf-schema#subClassOf, http://edamontology.org/data_2895)\n",
      "(http://edamontology.org/has_output, http://www.w3.org/2000/01/rdf-schema#domain, http://edamontology.org/operation_0004)\n",
      "(http://edamontology.org/data_1872, http://www.geneontology.org/formats/oboInOwl#hasDbXref, Moby:TaxonTCS)\n",
      "(http://edamontology.org/format_3788, http://www.geneontology.org/formats/oboInOwl#hasDbXref, http://www.iana.org/assignments/media-types/application/sql)\n",
      "(http://edamontology.org/operation_0324, http://www.w3.org/2000/01/rdf-schema#subClassOf, http://edamontology.org/operation_2945)\n",
      "(http://edamontology.org/format_2352, http://www.w3.org/2000/01/rdf-schema#subClassOf, http://edamontology.org/format_1920)\n",
      "(http://edamontology.org/data_2379, http://www.geneontology.org/formats/oboInOwl#inSubset, http://purl.obolibrary.org/obo/edam#identifiers)\n",
      "(N81a5d11653db48c69e234e9807d9db8f, http://www.w3.org/2002/07/owl#someValuesFrom, http://edamontology.org/data_1597)\n",
      "(http://edamontology.org/topic_0782, http://edamontology.org/obsolete_since, 1.17)\n",
      "(http://edamontology.org/operation_3478, http://www.w3.org/2000/01/rdf-schema#subClassOf, http://edamontology.org/operation_0323)\n",
      "(http://edamontology.org/operation_3222, http://www.geneontology.org/formats/oboInOwl#inSubset, http://purl.obolibrary.org/obo/edam#edam)\n",
      "(http://edamontology.org/format_1335, http://edamontology.org/created_in, beta12orEarlier)\n",
      "(http://edamontology.org/operation_0475, http://www.w3.org/2000/01/rdf-schema#subClassOf, http://edamontology.org/operation_2423)\n",
      "(http://edamontology.org/topic_3370, http://www.w3.org/1999/02/22-rdf-syntax-ns#type, http://www.w3.org/2002/07/owl#Class)\n",
      "(http://edamontology.org/data_1201, http://www.geneontology.org/formats/oboInOwl#hasExactSynonym, QSAR constitutional descriptor)\n",
      "(http://edamontology.org/data_3733, http://www.w3.org/1999/02/22-rdf-syntax-ns#type, http://www.w3.org/2002/07/owl#Class)\n",
      "(http://edamontology.org/topic_2533, http://www.w3.org/1999/02/22-rdf-syntax-ns#type, http://www.w3.org/2002/07/owl#Class)\n",
      "(http://edamontology.org/data_1321, http://edamontology.org/obsolete_since, beta12orEarlier)\n",
      "(http://edamontology.org/data_1283, http://www.geneontology.org/formats/oboInOwl#hasExactSynonym, Cytogenic map)\n",
      "(http://edamontology.org/data_1034, http://www.geneontology.org/formats/oboInOwl#inSubset, http://purl.obolibrary.org/obo/edam#edam)\n",
      "(N5dd5a069f79a46c39181fd8d82464643, http://www.w3.org/2002/07/owl#someValuesFrom, http://edamontology.org/data_1501)\n",
      "(http://edamontology.org/operation_3898, http://www.geneontology.org/formats/oboInOwl#hasDefinition, Predict or detect metal ion-binding sites in proteins.)\n",
      "(http://edamontology.org/topic_3420, http://www.geneontology.org/formats/oboInOwl#inSubset, http://purl.obolibrary.org/obo/edam#topics)\n",
      "(http://edamontology.org/topic_0606, http://www.geneontology.org/formats/oboInOwl#replacedBy, http://edamontology.org/topic_3068)\n",
      "(http://edamontology.org/format_1915, http://www.w3.org/2000/01/rdf-schema#seeAlso, http://www.onto-med.de/ontologies/gfo.owl#Symbol_structure)\n",
      "(http://edamontology.org/operation_0439, http://www.geneontology.org/formats/oboInOwl#inSubset, http://purl.obolibrary.org/obo/edam#edam)\n",
      "(http://edamontology.org/topic_0634, http://www.geneontology.org/formats/oboInOwl#inSubset, http://purl.obolibrary.org/obo/edam#topics)\n",
      "(http://edamontology.org/operation_3227, http://www.geneontology.org/formats/oboInOwl#hasNarrowSynonym, Allele calling)\n",
      "(http://edamontology.org/topic_1811, http://www.geneontology.org/formats/oboInOwl#inSubset, http://purl.obolibrary.org/obo/edam#obsolete)\n",
      "(http://edamontology.org/data_2079, http://www.w3.org/2002/07/owl#deprecated, true)\n",
      "(http://edamontology.org/data_2892, http://www.geneontology.org/formats/oboInOwl#inSubset, http://purl.obolibrary.org/obo/edam#data)\n",
      "(http://edamontology.org/data_3131, http://www.geneontology.org/formats/oboInOwl#replacedBy, http://edamontology.org/data_0858)\n",
      "(http://edamontology.org/operation_2438, http://www.w3.org/1999/02/22-rdf-syntax-ns#type, http://www.w3.org/2002/07/owl#Class)\n",
      "(http://edamontology.org/topic_3169, http://edamontology.org/created_in, 1.1)\n",
      "(http://edamontology.org/data_1292, http://www.geneontology.org/formats/oboInOwl#replacedBy, http://edamontology.org/data_2969)\n",
      "(N17760edfb4444f5ca6b557dc24af629a, http://www.w3.org/2002/07/owl#onProperty, http://edamontology.org/is_format_of)\n",
      "(http://edamontology.org/topic_0094, http://edamontology.org/created_in, beta12orEarlier)\n",
      "(http://edamontology.org/operation_2504, http://edamontology.org/obsolete_since, beta13)\n",
      "(http://edamontology.org/topic_0092, http://www.geneontology.org/formats/oboInOwl#hasBroadSynonym, Computer graphics)\n",
      "(Nb605378c200f4304b20fa7bda9ed291e, http://www.w3.org/2002/07/owl#onProperty, http://edamontology.org/is_identifier_of)\n",
      "(http://edamontology.org/data_2976, http://www.geneontology.org/formats/oboInOwl#hasExactSynonym, Amino acid sequence)\n",
      "(http://edamontology.org/format_2027, http://www.geneontology.org/formats/oboInOwl#hasDefinition, Data format for reports on enzyme kinetics.)\n"
     ]
    }
   ],
   "source": [
    "i = 0\n",
    "\n",
    "for subject,predicate,obj in kg:\n",
    "    print(f'({subject}, {predicate}, {obj})')\n",
    "    i+=1\n",
    "    \n",
    "    if i > 99:\n",
    "        break\n",
    "    "
   ]
  },
  {
   "cell_type": "markdown",
   "metadata": {},
   "source": [
    "## Evaluating a basic SPARQL query\n",
    "Aim: printing the label and the URI of the direct subclasses of the generic \"EDAM operation\" concept."
   ]
  },
  {
   "cell_type": "code",
   "execution_count": 21,
   "metadata": {},
   "outputs": [
    {
     "name": "stdout",
     "output_type": "stream",
     "text": [
      "Generation is identified in EDAM with concept http://edamontology.org/operation_3429\n",
      "Data handling is identified in EDAM with concept http://edamontology.org/operation_2409\n",
      "Classification is identified in EDAM with concept http://edamontology.org/operation_2990\n",
      "Alignment is identified in EDAM with concept http://edamontology.org/operation_2928\n",
      "Analysis is identified in EDAM with concept http://edamontology.org/operation_2945\n",
      "Comparison is identified in EDAM with concept http://edamontology.org/operation_2424\n",
      "Modelling and simulation is identified in EDAM with concept http://edamontology.org/operation_2426\n",
      "Prediction and recognition is identified in EDAM with concept http://edamontology.org/operation_2423\n",
      "Optimisation and refinement is identified in EDAM with concept http://edamontology.org/operation_2425\n",
      "Mapping is identified in EDAM with concept http://edamontology.org/operation_2429\n",
      "Correlation is identified in EDAM with concept http://edamontology.org/operation_3465\n",
      "Service management is identified in EDAM with concept http://edamontology.org/operation_3760\n",
      "Validation is identified in EDAM with concept http://edamontology.org/operation_2428\n",
      "Design is identified in EDAM with concept http://edamontology.org/operation_2430\n",
      "Clustering is identified in EDAM with concept http://edamontology.org/operation_3432\n",
      "Calculation is identified in EDAM with concept http://edamontology.org/operation_3438\n",
      "Annotation is identified in EDAM with concept http://edamontology.org/operation_0226\n",
      "Indexing is identified in EDAM with concept http://edamontology.org/operation_0227\n",
      "Visualisation is identified in EDAM with concept http://edamontology.org/operation_0337\n",
      "Quantification is identified in EDAM with concept http://edamontology.org/operation_3799\n",
      "Conversion is identified in EDAM with concept http://edamontology.org/operation_3434\n"
     ]
    }
   ],
   "source": [
    "query = \"\"\"\n",
    "SELECT ?x ?label WHERE {\n",
    "    ?x rdfs:subClassOf <http://edamontology.org/operation_0004> . \n",
    "    ?x rdfs:label ?label .\n",
    "}\n",
    "\"\"\"\n",
    "\n",
    "results = kg.query(query)\n",
    "\n",
    "for r in results :\n",
    "    print(f\"{r['label']} is identified in EDAM with concept {r['x']}\") "
   ]
  },
  {
   "cell_type": "markdown",
   "metadata": {},
   "source": [
    "## Evaluating another SPARQL query\n",
    "Aim: printing the label and the URI of all direct and indirect subclasses of *Alignment* operations (Class <http://edamontology.org/operation_2928>)"
   ]
  },
  {
   "cell_type": "code",
   "execution_count": 24,
   "metadata": {},
   "outputs": [
    {
     "name": "stdout",
     "output_type": "stream",
     "text": [
      "Structure alignment is identified is a kind of alignment operation\n",
      "Multiple structure alignment is identified is a kind of alignment operation\n",
      "Global structure alignment is identified is a kind of alignment operation\n",
      "Pairwise structure alignment is identified is a kind of alignment operation\n",
      "Local structure alignment is identified is a kind of alignment operation\n",
      "Fold recognition is identified is a kind of alignment operation\n",
      "Protein threading is identified is a kind of alignment operation\n",
      "Sequence alignment is identified is a kind of alignment operation\n",
      "Pairwise sequence alignment is identified is a kind of alignment operation\n",
      "Tree-based sequence alignment is identified is a kind of alignment operation\n",
      "Local alignment is identified is a kind of alignment operation\n",
      "Sequence profile alignment is identified is a kind of alignment operation\n",
      "Structure-based sequence alignment is identified is a kind of alignment operation\n",
      "Global alignment is identified is a kind of alignment operation\n",
      "Multiple sequence alignment is identified is a kind of alignment operation\n",
      "Genome alignment is identified is a kind of alignment operation\n"
     ]
    }
   ],
   "source": [
    "query = \"\"\"\n",
    "SELECT ?x ?label WHERE {\n",
    "    ?x rdfs:subClassOf+ <http://edamontology.org/operation_2928> . \n",
    "    ?x rdfs:label ?label .\n",
    "}\n",
    "\"\"\"\n",
    "\n",
    "results = kg.query(query)\n",
    "\n",
    "for r in results :\n",
    "    print(f\"{r['label']} is identified is a kind of alignment operation\") "
   ]
  },
  {
   "cell_type": "code",
   "execution_count": null,
   "metadata": {},
   "outputs": [],
   "source": []
  }
 ],
 "metadata": {
  "kernelspec": {
   "display_name": "Python 3",
   "language": "python",
   "name": "python3"
  },
  "language_info": {
   "codemirror_mode": {
    "name": "ipython",
    "version": 3
   },
   "file_extension": ".py",
   "mimetype": "text/x-python",
   "name": "python",
   "nbconvert_exporter": "python",
   "pygments_lexer": "ipython3",
   "version": "3.7.6"
  }
 },
 "nbformat": 4,
 "nbformat_minor": 4
}
