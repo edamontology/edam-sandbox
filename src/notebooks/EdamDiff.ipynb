{
 "cells": [
  {
   "cell_type": "code",
   "execution_count": 2,
   "id": "0ffbb163",
   "metadata": {},
   "outputs": [],
   "source": [
    "from rdflib import ConjunctiveGraph\n",
    "import difflib"
   ]
  },
  {
   "cell_type": "code",
   "execution_count": 3,
   "id": "708a1fdc",
   "metadata": {},
   "outputs": [
    {
     "name": "stdout",
     "output_type": "stream",
     "text": [
      "7.0.0\n"
     ]
    }
   ],
   "source": [
    "import rdflib\n",
    "print(rdflib.__version__)"
   ]
  },
  {
   "cell_type": "code",
   "execution_count": 4,
   "id": "c697d265",
   "metadata": {},
   "outputs": [],
   "source": [
    "v1 = \"\"\"\n",
    "@prefix : <http://edamontology.org/> .\n",
    "@prefix dc: <http://purl.org/dc/elements/1.1/> .\n",
    "@prefix doap: <http://usefulinc.com/ns/doap#> .\n",
    "@prefix edam: <http://purl.obolibrary.org/obo/edam#> .\n",
    "@prefix foaf: <http://xmlns.com/foaf/0.1/> .\n",
    "@prefix oboInOwl: <http://www.geneontology.org/formats/oboInOwl#> .\n",
    "@prefix oboOther: <http://purl.obolibrary.org/obo/> .\n",
    "@prefix owl: <http://www.w3.org/2002/07/owl#> .\n",
    "@prefix rdf: <http://www.w3.org/1999/02/22-rdf-syntax-ns#> .\n",
    "@prefix rdfs: <http://www.w3.org/2000/01/rdf-schema#> .\n",
    "@prefix xsd: <http://www.w3.org/2001/XMLSchema#> .\n",
    "\n",
    ":data_0852 a owl:Class ;\n",
    "    rdfs:label \"Sequence mask type\" ;\n",
    "    :created_in \"beta12orEarlier\" ;\n",
    "    :obsolete_since \"1.5\" ;\n",
    "    oboInOwl:consider :data_0842 ;\n",
    "    oboInOwl:hasDefinition \"A label (text token) describing the type of sequence masking to perform.\" ;\n",
    "    oboInOwl:inSubset edam:obsolete ;\n",
    "    rdfs:comment \"Sequence masking is where specific characters or positions in a molecular sequence are masked (replaced) with an another (mask character). The mask type indicates what is masked, for example regions that are not of interest or which are information-poor including acidic protein regions, basic protein regions, proline-rich regions, low compositional complexity regions, short-periodicity internal repeats, simple repeats and low complexity regions. Masked sequences are used in database search to eliminate statistically significant but biologically uninteresting hits.\" ;\n",
    "    rdfs:subClassOf owl:DeprecatedClass ;\n",
    "    owl:deprecated \"true\" .\n",
    "\n",
    ":data_0853 a owl:Class ;\n",
    "    rdfs:label \"DNA sense specification\" ;\n",
    "    :created_in \"beta12orEarlier\" ;\n",
    "    :obsolete_since \"1.20\" ;\n",
    "    :oldParent :data_2534 ;\n",
    "    oboInOwl:consider :data_2534 ;\n",
    "    oboInOwl:hasDefinition \"The strand of a DNA sequence (forward or reverse).\" ;\n",
    "    oboInOwl:inSubset edam:obsolete ;\n",
    "    rdfs:comment \"The forward or 'top' strand might specify a sequence is to be used as given, the reverse or 'bottom' strand specifying the reverse complement of the sequence is to be used.\" ;\n",
    "    rdfs:subClassOf owl:DeprecatedClass ;\n",
    "    owl:deprecated \"true\" .\n",
    "\"\"\""
   ]
  },
  {
   "cell_type": "code",
   "execution_count": 5,
   "id": "5074f457",
   "metadata": {},
   "outputs": [],
   "source": [
    "v2 = \"\"\"\n",
    "@prefix : <http://edamontology.org/> .\n",
    "@prefix dc: <http://purl.org/dc/elements/1.1/> .\n",
    "@prefix doap: <http://usefulinc.com/ns/doap#> .\n",
    "@prefix edam: <http://purl.obolibrary.org/obo/edam#> .\n",
    "@prefix foaf: <http://xmlns.com/foaf/0.1/> .\n",
    "@prefix oboInOwl: <http://www.geneontology.org/formats/oboInOwl#> .\n",
    "@prefix oboOther: <http://purl.obolibrary.org/obo/> .\n",
    "@prefix owl: <http://www.w3.org/2002/07/owl#> .\n",
    "@prefix rdf: <http://www.w3.org/1999/02/22-rdf-syntax-ns#> .\n",
    "@prefix rdfs: <http://www.w3.org/2000/01/rdf-schema#> .\n",
    "@prefix xsd: <http://www.w3.org/2001/XMLSchema#> .\n",
    "    \n",
    ":data_0852 a owl:Class ;\n",
    "    rdfs:label \"Sequence mask type\" ;\n",
    "    oboInOwl:hasDefinition \"A label (text token) describing the type of sequence masking to perform.\" ;\n",
    "    :created_in \"beta12orEarlier\" ;\n",
    "    rdfs:comment \"Sequence masking is where specific characters or positions in a molecular sequence are masked (replaced) with an another (mask character). The mask type indicates what is masked, for example regions that are not of interest or which are information-poor including acidic protein regions, basic protein regions, proline-rich regions, low compositional complexity regions, short-periodicity internal repeats, simple repeats and low complexity regions. Masked sequences are used in database search to eliminate statistically significant but biologically uninteresting hits.\" ;\n",
    "    :obsolete_since \"1.5\" ;\n",
    "    oboInOwl:inSubset edam:obsolete ;\n",
    "    oboInOwl:consider :data_0842 ;    \n",
    "    rdfs:subClassOf owl:DeprecatedClass ;\n",
    "    owl:deprecated \"true\" .\n",
    "    \n",
    "\n",
    "\n",
    ":data_0853 a owl:Class ;\n",
    "    rdfs:label \"DNA sense specification\" ;\n",
    "    :created_in \"beta12orEarlier\" ;\n",
    "    :obsolete_since \"1.20\" ;\n",
    "    :oldParent :data_2534 ;\n",
    "    oboInOwl:consider :data_2534 ;\n",
    "    oboInOwl:hasDefinition \"The strand of a DNA sequence (forward or reverse).\" ;\n",
    "    oboInOwl:inSubset edam:obsolete ;\n",
    "    rdfs:comment \"The forward or 'top' strand might specify a sequence is to be used as given, the reverse or 'bottom' strand specifying the reverse complement of the sequence is to be used.\" ;\n",
    "    rdfs:subClassOf owl:DeprecatedClass ;\n",
    "    owl:deprecated \"true\" .\n",
    "    \n",
    "\"\"\"\n",
    "\n",
    "v3 = \"\"\"\n",
    "@prefix : <http://edamontology.org/> .\n",
    "@prefix dc: <http://purl.org/dc/elements/1.1/> .\n",
    "@prefix doap: <http://usefulinc.com/ns/doap#> .\n",
    "@prefix edam: <http://purl.obolibrary.org/obo/edam#> .\n",
    "@prefix foaf: <http://xmlns.com/foaf/0.1/> .\n",
    "@prefix oboInOwl: <http://www.geneontology.org/formats/oboInOwl#> .\n",
    "@prefix oboOther: <http://purl.obolibrary.org/obo/> .\n",
    "@prefix owl: <http://www.w3.org/2002/07/owl#> .\n",
    "@prefix rdf: <http://www.w3.org/1999/02/22-rdf-syntax-ns#> .\n",
    "@prefix rdfs: <http://www.w3.org/2000/01/rdf-schema#> .\n",
    "@prefix xsd: <http://www.w3.org/2001/XMLSchema#> .\n",
    "\n",
    ":data_0853 a owl:Class ;\n",
    "    rdfs:label \"DNA sense specification\" ;\n",
    "    :created_in \"beta12orEarlier\" ;\n",
    "    :obsolete_since \"1.20\" ;\n",
    "    :oldParent :data_2534 ;\n",
    "    oboInOwl:consider :data_2534 ;\n",
    "    oboInOwl:hasDefinition \"The strand of a DNA sequence (forward or reverse).\" ;\n",
    "    oboInOwl:inSubset edam:obsolete ;\n",
    "    rdfs:comment \"The forward or 'top' strand might specify a sequence is to be used as given, the reverse or 'bottom' strand specifying the reverse complement of the sequence is to be used.\" ;\n",
    "    rdfs:subClassOf owl:DeprecatedClass ;\n",
    "    owl:deprecated \"true\" .\n",
    "    \n",
    ":data_0852 a owl:Class ;\n",
    "    rdfs:label \"Sequence mask type\" ;\n",
    "    oboInOwl:hasDefinition \"A label (text token) describing the type of sequence masking to perform.\" ;\n",
    "    :created_in \"beta12orEarlier\" ;\n",
    "    rdfs:comment \"Sequence masking is where specific characters or positions in a molecular sequence are masked (replaced) with an another (mask character). The mask type indicates what is masked, for example regions that are not of interest or which are information-poor including acidic protein regions, basic protein regions, proline-rich regions, low compositional complexity regions, short-periodicity internal repeats, simple repeats and low complexity regions. Masked sequences are used in database search to eliminate statistically significant but biologically uninteresting hits.\" ;\n",
    "    :obsolete_since \"1.5\" ;\n",
    "    oboInOwl:inSubset edam:obsolete ;\n",
    "    oboInOwl:consider :data_0842 ;    \n",
    "    rdfs:subClassOf owl:DeprecatedClass ;\n",
    "    owl:deprecated \"true\" .\n",
    "    \n",
    "\"\"\""
   ]
  },
  {
   "cell_type": "code",
   "execution_count": 6,
   "id": "3b29ad4d",
   "metadata": {},
   "outputs": [
    {
     "ename": "AssertionError",
     "evalue": "The two serializations of the RDF graph should be the same",
     "output_type": "error",
     "traceback": [
      "\u001b[0;31m---------------------------------------------------------------------------\u001b[0m",
      "\u001b[0;31mAssertionError\u001b[0m                            Traceback (most recent call last)",
      "\u001b[0;32m<ipython-input-6-31501a3776c4>\u001b[0m in \u001b[0;36m<cell line: 1>\u001b[0;34m()\u001b[0m\n\u001b[0;32m----> 1\u001b[0;31m \u001b[0;32massert\u001b[0m \u001b[0mv1\u001b[0m \u001b[0;34m==\u001b[0m \u001b[0mv2\u001b[0m\u001b[0;34m,\u001b[0m \u001b[0;34m\"The two serializations of the RDF graph should be the same\"\u001b[0m\u001b[0;34m\u001b[0m\u001b[0;34m\u001b[0m\u001b[0m\n\u001b[0m",
      "\u001b[0;31mAssertionError\u001b[0m: The two serializations of the RDF graph should be the same"
     ]
    }
   ],
   "source": [
    "assert v1 == v2, \"The two serializations of the RDF graph should be the same\""
   ]
  },
  {
   "cell_type": "code",
   "execution_count": 7,
   "id": "1eab5315",
   "metadata": {},
   "outputs": [],
   "source": [
    "import jellyfish"
   ]
  },
  {
   "cell_type": "code",
   "execution_count": 8,
   "id": "27e1b5d7",
   "metadata": {},
   "outputs": [],
   "source": [
    "from rdflib.compare import to_isomorphic, graph_diff\n",
    "\n",
    "kg1 = ConjunctiveGraph()\n",
    "kg1.parse(data=v1, format=\"turtle\")\n",
    "\n",
    "kg2 = ConjunctiveGraph()\n",
    "kg2.parse(data=v1, format=\"turtle\")\n",
    "\n",
    "\n",
    "iso1 = to_isomorphic(kg1)\n",
    "iso2 = to_isomorphic(kg2)\n",
    "\n",
    "assert iso1 == iso2, \"The two RDFlib graph should be the same\"\n",
    "\n",
    "in_both, in_first, in_second = graph_diff(iso1, iso2)\n",
    "\n",
    "#print(in_both.serialize(format=\"turtle\"))\n",
    "assert len(in_first) == 0 \n",
    "assert len(in_second) == 0 "
   ]
  },
  {
   "cell_type": "code",
   "execution_count": 10,
   "id": "99c5efeb",
   "metadata": {},
   "outputs": [
    {
     "name": "stdout",
     "output_type": "stream",
     "text": [
      "@prefix : <http://edamontology.org/> .\n",
      "@prefix edam: <http://purl.obolibrary.org/obo/edam#> .\n",
      "@prefix oboInOwl: <http://www.geneontology.org/formats/oboInOwl#> .\n",
      "@prefix owl: <http://www.w3.org/2002/07/owl#> .\n",
      "@prefix rdfs: <http://www.w3.org/2000/01/rdf-schema#> .\n",
      "\n",
      ":data_0852 a owl:Class ;\n",
      "    rdfs:label \"Sequence mask type\" ;\n",
      "    :created_in \"beta12orEarlier\" ;\n",
      "    :obsolete_since \"1.5\" ;\n",
      "    oboInOwl:consider :data_0842 ;\n",
      "    oboInOwl:hasDefinition \"A label (text token) describing the type of sequence masking to perform.\" ;\n",
      "    oboInOwl:inSubset edam:obsolete ;\n",
      "    rdfs:comment \"Sequence masking is where specific characters or positions in a molecular sequence are masked (replaced) with an another (mask character). The mask type indicates what is masked, for example regions that are not of interest or which are information-poor including acidic protein regions, basic protein regions, proline-rich regions, low compositional complexity regions, short-periodicity internal repeats, simple repeats and low complexity regions. Masked sequences are used in database search to eliminate statistically significant but biologically uninteresting hits.\" ;\n",
      "    rdfs:subClassOf owl:DeprecatedClass ;\n",
      "    owl:deprecated \"true\" .\n",
      "\n",
      ":data_0853 a owl:Class ;\n",
      "    rdfs:label \"DNA sense specification\" ;\n",
      "    :created_in \"beta12orEarlier\" ;\n",
      "    :obsolete_since \"1.20\" ;\n",
      "    :oldParent :data_2534 ;\n",
      "    oboInOwl:consider :data_2534 ;\n",
      "    oboInOwl:hasDefinition \"The strand of a DNA sequence (forward or reverse).\" ;\n",
      "    oboInOwl:inSubset edam:obsolete ;\n",
      "    rdfs:comment \"The forward or 'top' strand might specify a sequence is to be used as given, the reverse or 'bottom' strand specifying the reverse complement of the sequence is to be used.\" ;\n",
      "    rdfs:subClassOf owl:DeprecatedClass ;\n",
      "    owl:deprecated \"true\" .\n",
      "\n",
      "\n"
     ]
    }
   ],
   "source": [
    "kg1 = ConjunctiveGraph()\n",
    "kg1.parse(data=v1, format=\"turtle\")\n",
    "v12 = kg1.serialize(format=\"turtle\")\n",
    "print(v12)"
   ]
  },
  {
   "cell_type": "code",
   "execution_count": 11,
   "id": "9f729863",
   "metadata": {},
   "outputs": [
    {
     "name": "stdout",
     "output_type": "stream",
     "text": [
      "@prefix : <http://edamontology.org/> .\n",
      "@prefix edam: <http://purl.obolibrary.org/obo/edam#> .\n",
      "@prefix oboInOwl: <http://www.geneontology.org/formats/oboInOwl#> .\n",
      "@prefix owl: <http://www.w3.org/2002/07/owl#> .\n",
      "@prefix rdfs: <http://www.w3.org/2000/01/rdf-schema#> .\n",
      "\n",
      ":data_0852 a owl:Class ;\n",
      "    rdfs:label \"Sequence mask type\" ;\n",
      "    :created_in \"beta12orEarlier\" ;\n",
      "    :obsolete_since \"1.5\" ;\n",
      "    oboInOwl:consider :data_0842 ;\n",
      "    oboInOwl:hasDefinition \"A label (text token) describing the type of sequence masking to perform.\" ;\n",
      "    oboInOwl:inSubset edam:obsolete ;\n",
      "    rdfs:comment \"Sequence masking is where specific characters or positions in a molecular sequence are masked (replaced) with an another (mask character). The mask type indicates what is masked, for example regions that are not of interest or which are information-poor including acidic protein regions, basic protein regions, proline-rich regions, low compositional complexity regions, short-periodicity internal repeats, simple repeats and low complexity regions. Masked sequences are used in database search to eliminate statistically significant but biologically uninteresting hits.\" ;\n",
      "    rdfs:subClassOf owl:DeprecatedClass ;\n",
      "    owl:deprecated \"true\" .\n",
      "\n",
      ":data_0853 a owl:Class ;\n",
      "    rdfs:label \"DNA sense specification\" ;\n",
      "    :created_in \"beta12orEarlier\" ;\n",
      "    :obsolete_since \"1.20\" ;\n",
      "    :oldParent :data_2534 ;\n",
      "    oboInOwl:consider :data_2534 ;\n",
      "    oboInOwl:hasDefinition \"The strand of a DNA sequence (forward or reverse).\" ;\n",
      "    oboInOwl:inSubset edam:obsolete ;\n",
      "    rdfs:comment \"The forward or 'top' strand might specify a sequence is to be used as given, the reverse or 'bottom' strand specifying the reverse complement of the sequence is to be used.\" ;\n",
      "    rdfs:subClassOf owl:DeprecatedClass ;\n",
      "    owl:deprecated \"true\" .\n",
      "\n",
      "\n"
     ]
    }
   ],
   "source": [
    "kg2 = ConjunctiveGraph()\n",
    "kg2.parse(data=v2, format=\"turtle\")\n",
    "v22 = kg2.serialize(format=\"turtle\")\n",
    "print(v22)"
   ]
  },
  {
   "cell_type": "code",
   "execution_count": 12,
   "id": "c0e48552",
   "metadata": {},
   "outputs": [],
   "source": [
    "assert(v12==v22)"
   ]
  },
  {
   "cell_type": "code",
   "execution_count": 13,
   "id": "e4f3c61d",
   "metadata": {},
   "outputs": [],
   "source": [
    "#!pip install jellyfish"
   ]
  },
  {
   "cell_type": "code",
   "execution_count": 14,
   "id": "1b73a8ca",
   "metadata": {},
   "outputs": [
    {
     "name": "stdout",
     "output_type": "stream",
     "text": [
      "0.8825825928843302\n",
      "1.0\n"
     ]
    }
   ],
   "source": [
    "import jellyfish\n",
    "\n",
    "print(jellyfish.jaro_similarity(v1, v2))\n",
    "print(jellyfish.jaro_similarity(v12, v22))"
   ]
  },
  {
   "cell_type": "code",
   "execution_count": 15,
   "id": "94464cc7",
   "metadata": {},
   "outputs": [
    {
     "name": "stdout",
     "output_type": "stream",
     "text": [
      "243\n",
      "1022\n",
      "0\n"
     ]
    }
   ],
   "source": [
    "print(jellyfish.levenshtein_distance(v1, v2))\n",
    "print(jellyfish.levenshtein_distance(v1, v3))\n",
    "print(jellyfish.levenshtein_distance(v12, v22))"
   ]
  },
  {
   "cell_type": "code",
   "execution_count": 16,
   "id": "07cf7a55",
   "metadata": {},
   "outputs": [
    {
     "name": "stdout",
     "output_type": "stream",
     "text": [
      "0\n",
      "0\n"
     ]
    }
   ],
   "source": [
    "v23_xml = to_isomorphic(kg2).serialize(format=\"xml\")\n",
    "v13_xml = to_isomorphic(kg1).serialize(format=\"xml\")\n",
    "print(jellyfish.levenshtein_distance(v23_xml, v13_xml))\n",
    "\n",
    "\n",
    "v23_ttl = to_isomorphic(kg2).serialize(format=\"turtle\")\n",
    "v13_ttl = to_isomorphic(kg1).serialize(format=\"turtle\")\n",
    "print(jellyfish.levenshtein_distance(v23_ttl, v13_ttl))\n",
    "\n",
    "\n",
    "#print(v13)\n",
    "#print(v23)"
   ]
  },
  {
   "cell_type": "code",
   "execution_count": null,
   "id": "f1307d19",
   "metadata": {},
   "outputs": [],
   "source": []
  }
 ],
 "metadata": {
  "kernelspec": {
   "display_name": "Python 3",
   "language": "python",
   "name": "python3"
  },
  "language_info": {
   "codemirror_mode": {
    "name": "ipython",
    "version": 3
   },
   "file_extension": ".py",
   "mimetype": "text/x-python",
   "name": "python",
   "nbconvert_exporter": "python",
   "pygments_lexer": "ipython3",
   "version": "3.9.18"
  }
 },
 "nbformat": 4,
 "nbformat_minor": 5
}
