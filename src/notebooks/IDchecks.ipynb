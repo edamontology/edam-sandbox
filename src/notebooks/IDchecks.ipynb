{
 "cells": [
  {
   "cell_type": "markdown",
   "metadata": {},
   "source": [
    "## Loading EDAM into an RDFlib graph"
   ]
  },
  {
   "cell_type": "code",
   "execution_count": 100,
   "metadata": {},
   "outputs": [],
   "source": [
    "from rdflib import ConjunctiveGraph, Namespace, URIRef\n",
    "from rdflib.namespace import RDF, RDFS, OWL\n",
    "from collections import Counter"
   ]
  },
  {
   "cell_type": "code",
   "execution_count": 107,
   "metadata": {},
   "outputs": [
    {
     "name": "stdout",
     "output_type": "stream",
     "text": [
      "36884\n"
     ]
    }
   ],
   "source": [
    "# a single function to load EDAM and get the graph object as a result\n",
    "def load_EDAM():\n",
    "    g = ConjunctiveGraph()\n",
    "    g.load('http://edamontology.org/EDAM.owl', format='xml')\n",
    "    g.bind('edam', Namespace('http://edamontology.org#'))\n",
    "    g.bind('oboInOwl', Namespace('http://www.geneontology.org/formats/oboInOwl#'))\n",
    "    return g\n",
    "\n",
    "kg = load_EDAM()\n",
    "print(len(kg))"
   ]
  },
  {
   "cell_type": "markdown",
   "metadata": {},
   "source": [
    "## Adding duplicate IDs\n"
   ]
  },
  {
   "cell_type": "code",
   "execution_count": 108,
   "metadata": {},
   "outputs": [],
   "source": [
    "kg.add((URIRef(\"http://edamontology.org/data_3593\"), RDF.type, OWL.Class))\n",
    "kg.add((URIRef(\"http://edamontology.org/topic_1630\"), RDF.type, OWL.Class))"
   ]
  },
  {
   "cell_type": "markdown",
   "metadata": {},
   "source": [
    "## Indexing URIs with labels and synonyms"
   ]
  },
  {
   "cell_type": "code",
   "execution_count": 109,
   "metadata": {},
   "outputs": [],
   "source": [
    "# we don't want something like data_123 and topic_123"
   ]
  },
  {
   "cell_type": "code",
   "execution_count": 113,
   "metadata": {},
   "outputs": [],
   "source": [
    "index_of_ids = []\n",
    "\n",
    "for subject,predicate,obj in kg.triples((None, RDF.type, OWL.Class)):\n",
    "    if \"_\" in str(subject):\n",
    "        ident = str(subject).split(\"_\")[1]\n",
    "        index_of_ids.append(ident)"
   ]
  },
  {
   "cell_type": "markdown",
   "metadata": {},
   "source": [
    "## Counting duplicates"
   ]
  },
  {
   "cell_type": "code",
   "execution_count": 116,
   "metadata": {},
   "outputs": [
    {
     "name": "stdout",
     "output_type": "stream",
     "text": [
      "[('1630', 2), ('3593', 2), ('3487', 1), ('3694', 1), ('1679', 1)]\n"
     ]
    }
   ],
   "source": [
    "id_counter = Counter(index_of_ids)\n",
    "print(id_counter.most_common(5))"
   ]
  },
  {
   "cell_type": "markdown",
   "metadata": {},
   "source": [
    "## Filtering duplicates"
   ]
  },
  {
   "cell_type": "code",
   "execution_count": 115,
   "metadata": {},
   "outputs": [
    {
     "name": "stdout",
     "output_type": "stream",
     "text": [
      "Error with duplicate ID 1630\n",
      "Error with duplicate ID 3593\n"
     ]
    }
   ],
   "source": [
    "for duplicate_id in filter(lambda x: x[1]>1, id_counter.items()):\n",
    "    print(f\"Error with duplicate ID {duplicate_id[0]}\")"
   ]
  },
  {
   "cell_type": "code",
   "execution_count": null,
   "metadata": {},
   "outputs": [],
   "source": []
  }
 ],
 "metadata": {
  "kernelspec": {
   "display_name": "Python 3",
   "language": "python",
   "name": "python3"
  },
  "language_info": {
   "codemirror_mode": {
    "name": "ipython",
    "version": 3
   },
   "file_extension": ".py",
   "mimetype": "text/x-python",
   "name": "python",
   "nbconvert_exporter": "python",
   "pygments_lexer": "ipython3",
   "version": "3.7.6"
  }
 },
 "nbformat": 4,
 "nbformat_minor": 4
}
