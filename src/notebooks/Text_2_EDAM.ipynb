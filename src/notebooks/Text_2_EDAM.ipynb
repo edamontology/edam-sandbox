{
 "cells": [
  {
   "cell_type": "markdown",
   "metadata": {},
   "source": [
    "## Loading EDAM into an RDFlib graph"
   ]
  },
  {
   "cell_type": "code",
   "execution_count": 1,
   "metadata": {},
   "outputs": [],
   "source": [
    "from rdflib import ConjunctiveGraph, Namespace, URIRef\n",
    "from rdflib.namespace import RDF, RDFS, OWL"
   ]
  },
  {
   "cell_type": "code",
   "execution_count": 2,
   "metadata": {},
   "outputs": [
    {
     "name": "stdout",
     "output_type": "stream",
     "text": [
      "36884\n"
     ]
    }
   ],
   "source": [
    "# a single function to load EDAM and get the graph object as a result\n",
    "def load_EDAM():\n",
    "    g = ConjunctiveGraph()\n",
    "    g.load('http://edamontology.org/EDAM.owl', format='xml')\n",
    "    g.bind('edam', Namespace('http://edamontology.org#'))\n",
    "    g.bind('oboInOwl', Namespace('http://www.geneontology.org/formats/oboInOwl#'))\n",
    "    return g\n",
    "\n",
    "G = load_EDAM()\n",
    "print(len(G))"
   ]
  },
  {
   "cell_type": "markdown",
   "metadata": {},
   "source": [
    "## Indexing URIs with labels and synonyms"
   ]
  },
  {
   "cell_type": "code",
   "execution_count": 3,
   "metadata": {},
   "outputs": [],
   "source": [
    "from collections import OrderedDict\n",
    "\n",
    "class LimitedSizeDict(OrderedDict):\n",
    "    def __init__(self, *args, **kwds):\n",
    "        self.size_limit = kwds.pop(\"size_limit\", None)\n",
    "        OrderedDict.__init__(self, *args, **kwds)\n",
    "        self._check_size_limit()\n",
    "\n",
    "    def __setitem__(self, key, value):\n",
    "        OrderedDict.__setitem__(self, key, value)\n",
    "        self._check_size_limit()\n",
    "\n",
    "    def _check_size_limit(self):\n",
    "        if self.size_limit is not None:\n",
    "            while len(self) > self.size_limit:\n",
    "                self.popitem(last=False)"
   ]
  },
  {
   "cell_type": "code",
   "execution_count": 5,
   "metadata": {},
   "outputs": [],
   "source": [
    "#index_uri_to_label = {}\n",
    "index_label_to_uri = {}\n",
    "for subject,predicate,obj in G.triples((None, RDFS.label, None)):\n",
    "    #index_uri_to_label[str(subject)] = str(obj)\n",
    "    index_label_to_uri[str(obj)] = str(subject)\n",
    "    \n",
    "for subject,predicate,obj in G.triples((None, URIRef(\"http://www.geneontology.org/formats/oboInOwl#hasExactSynonym\"), None)):\n",
    "    #index_uri_to_label[str(subject)] = str(obj)\n",
    "    #print(str(obj), str(subject))\n",
    "    index_label_to_uri[str(obj)] = str(subject)\n"
   ]
  },
  {
   "cell_type": "code",
   "execution_count": 6,
   "metadata": {},
   "outputs": [
    {
     "ename": "NameError",
     "evalue": "name 'index_uri_to_label' is not defined",
     "output_type": "error",
     "traceback": [
      "\u001b[0;31m---------------------------------------------------------------------------\u001b[0m",
      "\u001b[0;31mNameError\u001b[0m                                 Traceback (most recent call last)",
      "\u001b[0;32m<ipython-input-6-22d67b5096d3>\u001b[0m in \u001b[0;36m<cell line: 1>\u001b[0;34m()\u001b[0m\n\u001b[0;32m----> 1\u001b[0;31m \u001b[0mten_uris\u001b[0m \u001b[0;34m=\u001b[0m \u001b[0;34m{\u001b[0m\u001b[0mk\u001b[0m\u001b[0;34m:\u001b[0m \u001b[0mindex_uri_to_label\u001b[0m\u001b[0;34m[\u001b[0m\u001b[0mk\u001b[0m\u001b[0;34m]\u001b[0m \u001b[0;32mfor\u001b[0m \u001b[0mk\u001b[0m \u001b[0;32min\u001b[0m \u001b[0mlist\u001b[0m\u001b[0;34m(\u001b[0m\u001b[0mindex_uri_to_label\u001b[0m\u001b[0;34m)\u001b[0m\u001b[0;34m[\u001b[0m\u001b[0;34m:\u001b[0m\u001b[0;36m10\u001b[0m\u001b[0;34m]\u001b[0m\u001b[0;34m}\u001b[0m\u001b[0;34m\u001b[0m\u001b[0;34m\u001b[0m\u001b[0m\n\u001b[0m\u001b[1;32m      2\u001b[0m \u001b[0mprint\u001b[0m\u001b[0;34m(\u001b[0m\u001b[0mten_uris\u001b[0m\u001b[0;34m)\u001b[0m\u001b[0;34m\u001b[0m\u001b[0;34m\u001b[0m\u001b[0m\n\u001b[1;32m      3\u001b[0m \u001b[0mprint\u001b[0m\u001b[0;34m(\u001b[0m\u001b[0;34m)\u001b[0m\u001b[0;34m\u001b[0m\u001b[0;34m\u001b[0m\u001b[0m\n\u001b[1;32m      4\u001b[0m \u001b[0mten_labels\u001b[0m \u001b[0;34m=\u001b[0m \u001b[0;34m{\u001b[0m\u001b[0mk\u001b[0m\u001b[0;34m:\u001b[0m \u001b[0mindex_label_to_uri\u001b[0m\u001b[0;34m[\u001b[0m\u001b[0mk\u001b[0m\u001b[0;34m]\u001b[0m \u001b[0;32mfor\u001b[0m \u001b[0mk\u001b[0m \u001b[0;32min\u001b[0m \u001b[0mlist\u001b[0m\u001b[0;34m(\u001b[0m\u001b[0mindex_label_to_uri\u001b[0m\u001b[0;34m)\u001b[0m\u001b[0;34m[\u001b[0m\u001b[0;34m:\u001b[0m\u001b[0;36m10\u001b[0m\u001b[0;34m]\u001b[0m\u001b[0;34m}\u001b[0m\u001b[0;34m\u001b[0m\u001b[0;34m\u001b[0m\u001b[0m\n\u001b[1;32m      5\u001b[0m \u001b[0mprint\u001b[0m\u001b[0;34m(\u001b[0m\u001b[0mten_labels\u001b[0m\u001b[0;34m)\u001b[0m\u001b[0;34m\u001b[0m\u001b[0;34m\u001b[0m\u001b[0m\n",
      "\u001b[0;31mNameError\u001b[0m: name 'index_uri_to_label' is not defined"
     ]
    }
   ],
   "source": [
    "ten_uris = {k: index_uri_to_label[k] for k in list(index_uri_to_label)[:10]}\n",
    "print(ten_uris)\n",
    "print()\n",
    "ten_labels = {k: index_label_to_uri[k] for k in list(index_label_to_uri)[:10]}\n",
    "print(ten_labels)"
   ]
  },
  {
   "cell_type": "code",
   "execution_count": 7,
   "metadata": {},
   "outputs": [],
   "source": [
    "import jellyfish\n",
    "\n",
    "def get_edam_top_10_jaro(l):\n",
    "    max_sim = 0\n",
    "    min_dist = 100\n",
    "    top_10 = LimitedSizeDict(size_limit= 10)        \n",
    "\n",
    "    for label in index_label_to_uri.keys() : \n",
    "        s =  jellyfish.jaro_winkler(l, label)\n",
    "        if s > max_sim:\n",
    "            max_sim = s\n",
    "            top_10[label] = s\n",
    "            top_10.move_to_end(label, last=False)\n",
    "\n",
    "    for k in top_10.keys():\n",
    "        print(k, f\"({top_10[k]}) : \", index_label_to_uri[k])\n",
    "    return top_10\n",
    "\n",
    "def get_edam_top_10_jaro_ci(l):\n",
    "    max_sim = 0\n",
    "    min_dist = 100\n",
    "    top_10 = LimitedSizeDict(size_limit= 10)        \n",
    "\n",
    "    for label in index_label_to_uri.keys() : \n",
    "        s =  jellyfish.jaro_winkler(l.lower(), label.lower())\n",
    "        if s > max_sim:\n",
    "            max_sim = s\n",
    "            top_10[label] = s\n",
    "            top_10.move_to_end(label, last=False)\n",
    "\n",
    "    for k in top_10.keys():\n",
    "        print(k, f\"({top_10[k]}) : \", index_label_to_uri[k])\n",
    "    return top_10"
   ]
  },
  {
   "cell_type": "code",
   "execution_count": 8,
   "metadata": {},
   "outputs": [
    {
     "name": "stdout",
     "output_type": "stream",
     "text": [
      "Nucleosome exclusion sequences (0.8666666666666666) :  http://edamontology.org/data_1306\n",
      "Nucleotide code (0.8416666666666667) :  http://edamontology.org/data_1007\n",
      "Nucleotide base annotation (0.827008547008547) :  http://edamontology.org/data_0911\n",
      "refactor_comment (0.6027777777777777) :  http://edamontology.org/refactor_comment\n",
      "Documentation (0.5760683760683761) :  http://edamontology.org/documentation\n",
      "deprecation_comment (0.5274853801169591) :  http://edamontology.org/deprecation_comment\n",
      "Created in (0.4666666666666666) :  http://edamontology.org/created_in\n",
      "Citation (0.4083333333333334) :  http://edamontology.org/data_0970\n"
     ]
    }
   ],
   "source": [
    "top_10 = get_edam_top_10_jaro(\"Nucleosome\")"
   ]
  },
  {
   "cell_type": "code",
   "execution_count": 9,
   "metadata": {},
   "outputs": [
    {
     "name": "stdout",
     "output_type": "stream",
     "text": [
      "Machine learning (0.7799145299145299) :  http://edamontology.org/topic_3474\n",
      "DNA linear map rendering (0.6965811965811967) :  http://edamontology.org/operation_0577\n",
      "Phylogenetic inference (0.6911421911421911) :  http://edamontology.org/operation_0323\n",
      "Genetic mapping (0.69002849002849) :  http://edamontology.org/operation_0282\n",
      "File name extension (0.687154950312845) :  http://edamontology.org/data_1059\n",
      "Gene classification (0.6849602639076323) :  http://edamontology.org/data_0917\n",
      "Peptide annotation (0.6566951566951568) :  http://edamontology.org/data_0895\n",
      "File extension (0.6456043956043956) :  http://edamontology.org/file_extension\n",
      "Created in (0.5760683760683761) :  http://edamontology.org/created_in\n",
      "Citation (0.5192307692307693) :  http://edamontology.org/data_0970\n"
     ]
    },
    {
     "data": {
      "text/plain": [
       "LimitedSizeDict([('Machine learning', 0.7799145299145299),\n",
       "                 ('DNA linear map rendering', 0.6965811965811967),\n",
       "                 ('Phylogenetic inference', 0.6911421911421911),\n",
       "                 ('Genetic mapping', 0.69002849002849),\n",
       "                 ('File name extension', 0.687154950312845),\n",
       "                 ('Gene classification', 0.6849602639076323),\n",
       "                 ('Peptide annotation', 0.6566951566951568),\n",
       "                 ('File extension', 0.6456043956043956),\n",
       "                 ('Created in', 0.5760683760683761),\n",
       "                 ('Citation', 0.5192307692307693)])"
      ]
     },
     "execution_count": 9,
     "metadata": {},
     "output_type": "execute_result"
    }
   ],
   "source": [
    "get_edam_top_10_jaro(\"mhine leaning\")"
   ]
  },
  {
   "cell_type": "code",
   "execution_count": 10,
   "metadata": {},
   "outputs": [
    {
     "name": "stdout",
     "output_type": "stream",
     "text": [
      "Chromosomes (0.9060606060606061) :  http://edamontology.org/topic_0624\n",
      "chrominfo (0.8533333333333333) :  http://edamontology.org/format_3587\n",
      "Chromosome name (0.8333333333333334) :  http://edamontology.org/data_0987\n",
      "Chromosome report (0.8098039215686276) :  http://edamontology.org/data_0919\n",
      "refactor_comment (0.6172619047619047) :  http://edamontology.org/refactor_comment\n",
      "Ontology used (0.5692307692307693) :  http://edamontology.org/ontology_used\n",
      "notRecommendedForAnnotation (0.5578483245149912) :  http://edamontology.org/notRecommendedForAnnotation\n",
      "deprecation_comment (0.5274853801169591) :  http://edamontology.org/deprecation_comment\n",
      "Created in (0.4666666666666666) :  http://edamontology.org/created_in\n",
      "Citation (0.4083333333333334) :  http://edamontology.org/data_0970\n"
     ]
    },
    {
     "data": {
      "text/plain": [
       "LimitedSizeDict([('Chromosomes', 0.9060606060606061),\n",
       "                 ('chrominfo', 0.8533333333333333),\n",
       "                 ('Chromosome name', 0.8333333333333334),\n",
       "                 ('Chromosome report', 0.8098039215686276),\n",
       "                 ('refactor_comment', 0.6172619047619047),\n",
       "                 ('Ontology used', 0.5692307692307693),\n",
       "                 ('notRecommendedForAnnotation', 0.5578483245149912),\n",
       "                 ('deprecation_comment', 0.5274853801169591),\n",
       "                 ('Created in', 0.4666666666666666),\n",
       "                 ('Citation', 0.4083333333333334)])"
      ]
     },
     "execution_count": 10,
     "metadata": {},
     "output_type": "execute_result"
    }
   ],
   "source": [
    "get_edam_top_10_jaro(\"chromosome\")"
   ]
  },
  {
   "cell_type": "code",
   "execution_count": 11,
   "metadata": {},
   "outputs": [
    {
     "name": "stdout",
     "output_type": "stream",
     "text": [
      "im (0.8222222222222222) :  http://edamontology.org/format_3593\n",
      "Peptide immunogenicity data (0.7407407407407408) :  http://edamontology.org/data_1534\n",
      "is function of (0.6507936507936508) :  http://edamontology.org/is_function_of\n",
      "has function (0.5833333333333334) :  http://edamontology.org/has_function\n",
      "Documentation (0.5747863247863249) :  http://edamontology.org/documentation\n",
      "Citation (0.5138888888888888) :  http://edamontology.org/data_0970\n"
     ]
    },
    {
     "data": {
      "text/plain": [
       "LimitedSizeDict([('im', 0.8222222222222222),\n",
       "                 ('Peptide immunogenicity data', 0.7407407407407408),\n",
       "                 ('is function of', 0.6507936507936508),\n",
       "                 ('has function', 0.5833333333333334),\n",
       "                 ('Documentation', 0.5747863247863249),\n",
       "                 ('Citation', 0.5138888888888888)])"
      ]
     },
     "execution_count": 11,
     "metadata": {},
     "output_type": "execute_result"
    }
   ],
   "source": [
    "get_edam_top_10_jaro(\"immuno\")"
   ]
  },
  {
   "cell_type": "code",
   "execution_count": 12,
   "metadata": {},
   "outputs": [
    {
     "name": "stdout",
     "output_type": "stream",
     "text": [
      "Immunology (0.92) :  http://edamontology.org/topic_0804\n",
      "Immunogen design (0.875) :  http://edamontology.org/operation_0332\n",
      "im (0.8222222222222222) :  http://edamontology.org/format_3593\n",
      "Peptide immunogenicity data (0.7407407407407408) :  http://edamontology.org/data_1534\n",
      "is function of (0.6507936507936508) :  http://edamontology.org/is_function_of\n",
      "has function (0.5833333333333334) :  http://edamontology.org/has_function\n",
      "Documentation (0.5747863247863249) :  http://edamontology.org/documentation\n",
      "Citation (0.5138888888888888) :  http://edamontology.org/data_0970\n"
     ]
    },
    {
     "data": {
      "text/plain": [
       "LimitedSizeDict([('Immunology', 0.92),\n",
       "                 ('Immunogen design', 0.875),\n",
       "                 ('im', 0.8222222222222222),\n",
       "                 ('Peptide immunogenicity data', 0.7407407407407408),\n",
       "                 ('is function of', 0.6507936507936508),\n",
       "                 ('has function', 0.5833333333333334),\n",
       "                 ('Documentation', 0.5747863247863249),\n",
       "                 ('Citation', 0.5138888888888888)])"
      ]
     },
     "execution_count": 12,
     "metadata": {},
     "output_type": "execute_result"
    }
   ],
   "source": [
    "get_edam_top_10_jaro_ci(\"immuno\")"
   ]
  },
  {
   "cell_type": "code",
   "execution_count": 13,
   "metadata": {},
   "outputs": [
    {
     "name": "stdout",
     "output_type": "stream",
     "text": [
      "Peak calling (0.7351851851851853) :  http://edamontology.org/operation_3222\n",
      "Logical operator (0.725) :  http://edamontology.org/data_2133\n",
      "Molecular mass (0.7071428571428572) :  http://edamontology.org/data_0844\n",
      "Media type (0.6) :  http://edamontology.org/media_type\n",
      "Example (0.5738095238095239) :  http://edamontology.org/example\n",
      "Created in (0.5166666666666667) :  http://edamontology.org/created_in\n",
      "Citation (0.48333333333333334) :  http://edamontology.org/data_0970\n"
     ]
    },
    {
     "data": {
      "text/plain": [
       "LimitedSizeDict([('Peak calling', 0.7351851851851853),\n",
       "                 ('Logical operator', 0.725),\n",
       "                 ('Molecular mass', 0.7071428571428572),\n",
       "                 ('Media type', 0.6),\n",
       "                 ('Example', 0.5738095238095239),\n",
       "                 ('Created in', 0.5166666666666667),\n",
       "                 ('Citation', 0.48333333333333334)])"
      ]
     },
     "execution_count": 13,
     "metadata": {},
     "output_type": "execute_result"
    }
   ],
   "source": [
    "get_edam_top_10_jaro_ci(\"call peaks\")"
   ]
  },
  {
   "cell_type": "code",
   "execution_count": 14,
   "metadata": {},
   "outputs": [
    {
     "name": "stdout",
     "output_type": "stream",
     "text": [
      "Peak detection (0.9571428571428571) :  http://edamontology.org/operation_3215\n",
      "PED (0.8060606060606059) :  http://edamontology.org/format_3286\n",
      "Peptide property (0.7606060606060606) :  http://edamontology.org/data_2979\n",
      "InterPro detailed match image (0.684639498432602) :  http://edamontology.org/data_1291\n",
      "Peptide identifier (0.6822390572390572) :  http://edamontology.org/data_0988\n",
      "Peptide identification (0.6683501683501684) :  http://edamontology.org/operation_3631\n",
      "deprecation_comment (0.6528442317916002) :  http://edamontology.org/deprecation_comment\n",
      "Created in (0.604040404040404) :  http://edamontology.org/created_in\n",
      "Citation (0.4772727272727273) :  http://edamontology.org/data_0970\n"
     ]
    },
    {
     "data": {
      "text/plain": [
       "LimitedSizeDict([('Peak detection', 0.9571428571428571),\n",
       "                 ('PED', 0.8060606060606059),\n",
       "                 ('Peptide property', 0.7606060606060606),\n",
       "                 ('InterPro detailed match image', 0.684639498432602),\n",
       "                 ('Peptide identifier', 0.6822390572390572),\n",
       "                 ('Peptide identification', 0.6683501683501684),\n",
       "                 ('deprecation_comment', 0.6528442317916002),\n",
       "                 ('Created in', 0.604040404040404),\n",
       "                 ('Citation', 0.4772727272727273)])"
      ]
     },
     "execution_count": 14,
     "metadata": {},
     "output_type": "execute_result"
    }
   ],
   "source": [
    "get_edam_top_10_jaro_ci(\"peak detect\")"
   ]
  },
  {
   "cell_type": "code",
   "execution_count": 15,
   "metadata": {},
   "outputs": [
    {
     "name": "stdout",
     "output_type": "stream",
     "text": [
      "EC (0.7222222222222223) :  http://edamontology.org/data_1011\n",
      "Sequence feature key (0.6472222222222223) :  http://edamontology.org/data_1020\n",
      "Sequence trace (0.6468253968253969) :  http://edamontology.org/data_0924\n",
      "Sequence signature data (0.6298309178743962) :  http://edamontology.org/data_0860\n",
      "Database entry (0.621031746031746) :  http://edamontology.org/data_0843\n",
      "Directory metadata (0.6203703703703703) :  http://edamontology.org/data_0583\n",
      "Media type (0.6182539682539682) :  http://edamontology.org/media_type\n",
      "deprecation_comment (0.6125730994152047) :  http://edamontology.org/deprecation_comment\n",
      "Created in (0.5055555555555555) :  http://edamontology.org/created_in\n",
      "Citation (0.4305555555555555) :  http://edamontology.org/data_0970\n"
     ]
    },
    {
     "data": {
      "text/plain": [
       "LimitedSizeDict([('EC', 0.7222222222222223),\n",
       "                 ('Sequence feature key', 0.6472222222222223),\n",
       "                 ('Sequence trace', 0.6468253968253969),\n",
       "                 ('Sequence signature data', 0.6298309178743962),\n",
       "                 ('Database entry', 0.621031746031746),\n",
       "                 ('Directory metadata', 0.6203703703703703),\n",
       "                 ('Media type', 0.6182539682539682),\n",
       "                 ('deprecation_comment', 0.6125730994152047),\n",
       "                 ('Created in', 0.5055555555555555),\n",
       "                 ('Citation', 0.4305555555555555)])"
      ]
     },
     "execution_count": 15,
     "metadata": {},
     "output_type": "execute_result"
    }
   ],
   "source": [
    "get_edam_top_10_jaro_ci(\"detect peaks\")"
   ]
  },
  {
   "cell_type": "markdown",
   "metadata": {},
   "source": [
    "# Whoosh text search engine \n",
    "conda install -c conda-forge whoosh"
   ]
  },
  {
   "cell_type": "code",
   "execution_count": 16,
   "metadata": {},
   "outputs": [],
   "source": [
    "from whoosh.fields import Schema, TEXT, KEYWORD, ID, STORED\n",
    "from whoosh.analysis import StemmingAnalyzer\n",
    "\n",
    "schema = Schema(uri=ID(stored=True),\n",
    "                label=TEXT(stored=True),\n",
    "                definition=TEXT(analyzer=StemmingAnalyzer()),\n",
    "                synonyms=KEYWORD(stored=True))"
   ]
  },
  {
   "cell_type": "code",
   "execution_count": 27,
   "metadata": {},
   "outputs": [],
   "source": [
    "import os.path\n",
    "from whoosh.index import create_in\n",
    "\n",
    "if not os.path.exists(\"index\"):\n",
    "    os.mkdir(\"index\")\n",
    "ix = create_in(\"index\", schema)"
   ]
  },
  {
   "cell_type": "code",
   "execution_count": 28,
   "metadata": {},
   "outputs": [],
   "source": [
    "from whoosh.index import open_dir\n",
    "\n",
    "ix = open_dir(\"index\")"
   ]
  },
  {
   "cell_type": "code",
   "execution_count": 32,
   "metadata": {},
   "outputs": [],
   "source": [
    "writer = ix.writer()\n",
    "\n",
    "for c, p1, o1 in G.triples((None, RDF.type, URIRef(\"http://www.w3.org/2002/07/owl#Class\"))):\n",
    "    for x, y, label in G.triples((c, RDFS.label, None)):\n",
    "        #print(f\"{str(c)} {str(label)}\")\n",
    "        writer.add_document(uri=str(c), label=str(label))\n",
    "    \n",
    "    for x, y, d in G.triples((c, URIRef(\"http://www.geneontology.org/formats/oboInOwl#hasDefinition\"), None)):\n",
    "        writer.update_document(uri=str(c), definition=str(d))\n",
    "        #print(d)\n",
    "    \n",
    "    for x, y, s in G.triples((c, URIRef(\"http://www.geneontology.org/formats/oboInOwl#hasExactSynonym\"), None)):\n",
    "        writer.update_document(uri=str(c), synonyms=str(s))\n",
    "    \n",
    "writer.commit()"
   ]
  },
  {
   "cell_type": "code",
   "execution_count": 37,
   "metadata": {},
   "outputs": [
    {
     "name": "stdout",
     "output_type": "stream",
     "text": [
      "http://edamontology.org/operation_0432 <Hit {'uri': 'http://edamontology.org/operation_0432'}>\n",
      "http://edamontology.org/operation_0432 <Hit {'uri': 'http://edamontology.org/operation_0432'}>\n",
      "http://edamontology.org/operation_0432 <Hit {'uri': 'http://edamontology.org/operation_0432'}>\n",
      "http://edamontology.org/data_1306 <Hit {'uri': 'http://edamontology.org/data_1306'}>\n",
      "http://edamontology.org/operation_0453 <Hit {'uri': 'http://edamontology.org/operation_0453'}>\n",
      "http://edamontology.org/data_1306 <Hit {'uri': 'http://edamontology.org/data_1306'}>\n",
      "http://edamontology.org/operation_0453 <Hit {'uri': 'http://edamontology.org/operation_0453'}>\n",
      "http://edamontology.org/data_1306 <Hit {'uri': 'http://edamontology.org/data_1306'}>\n",
      "http://edamontology.org/operation_0453 <Hit {'uri': 'http://edamontology.org/operation_0453'}>\n",
      "http://edamontology.org/topic_3176 <Hit {'uri': 'http://edamontology.org/topic_3176'}>\n"
     ]
    }
   ],
   "source": [
    "from whoosh.qparser import MultifieldParser, QueryParser\n",
    "from whoosh.query import Every\n",
    "\n",
    "mparser = MultifieldParser([\"definition\"], schema=schema)\n",
    "query = mparser.parse(\"nucle*some\")\n",
    "#query = mparser.parse(\"detect* AND peak\")\n",
    "#query = mparser.parse(\"peak AND format AND ENCODE\")\n",
    "##query = QueryParser(\"definition\", schema).parse(\"sequence\")\n",
    "\n",
    "#results = ix.searcher().search(Every('label'))\n",
    "#for r in results:\n",
    "#    print(r, r.)\n",
    "\n",
    "with ix.searcher() as searcher:\n",
    "    results = searcher.search(query)\n",
    "    for r in results:\n",
    "            print(r['uri'], r)"
   ]
  },
  {
   "cell_type": "code",
   "execution_count": null,
   "metadata": {},
   "outputs": [],
   "source": []
  },
  {
   "cell_type": "code",
   "execution_count": null,
   "metadata": {},
   "outputs": [],
   "source": []
  }
 ],
 "metadata": {
  "kernelspec": {
   "display_name": "Python 3",
   "language": "python",
   "name": "python3"
  },
  "language_info": {
   "codemirror_mode": {
    "name": "ipython",
    "version": 3
   },
   "file_extension": ".py",
   "mimetype": "text/x-python",
   "name": "python",
   "nbconvert_exporter": "python",
   "pygments_lexer": "ipython3",
   "version": "3.9.12"
  }
 },
 "nbformat": 4,
 "nbformat_minor": 4
}
