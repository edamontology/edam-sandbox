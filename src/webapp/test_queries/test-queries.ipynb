{
 "cells": [
  {
   "cell_type": "markdown",
   "metadata": {},
   "source": [
    "## Loading EDAM into an RDFlib graph"
   ]
  },
  {
   "cell_type": "code",
   "execution_count": 1,
   "metadata": {
    "ExecuteTime": {
     "end_time": "2024-01-30T16:27:44.277443Z",
     "start_time": "2024-01-30T16:27:44.200678Z"
    }
   },
   "outputs": [],
   "source": [
    "from rdflib import ConjunctiveGraph"
   ]
  },
  {
   "cell_type": "markdown",
   "metadata": {},
   "source": [
    "Here we initialize the graph. "
   ]
  },
  {
   "cell_type": "code",
   "execution_count": 2,
   "metadata": {
    "ExecuteTime": {
     "end_time": "2024-01-30T16:27:44.285218Z",
     "start_time": "2024-01-30T16:27:44.279751Z"
    }
   },
   "outputs": [],
   "source": [
    "kg = ConjunctiveGraph()\n",
    "\n",
    "def print_size():\n",
    "    print(f\"The knowledge graph has {len(kg)} triples\")"
   ]
  },
  {
   "cell_type": "markdown",
   "metadata": {},
   "source": [
    "Here we load the EDAM ontology into the graph. "
   ]
  },
  {
   "cell_type": "code",
   "execution_count": 3,
   "metadata": {
    "ExecuteTime": {
     "end_time": "2024-01-30T16:27:45.832880Z",
     "start_time": "2024-01-30T16:27:44.285324Z"
    }
   },
   "outputs": [
    {
     "name": "stdout",
     "output_type": "stream",
     "text": [
      "38279 triples in the EDAM triple store\n"
     ]
    }
   ],
   "source": [
    "#kg.parse('http://edamontology.org/EDAM.owl', format='xml')\n",
    "#print_size()\n",
    "edam_version = 'https://raw.githubusercontent.com/edamontology/edamontology/master/EDAM_dev.owl'\n",
    "kg = ConjunctiveGraph()\n",
    "kg.parse(edam_version, format='xml')\n",
    "#kg.bind('edam', Namespace('http://edamontology.org/'))\n",
    "print(str(len(kg)) + ' triples in the EDAM triple store')\n"
   ]
  },
  {
   "cell_type": "code",
   "execution_count": 4,
   "metadata": {
    "ExecuteTime": {
     "end_time": "2024-01-30T16:27:47.602756Z",
     "start_time": "2024-01-30T16:27:45.830485Z"
    }
   },
   "outputs": [
    {
     "data": {
      "text/plain": "<Graph identifier=Nbc057fd0bd0a4472965d003fbc879e46 (<class 'rdflib.graph.ConjunctiveGraph'>)>"
     },
     "execution_count": 4,
     "metadata": {},
     "output_type": "execute_result"
    }
   ],
   "source": [
    "kg.serialize(\"edam.json\", format=\"json-ld\")\n",
    "kg.serialize(\"edam.ttl\", format=\"turtle\")"
   ]
  },
  {
   "cell_type": "code",
   "execution_count": 5,
   "metadata": {
    "ExecuteTime": {
     "end_time": "2024-01-30T16:27:49.203614Z",
     "start_time": "2024-01-30T16:27:47.605358Z"
    }
   },
   "outputs": [
    {
     "name": "stdout",
     "output_type": "stream",
     "text": [
      "38279\n"
     ]
    }
   ],
   "source": [
    "# a single function to load EDAM and get the graph object as a result\n",
    "def load_EDAM():\n",
    "    g = ConjunctiveGraph()\n",
    "    g.parse(edam_version, format='xml')\n",
    "    return g\n",
    "\n",
    "G = load_EDAM()\n",
    "print(len(G))"
   ]
  },
  {
   "cell_type": "markdown",
   "metadata": {},
   "source": [
    "## Listing the 100 first triples  "
   ]
  },
  {
   "cell_type": "code",
   "execution_count": 6,
   "metadata": {
    "ExecuteTime": {
     "end_time": "2024-01-30T16:27:49.208774Z",
     "start_time": "2024-01-30T16:27:49.201447Z"
    }
   },
   "outputs": [
    {
     "name": "stdout",
     "output_type": "stream",
     "text": [
      "(http://edamontology.org/data_2646, http://edamontology.org/created_in, beta12orEarlier)\n",
      "(http://edamontology.org/format_3159, http://www.geneontology.org/formats/oboInOwl#inSubset, http://edamontology.org/bio)\n",
      "(http://edamontology.org/topic_0659, http://www.geneontology.org/formats/oboInOwl#hasNarrowSynonym, Functional RNA)\n",
      "(http://edamontology.org/format_3015, http://www.w3.org/1999/02/22-rdf-syntax-ns#type, http://www.w3.org/2002/07/owl#Class)\n",
      "(http://edamontology.org/data_1193, http://edamontology.org/created_in, beta12orEarlier)\n",
      "(http://edamontology.org/format_2920, http://www.geneontology.org/formats/oboInOwl#hasDefinition, Data format for molecular sequence alignment information that can hold sequence alignment(s) of only 2 sequences.)\n",
      "(http://edamontology.org/operation_2472, http://edamontology.org/created_in, beta12orEarlier)\n",
      "(http://edamontology.org/operation_0287, http://www.geneontology.org/formats/oboInOwl#inSubset, http://edamontology.org/bio)\n",
      "(http://edamontology.org/format_1915, http://www.w3.org/2004/02/skos/core#broadMatch, http://purl.org/dc/elements/1.1/format)\n",
      "(http://edamontology.org/operation_0259, http://www.geneontology.org/formats/oboInOwl#inSubset, http://edamontology.org/operations)\n",
      "(http://edamontology.org/operation_0004, http://www.geneontology.org/formats/oboInOwl#hasNarrowSynonym, Lambda abstraction)\n",
      "(http://edamontology.org/topic_3571, http://www.geneontology.org/formats/oboInOwl#hasDefinition, The control of data entry and maintenance to ensure the data meets defined standards, qualities or constraints.)\n",
      "(http://edamontology.org/data_2770, http://www.w3.org/2000/01/rdf-schema#subClassOf, http://edamontology.org/data_2091)\n",
      "(http://edamontology.org/data_2676, http://www.geneontology.org/formats/oboInOwl#hasDefinition, Identifier of an entry (exon, gene, transcript or protein) from the Ensembl 'core' database ('Ciona savignyi' division).)\n",
      "(http://edamontology.org/topic_0121, http://www.geneontology.org/formats/oboInOwl#hasNarrowSynonym, MS-based untargeted proteomics)\n",
      "(http://edamontology.org/format_3010, http://edamontology.org/created_in, beta12orEarlier)\n",
      "(http://edamontology.org/operation_2421, http://www.geneontology.org/formats/oboInOwl#inSubset, http://edamontology.org/operations)\n",
      "(http://edamontology.org/operation_3896, http://www.w3.org/2000/01/rdf-schema#seeAlso, https://en.wikipedia.org/wiki/Active_site)\n",
      "(http://edamontology.org/topic_3060, http://www.w3.org/2002/07/owl#deprecated, true)\n",
      "(http://edamontology.org/data_1015, http://www.geneontology.org/formats/oboInOwl#inSubset, http://edamontology.org/identifiers)\n",
      "(http://edamontology.org/topic_3574, http://www.w3.org/1999/02/22-rdf-syntax-ns#type, http://www.w3.org/2002/07/owl#Class)\n",
      "(http://edamontology.org/format_3781, http://www.w3.org/2000/01/rdf-schema#label, PubAnnotation format)\n",
      "(http://edamontology.org/data_3498, http://www.geneontology.org/formats/oboInOwl#hasExactSynonym, Gene sequence variations)\n",
      "(http://edamontology.org/data_1014, http://edamontology.org/oldParent, http://www.w3.org/2002/07/owl#Thing)\n",
      "(http://edamontology.org/data_2759, http://www.w3.org/2000/01/rdf-schema#subClassOf, http://edamontology.org/data_2091)\n",
      "(http://edamontology.org/topic_2819, http://edamontology.org/deprecation_comment, (jison)Out of EDAM scope. While very useful to have a basic set of IDs for organisms, should find a better way to provide this e.g. in bio.tools (NCBI taxon ID subset).)\n",
      "(http://edamontology.org/operation_1831, http://edamontology.org/created_in, beta12orEarlier)\n",
      "(http://edamontology.org/operation_2442, http://www.w3.org/2000/01/rdf-schema#label, DNA structure prediction)\n",
      "(http://edamontology.org/operation_0420, http://www.geneontology.org/formats/oboInOwl#hasExactSynonym, Protein-nucleic acid binding detection)\n",
      "(http://edamontology.org/format_1475, http://www.geneontology.org/formats/oboInOwl#inSubset, http://edamontology.org/formats)\n",
      "(http://edamontology.org/data_1157, http://www.geneontology.org/formats/oboInOwl#inSubset, http://edamontology.org/identifiers)\n",
      "(http://edamontology.org/format_1935, http://www.w3.org/2000/01/rdf-schema#subClassOf, http://edamontology.org/format_3486)\n",
      "(http://edamontology.org/operation_3227, http://www.w3.org/2000/01/rdf-schema#subClassOf, http://edamontology.org/operation_2478)\n",
      "(http://edamontology.org/topic_0175, http://www.geneontology.org/formats/oboInOwl#consider, http://edamontology.org/topic_2275)\n",
      "(http://edamontology.org/operation_3566, http://edamontology.org/created_in, 1.9)\n",
      "(http://edamontology.org/topic_3535, http://www.w3.org/2000/01/rdf-schema#label, Protein-nucleic acid binding sites)\n",
      "(http://edamontology.org/operation_0413, http://edamontology.org/created_in, beta12orEarlier)\n",
      "(http://edamontology.org/data_2704, http://www.geneontology.org/formats/oboInOwl#hasDefinition, A unique identifier assigned by the I.M.A.G.E. consortium to a clone (cloned molecular sequence).)\n",
      "(http://edamontology.org/format_1455, http://www.geneontology.org/formats/oboInOwl#inSubset, http://edamontology.org/formats)\n",
      "(http://edamontology.org/data_1893, http://www.geneontology.org/formats/oboInOwl#hasDefinition, A unique name or other identifier of a genetic locus, typically conforming to a scheme that names loci (such as predicted genes) depending on their position in a molecular sequence, for example a completely sequenced genome or chromosome.)\n",
      "(http://edamontology.org/operation_0519, http://www.geneontology.org/formats/oboInOwl#inSubset, http://edamontology.org/obsolete)\n",
      "(http://edamontology.org/operation_3964, http://www.geneontology.org/formats/oboInOwl#inSubset, http://edamontology.org/bio)\n",
      "(http://edamontology.org/data_1201, http://www.w3.org/2000/01/rdf-schema#subClassOf, http://edamontology.org/data_0847)\n",
      "(http://edamontology.org/data_2907, http://edamontology.org/created_in, beta12orEarlier)\n",
      "(http://edamontology.org/data_2973, http://www.geneontology.org/formats/oboInOwl#hasDefinition, Data concerning molecular secondary structure data.)\n",
      "(http://edamontology.org/format_3699, http://www.w3.org/2000/01/rdf-schema#label, VDB)\n",
      "(http://edamontology.org/data_2741, http://www.w3.org/2000/01/rdf-schema#subClassOf, http://edamontology.org/data_2091)\n",
      "(http://edamontology.org/data_3134, http://www.w3.org/2000/01/rdf-schema#label, Gene transcript report)\n",
      "(http://edamontology.org/operation_3218, http://www.geneontology.org/formats/oboInOwl#hasExactSynonym, Sequencing QC)\n",
      "(http://edamontology.org/data_3722, http://www.w3.org/1999/02/22-rdf-syntax-ns#type, http://www.w3.org/2002/07/owl#Class)\n",
      "(http://edamontology.org/topic_0787, http://www.w3.org/2000/01/rdf-schema#subClassOf, http://www.w3.org/2002/07/owl#DeprecatedClass)\n",
      "(http://edamontology.org/operation_0226, http://edamontology.org/notRecommendedForAnnotation, true)\n",
      "(http://edamontology.org/operation_2410, http://www.w3.org/2000/01/rdf-schema#subClassOf, http://www.w3.org/2002/07/owl#DeprecatedClass)\n",
      "(http://edamontology.org/format_3910, http://www.w3.org/2000/01/rdf-schema#comment, The first 4 bytes of any trr file containing 1993. See https://github.com/galaxyproject/galaxy/pull/6597/files#diff-409951594551183dbf886e24de6cb129R760)\n",
      "(http://edamontology.org/operation_1835, http://edamontology.org/created_in, beta12orEarlier)\n",
      "(http://edamontology.org/operation_0445, http://www.geneontology.org/formats/oboInOwl#inSubset, http://edamontology.org/bio)\n",
      "(Ne3435459b81443b682e791ffdbe6d0d7, http://www.w3.org/2002/07/owl#onProperty, http://edamontology.org/has_output)\n",
      "(http://edamontology.org/format_1988, http://www.w3.org/1999/02/22-rdf-syntax-ns#type, http://www.w3.org/2002/07/owl#Class)\n",
      "(http://edamontology.org/data_3716, http://www.w3.org/1999/02/22-rdf-syntax-ns#type, http://www.w3.org/2002/07/owl#Class)\n",
      "(http://edamontology.org/data_1857, http://www.geneontology.org/formats/oboInOwl#hasDefinition, The fraction of an atom type present at a site in a molecular structure.)\n",
      "(http://edamontology.org/format_3909, http://edamontology.org/ontology_used, http://edamontology.org/data_2301)\n",
      "(http://edamontology.org/format_3098, http://www.geneontology.org/formats/oboInOwl#hasDefinition, Format of raw SCOP domain classification data files.)\n",
      "(http://edamontology.org/topic_2840, http://www.geneontology.org/formats/oboInOwl#hasDefinition, Toxins and the adverse effects of these chemical substances on living organisms.)\n",
      "(http://edamontology.org/data_2248, http://edamontology.org/oldParent, http://www.w3.org/2002/07/owl#Thing)\n",
      "(http://edamontology.org/data_1407, http://edamontology.org/oldParent, http://www.w3.org/2002/07/owl#Thing)\n",
      "(http://edamontology.org/data_3856, http://www.w3.org/1999/02/22-rdf-syntax-ns#type, http://www.w3.org/2002/07/owl#Class)\n",
      "(http://edamontology.org/operation_0274, http://www.w3.org/2000/01/rdf-schema#subClassOf, http://www.w3.org/2002/07/owl#DeprecatedClass)\n",
      "(http://edamontology.org/data_2793, http://www.w3.org/2000/01/rdf-schema#label, SISYPHUS ID)\n",
      "(http://edamontology.org/operation_0561, http://www.w3.org/2002/07/owl#deprecated, true)\n",
      "(http://edamontology.org/topic_3408, http://www.geneontology.org/formats/oboInOwl#inSubset, http://edamontology.org/events)\n",
      "(http://edamontology.org/operation_3279, http://www.geneontology.org/formats/oboInOwl#hasDefinition, Cluster (group) documents on the basis of their calculated similarity.)\n",
      "(http://edamontology.org/data_2586, http://www.w3.org/2000/01/rdf-schema#subClassOf, http://edamontology.org/data_3424)\n",
      "(http://edamontology.org/format_3876, http://www.geneontology.org/formats/oboInOwl#hasDefinition, Trajectory Next Generation (TNG) is a format for storage of molecular simulation data. It is designed and implemented by the GROMACS development group, and it is called to be the substitute of the XTC format.)\n",
      "(http://edamontology.org/operation_0226, http://www.w3.org/1999/02/22-rdf-syntax-ns#type, http://www.w3.org/2002/07/owl#Class)\n",
      "(http://edamontology.org/topic_3050, http://www.geneontology.org/formats/oboInOwl#hasHumanReadableId, Biodiversity)\n",
      "(http://edamontology.org/operation_2426, http://www.w3.org/2000/01/rdf-schema#subClassOf, Nc5698417af7b45b68b9496c00bbe134b)\n",
      "(http://edamontology.org/operation_3092, http://www.geneontology.org/formats/oboInOwl#hasNarrowSynonym, Sequence profile database search)\n",
      "(http://edamontology.org/format_3602, http://www.w3.org/2000/01/rdf-schema#subClassOf, http://edamontology.org/format_2333)\n",
      "(http://edamontology.org/operation_3233, http://www.w3.org/2000/01/rdf-schema#comment, Methods typically implement some statistical model for hypothesis testing, and methods estimate total copy number, i.e. do not distinguish the two inherited chromosomes quantities (specific copy number).)\n",
      "(http://edamontology.org/operation_2950, http://www.geneontology.org/formats/oboInOwl#hasNarrowSynonym, HET group detection)\n",
      "(http://edamontology.org/operation_2934, http://www.w3.org/1999/02/22-rdf-syntax-ns#type, http://www.w3.org/2002/07/owl#Class)\n",
      "(http://edamontology.org/data_1330, http://edamontology.org/obsolete_since, beta12orEarlier)\n",
      "(http://edamontology.org/data_2152, http://edamontology.org/obsolete_since, 1.5)\n",
      "(http://edamontology.org/operation_2499, http://www.w3.org/2000/01/rdf-schema#subClassOf, http://edamontology.org/operation_2426)\n",
      "(http://edamontology.org/format_3692, http://www.geneontology.org/formats/oboInOwl#inSubset, http://edamontology.org/bio)\n",
      "(http://edamontology.org/operation_0359, http://www.geneontology.org/formats/oboInOwl#hasDefinition, Search a tertiary structure database and retrieve structures with a sequence similar to a query sequence.)\n",
      "(http://edamontology.org/topic_2271, http://www.w3.org/2000/01/rdf-schema#label, Structure database search)\n",
      "(http://edamontology.org/data_2687, http://www.w3.org/2000/01/rdf-schema#subClassOf, http://www.w3.org/2002/07/owl#DeprecatedClass)\n",
      "(N5efe31d4a85449cd98a19a903648ff2e, http://www.w3.org/1999/02/22-rdf-syntax-ns#rest, N32d35e625e214555abfc891c51e566f6)\n",
      "(http://edamontology.org/format_3772, http://www.w3.org/2000/01/rdf-schema#subClassOf, http://edamontology.org/format_1919)\n",
      "(http://edamontology.org/operation_0401, http://edamontology.org/obsolete_since, 1.12)\n",
      "(http://edamontology.org/data_0941, http://www.w3.org/2002/07/owl#deprecated, true)\n",
      "(http://edamontology.org/format_1337, http://www.w3.org/2000/01/rdf-schema#label, lhf)\n",
      "(http://edamontology.org/data_1663, http://www.w3.org/1999/02/22-rdf-syntax-ns#type, http://www.w3.org/2002/07/owl#Class)\n",
      "(http://edamontology.org/topic_2869, http://edamontology.org/created_in, beta12orEarlier)\n",
      "(Nec1456a8ee3843be8b4dd4f3287977c1, http://www.w3.org/1999/02/22-rdf-syntax-ns#type, http://www.w3.org/2002/07/owl#Restriction)\n",
      "(http://edamontology.org/data_2358, http://edamontology.org/created_in, beta12orEarlier)\n",
      "(http://edamontology.org/topic_3420, http://www.w3.org/2000/01/rdf-schema#label, Reproductive health)\n",
      "(http://edamontology.org/operation_3797, http://www.geneontology.org/formats/oboInOwl#inSubset, http://edamontology.org/operations)\n",
      "(http://edamontology.org/format_3626, http://edamontology.org/created_in, 1.12)\n"
     ]
    }
   ],
   "source": [
    "i = 0\n",
    "\n",
    "for subject,predicate,obj in kg:\n",
    "    print(f'({subject}, {predicate}, {obj})')\n",
    "    i+=1\n",
    "    \n",
    "    if i > 99:\n",
    "        break\n",
    "    "
   ]
  },
  {
   "cell_type": "code",
   "execution_count": 7,
   "metadata": {
    "ExecuteTime": {
     "end_time": "2024-01-30T16:27:49.247949Z",
     "start_time": "2024-01-30T16:27:49.209354Z"
    }
   },
   "outputs": [],
   "source": [
    "from rdflib.namespace import RDF, RDFS, OWL \n",
    "\n",
    "i = 0\n",
    "\n",
    "\n",
    "for s in kg.triples((None, RDF.type, OWL.Class)):\n",
    "    for label in kg.triples((s, RDFS.label, None)):\n",
    "        print(kg.value(s, RDFS.label))\n",
    "        i +=1\n",
    "    \n",
    "    if i > 99:\n",
    "        break\n",
    "\n"
   ]
  },
  {
   "cell_type": "markdown",
   "metadata": {},
   "source": [
    "## Evaluating SPARQL queries for dashboard\n",
    "Aim: getting topics that have no wikipedia url in their properties."
   ]
  },
  {
   "cell_type": "code",
   "outputs": [
    {
     "name": "stdout",
     "output_type": "stream",
     "text": [
      "There are 14 topics without a URL (seeAlso property).\n"
     ]
    }
   ],
   "source": [
    "query = \"\"\"\n",
    "PREFIX edam: <http://edamontology.org/>\n",
    "\n",
    "SELECT (count(?term) as ?nb_no_wikipedia) WHERE {\n",
    "    ?c rdfs:subClassOf+ edam:topic_0003 ;\n",
    "                rdfs:label ?term .\n",
    "        FILTER NOT EXISTS {\n",
    "        ?c rdfs:seeAlso ?seealso .\n",
    "        FILTER (regex(str(?seealso), \"wikipedia.org\", \"i\"))\n",
    "       } .\n",
    "}\n",
    "\"\"\"\n",
    "\n",
    "results = kg.query(query)\n",
    "\n",
    "for r in results :\n",
    "    print(f\"There are {r['nb_no_wikipedia']} topics without a URL (seeAlso property).\") "
   ],
   "metadata": {
    "collapsed": false,
    "ExecuteTime": {
     "end_time": "2024-01-30T16:27:49.372889Z",
     "start_time": "2024-01-30T16:27:49.226457Z"
    }
   },
   "execution_count": 8
  },
  {
   "cell_type": "code",
   "outputs": [
    {
     "name": "stdout",
     "output_type": "stream",
     "text": [
      "Topic 'Literature and language' has no 'seeAlso' property.\n",
      "Topic 'Data submission, annotation, and curation' has no 'seeAlso' property.\n",
      "Topic 'Data identity and mapping' has no 'seeAlso' property.\n",
      "Topic 'Genome resequencing' has no 'seeAlso' property.\n",
      "Topic 'Simulation experiment' has no 'seeAlso' property.\n",
      "Topic 'Nucleic acid sites, features and motifs' has no 'seeAlso' property.\n",
      "Topic 'Protein properties' has no 'seeAlso' property.\n",
      "Topic 'Protein sites, features and motifs' has no 'seeAlso' property.\n",
      "Topic 'Sequence composition, complexity and repeats' has no 'seeAlso' property.\n",
      "Topic 'Probes and primers' has no 'seeAlso' property.\n",
      "Topic 'Sequence sites, features and motifs' has no 'seeAlso' property.\n",
      "Topic 'Biomolecular simulation' has no 'seeAlso' property.\n",
      "Topic 'Biotherapeutics' has no 'seeAlso' property.\n",
      "Topic 'Quality affairs' has no 'seeAlso' property.\n"
     ]
    }
   ],
   "source": [
    "query = \"\"\"\n",
    "PREFIX edam: <http://edamontology.org/>\n",
    "PREFIX oboInOwl: <http://www.geneontology.org/formats/oboInOwl#>\n",
    "\n",
    "\n",
    "SELECT ?term WHERE {\n",
    "    ?c rdfs:subClassOf+ edam:topic_0003 ;\n",
    "                rdfs:label ?term .\n",
    "        FILTER NOT EXISTS {\n",
    "        ?c rdfs:seeAlso ?seealso .\n",
    "        FILTER (regex(str(?seealso), \"wikipedia.org\", \"i\"))\n",
    "       } .\n",
    "}\n",
    "\"\"\"\n",
    "\n",
    "results = kg.query(query)\n",
    "\n",
    "for r in results :\n",
    "    print(f\"Topic '{r['term']}' has no 'seeAlso' property.\") "
   ],
   "metadata": {
    "collapsed": false,
    "ExecuteTime": {
     "end_time": "2024-01-30T16:27:49.429975Z",
     "start_time": "2024-01-30T16:27:49.380777Z"
    }
   },
   "execution_count": 9
  },
  {
   "cell_type": "code",
   "outputs": [
    {
     "name": "stdout",
     "output_type": "stream",
     "text": [
      "prop 'http://www.w3.org/2000/01/rdf-schema#seeAlso' has value: 'https://en.wikipedia.org/wiki/Genomics'.\n",
      "prop 'http://www.geneontology.org/formats/oboInOwl#hasNarrowSynonym' has value: 'Whole genomes'.\n",
      "prop 'http://www.geneontology.org/formats/oboInOwl#hasNarrowSynonym' has value: 'Genome annotation'.\n",
      "prop 'http://www.w3.org/2000/01/rdf-schema#subClassOf' has value: 'http://edamontology.org/topic_3391'.\n",
      "prop 'http://www.geneontology.org/formats/oboInOwl#inSubset' has value: 'http://edamontology.org/topics'.\n",
      "prop 'http://edamontology.org/created_in' has value: 'beta12orEarlier'.\n",
      "prop 'http://www.w3.org/2000/01/rdf-schema#seeAlso' has value: 'http://purl.bioontology.org/ontology/MSH/D023281'.\n",
      "prop 'http://www.geneontology.org/formats/oboInOwl#inSubset' has value: 'http://edamontology.org/bio'.\n",
      "prop 'http://www.geneontology.org/formats/oboInOwl#hasNarrowSynonym' has value: 'Exomes'.\n",
      "prop 'http://www.geneontology.org/formats/oboInOwl#hasDefinition' has value: 'Whole genomes of one or more organisms, or genomes in general, such as meta-information on genomes, genome projects, gene names etc.'.\n",
      "prop 'http://www.geneontology.org/formats/oboInOwl#hasNarrowSynonym' has value: 'Synthetic genomics'.\n",
      "prop 'http://www.w3.org/1999/02/22-rdf-syntax-ns#type' has value: 'http://www.w3.org/2002/07/owl#Class'.\n",
      "prop 'http://www.geneontology.org/formats/oboInOwl#hasNarrowSynonym' has value: 'Personal genomics'.\n",
      "prop 'http://www.w3.org/2000/01/rdf-schema#label' has value: 'Genomics'.\n",
      "prop 'http://www.geneontology.org/formats/oboInOwl#hasNarrowSynonym' has value: 'Genomes'.\n",
      "prop 'http://www.geneontology.org/formats/oboInOwl#hasNarrowSynonym' has value: 'Viral genomics'.\n",
      "prop 'http://www.geneontology.org/formats/oboInOwl#hasHumanReadableId' has value: 'Genomics'.\n",
      "prop 'http://www.geneontology.org/formats/oboInOwl#inSubset' has value: 'http://edamontology.org/events'.\n",
      "prop 'http://edamontology.org/isdebtag' has value: 'true'.\n"
     ]
    }
   ],
   "source": [
    "query = \"\"\"\n",
    "PREFIX edam: <http://edamontology.org/>\n",
    "\n",
    "SELECT * WHERE {\n",
    "    ?x ?property ?value .\n",
    "    VALUES ?x {edam:topic_0622}\n",
    "}\n",
    "\"\"\"\n",
    "\n",
    "results = kg.query(query)\n",
    "\n",
    "for r in results :\n",
    "    print(f\"prop '{r['property']}' has value: '{r['value']}'.\") "
   ],
   "metadata": {
    "collapsed": false,
    "ExecuteTime": {
     "end_time": "2024-01-30T16:27:50.432853Z",
     "start_time": "2024-01-30T16:27:49.431765Z"
    }
   },
   "execution_count": 10
  },
  {
   "cell_type": "code",
   "outputs": [],
   "source": [
    "query = \"\"\"\n",
    "PREFIX edam: <http://edamontology.org/>\n",
    "PREFIX oboInOwl: <http://www.geneontology.org/formats/oboInOwl#>\n",
    "\n",
    "\n",
    "SELECT ?term ?def WHERE {\n",
    "    ?c rdfs:subClassOf+ edam:topic_0003 ;\n",
    "       rdfs:label ?term ;\n",
    "    OPTIONAL {?c oboInOwl:hasDefinition ?def} .\n",
    "\n",
    "    FILTER NOT EXISTS {\n",
    "        #?c rdfs:seeAlso [] .\n",
    "        ?c oboInOwl:hasDefinition [] .\n",
    "    } .\n",
    "}\n",
    "\"\"\"\n",
    "\n",
    "results = kg.query(query)\n",
    "\n",
    "for r in results :\n",
    "    print(f\"Topic '{r['term']}' has  def  '{r['def']}'.\") "
   ],
   "metadata": {
    "collapsed": false,
    "ExecuteTime": {
     "end_time": "2024-01-30T16:27:50.482206Z",
     "start_time": "2024-01-30T16:27:50.434865Z"
    }
   },
   "execution_count": 11
  },
  {
   "cell_type": "code",
   "outputs": [
    {
     "name": "stdout",
     "output_type": "stream",
     "text": [
      "Topic 'Ontology and terminology' has  no exactSynonym.\n",
      "Topic 'Bioinformatics' has  no exactSynonym.\n",
      "Topic 'Laboratory information management' has  no exactSynonym.\n",
      "Topic 'Chemometrics' has  no exactSynonym.\n",
      "Topic 'Database management' has  no exactSynonym.\n",
      "Topic 'Data management' has  no exactSynonym.\n",
      "Topic 'Data submission, annotation, and curation' has  no exactSynonym.\n",
      "Topic 'Data identity and mapping' has  no exactSynonym.\n",
      "Topic 'Data architecture, analysis and design' has  no exactSynonym.\n",
      "Topic 'Data integration and warehousing' has  no exactSynonym.\n",
      "Topic 'Data governance' has  no exactSynonym.\n",
      "Topic 'Data quality management' has  no exactSynonym.\n",
      "Topic 'Data rescue' has  no exactSynonym.\n",
      "Topic 'Chemistry' has  no exactSynonym.\n",
      "Topic 'Microfluidics' has  no exactSynonym.\n",
      "Topic 'Computational chemistry' has  no exactSynonym.\n",
      "Topic 'Drug discovery' has  no exactSynonym.\n",
      "Topic 'Compound libraries and screening' has  no exactSynonym.\n",
      "Topic 'Analytical chemistry' has  no exactSynonym.\n",
      "Topic 'Synthetic chemistry' has  no exactSynonym.\n",
      "Topic 'Chemical biology' has  no exactSynonym.\n",
      "Topic 'Carbon cycle' has  no exactSynonym.\n",
      "Topic 'Statistics and probability' has  no exactSynonym.\n",
      "Topic 'Applied mathematics' has  no exactSynonym.\n",
      "Topic 'Pure mathematics' has  no exactSynonym.\n",
      "Topic 'Computer science' has  no exactSynonym.\n",
      "Topic 'Data mining' has  no exactSynonym.\n",
      "Topic 'Machine learning' has  no exactSynonym.\n",
      "Topic 'Physics' has  no exactSynonym.\n",
      "Topic 'Biophysics' has  no exactSynonym.\n",
      "Topic 'Acoustics' has  no exactSynonym.\n",
      "Topic 'Genome resequencing' has  no exactSynonym.\n",
      "Topic 'Single-Cell Sequencing' has  no exactSynonym.\n",
      "Topic 'Imaging' has  no exactSynonym.\n",
      "Topic 'Electron microscopy' has  no exactSynonym.\n",
      "Topic 'Medical imaging' has  no exactSynonym.\n",
      "Topic 'Light microscopy' has  no exactSynonym.\n",
      "Topic 'Genotyping experiment' has  no exactSynonym.\n",
      "Topic 'Proteomics experiment' has  no exactSynonym.\n",
      "Topic 'RNAi experiment' has  no exactSynonym.\n",
      "Topic 'Simulation experiment' has  no exactSynonym.\n",
      "Topic 'Cytometry' has  no exactSynonym.\n",
      "Topic 'Protein interaction experiment' has  no exactSynonym.\n",
      "Topic 'Preclinical and clinical studies' has  no exactSynonym.\n",
      "Topic 'Animal study' has  no exactSynonym.\n",
      "Topic 'Environmental sciences' has  no exactSynonym.\n",
      "Topic 'Ecology' has  no exactSynonym.\n",
      "Topic 'Biodiversity' has  no exactSynonym.\n",
      "Topic 'Metagenomics' has  no exactSynonym.\n",
      "Topic 'Metabarcoding' has  no exactSynonym.\n",
      "Topic 'Open science' has  no exactSynonym.\n",
      "Topic 'Virology' has  no exactSynonym.\n",
      "Topic 'Structural biology' has  no exactSynonym.\n",
      "Topic 'Structural genomics' has  no exactSynonym.\n",
      "Topic 'Cell biology' has  no exactSynonym.\n",
      "Topic 'Systems biology' has  no exactSynonym.\n",
      "Topic 'Molecular biology' has  no exactSynonym.\n",
      "Topic 'Genetics' has  no exactSynonym.\n",
      "Topic 'Quantitative genetics' has  no exactSynonym.\n",
      "Topic 'Phenomics' has  no exactSynonym.\n",
      "Topic 'Molecular evolution' has  no exactSynonym.\n",
      "Topic 'Population genetics' has  no exactSynonym.\n",
      "Topic 'Epigenetics' has  no exactSynonym.\n",
      "Topic 'Epigenomics' has  no exactSynonym.\n",
      "Topic 'Molecular genetics' has  no exactSynonym.\n",
      "Topic 'Functional, regulatory and non-coding RNA' has  no exactSynonym.\n",
      "Topic 'Mobile genetic elements' has  no exactSynonym.\n",
      "Topic 'Gene transcripts' has  no exactSynonym.\n",
      "Topic 'DNA mutation' has  no exactSynonym.\n",
      "Topic 'DNA polymorphism' has  no exactSynonym.\n",
      "Topic 'Copy number variation' has  no exactSynonym.\n",
      "Topic 'Gene regulation' has  no exactSynonym.\n",
      "Topic 'Transcription factors and regulatory sites' has  no exactSynonym.\n",
      "Topic 'Transcriptomics' has  no exactSynonym.\n",
      "Topic 'Metatranscriptomics' has  no exactSynonym.\n",
      "Topic 'Immunoproteins and antigens' has  no exactSynonym.\n",
      "Topic 'Cytogenetics' has  no exactSynonym.\n",
      "Topic 'Human genetics' has  no exactSynonym.\n",
      "Topic 'Developmental biology' has  no exactSynonym.\n",
      "Topic 'Embryology' has  no exactSynonym.\n",
      "Topic 'Biotechnology' has  no exactSynonym.\n",
      "Topic 'Biomaterials' has  no exactSynonym.\n",
      "Topic 'Medical biotechnology' has  no exactSynonym.\n",
      "Topic 'Synthetic biology' has  no exactSynonym.\n",
      "Topic 'Metabolic engineering' has  no exactSynonym.\n",
      "Topic 'Phylogeny' has  no exactSynonym.\n",
      "Topic 'Phylogenetics' has  no exactSynonym.\n",
      "Topic 'Cladistics' has  no exactSynonym.\n",
      "Topic 'Taxonomy' has  no exactSynonym.\n",
      "Topic 'Microbiology' has  no exactSynonym.\n",
      "Topic 'Marine biology' has  no exactSynonym.\n",
      "Topic 'Freshwater biology' has  no exactSynonym.\n",
      "Topic 'Agricultural science' has  no exactSynonym.\n",
      "Topic 'Rare diseases' has  no exactSynonym.\n",
      "Topic 'Toxicology' has  no exactSynonym.\n",
      "Topic 'Physiology' has  no exactSynonym.\n",
      "Topic 'Public health and epidemiology' has  no exactSynonym.\n",
      "Topic 'Neurology' has  no exactSynonym.\n",
      "Topic 'Translational medicine' has  no exactSynonym.\n",
      "Topic 'Molecular medicine' has  no exactSynonym.\n",
      "Topic 'Systems medicine' has  no exactSynonym.\n",
      "Topic 'Veterinary medicine' has  no exactSynonym.\n",
      "Topic 'Allergy, clinical immunology and immunotherapeutics' has  no exactSynonym.\n",
      "Topic 'Dermatology' has  no exactSynonym.\n",
      "Topic 'Dentistry' has  no exactSynonym.\n",
      "Topic 'Endocrinology and metabolism' has  no exactSynonym.\n",
      "Topic 'Haematology' has  no exactSynonym.\n",
      "Topic 'Gastroenterology' has  no exactSynonym.\n",
      "Topic 'Gender medicine' has  no exactSynonym.\n",
      "Topic 'Gynaecology and obstetrics' has  no exactSynonym.\n",
      "Topic 'Medical toxicology' has  no exactSynonym.\n",
      "Topic 'Musculoskeletal medicine' has  no exactSynonym.\n",
      "Topic 'Ophthalmology' has  no exactSynonym.\n",
      "Topic 'Psychiatry' has  no exactSynonym.\n",
      "Topic 'Reproductive health' has  no exactSynonym.\n",
      "Topic 'Surgery' has  no exactSynonym.\n",
      "Topic 'Urology and nephrology' has  no exactSynonym.\n",
      "Topic 'Complementary medicine' has  no exactSynonym.\n",
      "Topic 'Tropical medicine' has  no exactSynonym.\n",
      "Topic 'Computational biology' has  no exactSynonym.\n",
      "Topic 'RNA' has  no exactSynonym.\n",
      "Topic 'DNA binding sites' has  no exactSynonym.\n",
      "Topic 'DNA replication and recombination' has  no exactSynonym.\n",
      "Topic 'DNA packaging' has  no exactSynonym.\n",
      "Topic 'Nucleic acid sites, features and motifs' has  no exactSynonym.\n",
      "Topic 'Protein expression' has  no exactSynonym.\n",
      "Topic 'Protein targeting and localisation' has  no exactSynonym.\n",
      "Topic 'Protein variants' has  no exactSynonym.\n",
      "Topic 'Protein interactions' has  no exactSynonym.\n",
      "Topic 'Membrane and lipoproteins' has  no exactSynonym.\n",
      "Topic 'Protein folding, stability and design' has  no exactSynonym.\n",
      "Topic 'Protein folds and structural domains' has  no exactSynonym.\n",
      "Topic 'Protein sites, features and motifs' has  no exactSynonym.\n",
      "Topic 'Protein binding sites' has  no exactSynonym.\n",
      "Topic 'Sequence analysis' has  no exactSynonym.\n",
      "Topic 'Mapping' has  no exactSynonym.\n",
      "Topic 'Sequence composition, complexity and repeats' has  no exactSynonym.\n",
      "Topic 'Phylogenomics' has  no exactSynonym.\n",
      "Topic 'Sequence assembly' has  no exactSynonym.\n",
      "Topic 'Probes and primers' has  no exactSynonym.\n",
      "Topic 'Structure prediction' has  no exactSynonym.\n",
      "Topic 'Molecular dynamics' has  no exactSynonym.\n",
      "Topic 'Molecular modelling' has  no exactSynonym.\n",
      "Topic 'Carbohydrates' has  no exactSynonym.\n",
      "Topic 'Small molecules' has  no exactSynonym.\n",
      "Topic 'Sequence sites, features and motifs' has  no exactSynonym.\n",
      "Topic 'Molecular interactions, pathways and networks' has  no exactSynonym.\n",
      "Topic 'Functional genomics' has  no exactSynonym.\n",
      "Topic 'Biomolecular simulation' has  no exactSynonym.\n",
      "Topic 'Pharmacology' has  no exactSynonym.\n",
      "Topic 'Pharmacogenomics' has  no exactSynonym.\n",
      "Topic 'Immunology' has  no exactSynonym.\n",
      "Topic 'Anatomy' has  no exactSynonym.\n",
      "Topic 'Microbial collection' has  no exactSynonym.\n",
      "Topic 'Cell culture collection' has  no exactSynonym.\n",
      "Topic 'Clone library' has  no exactSynonym.\n",
      "Topic 'Parasitology' has  no exactSynonym.\n",
      "Topic 'Neurobiology' has  no exactSynonym.\n",
      "Topic 'Biotherapeutics' has  no exactSynonym.\n",
      "Topic 'Drug metabolism' has  no exactSynonym.\n",
      "Topic 'Pharmacovigilance' has  no exactSynonym.\n",
      "Topic 'Vaccinology' has  no exactSynonym.\n",
      "Topic 'Omics' has  no exactSynonym.\n",
      "Topic 'Proteomics' has  no exactSynonym.\n",
      "Topic 'Genomics' has  no exactSynonym.\n",
      "Topic 'Comparative genomics' has  no exactSynonym.\n",
      "Topic 'Population genomics' has  no exactSynonym.\n",
      "Topic 'Proteogenomics' has  no exactSynonym.\n",
      "Topic 'Paleogenomics' has  no exactSynonym.\n",
      "Topic 'Metabolomics' has  no exactSynonym.\n",
      "Topic 'Fluxomics' has  no exactSynonym.\n",
      "Topic 'Immunomics' has  no exactSynonym.\n"
     ]
    }
   ],
   "source": [
    "query = \"\"\"\n",
    "PREFIX edam: <http://edamontology.org/>\n",
    "PREFIX oboInOwl: <http://www.geneontology.org/formats/oboInOwl#>\n",
    "\n",
    "\n",
    "SELECT ?term ?syno WHERE {\n",
    "    ?c rdfs:subClassOf+ edam:topic_0003 ;\n",
    "       rdfs:label ?term ;\n",
    "    OPTIONAL {?c oboInOwl:hasExactSynonym ?syno} .\n",
    "\n",
    "    FILTER NOT EXISTS {\n",
    "        ?c oboInOwl:hasExactSynonym [] .\n",
    "    } .\n",
    "}\n",
    "\"\"\"\n",
    "\n",
    "results = kg.query(query)\n",
    "\n",
    "for r in results :\n",
    "    print(f\"Topic '{r['term']}' has  no exactSynonym.\") "
   ],
   "metadata": {
    "collapsed": false,
    "ExecuteTime": {
     "end_time": "2024-01-30T16:27:50.544521Z",
     "start_time": "2024-01-30T16:27:50.539560Z"
    }
   },
   "execution_count": 12
  }
 ],
 "metadata": {
  "kernelspec": {
   "display_name": "Python 3",
   "language": "python",
   "name": "python3"
  },
  "language_info": {
   "codemirror_mode": {
    "name": "ipython",
    "version": 3
   },
   "file_extension": ".py",
   "mimetype": "text/x-python",
   "name": "python",
   "nbconvert_exporter": "python",
   "pygments_lexer": "ipython3",
   "version": "3.9.13"
  }
 },
 "nbformat": 4,
 "nbformat_minor": 4
}
