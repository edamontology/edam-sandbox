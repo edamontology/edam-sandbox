{
 "cells": [
  {
   "cell_type": "markdown",
   "id": "39ce62e2-744b-481c-b8d7-f2c0f8348140",
   "metadata": {},
   "source": [
    "check each concept as at least and only one label."
   ]
  },
  {
   "cell_type": "code",
   "execution_count": 1,
   "id": "abf0b4b2-9f5e-411f-8723-2b55acbf9d0b",
   "metadata": {},
   "outputs": [
    {
     "name": "stdout",
     "output_type": "stream",
     "text": [
      "Loading graph ...done!\n"
     ]
    }
   ],
   "source": [
    "from rdflib import ConjunctiveGraph, Namespace\n",
    "import json\n",
    "import os\n",
    "\n",
    "\n",
    "# Constants for script error reporting as per https://github.com/edamontology/edamverify.\n",
    "NOERR = \"NOERR\"\n",
    "INFO  = \"INFO\"\n",
    "WARN  = \"WARN\"\n",
    "ERROR = \"ERROR\"\n",
    "\n",
    "#Load EDAM_dev.owl from GitHub into an RDF graph.\n",
    "print(\"Loading graph ...\", end=\"\")\n",
    "g = ConjunctiveGraph()\n",
    "g.load(os.environ.get('EDAM_PATH', '../edamontology/EDAM_dev.owl'), format='xml')\n",
    "#g.load('https://raw.githubusercontent.com/edamontology/edamontology/master/EDAM_dev.owl', format='xml')\n",
    "# g.load('EDAM_dev.owl', format='xml')\n",
    "g.bind('edam', Namespace('http://edamontology.org#'))\n",
    "print(\"done!\")\n",
    "\n"
   ]
  },
  {
   "cell_type": "code",
   "execution_count": null,
   "id": "55a633d9-6234-44fd-a652-bf5766d81221",
   "metadata": {},
   "outputs": [],
   "source": [
    "#Compile SPARQL query\n",
    "query_term = \"\"\"\n",
    "SELECT DISTINCT ?x WHERE {\n",
    "    {\n",
    "        ?x rdfs:label ?l1 .\n",
    "        ?x rdfs:label ?l2 .\n",
    "        FILTER (?l1 != ?l2) .\n",
    "    } UNION\n",
    "    {\n",
    "        ?x a owl:Class .\n",
    "        FILTER NOT EXISTS {?x rdfs:label ?label}\n",
    "    }\n",
    "}\n",
    "\"\"\"\n",
    "\n",
    "# Run SPARQL query and collate results\n",
    "errfound = False\n",
    "report = list()\n",
    "results = g.query(query_term)\n",
    "print(len(results))"
   ]
  },
  {
   "cell_type": "code",
   "execution_count": 12,
   "id": "e59fa92e-2fcb-4939-a41c-445a01dacf50",
   "metadata": {},
   "outputs": [
    {
     "name": "stdout",
     "output_type": "stream",
     "text": [
      "ERROR http://edamontology.org/topic_4020 has no or more than one label\n",
      "ERROR N899be43b467f4a6a8bf9d4d4081039e2 has no or more than one label\n",
      "ERROR Ne1aca03a43124e7da638d285460ff2bc has no or more than one label\n",
      "ERROR http://edamontology.org/topic_4024 has no or more than one label\n",
      "ERROR http://www.w3.org/2002/07/owl#DeprecatedClass has no or more than one label\n"
     ]
    }
   ],
   "source": [
    "for r in results:\n",
    "    print(f\"ERROR {r['x']} has no or more than one label\")\n",
    "    #print(f\"ERROR {r['y']} has no label\")"
   ]
  },
  {
   "cell_type": "code",
   "execution_count": null,
   "id": "acacd029-ab1c-4f78-a443-5d4b103e73a9",
   "metadata": {},
   "outputs": [],
   "source": []
  }
 ],
 "metadata": {
  "kernelspec": {
   "display_name": "Python 3 (ipykernel)",
   "language": "python",
   "name": "python3"
  },
  "language_info": {
   "codemirror_mode": {
    "name": "ipython",
    "version": 3
   },
   "file_extension": ".py",
   "mimetype": "text/x-python",
   "name": "python",
   "nbconvert_exporter": "python",
   "pygments_lexer": "ipython3",
   "version": "3.9.7"
  }
 },
 "nbformat": 4,
 "nbformat_minor": 5
}
