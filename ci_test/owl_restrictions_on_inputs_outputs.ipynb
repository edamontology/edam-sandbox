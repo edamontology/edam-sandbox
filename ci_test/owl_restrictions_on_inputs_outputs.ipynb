{
 "cells": [
  {
   "cell_type": "markdown",
   "metadata": {
    "collapsed": true,
    "pycharm": {
     "name": "#%% md\n"
    }
   },
   "source": [
    "**owl_restrictions_on_inputs_outputs.ipynb**\n",
    "\n",
    "check that OWL restrictions on inputs or outputs are not too abstract\n",
    "\n",
    "**Documentation:** TODO"
   ]
  },
  {
   "cell_type": "markdown",
   "metadata": {},
   "source": [
    "Set constants for script return values. Load EDAM_dev.owl from GitHub into an RDF graph."
   ]
  },
  {
   "cell_type": "code",
   "execution_count": 50,
   "metadata": {
    "pycharm": {
     "name": "#%%\n"
    }
   },
   "outputs": [
    {
     "name": "stdout",
     "output_type": "stream",
     "text": [
      "Loading graph ...done!\n",
      "38042\n"
     ]
    }
   ],
   "source": [
    "import sys\n",
    "from rdflib import ConjunctiveGraph, Namespace\n",
    "import json\n",
    "from collections import OrderedDict\n",
    "\n",
    "# Constants for script error reporting as per https://github.com/edamontology/edamverify.\n",
    "NOERR = \"NOERR\"\n",
    "INFO  = \"INFO\"\n",
    "WARN  = \"WARN\"\n",
    "ERROR = \"ERROR\"\n",
    "\n",
    "#Load EDAM_dev.owl from GitHub into an RDF graph.\n",
    "print(\"Loading graph ...\", end=\"\")\n",
    "g = ConjunctiveGraph()\n",
    "#g.load('https://raw.githubusercontent.com/edamontology/edamontology/master/EDAM_dev.owl', format='xml')\n",
    "# g.load('edam.ttl', format='turtle')\n",
    "# g.load('EDAM_dev.owl')\n",
    "g.bind('@base', Namespace('http://edamontology.org/'))\n",
    "print(\"done!\")\n",
    "print(len(g))"
   ]
  },
  {
   "cell_type": "code",
   "execution_count": 51,
   "metadata": {},
   "outputs": [],
   "source": [
    "#g.serialize(\"edam.ttl\", format=\"turtle\")"
   ]
  },
  {
   "cell_type": "markdown",
   "metadata": {},
   "source": [
    "Define SPARQL query to extract ID, term, and (if available) seealso and deprecated fields of all Topic concepts. Run the query.\n",
    "\n",
    "**NB:** Use ``\"/topic_\"`` in query to avoid detection of http://edamontology.org/is_topic_of"
   ]
  },
  {
   "cell_type": "code",
   "execution_count": 35,
   "metadata": {},
   "outputs": [],
   "source": [
    "q = \"\"\"\n",
    "SELECT DISTINCT ?id ?term ?seealso ?deprecated WHERE {\n",
    "    ?id rdfs:subClassOf+ <http://edamontology.org/operation_0004> .\n",
    "    ?id rdfs:label ?term .\n",
    "    ?id rdfs:subClassOf ?restriction . \n",
    "    {\n",
    "        ?restriction rdf:type owl:Restriction ; \n",
    "                 owl:onProperty :has_output  ; \n",
    "                 owl:someValuesFrom :data_0006 .\n",
    "    } UNION { \n",
    "        ?restriction rdf:type owl:Restriction ; \n",
    "                 owl:onProperty :has_input  ; \n",
    "                 owl:someValuesFrom :data_0006 .\n",
    "    }\n",
    "}\n",
    "\"\"\"\n",
    "\n",
    "# Run SPARQL query and collate results\n",
    "results = g.query(q)"
   ]
  },
  {
   "cell_type": "code",
   "execution_count": 36,
   "metadata": {
    "pycharm": {
     "name": "#%%\n"
    }
   },
   "outputs": [
    {
     "name": "stdout",
     "output_type": "stream",
     "text": [
      "2 EDAM classes with too broad input or output constraints\n",
      "WARNING Missing wikipedia link for class http://edamontology.org/operation_3357 (Format detection)\n",
      "WARNING Missing wikipedia link for class http://edamontology.org/operation_0224 (Query and retrieval)\n"
     ]
    }
   ],
   "source": [
    "print(f\"{len(results)} EDAM classes with too broad input or output constraints\")\n",
    "\n",
    "for r in results :\n",
    "\n",
    "    # Skip deprecated concepts\n",
    "    #if r['deprecated'] == \"true\":\n",
    "    #    print(f\"skipping deprecated class {r['id']} ({r['term']})\")\n",
    "    #    continue\n",
    "    \n",
    "    print(f\"WARNING Missing wikipedia link for class {r['id']} ({r['term']})\")\n",
    "\n",
    "#print(str(report).decode())"
   ]
  },
  {
   "cell_type": "code",
   "execution_count": null,
   "metadata": {},
   "outputs": [],
   "source": []
  },
  {
   "cell_type": "code",
   "execution_count": 45,
   "metadata": {},
   "outputs": [],
   "source": [
    "q = \"\"\"\n",
    "SELECT ?class ?my_id WHERE {\n",
    "    \n",
    "    #retrieve the last ID\n",
    "    <http://edamontology.org> :next_id ?next_id .\n",
    "    \n",
    "    #match all IDs\n",
    "    ?class rdf:type owl:Class .    \n",
    "    BIND(strafter(str(?class), \"_\") AS ?my_id) .\n",
    "\n",
    "    #retrieve the ones that should me lower than the last id\n",
    "    FILTER (?my_id >= ?next_id)\n",
    "} \n",
    "\"\"\"\n",
    "\n",
    "# Run SPARQL query and collate results\n",
    "results = g.query(q)"
   ]
  },
  {
   "cell_type": "code",
   "execution_count": 46,
   "metadata": {},
   "outputs": [
    {
     "name": "stdout",
     "output_type": "stream",
     "text": [
      "3 EDAM classes with too broad input or output constraints\n",
      "(rdflib.term.URIRef('http://edamontology.org/data_4022'), rdflib.term.Literal('4022'))\n",
      "(rdflib.term.URIRef('http://edamontology.org/topic_5000'), rdflib.term.Literal('5000'))\n",
      "(rdflib.term.URIRef('http://edamontology.org/operation_4023'), rdflib.term.Literal('4023'))\n"
     ]
    }
   ],
   "source": [
    "print(f\"{len(results)} EDAM classes with too broad input or output constraints\")\n",
    "\n",
    "for r in results :\n",
    "    print(r)\n",
    "\n",
    "    # Skip deprecated concepts\n",
    "    #if r['deprecated'] == \"true\":\n",
    "    #    print(f\"skipping deprecated class {r['id']} ({r['term']})\")\n",
    "    #    continue\n",
    "    \n",
    "    #print(f\"WARNING Missing wikipedia link for class {r['id']} ({r['term']})\")\n",
    "\n",
    "#print(str(report).decode())"
   ]
  },
  {
   "cell_type": "code",
   "execution_count": null,
   "metadata": {},
   "outputs": [],
   "source": []
  },
  {
   "cell_type": "code",
   "execution_count": 72,
   "metadata": {},
   "outputs": [],
   "source": [
    "q = \"\"\"\n",
    "SELECT DISTINCT ?x ?y WHERE {\n",
    "    \n",
    "    #?x rdfs:label ?l1 . \n",
    "    #?x rdfs:label ?l2 . \n",
    "    #FILTER (?l1 != ?l2) .\n",
    "    \n",
    "    ?y a owl:Class .\n",
    "    FILTER NOT EXISTS {?y rdfs:label ?label}\n",
    "} \n",
    "\"\"\"\n",
    "\n",
    "# Run SPARQL query and collate results\n",
    "results = g.query(q)"
   ]
  },
  {
   "cell_type": "code",
   "execution_count": 73,
   "metadata": {},
   "outputs": [
    {
     "name": "stdout",
     "output_type": "stream",
     "text": [
      "3 EDAM classes with 2 labels\n",
      "(None, rdflib.term.URIRef('http://www.w3.org/2002/07/owl#DeprecatedClass'))\n",
      "(None, rdflib.term.BNode('ub3bL36075C16'))\n",
      "(None, rdflib.term.BNode('ub3bL42578C17'))\n",
      "CPU times: user 553 ms, sys: 2.8 ms, total: 556 ms\n",
      "Wall time: 556 ms\n"
     ]
    }
   ],
   "source": [
    "%%time\n",
    "print(f\"{len(results)} EDAM classes with 2 labels\")\n",
    "\n",
    "for r in results :\n",
    "    print(r)\n",
    "\n",
    "    # Skip deprecated concepts\n",
    "    #if r['deprecated'] == \"true\":\n",
    "    #    print(f\"skipping deprecated class {r['id']} ({r['term']})\")\n",
    "    #    continue\n",
    "    \n",
    "    #print(f\"WARNING Missing wikipedia link for class {r['id']} ({r['term']})\")\n",
    "\n",
    "#print(str(report).decode())"
   ]
  },
  {
   "cell_type": "code",
   "execution_count": null,
   "metadata": {},
   "outputs": [],
   "source": []
  }
 ],
 "metadata": {
  "kernelspec": {
   "display_name": "Python 3",
   "language": "python",
   "name": "python3"
  },
  "language_info": {
   "codemirror_mode": {
    "name": "ipython",
    "version": 3
   },
   "file_extension": ".py",
   "mimetype": "text/x-python",
   "name": "python",
   "nbconvert_exporter": "python",
   "pygments_lexer": "ipython3",
   "version": "3.7.6"
  }
 },
 "nbformat": 4,
 "nbformat_minor": 1
}
