{
 "cells": [
  {
   "cell_type": "markdown",
   "id": "39ce62e2-744b-481c-b8d7-f2c0f8348140",
   "metadata": {},
   "source": [
    "check concept id number is inferior to edam next_id"
   ]
  },
  {
   "cell_type": "code",
   "execution_count": 5,
   "id": "abf0b4b2-9f5e-411f-8723-2b55acbf9d0b",
   "metadata": {},
   "outputs": [
    {
     "name": "stdout",
     "output_type": "stream",
     "text": [
      "Loading graph ...done!\n"
     ]
    }
   ],
   "source": [
    "from rdflib import ConjunctiveGraph, Namespace\n",
    "import json\n",
    "import os\n",
    "\n",
    "\n",
    "# Constants for script error reporting as per https://github.com/edamontology/edamverify.\n",
    "NOERR = \"NOERR\"\n",
    "INFO  = \"INFO\"\n",
    "WARN  = \"WARN\"\n",
    "ERROR = \"ERROR\"\n",
    "\n",
    "#Load EDAM_dev.owl from GitHub into an RDF graph.\n",
    "print(\"Loading graph ...\", end=\"\")\n",
    "g = ConjunctiveGraph()\n",
    "g.load(os.environ.get('EDAM_PATH', '../edamontology/EDAM_dev.owl'), format='xml')\n",
    "#g.load('https://raw.githubusercontent.com/edamontology/edamontology/master/EDAM_dev.owl', format='xml')\n",
    "# g.load('EDAM_dev.owl', format='xml')\n",
    "g.bind('edam', Namespace('http://edamontology.org#'))\n",
    "print(\"done!\")\n",
    "\n"
   ]
  },
  {
   "cell_type": "code",
   "execution_count": 6,
   "id": "55a633d9-6234-44fd-a652-bf5766d81221",
   "metadata": {},
   "outputs": [],
   "source": [
    "#Compile SPARQL query\n",
    "query_term = \"\"\"\n",
    "SELECT DISTINCT ?entity ?property ?value WHERE {\n",
    "         VALUES ?property { rdfs:subClassOf }\n",
    "         ?entity ?property ?value\n",
    "         FILTER (?entity = ?value)\n",
    "\n",
    "} \n",
    "\n",
    "\"\"\"\n",
    "\n",
    "# Run SPARQL query and collate results\n",
    "errfound = False\n",
    "report = list()\n",
    "results = g.query(query_term)"
   ]
  },
  {
   "cell_type": "code",
   "execution_count": 8,
   "id": "e59fa92e-2fcb-4939-a41c-445a01dacf50",
   "metadata": {},
   "outputs": [
    {
     "name": "stdout",
     "output_type": "stream",
     "text": [
      "ERROR  http://edamontology.org/topic_4024 refers so self\n"
     ]
    }
   ],
   "source": [
    "for r in results:\n",
    "    print(f\"ERROR  {r['entity']} refers so self\")"
   ]
  },
  {
   "cell_type": "code",
   "execution_count": null,
   "id": "acacd029-ab1c-4f78-a443-5d4b103e73a9",
   "metadata": {},
   "outputs": [],
   "source": []
  }
 ],
 "metadata": {
  "kernelspec": {
   "display_name": "Python 3 (ipykernel)",
   "language": "python",
   "name": "python3"
  },
  "language_info": {
   "codemirror_mode": {
    "name": "ipython",
    "version": 3
   },
   "file_extension": ".py",
   "mimetype": "text/x-python",
   "name": "python",
   "nbconvert_exporter": "python",
   "pygments_lexer": "ipython3",
   "version": "3.9.7"
  }
 },
 "nbformat": 4,
 "nbformat_minor": 5
}
