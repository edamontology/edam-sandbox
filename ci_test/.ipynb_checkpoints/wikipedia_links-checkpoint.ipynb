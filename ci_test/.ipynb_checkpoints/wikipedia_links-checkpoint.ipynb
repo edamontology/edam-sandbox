{
 "cells": [
  {
   "cell_type": "markdown",
   "metadata": {
    "pycharm": {
     "name": "#%% md\n"
    }
   },
   "source": [
    "**wikipediaLinkMissing.ipynb**\n",
    "\n",
    "Wikipedia link missing from EDAM Topic concept.\n",
    "\n",
    "**Documentation:** https://github.com/edamontology/edamverify/blob/master/docs/wikiepediaLinkMissing.md"
   ]
  },
  {
   "cell_type": "markdown",
   "metadata": {},
   "source": [
    "Set constants for script return values. Load EDAM_dev.owl from GitHub into an RDF graph."
   ]
  },
  {
   "cell_type": "code",
   "execution_count": 1,
   "metadata": {
    "pycharm": {
     "name": "#%%\n"
    }
   },
   "outputs": [
    {
     "name": "stdout",
     "output_type": "stream",
     "text": [
      "Loading graph ...done!\n"
     ]
    }
   ],
   "source": [
    "import sys\n",
    "from rdflib import ConjunctiveGraph, Namespace\n",
    "import json\n",
    "from collections import OrderedDict\n",
    "\n",
    "# Constants for script error reporting as per https://github.com/edamontology/edamverify.\n",
    "NOERR = \"NOERR\"\n",
    "INFO  = \"INFO\"\n",
    "WARN  = \"WARN\"\n",
    "ERROR = \"ERROR\"\n",
    "\n",
    "#Load EDAM_dev.owl from GitHub into an RDF graph.\n",
    "print(\"Loading graph ...\", end=\"\")\n",
    "g = ConjunctiveGraph()\n",
    "g.load('https://raw.githubusercontent.com/edamontology/edamontology/master/EDAM_dev.owl', format='xml')\n",
    "# g.load('EDAM_dev.owl')\n",
    "g.bind('edam', Namespace('http://edamontology.org#'))\n",
    "print(\"done!\")"
   ]
  },
  {
   "cell_type": "code",
   "execution_count": 4,
   "metadata": {},
   "outputs": [],
   "source": [
    "g.serialize(\"edam.ttl\", format=\"turtle\")"
   ]
  },
  {
   "cell_type": "markdown",
   "metadata": {},
   "source": [
    "Define SPARQL query to extract ID, term, and (if available) seealso and deprecated fields of all Topic concepts. Run the query.\n",
    "\n",
    "**NB:** Use ``\"/topic_\"`` in query to avoid detection of http://edamontology.org/is_topic_of"
   ]
  },
  {
   "cell_type": "code",
   "execution_count": 2,
   "metadata": {},
   "outputs": [],
   "source": [
    "q = \"\"\"\n",
    "SELECT DISTINCT ?id ?term ?seealso ?deprecated WHERE {\n",
    "    ?id rdfs:subClassOf+ <http://edamontology.org/topic_0003> .\n",
    "    ?id rdfs:label ?term .\n",
    "    \n",
    "    FILTER NOT EXISTS {\n",
    "        ?id rdfs:seeAlso ?seealso .\n",
    "        FILTER (regex(str(?seealso), \"wikipedia\", \"i\")) .\n",
    "    }\n",
    "}\n",
    "\"\"\"\n",
    "\n",
    "# Run SPARQL query and collate results\n",
    "results = g.query(q)"
   ]
  },
  {
   "cell_type": "code",
   "execution_count": 3,
   "metadata": {
    "pycharm": {
     "name": "#%%\n"
    }
   },
   "outputs": [
    {
     "name": "stdout",
     "output_type": "stream",
     "text": [
      "14 EDAM classes with missing wikipedia link\n",
      "WARNING Missing wikipedia link for class http://edamontology.org/topic_3068 (Literature and language)\n",
      "WARNING Missing wikipedia link for class http://edamontology.org/topic_0219 (Data submission, annotation, and curation)\n",
      "WARNING Missing wikipedia link for class http://edamontology.org/topic_3345 (Data identity and mapping)\n",
      "WARNING Missing wikipedia link for class http://edamontology.org/operation_3923 (Genome resequencing)\n",
      "WARNING Missing wikipedia link for class http://edamontology.org/topic_3524 (Simulation experiment)\n",
      "WARNING Missing wikipedia link for class http://edamontology.org/topic_3511 (Nucleic acid sites, features and motifs)\n",
      "WARNING Missing wikipedia link for class http://edamontology.org/topic_0123 (Protein properties)\n",
      "WARNING Missing wikipedia link for class http://edamontology.org/topic_3510 (Protein sites, features and motifs)\n",
      "WARNING Missing wikipedia link for class http://edamontology.org/topic_0157 (Sequence composition, complexity and repeats)\n",
      "WARNING Missing wikipedia link for class http://edamontology.org/topic_0632 (Probes and primers)\n",
      "WARNING Missing wikipedia link for class http://edamontology.org/topic_0160 (Sequence sites, features and motifs)\n",
      "WARNING Missing wikipedia link for class http://edamontology.org/topic_3892 (Biomolecular simulation)\n",
      "WARNING Missing wikipedia link for class http://edamontology.org/topic_3374 (Biotherapeutics)\n",
      "WARNING Missing wikipedia link for class http://edamontology.org/topic_3393 (Quality affairs)\n"
     ]
    }
   ],
   "source": [
    "print(f\"{len(results)} EDAM classes with missing wikipedia link\")\n",
    "\n",
    "for r in results :\n",
    "\n",
    "    # Skip deprecated concepts\n",
    "    #if r['deprecated'] == \"true\":\n",
    "    #    print(f\"skipping deprecated class {r['id']} ({r['term']})\")\n",
    "    #    continue\n",
    "    \n",
    "    print(f\"WARNING Missing wikipedia link for class {r['id']} ({r['term']})\")\n",
    "\n",
    "#print(str(report).decode())"
   ]
  },
  {
   "cell_type": "code",
   "execution_count": null,
   "metadata": {},
   "outputs": [],
   "source": []
  },
  {
   "cell_type": "code",
   "execution_count": null,
   "metadata": {},
   "outputs": [],
   "source": []
  }
 ],
 "metadata": {
  "kernelspec": {
   "display_name": "Python 3 (ipykernel)",
   "language": "python",
   "name": "python3"
  },
  "language_info": {
   "codemirror_mode": {
    "name": "ipython",
    "version": 3
   },
   "file_extension": ".py",
   "mimetype": "text/x-python",
   "name": "python",
   "nbconvert_exporter": "python",
   "pygments_lexer": "ipython3",
   "version": "3.9.7"
  }
 },
 "nbformat": 4,
 "nbformat_minor": 4
}
