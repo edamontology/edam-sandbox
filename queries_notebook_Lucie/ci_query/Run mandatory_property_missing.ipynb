{
 "cells": [
  {
   "cell_type": "code",
   "execution_count": 1,
   "id": "abf0b4b2-9f5e-411f-8723-2b55acbf9d0b",
   "metadata": {},
   "outputs": [
    {
     "name": "stdout",
     "output_type": "stream",
     "text": [
      "Loading graph ...done!\n"
     ]
    }
   ],
   "source": [
    "from rdflib import ConjunctiveGraph, Namespace\n",
    "import json\n",
    "import os\n",
    "\n",
    "\n",
    "# Constants for script error reporting as per https://github.com/edamontology/edamverify.\n",
    "NOERR = \"NOERR\"\n",
    "INFO  = \"INFO\"\n",
    "WARN  = \"WARN\"\n",
    "ERROR = \"ERROR\"\n",
    "\n",
    "#Load EDAM_dev.owl from GitHub into an RDF graph.\n",
    "print(\"Loading graph ...\", end=\"\")\n",
    "g = ConjunctiveGraph()\n",
    "g.load(os.environ.get('EDAM_PATH', '../edamontology/EDAM_dev.owl'), format='xml')\n",
    "#g.load('https://raw.githubusercontent.com/edamontology/edamontology/master/EDAM_dev.owl', format='xml')\n",
    "# g.load('EDAM_dev.owl', format='xml')\n",
    "g.bind('edam', Namespace('http://edamontology.org#'))\n",
    "print(\"done!\")\n",
    "\n"
   ]
  },
  {
   "cell_type": "markdown",
   "id": "fb23e6db-1d2a-4ce3-a9e0-e5981e48e9a2",
   "metadata": {},
   "source": [
    "suggestion : Remove the subclass missing error for the 4 root concept ?\n"
   ]
  },
  {
   "cell_type": "code",
   "execution_count": 2,
   "id": "ccc052d2-835e-49da-b8bd-a0cf7dfffcea",
   "metadata": {},
   "outputs": [
    {
     "name": "stdout",
     "output_type": "stream",
     "text": [
      "29\n",
      "Nfd30f7ee887e495bafdd655afb30396c , 'None', is missing mandatory property: http://www.geneontology.org/formats/oboInOwl#hasDefinition  \n",
      "Nfd30f7ee887e495bafdd655afb30396c , 'None', is missing mandatory property: http://www.w3.org/2000/01/rdf-schema#subClassOf  \n",
      "Nfd30f7ee887e495bafdd655afb30396c , 'None', is missing mandatory property: http://edamontology.org/created_in  \n",
      "Nfd30f7ee887e495bafdd655afb30396c , 'None', is missing mandatory property: http://www.geneontology.org/formats/oboInOwl#inSubset  \n",
      "Nfd30f7ee887e495bafdd655afb30396c , 'None', is missing mandatory property: http://www.w3.org/2000/01/rdf-schema#label  \n",
      "Nfe9b18f620c74021834ba529af4ee92e , 'None', is missing mandatory property: http://www.geneontology.org/formats/oboInOwl#hasDefinition  \n",
      "Nfe9b18f620c74021834ba529af4ee92e , 'None', is missing mandatory property: http://www.w3.org/2000/01/rdf-schema#subClassOf  \n",
      "Nfe9b18f620c74021834ba529af4ee92e , 'None', is missing mandatory property: http://edamontology.org/created_in  \n",
      "Nfe9b18f620c74021834ba529af4ee92e , 'None', is missing mandatory property: http://www.geneontology.org/formats/oboInOwl#inSubset  \n",
      "Nfe9b18f620c74021834ba529af4ee92e , 'None', is missing mandatory property: http://www.w3.org/2000/01/rdf-schema#label  \n",
      "http://edamontology.org/data_3914 , 'Quality control report', is missing mandatory property: http://www.geneontology.org/formats/oboInOwl#inSubset  \n",
      "http://edamontology.org/format_3665 , 'K-mer countgraph', is missing mandatory property: http://www.geneontology.org/formats/oboInOwl#inSubset  \n",
      "http://edamontology.org/format_3884 , 'FF parameter format', is missing mandatory property: http://www.geneontology.org/formats/oboInOwl#inSubset  \n",
      "http://edamontology.org/format_3889 , 'AMBER off', is missing mandatory property: http://www.geneontology.org/formats/oboInOwl#inSubset  \n",
      "http://edamontology.org/format_3910 , 'trr', is missing mandatory property: http://www.geneontology.org/formats/oboInOwl#inSubset  \n",
      "http://edamontology.org/format_3913 , 'Loom', is missing mandatory property: http://www.geneontology.org/formats/oboInOwl#inSubset  \n",
      "http://edamontology.org/format_3915 , 'Zarr', is missing mandatory property: http://www.geneontology.org/formats/oboInOwl#inSubset  \n",
      "http://edamontology.org/format_3916 , 'MTX', is missing mandatory property: http://www.geneontology.org/formats/oboInOwl#inSubset  \n",
      "http://edamontology.org/format_3951 , 'BcForms', is missing mandatory property: http://www.geneontology.org/formats/oboInOwl#inSubset  \n",
      "http://edamontology.org/operation_3894 , 'DNA profiling', is missing mandatory property: http://www.geneontology.org/formats/oboInOwl#inSubset  \n",
      "http://edamontology.org/operation_3918 , 'Genome analysis', is missing mandatory property: http://www.geneontology.org/formats/oboInOwl#inSubset  \n",
      "http://edamontology.org/operation_3923 , 'Genome resequencing', is missing mandatory property: http://www.geneontology.org/formats/oboInOwl#inSubset  \n",
      "http://edamontology.org/operation_3925 , 'Network visualisation', is missing mandatory property: http://www.geneontology.org/formats/oboInOwl#inSubset  \n",
      "http://edamontology.org/operation_4009 , 'Small molecule design', is missing mandatory property: http://www.geneontology.org/formats/oboInOwl#inSubset  \n",
      "http://edamontology.org/topic_3940 , 'Chromosome conformation capture', is missing mandatory property: http://www.geneontology.org/formats/oboInOwl#inSubset  \n",
      "http://edamontology.org/topic_3943 , 'Paleogenomics', is missing mandatory property: http://www.geneontology.org/formats/oboInOwl#inSubset  \n",
      "http://edamontology.org/topic_3948 , 'Immunoinformatics', is missing mandatory property: http://www.geneontology.org/formats/oboInOwl#inSubset  \n",
      "http://edamontology.org/topic_3955 , 'Fluxomics', is missing mandatory property: http://www.geneontology.org/formats/oboInOwl#inSubset  \n",
      "http://edamontology.org/topic_3958 , 'Copy number variation', is missing mandatory property: http://www.geneontology.org/formats/oboInOwl#inSubset  \n"
     ]
    }
   ],
   "source": [
    "    query = \"mandatory_property_missing.rq\"\n",
    "    with open(query,'r') as f:\n",
    "        query_term = f.read()\n",
    "  \n",
    "        errfound = False\n",
    "        report = list()\n",
    "        results = g.query(query_term)\n",
    "        print(len(results))\n",
    "        for r in results:\n",
    "            print(f\"{r['entity']} , '{r['label']}', is missing mandatory property: {r['property']}  \")\n",
    "            #print(f\"{r['entity']} , '{r['label']}', is missing mandatory property: {r['property_subs_edam']}  \")\n",
    "            #print(f\"{r['entity']}  {r['p']} '{r['v']}' \")\n",
    "            \n",
    "    f.close()"
   ]
  },
  {
   "cell_type": "code",
   "execution_count": 7,
   "id": "81e28eff-635b-4ad0-a216-dd7978751bd5",
   "metadata": {},
   "outputs": [
    {
     "data": {
      "text/plain": [
       "<Graph identifier=file:///home/llamothe/work/edamci/queries/mandatory_property_missing_test_data-copy.owl (<class 'rdflib.graph.Graph'>)>"
      ]
     },
     "execution_count": 7,
     "metadata": {},
     "output_type": "execute_result"
    }
   ],
   "source": [
    "\n",
    "g2 = ConjunctiveGraph()\n",
    "\n",
    "g2.parse('../edamci/queries/mandatory_property_missing_test_data-copy.owl', format='xml')"
   ]
  },
  {
   "cell_type": "code",
   "execution_count": 24,
   "id": "b156130b-e618-4dd0-85ce-2f10e9a6063c",
   "metadata": {},
   "outputs": [],
   "source": [
    "q = \"\"\"\n",
    "PREFIX obo: <http://purl.obolibrary.org/obo/>\n",
    "PREFIX owl: <http://www.w3.org/2002/07/owl#>\n",
    "PREFIX rdfs: <http://www.w3.org/2000/01/rdf-schema#>\n",
    "PREFIX rdf: <http://www.w3.org/1999/02/22-rdf-syntax-ns#>\n",
    "PREFIX oboInOwl: <http://www.geneontology.org/formats/oboInOwl#>\n",
    "PREFIX edam:<http://edamontology.org/>\n",
    "PREFIX xsd: <http://www.w3.org/2001/XMLSchema#>\n",
    "\n",
    "SELECT DISTINCT ?entity ?property ?label ?property_subs_edam WHERE {\n",
    "\n",
    "    VALUES ?property {oboInOwl:hasDefinition\n",
    "                       edam:created_in\n",
    "                       #oboInOwl:inSubset\n",
    "                       rdfs:label\n",
    "                       rdfs:subClassOf }\n",
    "    ?entity a owl:Class .\n",
    "\n",
    "    FILTER NOT EXISTS {?entity owl:deprecated true .}\n",
    "    OPTIONAL {?entity rdfs:label ?label .}\n",
    "    FILTER ( ?entity != <http://edamontology.org/data_0006>)\n",
    "    FILTER ( ?entity != <http://edamontology.org/topic_0003>)\n",
    "    FILTER ( ?entity != <http://www.w3.org/2002/07/owl#DeprecatedClass>)\n",
    "    FILTER ( ?entity != <http://edamontology.org/operation_0004>)\n",
    "    FILTER ( ?entity != <http://edamontology.org/format_1915>)\n",
    "\n",
    "    FILTER NOT EXISTS {?entity ?property ?value .\n",
    "                       MINUS { ?value rdf:type owl:Restriction .}\n",
    "                       }\n",
    "\n",
    "}\n",
    "ORDER BY ?entity\n",
    "\n",
    "\n",
    "\n",
    "\n",
    "\"\"\""
   ]
  },
  {
   "cell_type": "code",
   "execution_count": 25,
   "id": "859a703b-c92f-46f1-9617-464f3d428a19",
   "metadata": {},
   "outputs": [
    {
     "name": "stdout",
     "output_type": "stream",
     "text": [
      "5\n",
      "http://edamontology.org/operation_0308 , 'PCR primer design', is missing mandatory property: http://www.w3.org/2000/01/rdf-schema#subClassOf  \n",
      "http://edamontology.org/topic_0203 , 'Gene expression', is missing mandatory property: http://www.geneontology.org/formats/oboInOwl#hasDefinition  \n",
      "http://edamontology.org/topic_0203 , 'Gene expression', is missing mandatory property: http://edamontology.org/created_in  \n",
      "http://edamontology.org/topic_0203 , 'Gene expression', is missing mandatory property: http://www.w3.org/2000/01/rdf-schema#subClassOf  \n",
      "http://edamontology.org/topic_0204 , 'None', is missing mandatory property: http://www.w3.org/2000/01/rdf-schema#label  \n"
     ]
    }
   ],
   "source": [
    "\n",
    "    results = g2.query(q)\n",
    "    print(len(results))\n",
    "    for r in results:\n",
    "        print(f\"{r['entity']} , '{r['label']}', is missing mandatory property: {r['property']}  \")\n",
    "        #print(f\"{r['entity']} , '{r['label']}', is missing mandatory property: {r['property_subs_edam']}  \")\n"
   ]
  },
  {
   "cell_type": "code",
   "execution_count": null,
   "id": "74450fdf-3a4c-4a9d-9319-f658ef0cf1df",
   "metadata": {},
   "outputs": [],
   "source": []
  }
 ],
 "metadata": {
  "kernelspec": {
   "display_name": "Python 3 (ipykernel)",
   "language": "python",
   "name": "python3"
  },
  "language_info": {
   "codemirror_mode": {
    "name": "ipython",
    "version": 3
   },
   "file_extension": ".py",
   "mimetype": "text/x-python",
   "name": "python",
   "nbconvert_exporter": "python",
   "pygments_lexer": "ipython3",
   "version": "3.9.5"
  }
 },
 "nbformat": 4,
 "nbformat_minor": 5
}
