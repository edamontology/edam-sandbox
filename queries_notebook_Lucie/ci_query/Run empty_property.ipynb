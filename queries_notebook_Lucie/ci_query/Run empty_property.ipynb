{
 "cells": [
  {
   "cell_type": "code",
   "execution_count": 27,
   "id": "abf0b4b2-9f5e-411f-8723-2b55acbf9d0b",
   "metadata": {},
   "outputs": [
    {
     "name": "stdout",
     "output_type": "stream",
     "text": [
      "Loading graph ...done!\n"
     ]
    }
   ],
   "source": [
    "from rdflib import ConjunctiveGraph, Namespace\n",
    "import json\n",
    "import os\n",
    "\n",
    "\n",
    "# Constants for script error reporting as per https://github.com/edamontology/edamverify.\n",
    "NOERR = \"NOERR\"\n",
    "INFO  = \"INFO\"\n",
    "WARN  = \"WARN\"\n",
    "ERROR = \"ERROR\"\n",
    "\n",
    "#Load EDAM_dev.owl from GitHub into an RDF graph.\n",
    "print(\"Loading graph ...\", end=\"\")\n",
    "g = ConjunctiveGraph()\n",
    "g.load(os.environ.get('EDAM_PATH', '../edamontology/EDAM_dev.owl'), format='xml')\n",
    "#g.load('https://raw.githubusercontent.com/edamontology/edamontology/master/EDAM_dev.owl', format='xml')\n",
    "# g.load('EDAM_dev.owl', format='xml')\n",
    "g.bind('edam', Namespace('http://edamontology.org#'))\n",
    "print(\"done!\")\n",
    "\n"
   ]
  },
  {
   "cell_type": "code",
   "execution_count": 28,
   "id": "db5a02aa-ed1c-41dd-a7c1-47ed24229671",
   "metadata": {},
   "outputs": [],
   "source": [
    "q = \"\"\"\n",
    "PREFIX obo: <http://purl.obolibrary.org/obo/>\n",
    "PREFIX owl: <http://www.w3.org/2002/07/owl#>\n",
    "PREFIX rdfs: <http://www.w3.org/2000/01/rdf-schema#>\n",
    "PREFIX rdf: <http://www.w3.org/1999/02/22-rdf-syntax-ns#>\n",
    "PREFIX oboInOwl: <http://www.geneontology.org/formats/oboInOwl#>\n",
    "PREFIX edam:<http://edamontology.org/>\n",
    "PREFIX xsd: <http://www.w3.org/2001/XMLSchema#>\n",
    "\n",
    "SELECT DISTINCT ?entity ?property ?value WHERE {\n",
    "?entity a owl:Class .\n",
    "?entity ?property ?value .    \n",
    "    FILTER REGEX (?value, \"^(.{0})$\").\n",
    "}\n",
    "ORDER BY ?entity\n",
    "LIMIT 10\n",
    "\n",
    "\"\"\""
   ]
  },
  {
   "cell_type": "code",
   "execution_count": 29,
   "id": "de4d387b-34e1-4925-9b96-9cb8c37d2d0a",
   "metadata": {},
   "outputs": [
    {
     "name": "stdout",
     "output_type": "stream",
     "text": [
      "4 \n",
      "http://edamontology.org/operation_3903 , 'http://purl.obolibrary.org/obo/edam#edam',  \n",
      "http://edamontology.org/operation_4033 , 'http://www.geneontology.org/formats/oboInOwl#hasExactSynonym',  \n",
      "http://edamontology.org/topic_3656 , 'http://www.geneontology.org/formats/oboInOwl#hasNarrowSynonym',  \n",
      "http://edamontology.org/topic_3810 , 'http://www.geneontology.org/formats/oboInOwl#hasNarrowSynonym',  \n"
     ]
    }
   ],
   "source": [
    "results = g.query(q)\n",
    "print(f\"{len(results)} \")\n",
    "for r in results:\n",
    "    print(f\"{r['entity']} , '{r['property']}', {r['value']} \")"
   ]
  },
  {
   "cell_type": "code",
   "execution_count": null,
   "id": "b63c862e-e08a-4681-838b-672dea92d679",
   "metadata": {},
   "outputs": [],
   "source": []
  }
 ],
 "metadata": {
  "kernelspec": {
   "display_name": "Python 3 (ipykernel)",
   "language": "python",
   "name": "python3"
  },
  "language_info": {
   "codemirror_mode": {
    "name": "ipython",
    "version": 3
   },
   "file_extension": ".py",
   "mimetype": "text/x-python",
   "name": "python",
   "nbconvert_exporter": "python",
   "pygments_lexer": "ipython3",
   "version": "3.9.5"
  }
 },
 "nbformat": 4,
 "nbformat_minor": 5
}
