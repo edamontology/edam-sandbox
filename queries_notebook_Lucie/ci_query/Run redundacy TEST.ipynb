{
 "cells": [
  {
   "cell_type": "code",
   "execution_count": 3,
   "id": "abf0b4b2-9f5e-411f-8723-2b55acbf9d0b",
   "metadata": {},
   "outputs": [
    {
     "name": "stdout",
     "output_type": "stream",
     "text": [
      "Loading graph ..."
     ]
    },
    {
     "ename": "NameError",
     "evalue": "name 'ConjunctiveGraph' is not defined",
     "output_type": "error",
     "traceback": [
      "\u001b[0;31m---------------------------------------------------------------------------\u001b[0m",
      "\u001b[0;31mNameError\u001b[0m                                 Traceback (most recent call last)",
      "Input \u001b[0;32mIn [3]\u001b[0m, in \u001b[0;36m<module>\u001b[0;34m\u001b[0m\n\u001b[1;32m      7\u001b[0m \u001b[38;5;66;03m#Load EDAM_dev.owl from GitHub into an RDF graph.\u001b[39;00m\n\u001b[1;32m      8\u001b[0m \u001b[38;5;28mprint\u001b[39m(\u001b[38;5;124m\"\u001b[39m\u001b[38;5;124mLoading graph ...\u001b[39m\u001b[38;5;124m\"\u001b[39m, end\u001b[38;5;241m=\u001b[39m\u001b[38;5;124m\"\u001b[39m\u001b[38;5;124m\"\u001b[39m)\n\u001b[0;32m----> 9\u001b[0m g \u001b[38;5;241m=\u001b[39m \u001b[43mConjunctiveGraph\u001b[49m()\n\u001b[1;32m     10\u001b[0m g\u001b[38;5;241m.\u001b[39mload(os\u001b[38;5;241m.\u001b[39menviron\u001b[38;5;241m.\u001b[39mget(\u001b[38;5;124m'\u001b[39m\u001b[38;5;124mEDAM_PATH\u001b[39m\u001b[38;5;124m'\u001b[39m, \u001b[38;5;124m'\u001b[39m\u001b[38;5;124m../edamontology/EDAM_dev.owl\u001b[39m\u001b[38;5;124m'\u001b[39m), \u001b[38;5;28mformat\u001b[39m\u001b[38;5;241m=\u001b[39m\u001b[38;5;124m'\u001b[39m\u001b[38;5;124mxml\u001b[39m\u001b[38;5;124m'\u001b[39m)\n\u001b[1;32m     11\u001b[0m \u001b[38;5;66;03m#g.load('https://raw.githubusercontent.com/edamontology/edamontology/master/EDAM_dev.owl', format='xml')\u001b[39;00m\n\u001b[1;32m     12\u001b[0m \u001b[38;5;66;03m# g.load('EDAM_dev.owl', format='xml')\u001b[39;00m\n",
      "\u001b[0;31mNameError\u001b[0m: name 'ConjunctiveGraph' is not defined"
     ]
    }
   ],
   "source": [
    "# Constants for script error reporting as per https://github.com/edamontology/edamverify.\n",
    "NOERR = \"NOERR\"\n",
    "INFO  = \"INFO\"\n",
    "WARN  = \"WARN\"\n",
    "ERROR = \"ERROR\"\n",
    "\n",
    "#Load EDAM_dev.owl from GitHub into an RDF graph.\n",
    "print(\"Loading graph ...\", end=\"\")\n",
    "g = ConjunctiveGraph()\n",
    "g.load(os.environ.get('EDAM_PATH', '../edamontology/EDAM_dev.owl'), format='xml')\n",
    "#g.load('https://raw.githubusercontent.com/edamontology/edamontology/master/EDAM_dev.owl', format='xml')\n",
    "# g.load('EDAM_dev.owl', format='xml')\n",
    "g.bind('edam', Namespace('http://edamontology.org#'))\n",
    "print(\"done!\")\n",
    "\n"
   ]
  },
  {
   "cell_type": "code",
   "execution_count": 4,
   "id": "46f39582-5add-4cdd-8a1a-a420b90d0305",
   "metadata": {},
   "outputs": [],
   "source": [
    "from rdflib import ConjunctiveGraph, Namespace\n",
    "import json\n",
    "import os"
   ]
  },
  {
   "cell_type": "code",
   "execution_count": 5,
   "id": "db5a02aa-ed1c-41dd-a7c1-47ed24229671",
   "metadata": {},
   "outputs": [],
   "source": [
    "sample_triple= \"\"\"\n",
    "@prefix rdfs: <http://www.w3.org/2000/01/rdf-schema#> .\n",
    "\n",
    "<a> rdfs:subClassOf <b> , <d> .\n",
    "<c> rdfs:subClassOf <d> .\n",
    "<b> rdfs:subClassOf <c> , <e> .\n",
    "<d> rdfs:subClassOf <e> .\n",
    "\n",
    "\"\"\"\n",
    "q = \"\"\"\n",
    "PREFIX obo: <http://purl.obolibrary.org/obo/>\n",
    "PREFIX owl: <http://www.w3.org/2002/07/owl#>\n",
    "PREFIX rdfs: <http://www.w3.org/2000/01/rdf-schema#>\n",
    "PREFIX rdf: <http://www.w3.org/1999/02/22-rdf-syntax-ns#>\n",
    "PREFIX oboInOwl: <http://www.geneontology.org/formats/oboInOwl#>\n",
    "PREFIX edam:<http://edamontology.org/>\n",
    "PREFIX xsd: <http://www.w3.org/2001/XMLSchema#>\n",
    "\n",
    "SELECT DISTINCT ?entity ?direct ?undirect WHERE {\n",
    "   \n",
    "    ?entity rdfs:subClassOf ?direct .\n",
    "    OPTIONAL {?direct rdfs:subClassOf+ ?undirect.}\n",
    "    \n",
    "     #FILTER ([?entity,?direct] = [?entity,?undirect]) \n",
    "     FILTER (?direct = ?undirect)\n",
    "    \n",
    "}\n",
    "ORDER BY ?x\n",
    "\"\"\""
   ]
  },
  {
   "cell_type": "code",
   "execution_count": 6,
   "id": "ccc052d2-835e-49da-b8bd-a0cf7dfffcea",
   "metadata": {},
   "outputs": [
    {
     "name": "stdout",
     "output_type": "stream",
     "text": [
      "6\n"
     ]
    }
   ],
   "source": [
    "g2 = ConjunctiveGraph()\n",
    "g2.parse(data=sample_triple, format=\"turtle\")\n",
    "print(len(g2))\n",
    "\n"
   ]
  },
  {
   "cell_type": "code",
   "execution_count": 7,
   "id": "c2c939c6-15e8-4729-b0ec-75cfdd19f78d",
   "metadata": {},
   "outputs": [
    {
     "name": "stdout",
     "output_type": "stream",
     "text": [
      "0\n"
     ]
    }
   ],
   "source": [
    "res = g2.query(q)\n",
    "print(len(res))\n",
    "for r in res: \n",
    "    print(f\"x = {r['x']},y = {r['y']},z = {r['z']}\") "
   ]
  },
  {
   "cell_type": "code",
   "execution_count": 112,
   "id": "a5a0a91f-e8f6-47f0-b8f9-b0d8909d2d69",
   "metadata": {},
   "outputs": [
    {
     "name": "stdout",
     "output_type": "stream",
     "text": [
      "9\n",
      "file:///home/llamothe/work/ci_query/a has a redundant super class\n",
      "file:///home/llamothe/work/ci_query/b has a redundant super class\n"
     ]
    }
   ],
   "source": [
    "res = g2.query(q)\n",
    "print(len(res))\n",
    "direct_superclass = []\n",
    "undirect_superclass = []\n",
    "for r in res: \n",
    "    direct_superclass.append([r['x'],r['y']])\n",
    "    undirect_superclass.append([r['x'],r['z']])\n",
    "for d in direct_superclass :\n",
    "    if d in undirect_superclass:\n",
    "        print(f\"{d[0]} has a redundant super class\")\n",
    "    "
   ]
  },
  {
   "cell_type": "code",
   "execution_count": 116,
   "id": "e24a71ca-d5f1-4ddc-86b4-f024b260d98b",
   "metadata": {},
   "outputs": [
    {
     "name": "stdout",
     "output_type": "stream",
     "text": [
      "9\n",
      "file:///home/llamothe/work/ci_query/a has a redundant super class : file:///home/llamothe/work/ci_query/d is already superclass of file:///home/llamothe/work/ci_query/b\n",
      "file:///home/llamothe/work/ci_query/b has a redundant super class : file:///home/llamothe/work/ci_query/e is already superclass of file:///home/llamothe/work/ci_query/c\n"
     ]
    }
   ],
   "source": [
    "res = g2.query(q)\n",
    "print(len(res))\n",
    "triplet = []\n",
    "for r in res: \n",
    "    triplet.append([r['x'],r['y'],r['z']])\n",
    "\n",
    "for t in triplet :\n",
    "    for t2 in triplet:\n",
    "        if [t[0],t[1]] == [t2[0],t2[2]]:\n",
    "            print(f\"{t[0]} has a redundant super class : {t[1]} is already superclass of {t2[1]}\")\n",
    "    "
   ]
  },
  {
   "cell_type": "code",
   "execution_count": null,
   "id": "ef1a5d61-ed1e-48bc-b1cf-e42d12b7ea86",
   "metadata": {},
   "outputs": [],
   "source": []
  }
 ],
 "metadata": {
  "kernelspec": {
   "display_name": "Python 3 (ipykernel)",
   "language": "python",
   "name": "python3"
  },
  "language_info": {
   "codemirror_mode": {
    "name": "ipython",
    "version": 3
   },
   "file_extension": ".py",
   "mimetype": "text/x-python",
   "name": "python",
   "nbconvert_exporter": "python",
   "pygments_lexer": "ipython3",
   "version": "3.9.5"
  }
 },
 "nbformat": 4,
 "nbformat_minor": 5
}
