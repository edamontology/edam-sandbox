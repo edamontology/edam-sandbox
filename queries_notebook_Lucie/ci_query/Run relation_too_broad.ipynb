{
 "cells": [
  {
   "cell_type": "code",
   "execution_count": 5,
   "id": "abf0b4b2-9f5e-411f-8723-2b55acbf9d0b",
   "metadata": {},
   "outputs": [
    {
     "name": "stdout",
     "output_type": "stream",
     "text": [
      "Loading graph ...done!\n"
     ]
    }
   ],
   "source": [
    "from rdflib import ConjunctiveGraph, Namespace\n",
    "import json\n",
    "import os\n",
    "\n",
    "\n",
    "# Constants for script error reporting as per https://github.com/edamontology/edamverify.\n",
    "NOERR = \"NOERR\"\n",
    "INFO  = \"INFO\"\n",
    "WARN  = \"WARN\"\n",
    "ERROR = \"ERROR\"\n",
    "\n",
    "#Load EDAM_dev.owl from GitHub into an RDF graph.\n",
    "print(\"Loading graph ...\", end=\"\")\n",
    "g = ConjunctiveGraph()\n",
    "g.load(os.environ.get('EDAM_PATH', '../edamontology/EDAM_dev.owl'), format='xml')\n",
    "#g.load('https://raw.githubusercontent.com/edamontology/edamontology/master/EDAM_dev.owl', format='xml')\n",
    "# g.load('EDAM_dev.owl', format='xml')\n",
    "g.bind('edam', Namespace('http://edamontology.org#'))\n",
    "print(\"done!\")\n",
    "\n"
   ]
  },
  {
   "cell_type": "code",
   "execution_count": 8,
   "id": "686af032-1f5c-4dd6-95e3-23796fe0415a",
   "metadata": {
    "tags": []
   },
   "outputs": [
    {
     "name": "stdout",
     "output_type": "stream",
     "text": [
      "14 \n",
      "http://edamontology.org/format_3977 , 'ObjTables', http://edamontology.org/data_0006 \n",
      "http://edamontology.org/format_3981 , 'TAR format', http://edamontology.org/data_0006 \n",
      "http://edamontology.org/format_3987 , 'ZIP format', http://edamontology.org/data_0006 \n",
      "http://edamontology.org/format_3989 , 'GZIP format', http://edamontology.org/data_0006 \n",
      "http://edamontology.org/format_4002 , 'pickle', http://edamontology.org/data_0006 \n",
      "http://edamontology.org/format_4003 , 'NumPy format', http://edamontology.org/data_0006 \n",
      "http://edamontology.org/format_4004 , 'SimTools repertoire file format', http://edamontology.org/data_0006 \n",
      "http://edamontology.org/format_4005 , 'Configuration file format', http://edamontology.org/data_0006 \n",
      "http://edamontology.org/format_4006 , 'Zstandard format', http://edamontology.org/data_0006 \n",
      "http://edamontology.org/operation_0224 , 'Query and retrieval', http://edamontology.org/data_0006 \n",
      "http://edamontology.org/operation_1812 , 'Parsing', http://edamontology.org/data_0842 \n",
      "http://edamontology.org/operation_2422 , 'Data retrieval', http://edamontology.org/data_0842 \n",
      "http://edamontology.org/operation_3357 , 'Format detection', http://edamontology.org/data_0006 \n",
      "http://edamontology.org/operation_3357 , 'Format detection', http://edamontology.org/data_3358 \n"
     ]
    }
   ],
   "source": [
    "query = \"relation_too_broad.rq\"\n",
    "uri = []\n",
    "with open(query,'r') as f:\n",
    "    \n",
    "    query_term = f.read()\n",
    "    results = g.query(query_term)\n",
    "    print(f\"{len(results)} \")\n",
    "    for r in results:\n",
    "        print(f\"{r['entity']} , '{r['label']}', {r['value']} \")\n",
    "\n",
    "f.close()"
   ]
  },
  {
   "cell_type": "markdown",
   "id": "b71dc639-bad5-43f4-9a21-73901bd619f8",
   "metadata": {},
   "source": [
    "http://edamontology.org/format_3977 , 'ObjTables', http://edamontology.org/data_0006 delete done\n",
    "http://edamontology.org/format_3981 , 'TAR format', http://edamontology.org/data_0006 delete done\n",
    "http://edamontology.org/format_3987 , 'ZIP format', http://edamontology.org/data_0006 delete done \n",
    "http://edamontology.org/format_3989 , 'GZIP format', http://edamontology.org/data_0006 delete done \n",
    "http://edamontology.org/format_4002 , 'pickle', http://edamontology.org/data_0006  delete done \n",
    "http://edamontology.org/format_4003 , 'NumPy format', http://edamontology.org/data_0006 delete done \n",
    "http://edamontology.org/format_4004 , 'SimTools repertoire file format', http://edamontology.org/data_0006 delete done\n",
    "http://edamontology.org/format_4005 , 'Configuration file format', http://edamontology.org/data_0006 delete done\n",
    "http://edamontology.org/format_4006 , 'Zstandard format', http://edamontology.org/data_0006 delete done\n",
    "http://edamontology.org/operation_0224 , 'Query and retrieval', http://edamontology.org/data_0006 delete done\n",
    "http://edamontology.org/operation_1812 , 'Parsing', http://edamontology.org/data_0842 delete done\n",
    "http://edamontology.org/operation_2422 , 'Data retrieval', http://edamontology.org/data_0842 exeption\n",
    "http://edamontology.org/operation_3357 , 'Format detection', http://edamontology.org/data_0006 delete done \n",
    "http://edamontology.org/operation_3357 , 'Format detection', http://edamontology.org/data_3358 exeption"
   ]
  },
  {
   "cell_type": "code",
   "execution_count": null,
   "id": "233c2822-02b8-4582-99ab-667965996080",
   "metadata": {},
   "outputs": [],
   "source": []
  }
 ],
 "metadata": {
  "kernelspec": {
   "display_name": "Python 3 (ipykernel)",
   "language": "python",
   "name": "python3"
  },
  "language_info": {
   "codemirror_mode": {
    "name": "ipython",
    "version": 3
   },
   "file_extension": ".py",
   "mimetype": "text/x-python",
   "name": "python",
   "nbconvert_exporter": "python",
   "pygments_lexer": "ipython3",
   "version": "3.9.5"
  }
 },
 "nbformat": 4,
 "nbformat_minor": 5
}
