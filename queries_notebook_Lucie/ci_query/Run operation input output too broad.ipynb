{
 "cells": [
  {
   "cell_type": "code",
   "execution_count": 11,
   "id": "abf0b4b2-9f5e-411f-8723-2b55acbf9d0b",
   "metadata": {},
   "outputs": [
    {
     "name": "stdout",
     "output_type": "stream",
     "text": [
      "Loading graph ...done!\n"
     ]
    }
   ],
   "source": [
    "from rdflib import ConjunctiveGraph, Namespace\n",
    "import json\n",
    "import os\n",
    "\n",
    "\n",
    "# Constants for script error reporting as per https://github.com/edamontology/edamverify.\n",
    "NOERR = \"NOERR\"\n",
    "INFO  = \"INFO\"\n",
    "WARN  = \"WARN\"\n",
    "ERROR = \"ERROR\"\n",
    "\n",
    "#Load EDAM_dev.owl from GitHub into an RDF graph.\n",
    "print(\"Loading graph ...\", end=\"\")\n",
    "g = ConjunctiveGraph()\n",
    "g.load(os.environ.get('EDAM_PATH', '../edamontology/EDAM_dev.owl'), format='xml')\n",
    "#g.load('https://raw.githubusercontent.com/edamontology/edamontology/master/EDAM_dev.owl', format='xml')\n",
    "# g.load('EDAM_dev.owl', format='xml')\n",
    "g.bind('edam', Namespace('http://edamontology.org#'))\n",
    "print(\"done!\")\n",
    "\n"
   ]
  },
  {
   "cell_type": "code",
   "execution_count": 12,
   "id": "ccc052d2-835e-49da-b8bd-a0cf7dfffcea",
   "metadata": {},
   "outputs": [
    {
     "name": "stdout",
     "output_type": "stream",
     "text": [
      "http://edamontology.org/operation_0224 , 'Query and retrieval', has a too broad http://edamontology.org/has_output value, change from data_0006\n",
      "http://edamontology.org/operation_3357 , 'Format detection', has a too broad http://edamontology.org/has_input value, change from data_0006\n"
     ]
    }
   ],
   "source": [
    "    query = \"operation_input_output_too_broad.rq\"\n",
    "    with open(query,'r') as f:\n",
    "        query_term = f.read()\n",
    "  \n",
    "        errfound = False\n",
    "        report = list()\n",
    "        results = g.query(query_term)\n",
    "        for r in results:\n",
    "            print(f\"{r['id']} , '{r['term']}', has a too broad {r['property']} value, change from data_0006\")\n",
    "    f.close()"
   ]
  },
  {
   "cell_type": "code",
   "execution_count": null,
   "id": "acacd029-ab1c-4f78-a443-5d4b103e73a9",
   "metadata": {},
   "outputs": [],
   "source": []
  }
 ],
 "metadata": {
  "kernelspec": {
   "display_name": "Python 3 (ipykernel)",
   "language": "python",
   "name": "python3"
  },
  "language_info": {
   "codemirror_mode": {
    "name": "ipython",
    "version": 3
   },
   "file_extension": ".py",
   "mimetype": "text/x-python",
   "name": "python",
   "nbconvert_exporter": "python",
   "pygments_lexer": "ipython3",
   "version": "3.9.5"
  }
 },
 "nbformat": 4,
 "nbformat_minor": 5
}
