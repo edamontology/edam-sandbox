{
 "cells": [
  {
   "cell_type": "code",
   "execution_count": 1,
   "id": "abf0b4b2-9f5e-411f-8723-2b55acbf9d0b",
   "metadata": {},
   "outputs": [
    {
     "name": "stdout",
     "output_type": "stream",
     "text": [
      "Loading graph ...done!\n"
     ]
    }
   ],
   "source": [
    "from rdflib import ConjunctiveGraph, Namespace\n",
    "import json\n",
    "import os\n",
    "\n",
    "\n",
    "# Constants for script error reporting as per https://github.com/edamontology/edamverify.\n",
    "NOERR = \"NOERR\"\n",
    "INFO  = \"INFO\"\n",
    "WARN  = \"WARN\"\n",
    "ERROR = \"ERROR\"\n",
    "\n",
    "#Load EDAM_dev.owl from GitHub into an RDF graph.\n",
    "print(\"Loading graph ...\", end=\"\")\n",
    "g = ConjunctiveGraph()\n",
    "g.load(os.environ.get('EDAM_PATH', '../edamontology/EDAM_dev.owl'), format='xml')\n",
    "#g.load('https://raw.githubusercontent.com/edamontology/edamontology/master/EDAM_dev.owl', format='xml')\n",
    "# g.load('EDAM_dev.owl', format='xml')\n",
    "g.bind('edam', Namespace('http://edamontology.org#'))\n",
    "print(\"done!\")\n",
    "\n"
   ]
  },
  {
   "cell_type": "code",
   "execution_count": 5,
   "id": "ccc052d2-835e-49da-b8bd-a0cf7dfffcea",
   "metadata": {},
   "outputs": [
    {
     "name": "stdout",
     "output_type": "stream",
     "text": [
      "1 \n",
      "http://edamontology.org/OUPS_4027 , 'Ribosome Profiling', has a bad URI\n"
     ]
    }
   ],
   "source": [
    "    query = \"bad_uri.rq\"\n",
    "    with open(query,'r') as f:\n",
    "        query_term = f.read()\n",
    "  \n",
    "        errfound = False\n",
    "        report = list()\n",
    "        results = g.query(query_term)\n",
    "        print(f\"{len(results)} \")\n",
    "        for r in results:\n",
    "            #print(f\"{r['entity']} , '{r['label']}'\")\n",
    "            print(f\"{r['entity']} , '{r['label']}', has a bad URI\")\n",
    "            #print(f\"{r['entity']} \")\n",
    "\n",
    "    f.close()"
   ]
  },
  {
   "cell_type": "code",
   "execution_count": 7,
   "id": "686af032-1f5c-4dd6-95e3-23796fe0415a",
   "metadata": {},
   "outputs": [
    {
     "name": "stdout",
     "output_type": "stream",
     "text": [
      "http://edamontology.org/data_2353 \n",
      "Ndd753aa10747415eb8984db8c116018c \n",
      "http://edamontology.org/data_0006 \n",
      "Nfd2a187c02e14bcd92e6d7afdfd36e4d \n",
      "http://edamontology.org/data_2050 \n",
      "http://edamontology.org/data_2050 \n",
      "http://edamontology.org/data_2050 \n",
      "http://edamontology.org/data_2050 \n",
      "http://edamontology.org/data_2044 \n",
      "http://edamontology.org/data_0006 \n",
      "http://edamontology.org/data_2914 \n",
      "http://edamontology.org/data_2080 \n",
      "http://edamontology.org/data_0860 \n",
      "http://edamontology.org/data_1916 \n",
      "http://edamontology.org/data_0006 \n",
      "Nfc1c7bff1e9f4c67a890598bc340fbbb \n",
      "http://edamontology.org/data_0867 \n",
      "http://edamontology.org/data_1916 \n",
      "Nfd16ec8bbe0f4df8919cdab6c0bf0a67 \n",
      "http://edamontology.org/data_1772 \n",
      "http://edamontology.org/data_2048 \n",
      "http://edamontology.org/data_2855 \n",
      "http://edamontology.org/data_2523 \n",
      "http://edamontology.org/data_2523 \n",
      "N4ba6af2117ee410892d8029002571fb3 \n",
      "http://edamontology.org/data_2082 \n",
      "http://edamontology.org/data_2366 \n"
     ]
    }
   ],
   "source": [
    "for r in results:\n",
    "            #print(f\"{r['entity']} , '{r['label']}'\")\n",
    "            #print(f\"{r['entity']} , '{r['label']}', has a bad {r['property']} URI reference {r['value']}\")\n",
    "            if str(r['value']) != \"http://www.w3.org/2002/07/owl#DeprecatedClass\" :\n",
    "                print(f\"{r['value']} \")\n",
    "            #print(str(r['value'] ))"
   ]
  },
  {
   "cell_type": "code",
   "execution_count": null,
   "id": "acacd029-ab1c-4f78-a443-5d4b103e73a9",
   "metadata": {},
   "outputs": [],
   "source": []
  }
 ],
 "metadata": {
  "kernelspec": {
   "display_name": "Python 3 (ipykernel)",
   "language": "python",
   "name": "python3"
  },
  "language_info": {
   "codemirror_mode": {
    "name": "ipython",
    "version": 3
   },
   "file_extension": ".py",
   "mimetype": "text/x-python",
   "name": "python",
   "nbconvert_exporter": "python",
   "pygments_lexer": "ipython3",
   "version": "3.9.5"
  }
 },
 "nbformat": 4,
 "nbformat_minor": 5
}
