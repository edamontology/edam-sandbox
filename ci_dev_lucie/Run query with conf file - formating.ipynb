{
 "cells": [
  {
   "cell_type": "code",
   "execution_count": 1,
   "id": "abf0b4b2-9f5e-411f-8723-2b55acbf9d0b",
   "metadata": {},
   "outputs": [
    {
     "name": "stdout",
     "output_type": "stream",
     "text": [
      "Loading graph ...done!\n"
     ]
    }
   ],
   "source": [
    "from rdflib import ConjunctiveGraph, Namespace\n",
    "import json\n",
    "import os\n",
    "\n",
    "\n",
    "# Constants for script error reporting as per https://github.com/edamontology/edamverify.\n",
    "NOERR = \"NOERR\"\n",
    "INFO  = \"INFO\"\n",
    "WARN  = \"WARN\"\n",
    "ERROR = \"ERROR\"\n",
    "\n",
    "#Load EDAM_dev.owl from GitHub into an RDF graph.\n",
    "print(\"Loading graph ...\", end=\"\")\n",
    "g = ConjunctiveGraph()\n",
    "g.load(os.environ.get('EDAM_PATH', '../edamontology/EDAM_dev.owl'), format='xml')\n",
    "#g.load('https://raw.githubusercontent.com/edamontology/edamontology/master/EDAM_dev.owl', format='xml')\n",
    "# g.load('EDAM_dev.owl', format='xml')\n",
    "g.bind('edam', Namespace('http://edamontology.org#'))\n",
    "print(\"done!\")\n",
    "\n"
   ]
  },
  {
   "cell_type": "code",
   "execution_count": 2,
   "id": "cdb3b195-dad8-4bb1-bf4d-1c5781e809c9",
   "metadata": {},
   "outputs": [
    {
     "name": "stdout",
     "output_type": "stream",
     "text": [
      "end_space_annotation.rq,There is a space at the end of the annotation\n",
      "eol_in_annotation.rq,There is an end of line in the annotation\n",
      "start_space_annotation.rq,There is a space at the start of the annotation\n",
      "tab_in_annotation.rq,There is a tabulation in the annotation\n",
      "super_class_refers_to_self.rq,Refers to it self as super class\n",
      "concept_id_inferior_to_next_id.rq,The concept URI (numerical id) is equal superior to the next_id info--> update one or the other\n"
     ]
    }
   ],
   "source": [
    "with open('queries.conf','r') as f:\n",
    "    lines = f.read().splitlines()\n",
    "\n",
    "for l in lines :\n",
    "    print (l)\n",
    "\n",
    "f.close()"
   ]
  },
  {
   "cell_type": "code",
   "execution_count": 3,
   "id": "ccc052d2-835e-49da-b8bd-a0cf7dfffcea",
   "metadata": {},
   "outputs": [
    {
     "name": "stdout",
     "output_type": "stream",
     "text": [
      "http://edamontology.org/topic_3974 --- There is a space at the end of the annotation http://www.w3.org/2000/01/rdf-schema#label: ' Epistasis '\n",
      "http://edamontology.org/topic_4010 --- There is a space at the end of the annotation http://www.w3.org/2000/01/rdf-schema#label: 'Open science\t'\n",
      "http://edamontology.org/topic_4011 --- There is a space at the end of the annotation http://www.w3.org/2000/01/rdf-schema#label: 'Data rescue\n",
      "'\n",
      "http://edamontology.org/topic_4012 --- There is a space at the end of the annotation http://www.w3.org/2000/01/rdf-schema#label: 'FAIR data\t'\n",
      "http://edamontology.org/topic_4013 --- There is a space at the end of the annotation http://www.w3.org/2000/01/rdf-schema#label: 'Antimicrobial Resistance\n",
      "'\n",
      "http://edamontology.org/topic_4021 --- There is a space at the end of the annotation http://www.w3.org/2000/01/rdf-schema#label: 'Carbon cycle '\n",
      "http://edamontology.org/format_3687 --- There is an end of line in the annotation http://www.geneontology.org/formats/oboInOwl#hasDefinition: 'The Investigation / Study / Assay (ISA) tab-delimited (TAB) format incorporates metadata from\n",
      "experiments employing a combination of technologies.'\n",
      "http://edamontology.org/operation_0338 --- There is an end of line in the annotation http://www.geneontology.org/formats/oboInOwl#hasDefinition: 'Search a sequence database by sequence comparison and retrieve similar sequences.\n",
      "sequences matching a given sequence motif or pattern, such as a Prosite pattern or regular expression.'\n",
      "http://edamontology.org/operation_3192 --- There is an end of line in the annotation http://www.w3.org/2000/01/rdf-schema#comment: 'This includes\n",
      "\n",
      "ennd trimming\n",
      "Trim sequences (typically from an automated DNA sequencer) to remove misleading ends.\n",
      "For example trim polyA tails, introns and primer sequence flanking the sequence of amplified exons, or other unwanted sequence.\n",
      "\n",
      "trimming to a reference sequence,\n",
      "Trim sequences (typically from an automated DNA sequencer) to remove the sequence ends that extend beyond an assembled reference sequence.\n",
      "\n",
      "vector trimming\n",
      "Trim sequences (typically from an automated DNA sequencer) to remove sequence-specific end regions, typically contamination from vector sequences.'\n",
      "http://edamontology.org/operation_3923 --- There is an end of line in the annotation http://www.geneontology.org/formats/oboInOwl#hasDefinition: 'Laboratory experiment to identify the differences between a specific genome (of an individual) and a reference genome (developed typically from many thousands of individuals).\n",
      "\n",
      "WGS re-sequencing is used as golden standard to detect variations compared to a given reference genome, including small variants (SNP and InDels) as well as larger genome re-organisations (CNVs, translocations, etc.).\n",
      "\n",
      "ows re-sequencing of complete genomes of any given organism with high resolution and high accuracy.'\n",
      "http://edamontology.org/topic_4011 --- There is an end of line in the annotation http://www.w3.org/2000/01/rdf-schema#label: 'Data rescue\n",
      "'\n",
      "http://edamontology.org/topic_4013 --- There is an end of line in the annotation http://www.w3.org/2000/01/rdf-schema#label: 'Antimicrobial Resistance\n",
      "'\n",
      "http://edamontology.org/data_0006 --- There is a space at the start of the annotation http://edamontology.org/notRecommendedForAnnotation: ' rdf:datatype=\"http://www.w3.org/2001/XMLSchema#boolean\">true'\n",
      "http://edamontology.org/data_0844 --- There is a space at the start of the annotation http://www.geneontology.org/formats/oboInOwl#hasDefinition: ' Mass of a molecule.'\n",
      "http://edamontology.org/data_0844 --- There is a space at the start of the annotation http://www.w3.org/2000/01/rdf-schema#label: ' Molecular mass'\n",
      "http://edamontology.org/data_0844 --- There is a space at the start of the annotation http://edamontology.org/created_in: ' beta12orEarlier'\n",
      "http://edamontology.org/topic_3974 --- There is a space at the start of the annotation http://www.w3.org/2000/01/rdf-schema#label: ' Epistasis '\n",
      "http://edamontology.org/topic_4010 --- There is a tabulation in the annotation http://www.w3.org/2000/01/rdf-schema#label: 'Open science\t'\n",
      "http://edamontology.org/topic_4012 --- There is a tabulation in the annotation http://www.w3.org/2000/01/rdf-schema#label: 'FAIR data\t'\n",
      "http://edamontology.org/topic_4024 --- Refers to it self as super class http://www.w3.org/2000/01/rdf-schema#subClassOf: 'http://edamontology.org/topic_4024'\n",
      "http://edamontology.org/topic_4024 --- The concept URI (numerical id) is equal superior to the next_id info--> update one or the other http://edamontology.org/next_id: '4023'\n"
     ]
    }
   ],
   "source": [
    "for l in lines:\n",
    "    message = l.rsplit(\",\")[1]\n",
    "    query = l.rsplit(\",\")[0]\n",
    "    with open(query,'r') as f:\n",
    "        query_term = f.read()\n",
    "        #print(query_terms)\n",
    "        # Run SPARQL query and collate results\n",
    "        errfound = False\n",
    "        report = list()\n",
    "        results = g.query(query_term)\n",
    "        for r in results:\n",
    "            print(f\"{r['entity']} --- {message} {r['property']}: '{r['value']}'\")"
   ]
  },
  {
   "cell_type": "code",
   "execution_count": 19,
   "id": "e59fa92e-2fcb-4939-a41c-445a01dacf50",
   "metadata": {},
   "outputs": [
    {
     "name": "stdout",
     "output_type": "stream",
     "text": [
      "http://edamontology.org/topic_4010 --- 'Open science\t'\n",
      "http://edamontology.org/topic_4012 --- 'FAIR data\t'\n"
     ]
    }
   ],
   "source": [
    "for r in results:\n",
    "    print(f\"{r['entity']} --- '{r['value']}'\")"
   ]
  },
  {
   "cell_type": "code",
   "execution_count": null,
   "id": "acacd029-ab1c-4f78-a443-5d4b103e73a9",
   "metadata": {},
   "outputs": [],
   "source": []
  }
 ],
 "metadata": {
  "kernelspec": {
   "display_name": "Python 3 (ipykernel)",
   "language": "python",
   "name": "python3"
  },
  "language_info": {
   "codemirror_mode": {
    "name": "ipython",
    "version": 3
   },
   "file_extension": ".py",
   "mimetype": "text/x-python",
   "name": "python",
   "nbconvert_exporter": "python",
   "pygments_lexer": "ipython3",
   "version": "3.9.7"
  }
 },
 "nbformat": 4,
 "nbformat_minor": 5
}
