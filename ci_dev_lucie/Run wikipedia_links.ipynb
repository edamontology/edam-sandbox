{
 "cells": [
  {
   "cell_type": "code",
   "execution_count": 1,
   "id": "abf0b4b2-9f5e-411f-8723-2b55acbf9d0b",
   "metadata": {},
   "outputs": [
    {
     "name": "stdout",
     "output_type": "stream",
     "text": [
      "Loading graph ...done!\n"
     ]
    }
   ],
   "source": [
    "from rdflib import ConjunctiveGraph, Namespace\n",
    "import json\n",
    "import os\n",
    "\n",
    "\n",
    "# Constants for script error reporting as per https://github.com/edamontology/edamverify.\n",
    "NOERR = \"NOERR\"\n",
    "INFO  = \"INFO\"\n",
    "WARN  = \"WARN\"\n",
    "ERROR = \"ERROR\"\n",
    "\n",
    "#Load EDAM_dev.owl from GitHub into an RDF graph.\n",
    "print(\"Loading graph ...\", end=\"\")\n",
    "g = ConjunctiveGraph()\n",
    "g.load(os.environ.get('EDAM_PATH', '../edamontology/EDAM_dev.owl'), format='xml')\n",
    "#g.load('https://raw.githubusercontent.com/edamontology/edamontology/master/EDAM_dev.owl', format='xml')\n",
    "# g.load('EDAM_dev.owl', format='xml')\n",
    "g.bind('edam', Namespace('http://edamontology.org#'))\n",
    "print(\"done!\")\n",
    "\n"
   ]
  },
  {
   "cell_type": "code",
   "execution_count": 2,
   "id": "ccc052d2-835e-49da-b8bd-a0cf7dfffcea",
   "metadata": {},
   "outputs": [
    {
     "name": "stdout",
     "output_type": "stream",
     "text": [
      "14 EDAM classes with missing wikipedia link\n",
      "WARNING Missing wikipedia link for class http://edamontology.org/topic_3068 (Literature and language)\n",
      "WARNING Missing wikipedia link for class http://edamontology.org/topic_0219 (Data submission, annotation, and curation)\n",
      "WARNING Missing wikipedia link for class http://edamontology.org/topic_3345 (Data identity and mapping)\n",
      "WARNING Missing wikipedia link for class http://edamontology.org/operation_3923 (Genome resequencing)\n",
      "WARNING Missing wikipedia link for class http://edamontology.org/topic_3524 (Simulation experiment)\n",
      "WARNING Missing wikipedia link for class http://edamontology.org/topic_3511 (Nucleic acid sites, features and motifs)\n",
      "WARNING Missing wikipedia link for class http://edamontology.org/topic_0123 (Protein properties)\n",
      "WARNING Missing wikipedia link for class http://edamontology.org/topic_3510 (Protein sites, features and motifs)\n",
      "WARNING Missing wikipedia link for class http://edamontology.org/topic_0157 (Sequence composition, complexity and repeats)\n",
      "WARNING Missing wikipedia link for class http://edamontology.org/topic_0632 (Probes and primers)\n",
      "WARNING Missing wikipedia link for class http://edamontology.org/topic_0160 (Sequence sites, features and motifs)\n",
      "WARNING Missing wikipedia link for class http://edamontology.org/topic_3892 (Biomolecular simulation)\n",
      "WARNING Missing wikipedia link for class http://edamontology.org/topic_3374 (Biotherapeutics)\n",
      "WARNING Missing wikipedia link for class http://edamontology.org/topic_3393 (Quality affairs)\n"
     ]
    }
   ],
   "source": [
    "    query = \"check_wikipedia_link.rq\"\n",
    "    with open(query,'r') as f:\n",
    "        query_term = f.read()\n",
    "  \n",
    "        errfound = False\n",
    "        report = list()\n",
    "        results = g.query(query_term)\n",
    "        print(f\"{len(results)} EDAM classes with missing wikipedia link\")\n",
    "\n",
    "        for r in results :\n",
    "            print(f\"WARNING Missing wikipedia link for class {r['id']} ({r['term']})\")\n",
    "    f.close()"
   ]
  },
  {
   "cell_type": "code",
   "execution_count": null,
   "id": "acacd029-ab1c-4f78-a443-5d4b103e73a9",
   "metadata": {},
   "outputs": [],
   "source": []
  }
 ],
 "metadata": {
  "kernelspec": {
   "display_name": "Python 3 (ipykernel)",
   "language": "python",
   "name": "python3"
  },
  "language_info": {
   "codemirror_mode": {
    "name": "ipython",
    "version": 3
   },
   "file_extension": ".py",
   "mimetype": "text/x-python",
   "name": "python",
   "nbconvert_exporter": "python",
   "pygments_lexer": "ipython3",
   "version": "3.9.7"
  }
 },
 "nbformat": 4,
 "nbformat_minor": 5
}
