{
 "cells": [
  {
   "cell_type": "markdown",
   "source": [
    "Set constants for script return values. Load EDAM_dev.owl from GitHub into an RDF graph."
   ],
   "metadata": {
    "collapsed": false
   }
  },
  {
   "cell_type": "code",
   "execution_count": 151,
   "outputs": [
    {
     "name": "stdout",
     "text": [
      "Loading graph ...done!\n"
     ],
     "output_type": "stream"
    }
   ],
   "source": [
    "import io\n",
    "import sys\n",
    "from rdflib import ConjunctiveGraph, Namespace\n",
    "\n",
    "# Constants for script return value as per https://github.com/edamontology/edamverify.\n",
    "NOERR = 0\n",
    "INFO  = 1\n",
    "WARN  = 2\n",
    "ERROR = 3\n",
    "\n",
    "#Load EDAM_dev.owl from GitHub into an RDF graph.\n",
    "print(\"Loading graph ...\", end=\"\")\n",
    "g = ConjunctiveGraph()\n",
    "# g.load('https://raw.githubusercontent.com/edamontology/edamontology/master/EDAM_dev.owl', format='xml')\n",
    "g.load('EDAM_dev.owl')\n",
    "g.bind('edam', Namespace('http://edamontology.org#'))\n",
    "print(\"done!\")\n"
   ],
   "metadata": {
    "collapsed": false,
    "pycharm": {
     "name": "#%%\n",
     "is_executing": false
    }
   }
  },
  {
   "cell_type": "markdown",
   "source": [
    "Define SPARQL query to extract ID and term of all concepts in the \"edam\" subset. Run the query, write report and return approriate value.\n",
    "\n",
    "IMPORTANT\n",
    "1. The numerical component of a concept ID is taken to be everything after the first occurrence of underscore ('_') character.\n",
    "2. Concepts which are not defined to be in the \"edam\" subset are ignored (not checked). "
   ],
   "metadata": {
    "collapsed": false
   }
  },
  {
   "cell_type": "code",
   "execution_count": 152,
   "outputs": [
    {
     "name": "stdout",
     "text": [
      "No issues found.\n"
     ],
     "output_type": "stream"
    },
    {
     "ename": "SystemExit",
     "evalue": "0",
     "traceback": [
      "An exception has occurred, use %tb to see the full traceback.\n",
      "\u001b[0;31mSystemExit\u001b[0m\u001b[0;31m:\u001b[0m 0\n"
     ],
     "output_type": "error"
    },
    {
     "name": "stderr",
     "text": [
      "/usr/local/lib/python3.5/dist-packages/IPython/core/interactiveshell.py:3334: UserWarning: To exit: use 'exit', 'quit', or Ctrl-D.\n",
      "  warn(\"To exit: use 'exit', 'quit', or Ctrl-D.\", stacklevel=1)\n"
     ],
     "output_type": "stream"
    }
   ],
   "source": [
    "# Compile SPARQL query\n",
    "# ?id oboInOwl:inSubset \"http://purl.obolibrary.org/obo/edam#topics\" .\n",
    "# FILTER(?subset = \"http://purl.obolibrary.org/obo/edam#topics\") .\n",
    "\n",
    "\n",
    "query_term = \"\"\"\n",
    "SELECT ?id ?term ?subset WHERE\n",
    "{\n",
    "?id rdfs:label ?term .\n",
    "?id oboInOwl:inSubset ?subset . \n",
    "FILTER(?subset = \"http://purl.obolibrary.org/obo/edam#edam\")\n",
    "}\n",
    "\"\"\"\n",
    "\n",
    "# Declare hash tables for results\n",
    "numerical_ids = {}\n",
    "ids = {}\n",
    "terms = {}\n",
    "\n",
    "# Run SPARQL query and collate results\n",
    "errfound = False    \n",
    "report = list()\n",
    "results = g.query(query_term)\n",
    "for r in results :\n",
    "    print(str(r['id']), str(r['term']), str(r['subset']))\n",
    "    id   = str(r['id'])\n",
    "    term = str(r['term']) \n",
    "    \n",
    "    # Populate hash tables\n",
    "    pos = id.rfind(\"_\")    \n",
    "    numerical_id = id[pos+1:]\n",
    "    \n",
    "    # Check for duplicate numerical ID\n",
    "    if numerical_id in numerical_ids:\n",
    "        errfound = True\n",
    "        report.append(id +  ' (' + term + ')' + \" :: \" +\n",
    "                      ids[numerical_id] + ' (' + terms[numerical_id] + ')')\n",
    "        print(\"Duplicate found!\")\n",
    "    else:\n",
    "        numerical_ids[numerical_id] = True\n",
    "        ids[numerical_id] = id\n",
    "        terms[numerical_id] = term\n",
    "    \n",
    "    \n",
    "    \n",
    "#    if (ext.lower() != exact_syn.lower()) and (ext.lower() != term.lower()): \n",
    "#        errfound = True\n",
    "#        report.append(id +  ' (' + term + '): ' + ext)\n",
    "\n",
    "\n",
    "# Return exit code (raises exception) \n",
    "if errfound == True:\n",
    "    print(\"Duplication of the numerical component of the concept ID for these concepts:\")\n",
    "    print(\"\\n\".join(report))\n",
    "    sys.exit(WARN)\n",
    "else:\n",
    "    print(\"No issues found.\")\n",
    "    sys.exit(NOERR)\n"
   ],
   "metadata": {
    "collapsed": false,
    "pycharm": {
     "name": "#%%\n",
     "is_executing": false
    }
   }
  }
 ],
 "metadata": {
  "kernelspec": {
   "display_name": "Python 3",
   "language": "python",
   "name": "python3"
  },
  "language_info": {
   "codemirror_mode": {
    "name": "ipython",
    "version": 2
   },
   "file_extension": ".py",
   "mimetype": "text/x-python",
   "name": "python",
   "nbconvert_exporter": "python",
   "pygments_lexer": "ipython2",
   "version": "2.7.6"
  },
  "pycharm": {
   "stem_cell": {
    "cell_type": "raw",
    "source": [],
    "metadata": {
     "collapsed": false
    }
   }
  }
 },
 "nbformat": 4,
 "nbformat_minor": 0
}