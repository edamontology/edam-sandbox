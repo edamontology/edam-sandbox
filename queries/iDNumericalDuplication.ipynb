{
 "cells": [
  {
   "cell_type": "markdown",
   "source": [
    "**idNumericalDuplication.ipynb**\n",
    "\n",
    "Duplicate use of numerical component of EDAM concept ID.\n",
    "\n",
    "**Documentation:** https://github.com/edamontology/edamverify/blob/master/docs/iDNumericalDuplication.md\n",
    "\n",
    "Note: The script may report errors where, in fact, the numerical ID component is *not* duplicated. For example where subsets have been used erroneously. For this reason, subsets are included in the diagnostic output."
   ],
   "metadata": {
    "collapsed": false
   }
  },
  {
   "cell_type": "markdown",
   "source": [
    "Set constants for script return values. Load EDAM_dev.owl from GitHub into an RDF graph."
   ],
   "metadata": {
    "collapsed": false
   }
  },
  {
   "cell_type": "code",
   "execution_count": 5,
   "outputs": [
    {
     "name": "stdout",
     "output_type": "stream",
     "text": [
      "Loading graph ...done!\n"
     ]
    }
   ],
   "source": [
    "import sys\n",
    "from rdflib import ConjunctiveGraph, Namespace\n",
    "\n",
    "# Constants for script error reporting as per https://github.com/edamontology/edamverify.\n",
    "NOERR = \"NOERR\"\n",
    "INFO  = \"INFO\"\n",
    "WARN  = \"WARN\"\n",
    "ERROR = \"ERROR\"\n",
    "\n",
    "\n",
    "\n",
    "#Load EDAM_dev.owl from GitHub into an RDF graph.\n",
    "print(\"Loading graph ...\", end=\"\")\n",
    "g = ConjunctiveGraph()\n",
    "g.load('https://raw.githubusercontent.com/edamontology/edamontology/master/EDAM_dev.owl', format='xml')\n",
    "# g.load('EDAM_dev.owl')\n",
    "g.bind('edam', Namespace('http://edamontology.org#'))\n",
    "print(\"done!\")\n"
   ],
   "metadata": {
    "collapsed": false,
    "pycharm": {
     "name": "#%%\n"
    }
   }
  },
  {
   "cell_type": "markdown",
   "source": [
    "Define SPARQL query to extract ID, term and subset of all concepts. Run the query.\n",
    "\n",
    "**NB:** EDAM subsets are defined using XML *attributes* in the EDAM.OWL (rdf/xml) format file, thus it is not possible to retrieve their *literal values* (e.g. for purposes of filtering) by SPARQL query - so far as I'm aware.  Such filtering is done in the Python code following this block."
   ],
   "metadata": {
    "collapsed": false
   }
  },
  {
   "cell_type": "code",
   "execution_count": 6,
   "outputs": [],
   "source": [
    "# Compile SPARQL query\n",
    "query_term = \"\"\"\n",
    "SELECT ?id ?term ?subset WHERE\n",
    "{\n",
    "?id rdfs:label ?term .\n",
    "?id oboInOwl:inSubset ?subset . \n",
    "}\n",
    "\"\"\"\n",
    "\n",
    "# Declare hash tables for results\n",
    "ids = {}\n",
    "numerical_ids = {}\n",
    "terms = {}\n",
    "subsets = {}\n",
    "\n",
    "# Run SPARQL query and collate results\n",
    "errfound = False    \n",
    "report = list()\n",
    "results = g.query(query_term)"
   ],
   "metadata": {
    "collapsed": false,
    "pycharm": {
     "name": "#%%\n"
    }
   }
  },
  {
   "cell_type": "markdown",
   "source": [
    "Analyse results of query.\n",
    "\n",
    "**NOTE**\n",
    "1. The numerical component of a concept ID is taken to be everything after the first occurrence of underscore ('_') character.\n",
    "2. Concepts which are not defined to be in one of the \"topics\", \"operations\", \"data\" or \"formats\" subsets are ignored (not checked)."
   ],
   "metadata": {
    "collapsed": false
   }
  },
  {
   "cell_type": "code",
   "execution_count": 7,
   "outputs": [],
   "source": [
    "report.append(\"Suspected duplication of the numerical component of the concept ID for these concepts:\")\n",
    "\n",
    "for r in results :\n",
    "#    print(str(r['id']), str(r['term']), str(r['subset']))\n",
    "    \n",
    "    id     = str(r['id'])\n",
    "    term   = str(r['term']) \n",
    "    subset = str(r['subset']) \n",
    "    \n",
    "    # Discard concepts in irrelevant subsets\n",
    "    if subset != \"http://purl.obolibrary.org/obo/edam#topics\" \\\n",
    "            and subset != \"http://purl.obolibrary.org/obo/edam#operations\" \\\n",
    "            and subset != \"http://purl.obolibrary.org/obo/edam#data\" \\\n",
    "            and subset != \"http://purl.obolibrary.org/obo/edam#formats\":\n",
    "        continue\n",
    "        \n",
    "    # Populate hash tables\n",
    "    pos = id.rfind(\"_\")    \n",
    "    numerical_id = id[pos+1:]\n",
    "    \n",
    "    # Check for duplicate numerical ID\n",
    "    if numerical_id in numerical_ids:\n",
    "        # Suspected duplicate found\n",
    "        errfound = True\n",
    "        report.append(id +  ' (' + term + ')' + \" in subset:\" + subset \n",
    "                      + \" ::: \" \n",
    "                      + ids[numerical_id] + ' (' + terms[numerical_id] + ')' + \" in subset:\" + subsets[numerical_id])\n",
    "    else:\n",
    "        # No duplicate found\n",
    "        numerical_ids[numerical_id] = True\n",
    "        ids[numerical_id] = id\n",
    "        terms[numerical_id] = term\n",
    "        subsets[numerical_id] = subset"
   ],
   "metadata": {
    "collapsed": false,
    "pycharm": {
     "name": "#%%\n"
    }
   }
  },
  {
   "cell_type": "markdown",
   "source": [
    "Write report and return approriate value."
   ],
   "metadata": {
    "collapsed": false
   }
  },
  {
   "cell_type": "code",
   "execution_count": 8,
   "outputs": [
    {
     "name": "stdout",
     "output_type": "stream",
     "text": [
      "\"Test name\": \"idNumericalDuplication\", \"Status\": \"ERROR\", \"Reason\": \"Suspected duplication of the numerical component of the concept ID for these concepts:\n",
      "http://edamontology.org/operation_3456 (Rigid body refinement) in subset:http://purl.obolibrary.org/obo/edam#operations ::: http://edamontology.org/operation_3456 (Rigid body refinement) in subset:http://purl.obolibrary.org/obo/edam#data\n",
      "http://edamontology.org/operation_3455 (Molecular replacement) in subset:http://purl.obolibrary.org/obo/edam#operations ::: http://edamontology.org/operation_3455 (Molecular replacement) in subset:http://purl.obolibrary.org/obo/edam#data\n",
      "http://edamontology.org/operation_3454 (Phasing) in subset:http://purl.obolibrary.org/obo/edam#data ::: http://edamontology.org/operation_3454 (Phasing) in subset:http://purl.obolibrary.org/obo/edam#operations\n",
      "http://edamontology.org/format_3873 (HDF) in subset:http://purl.obolibrary.org/obo/edam#data ::: http://edamontology.org/format_3873 (HDF) in subset:http://purl.obolibrary.org/obo/edam#formats\n",
      "http://edamontology.org/topic_3077 (Data acquisition) in subset:http://purl.obolibrary.org/obo/edam#data ::: http://edamontology.org/topic_3077 (Data acquisition) in subset:http://purl.obolibrary.org/obo/edam#topics\n",
      "http://edamontology.org/topic_0780 (Botany) in subset:http://purl.obolibrary.org/obo/edam#topics ::: http://edamontology.org/topic_0780 (Plant biology) in subset:http://purl.obolibrary.org/obo/edam#topics\n",
      "http://edamontology.org/operation_3461 (Virulence prediction) in subset:http://purl.obolibrary.org/obo/edam#data ::: http://edamontology.org/operation_3461 (Virulence prediction) in subset:http://purl.obolibrary.org/obo/edam#operations\"\n"
     ]
    }
   ],
   "source": [
    "# Return exit code (raises exception)\n",
    "if errfound:\n",
    "    print('\"Test name\": ' + '\"idNumericalDuplication\", ' +\\\n",
    "          '\"Status\": ' + '\"' + ERROR + '\", ' +\\\n",
    "          '\"Reason\": ' + '\"' + '\\n'.join(report) + '\"')\n",
    "    # print(\"\\n\".join(report))\n",
    "    # sys.exit(ERROR)\n",
    "else:\n",
    "    print('\"Test name\": ' + '\"idNumericalDuplication\", ' +\\\n",
    "          '\"Status\": ' + '\"' + NOERR + '\", ' +\\\n",
    "          '\"Reason\": ' + '\"-\"')\n",
    "    # print(\"No issues found.\")\n",
    "    # sys.exit(NOERR)\n",
    "    "
   ],
   "metadata": {
    "collapsed": false,
    "pycharm": {
     "name": "#%%\n"
    }
   }
  }
 ],
 "metadata": {
  "kernelspec": {
   "display_name": "Python 3",
   "language": "python",
   "name": "python3"
  },
  "language_info": {
   "codemirror_mode": {
    "name": "ipython",
    "version": 2
   },
   "file_extension": ".py",
   "mimetype": "text/x-python",
   "name": "python",
   "nbconvert_exporter": "python",
   "pygments_lexer": "ipython2",
   "version": "2.7.6"
  }
 },
 "nbformat": 4,
 "nbformat_minor": 0
}