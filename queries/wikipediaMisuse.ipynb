{
 "cells": [
  {
   "cell_type": "markdown",
   "metadata": {
    "collapsed": true,
    "pycharm": {
     "name": "#%% md\n"
    }
   },
   "source": [
    "**wikipediaMisuse.ipynb**\n",
    "\n",
    "Misuse of Wikipedia links.\n",
    "\n",
    "**Documentation:** https://github.com/edamontology/edamverify/blob/master/docs/wikiepediaMisuse.md\n",
    "\n",
    "**NB.1:** Currently detects the following misuses of Wikipedia links:\n",
    "* ``<oboInOwl:hasDbXref rdf:resource=\"http://en.wikipedia.org/wiki/Simplified_molecular_input_line_entry_specification\"/>``\n",
    "* ``<oboInOwl:hasExactSynonym rdf:resource=\"https://en.wikipedia.org/wiki/Pathology\"/>``\n",
    "\n",
    "\n",
    "**NB.2: - Running the notebook**\n",
    "The directory containing the ``EDAM_dev.owl`` file must be defined by ``EDAM_PATH`` environment variable.\n",
    "\n",
    "The script requires the test to be run from a subdirectory of ``EDAM_PATH`` (hence ``'../EDAM_dev.owl'`` below)"
   ]
  },
  {
   "cell_type": "code",
   "execution_count": 9,
   "outputs": [
    {
     "name": "stdout",
     "output_type": "stream",
     "text": [
      "Loading graph ...done!\n"
     ]
    }
   ],
   "source": [
    "import os\n",
    "from rdflib import ConjunctiveGraph, Namespace\n",
    "import json\n",
    "\n",
    "# Constants for script return value as per https://github.com/edamontology/edamverify.\n",
    "NOERR = \"NOERR\"\n",
    "INFO  = \"INFO\"\n",
    "WARN  = \"WARN\"\n",
    "ERROR = \"ERROR\"\n",
    "\n",
    "#Load EDAM_dev.owl from GitHub into an RDF graph.\n",
    "print(\"Loading graph ...\", end=\"\")\n",
    "g = ConjunctiveGraph()\n",
    "g.load(os.environ.get('EDAM_PATH', '../EDAM_dev.owl'), format='xml')\n",
    "# g.load('https://raw.githubusercontent.com/edamontology/edamontology/master/EDAM_dev.owl', format='xml')\n",
    "# g.load('EDAM_dev.owl')\n",
    "g.bind('edam', Namespace('http://edamontology.org#'))\n",
    "print(\"done!\")"
   ],
   "metadata": {
    "collapsed": false,
    "pycharm": {
     "name": "#%%\n"
    }
   }
  },
  {
   "cell_type": "markdown",
   "source": [
    "Define SPARQL query to extract ID, term, and (if available) the exact synonym, dbxref and deprecated fieds of all concepts. Run the query."
   ],
   "metadata": {
    "collapsed": false
   }
  },
  {
   "cell_type": "code",
   "execution_count": 10,
   "outputs": [],
   "source": [
    "# Compile SPARQL query\n",
    "query_term = \"\"\"\n",
    "SELECT ?id ?term ?exact_syn ?dbxref ?deprecated WHERE\n",
    "{\n",
    "?id rdfs:label ?term .\n",
    "OPTIONAL {?id oboInOwl:hasExactSynonym ?exact_syn .}\n",
    "OPTIONAL {?id oboInOwl:hasDbXref ?dbxref .}\n",
    "OPTIONAL {?id owl:deprecated ?deprecated .}\n",
    "}\n",
    "\"\"\"\n",
    "\n",
    "# Run SPARQL query and collate results\n",
    "errfound = False    \n",
    "report = list()\n",
    "results = g.query(query_term)"
   ],
   "metadata": {
    "collapsed": false,
    "pycharm": {
     "name": "#%%\n"
    }
   }
  },
  {
   "cell_type": "markdown",
   "source": [
    "Analyse results of query."
   ],
   "metadata": {
    "collapsed": false
   }
  },
  {
   "cell_type": "code",
   "execution_count": 11,
   "outputs": [],
   "source": [
    "for r in results :\n",
    "    \n",
    "    id         = str(r['id'])\n",
    "    term       = str(r['term'])\n",
    "    exact_syn  = str(r['exact_syn'])\n",
    "    dbxref     = str(r['dbxref'])\n",
    "    deprecated = str(r['deprecated'])\n",
    "\n",
    "    # Skip deprecated concepts\n",
    "    if deprecated == \"true\":\n",
    "        continue\n",
    "            \n",
    "    # print(id, \"(\", term, \")   \", exact_syn, \"   \", dbxref)\n",
    "\n",
    "      \n",
    "    # \"None\" string is return from SPARQL query where value was not found\n",
    "    if (exact_syn != \"None\" and \"wikipedia\" in exact_syn):\n",
    "        errfound = True\n",
    "        report.append(\"Wikipedia link in <oboInOwl:hasExactSynonym> (not allowed)::: \" +id + \"(\" + term + \")   \" + exact_syn)\n",
    "\n",
    "      \n",
    "    # \"None\" string is return from SPARQL query where value was not found\n",
    "    if (dbxref != \"None\" and \"wikipedia\" in dbxref):\n",
    "        errfound = True\n",
    "        report.append(\"Wikipedia link in <oboInOwl:hasDbXref> (not allowed) ::: \" +id + \"(\" + term + \")   \" + dbxref)"
   ],
   "metadata": {
    "collapsed": false,
    "pycharm": {
     "name": "#%%\n"
    }
   }
  },
  {
   "cell_type": "markdown",
   "source": [
    "Write report and return approriate value."
   ],
   "metadata": {
    "collapsed": false
   }
  },
  {
   "cell_type": "code",
   "execution_count": 12,
   "outputs": [
    {
     "name": "stdout",
     "output_type": "stream",
     "text": [
      "{\n",
      "    \"status\": \"NOERR\",\n",
      "    \"test_name\": \"wikipediaMisuse\",\n",
      "    \"comment\": \"Misuse of wikepedia link for one or more concepts.\"\n",
      "}\n"
     ]
    }
   ],
   "source": [
    "report_obj = {}\n",
    "report_obj['test_name'] = 'wikipediaMisuse'\n",
    "report_obj['comment'] = 'Misuse of wikepedia link for one or more concepts.'\n",
    "\n",
    "if errfound:\n",
    "    report_obj['status'] = WARN\n",
    "    report_obj['reason'] = report\n",
    "else:\n",
    "    report_obj['status'] = NOERR\n",
    "\n",
    "report_json = json.dumps(report_obj, indent=4)\n",
    "print(report_json)"
   ],
   "metadata": {
    "collapsed": false,
    "pycharm": {
     "name": "#%%\n"
    }
   }
  }
 ],
 "metadata": {
  "kernelspec": {
   "display_name": "Python 3",
   "language": "python",
   "name": "python3"
  },
  "language_info": {
   "codemirror_mode": {
    "name": "ipython",
    "version": 2
   },
   "file_extension": ".py",
   "mimetype": "text/x-python",
   "name": "python",
   "nbconvert_exporter": "python",
   "pygments_lexer": "ipython2",
   "version": "2.7.6"
  }
 },
 "nbformat": 4,
 "nbformat_minor": 0
}