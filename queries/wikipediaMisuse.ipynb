{
 "cells": [
  {
   "cell_type": "markdown",
   "metadata": {
    "collapsed": true,
    "pycharm": {
     "name": "#%% md\n"
    }
   },
   "source": [
    "**wikipediaMisuse.ipynb**\n",
    "\n",
    "Misuse of Wikipedia links.\n",
    "\n",
    "**Documentation:** https://github.com/edamontology/edamverify/blob/master/docs/wikiepediaMisuse.md\n",
    "\n",
    "**NB.1:** Currently detects the following misuses of Wikipedia links:\n",
    "* ``<oboInOwl:hasDbXref rdf:resource=\"http://en.wikipedia.org/wiki/Simplified_molecular_input_line_entry_specification\"/>``\n",
    "* ``<oboInOwl:hasExactSynonym rdf:resource=\"https://en.wikipedia.org/wiki/Pathology\"/>``\n",
    "\n",
    "\n",
    "**NB.2:** The ``EDAM_PATH`` environment variable (location of ``EDAM_dev.owl`` file) must be set.  The script requires the test to be run from a subdirectory of this path, hence ``'../EDAM_dev.owl'`` below."
   ]
  },
  {
   "cell_type": "markdown",
   "source": [
    "Set constants for script return values. Load EDAM_dev.owl from GitHub into an RDF graph."
   ],
   "metadata": {
    "collapsed": false
   }
  },
  {
   "cell_type": "code",
   "execution_count": 5,
   "outputs": [
    {
     "name": "stdout",
     "output_type": "stream",
     "text": [
      "Loading graph ...done!\n"
     ]
    },
    {
     "name": "stderr",
     "output_type": "stream",
     "text": [
      "https://neuroml.org/neuromlv2|https://neuroml-db.org/ does not look like a valid URI, trying to serialize this will break.\n"
     ]
    }
   ],
   "source": [
    "import os\n",
    "from rdflib import ConjunctiveGraph, Namespace\n",
    "import json\n",
    "from collections import OrderedDict\n",
    "\n",
    "# Constants for script return value as per https://github.com/edamontology/edamverify.\n",
    "NOERR = \"NOERR\"\n",
    "INFO  = \"INFO\"\n",
    "WARN  = \"WARN\"\n",
    "ERROR = \"ERROR\"\n",
    "\n",
    "#Load EDAM_dev.owl from GitHub into an RDF graph.\n",
    "print(\"Loading graph ...\", end=\"\")\n",
    "g = ConjunctiveGraph()\n",
    "g.load(os.environ.get('EDAM_PATH', '../EDAM_dev.owl'), format='xml')\n",
    "# g.load('https://raw.githubusercontent.com/edamontology/edamontology/master/EDAM_dev.owl', format='xml')\n",
    "# g.load('EDAM_dev.owl')\n",
    "g.bind('edam', Namespace('http://edamontology.org#'))\n",
    "print(\"done!\")"
   ],
   "metadata": {
    "collapsed": false,
    "pycharm": {
     "name": "#%%\n"
    }
   }
  },
  {
   "cell_type": "markdown",
   "source": [
    "Define SPARQL query to extract ID, term, and (if available) the exact synonym, dbxref and deprecated fieds of all concepts. Run the query."
   ],
   "metadata": {
    "collapsed": false
   }
  },
  {
   "cell_type": "code",
   "execution_count": 6,
   "outputs": [],
   "source": [
    "# Compile SPARQL query\n",
    "query_term = \"\"\"\n",
    "SELECT ?id ?term ?exact_syn ?dbxref ?deprecated WHERE\n",
    "{\n",
    "?id rdfs:label ?term .\n",
    "OPTIONAL {?id oboInOwl:hasExactSynonym ?exact_syn .}\n",
    "OPTIONAL {?id oboInOwl:hasDbXref ?dbxref .}\n",
    "OPTIONAL {?id owl:deprecated ?deprecated .}\n",
    "}\n",
    "\"\"\"\n",
    "\n",
    "# Run SPARQL query and collate results\n",
    "errfound = False    \n",
    "report = list()\n",
    "results = g.query(query_term)"
   ],
   "metadata": {
    "collapsed": false,
    "pycharm": {
     "name": "#%%\n"
    }
   }
  },
  {
   "cell_type": "markdown",
   "source": [
    "Analyse results of query."
   ],
   "metadata": {
    "collapsed": false
   }
  },
  {
   "cell_type": "code",
   "execution_count": 7,
   "outputs": [],
   "source": [
    "for r in results :\n",
    "    \n",
    "    id         = str(r['id'])\n",
    "    term       = str(r['term'])\n",
    "    exact_syn  = str(r['exact_syn'])\n",
    "    dbxref     = str(r['dbxref'])\n",
    "    deprecated = str(r['deprecated'])\n",
    "\n",
    "    # Skip deprecated concepts\n",
    "    if deprecated == \"true\":\n",
    "        continue\n",
    "            \n",
    "    # print(id, \"(\", term, \")   \", exact_syn, \"   \", dbxref)\n",
    "\n",
    "      \n",
    "    # \"None\" string is return from SPARQL query where value was not found\n",
    "    if (exact_syn != \"None\" and \"wikipedia\" in exact_syn):\n",
    "        errfound = True\n",
    "        report.append(\"Wikipedia link in <oboInOwl:hasExactSynonym> (not allowed)::: \" +id + \"(\" + term + \")   \" + exact_syn)\n",
    "\n",
    "      \n",
    "    # \"None\" string is return from SPARQL query where value was not found\n",
    "    if (dbxref != \"None\" and \"wikipedia\" in dbxref):\n",
    "        errfound = True\n",
    "        report.append(\"Wikipedia link in <oboInOwl:hasDbXref> (not allowed) ::: \" +id + \"(\" + term + \")   \" + dbxref)"
   ],
   "metadata": {
    "collapsed": false,
    "pycharm": {
     "name": "#%%\n"
    }
   }
  },
  {
   "cell_type": "markdown",
   "source": [
    "Write report and return approriate value."
   ],
   "metadata": {
    "collapsed": false
   }
  },
  {
   "cell_type": "code",
   "execution_count": 8,
   "outputs": [
    {
     "name": "stdout",
     "output_type": "stream",
     "text": [
      "{\n",
      "    \"status\": \"WARN\",\n",
      "    \"test_name\": \"wikipediaMisuse\",\n",
      "    \"reason\": [\n",
      "        \"Misuse of wikepedia link for these concepts:\",\n",
      "        \"Wikipedia link in <oboInOwl:hasDbXref> (not allowed) ::: http://edamontology.org/format_3748(Linked data format)   https://en.wikipedia.org/wiki/Linked_data\",\n",
      "        \"Wikipedia link in <oboInOwl:hasExactSynonym> (not allowed)::: http://edamontology.org/topic_3342(Translational medicine)   https://en.wikipedia.org/wiki/Translational_medicine\",\n",
      "        \"Wikipedia link in <oboInOwl:hasDbXref> (not allowed) ::: http://edamontology.org/format_1961(Stockholm format)   http://en.wikipedia.org/wiki/Stockholm_format\",\n",
      "        \"Wikipedia link in <oboInOwl:hasExactSynonym> (not allowed)::: http://edamontology.org/topic_2640(Oncology)   https://en.wikipedia.org/wiki/Oncology\",\n",
      "        \"Wikipedia link in <oboInOwl:hasExactSynonym> (not allowed)::: http://edamontology.org/topic_3414(Trauma medicine)   https://en.wikipedia.org/wiki/Traumatology\",\n",
      "        \"Wikipedia link in <oboInOwl:hasExactSynonym> (not allowed)::: http://edamontology.org/topic_3401(Pain medicine)   https://en.wikipedia.org/wiki/Pain_management\",\n",
      "        \"Wikipedia link in <oboInOwl:hasDbXref> (not allowed) ::: http://edamontology.org/format_3750(YAML)   https://en.wikipedia.org/wiki/YAML\",\n",
      "        \"Wikipedia link in <oboInOwl:hasExactSynonym> (not allowed)::: http://edamontology.org/topic_3325(Rare diseases)   https://en.wikipedia.org/wiki/Rare_disease\",\n",
      "        \"Wikipedia link in <oboInOwl:hasExactSynonym> (not allowed)::: http://edamontology.org/topic_3399(Geriatric medicine)   https://en.wikipedia.org/wiki/Geriatrics\",\n",
      "        \"Wikipedia link in <oboInOwl:hasDbXref> (not allowed) ::: http://edamontology.org/format_3749(JSON-LD)   https://en.wikipedia.org/wiki/JSON-LD\",\n",
      "        \"Wikipedia link in <oboInOwl:hasExactSynonym> (not allowed)::: http://edamontology.org/topic_3419(Psychiatry)   https://en.wikipedia.org/wiki/Psychiatry\",\n",
      "        \"Wikipedia link in <oboInOwl:hasExactSynonym> (not allowed)::: http://edamontology.org/topic_3300(Physiology)   https://en.wikipedia.org/wiki/Physiology\",\n",
      "        \"Wikipedia link in <oboInOwl:hasExactSynonym> (not allowed)::: http://edamontology.org/topic_3417(Opthalmology)   https://en.wikipedia.org/wiki/Ophthalmology\",\n",
      "        \"Wikipedia link in <oboInOwl:hasExactSynonym> (not allowed)::: http://edamontology.org/topic_3417(Opthalmology)   https://en.wikipedia.org/wiki/Ophthalmology\",\n",
      "        \"Wikipedia link in <oboInOwl:hasExactSynonym> (not allowed)::: http://edamontology.org/topic_3410(Gender medicine)   https://en.wikipedia.org/wiki/Sex_differences_in_medicine\",\n",
      "        \"Wikipedia link in <oboInOwl:hasDbXref> (not allowed) ::: http://edamontology.org/format_3556(MHTML)   https://en.wikipedia.org/wiki/MHTML\",\n",
      "        \"Wikipedia link in <oboInOwl:hasDbXref> (not allowed) ::: http://edamontology.org/format_3556(MHTML)   https://en.wikipedia.org/wiki/MHTML\",\n",
      "        \"Wikipedia link in <oboInOwl:hasDbXref> (not allowed) ::: http://edamontology.org/format_3556(MHTML)   https://en.wikipedia.org/wiki/MHTML\",\n",
      "        \"Wikipedia link in <oboInOwl:hasDbXref> (not allowed) ::: http://edamontology.org/format_3556(MHTML)   https://en.wikipedia.org/wiki/MHTML\",\n",
      "        \"Wikipedia link in <oboInOwl:hasDbXref> (not allowed) ::: http://edamontology.org/format_3556(MHTML)   https://en.wikipedia.org/wiki/MHTML\",\n",
      "        \"Wikipedia link in <oboInOwl:hasDbXref> (not allowed) ::: http://edamontology.org/format_3556(MHTML)   https://en.wikipedia.org/wiki/MHTML\",\n",
      "        \"Wikipedia link in <oboInOwl:hasDbXref> (not allowed) ::: http://edamontology.org/format_3556(MHTML)   https://en.wikipedia.org/wiki/MHTML\",\n",
      "        \"Wikipedia link in <oboInOwl:hasExactSynonym> (not allowed)::: http://edamontology.org/topic_3305(Public health and epidemiology)   https://en.wikipedia.org/wiki/Public_health\",\n",
      "        \"Wikipedia link in <oboInOwl:hasExactSynonym> (not allowed)::: http://edamontology.org/topic_3305(Public health and epidemiology)   https://en.wikipedia.org/wiki/Epidemiology\",\n",
      "        \"Wikipedia link in <oboInOwl:hasExactSynonym> (not allowed)::: http://edamontology.org/topic_3411(Gynaecology and obstetrics)   https://en.wikipedia.org/wiki/Obstetrics\",\n",
      "        \"Wikipedia link in <oboInOwl:hasExactSynonym> (not allowed)::: http://edamontology.org/topic_3411(Gynaecology and obstetrics)   https://en.wikipedia.org/wiki/Gynaecology\",\n",
      "        \"Wikipedia link in <oboInOwl:hasExactSynonym> (not allowed)::: http://edamontology.org/topic_3407(Endocrinology and metabolism)   https://en.wikipedia.org/wiki/Endocrinology\",\n",
      "        \"Wikipedia link in <oboInOwl:hasExactSynonym> (not allowed)::: http://edamontology.org/topic_3415(Medical toxicology)   https://en.wikipedia.org/wiki/Medical_toxicology\",\n",
      "        \"Wikipedia link in <oboInOwl:hasExactSynonym> (not allowed)::: http://edamontology.org/topic_3420(Reproductive health)   https://en.wikipedia.org/wiki/Reproductive_health\",\n",
      "        \"Wikipedia link in <oboInOwl:hasExactSynonym> (not allowed)::: http://edamontology.org/topic_3406(Ear, nose and throat medicine)   https://en.wikipedia.org/wiki/Otorhinolaryngology\",\n",
      "        \"Wikipedia link in <oboInOwl:hasExactSynonym> (not allowed)::: http://edamontology.org/topic_3577(Personalised medicine)   https://en.wikipedia.org/wiki/Personalized_medicine\",\n",
      "        \"Wikipedia link in <oboInOwl:hasDbXref> (not allowed) ::: http://edamontology.org/format_2376(RDF format)   https://en.wikipedia.org/wiki/Resource_Description_Framework\",\n",
      "        \"Wikipedia link in <oboInOwl:hasExactSynonym> (not allowed)::: http://edamontology.org/topic_3421(Surgery)   https://en.wikipedia.org/wiki/Surgery\",\n",
      "        \"Wikipedia link in <oboInOwl:hasExactSynonym> (not allowed)::: http://edamontology.org/topic_3405(Dentistry)   https://en.wikipedia.org/wiki/Dentistry\",\n",
      "        \"Wikipedia link in <oboInOwl:hasExactSynonym> (not allowed)::: http://edamontology.org/topic_3409(Gastroenterology)   https://en.wikipedia.org/wiki/Gastroenterology\",\n",
      "        \"Wikipedia link in <oboInOwl:hasDbXref> (not allowed) ::: http://edamontology.org/format_1196(SMILES)   http://en.wikipedia.org/wiki/Simplified_molecular_input_line_entry_specification\",\n",
      "        \"Wikipedia link in <oboInOwl:hasExactSynonym> (not allowed)::: http://edamontology.org/topic_3322(Respiratory medicine)   https://en.wikipedia.org/wiki/Pulmonology\",\n",
      "        \"Wikipedia link in <oboInOwl:hasExactSynonym> (not allowed)::: http://edamontology.org/topic_3408(Haematology)   https://en.wikipedia.org/wiki/Hematology\",\n",
      "        \"Wikipedia link in <oboInOwl:hasExactSynonym> (not allowed)::: http://edamontology.org/topic_0634(Pathology)   https://en.wikipedia.org/wiki/Pathology\",\n",
      "        \"Wikipedia link in <oboInOwl:hasDbXref> (not allowed) ::: http://edamontology.org/format_3751(DSV)   https://en.wikipedia.org/wiki/Delimiter-separated_values\",\n",
      "        \"Wikipedia link in <oboInOwl:hasDbXref> (not allowed) ::: http://edamontology.org/format_3464(JSON)   https://en.wikipedia.org/wiki/JSON\",\n",
      "        \"Wikipedia link in <oboInOwl:hasExactSynonym> (not allowed)::: http://edamontology.org/topic_3404(Dermatology)   https://en.wikipedia.org/wiki/Dermatology\",\n",
      "        \"Wikipedia link in <oboInOwl:hasExactSynonym> (not allowed)::: http://edamontology.org/topic_3418(Paediatrics)   https://en.wikipedia.org/wiki/Pediatrics\",\n",
      "        \"Wikipedia link in <oboInOwl:hasExactSynonym> (not allowed)::: http://edamontology.org/topic_3334(Neurology)   https://en.wikipedia.org/wiki/Neurology\",\n",
      "        \"Wikipedia link in <oboInOwl:hasExactSynonym> (not allowed)::: http://edamontology.org/topic_3396(Systems medicine)   https://en.wikipedia.org/wiki/Systems_medicine\"\n",
      "    ]\n",
      "}\n"
     ]
    }
   ],
   "source": [
    "# Write report\n",
    "# Use ordered dictionary to get consistent listing of properties in the JSON output\n",
    "#report_dict = OrderedDict\n",
    "#if errfound:\n",
    "#    report_dict = {\n",
    "#        'test_name': 'wikipediaMisuse',\n",
    "#        'status' : WARN,\n",
    "#        'reason' : report\n",
    "#    }\n",
    "#else:\n",
    "#    report_dict = {\n",
    "#        'test_name': 'wikipediaMisuse',\n",
    "#        'status' : NOERR,\n",
    "#        'reason' : '-'\n",
    "#    }\n",
    "#report_json = json.dumps(report_dict, indent=4)\n",
    "#print(report_json)\n",
    "\n",
    "\n",
    "report_obj = {}\n",
    "report_obj['test_name'] = 'wikipediaMisuse'\n",
    "report_obj['comment'] = 'Misuse of wikepedia link for one or more concepts.'\n",
    "\n",
    "if errfound:\n",
    "    report_obj['status'] = WARN\n",
    "    report_obj['reason'] = report\n",
    "else:\n",
    "    report_obj['status'] = NOERR\n",
    "\n",
    "report_json = json.dumps(report_obj, indent=4)\n",
    "print(report_json)"
   ],
   "metadata": {
    "collapsed": false,
    "pycharm": {
     "name": "#%%\n"
    }
   }
  }
 ],
 "metadata": {
  "kernelspec": {
   "display_name": "Python 3",
   "language": "python",
   "name": "python3"
  },
  "language_info": {
   "codemirror_mode": {
    "name": "ipython",
    "version": 2
   },
   "file_extension": ".py",
   "mimetype": "text/x-python",
   "name": "python",
   "nbconvert_exporter": "python",
   "pygments_lexer": "ipython2",
   "version": "2.7.6"
  }
 },
 "nbformat": 4,
 "nbformat_minor": 0
}