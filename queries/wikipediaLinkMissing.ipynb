{
 "cells": [
  {
   "cell_type": "markdown",
   "metadata": {
    "collapsed": true,
    "pycharm": {
     "name": "#%% md\n"
    }
   },
   "source": [
    "**wikipediaLinkMissing.ipynb**\n",
    "\n",
    "Wikipedia link missing from EDAM Topic concept.\n",
    "\n",
    "**Documentation:** https://github.com/edamontology/edamverify/blob/master/docs/wikiepediaLinkMissing.md\n",
    "\n",
    "**NB.1:** Wikipedia links may be specified in the following ways:\n",
    "* ``<rdfs:seeAlso>http://en.wikipedia.org/wiki/List_of_file_formats</rdfs:seeAlso>``        \n",
    "* ``<rdfs:seeAlso rdf:resource=\"https://en.wikipedia.org/wiki/Information_Hyperlinked_over_Proteins\"/>``       \n",
    "\n",
    "\n",
    "**NB.2: - Running the notebook**\n",
    "The directory containing the ``EDAM_dev.owl`` file must be defined by ``EDAM_PATH`` environment variable.\n",
    "\n",
    "The script requires the test to be run from a subdirectory of ``EDAM_PATH`` (hence ``'../EDAM_dev.owl'`` below)"
   ]
  },
  {
   "cell_type": "markdown",
   "metadata": {},
   "source": [
    "Set constants for script return values. Load EDAM_dev.owl from GitHub into an RDF graph."
   ]
  },
  {
   "cell_type": "code",
   "execution_count": 28,
   "metadata": {
    "pycharm": {
     "name": "#%%\n"
    }
   },
   "outputs": [
    {
     "name": "stdout",
     "output_type": "stream",
     "text": [
      "Loading graph ...done!\n"
     ]
    }
   ],
   "source": [
    "import os\n",
    "from rdflib import ConjunctiveGraph, Namespace\n",
    "import json\n",
    "\n",
    "# Constants for script error reporting as per https://github.com/edamontology/edamverify.\n",
    "NOERR = \"NOERR\"\n",
    "INFO  = \"INFO\"\n",
    "WARN  = \"WARN\"\n",
    "ERROR = \"ERROR\"\n",
    "\n",
    "#Load EDAM_dev.owl from GitHub into an RDF graph.\n",
    "print(\"Loading graph ...\", end=\"\")\n",
    "g = ConjunctiveGraph()\n",
    "g.load(os.environ.get('EDAM_PATH', '../EDAM_dev.owl'), format='xml')\n",
    "# g.load('https://raw.githubusercontent.com/edamontology/edamontology/master/EDAM_dev.owl', format='xml')\n",
    "# g.load('EDAM_dev.owl')\n",
    "g.bind('edam', Namespace('http://edamontology.org#'))\n",
    "print(\"done!\")"
   ]
  },
  {
   "cell_type": "markdown",
   "metadata": {},
   "source": [
    "Define SPARQL query to extract ID, term, and (if available) seealso and deprecated fields of all Topic concepts. Run the query.\n",
    "\n",
    "**NB:** Use ``\"/topic_\"`` in query to avoid detection of http://edamontology.org/is_topic_of"
   ]
  },
  {
   "cell_type": "code",
   "execution_count": 29,
   "metadata": {
    "pycharm": {
     "name": "#%%\n"
    }
   },
   "outputs": [],
   "source": [
    "# Compile SPARQL query\n",
    "query_term = \"\"\"\n",
    "SELECT ?id ?term ?seealso ?deprecated WHERE\n",
    "{\n",
    "?id rdfs:label ?term .\n",
    "OPTIONAL {?id rdfs:seeAlso ?seealso .}\n",
    "OPTIONAL {?id owl:deprecated ?deprecated .}\n",
    "FILTER regex(str(?id), \"/topic_\")\n",
    "}\n",
    "\"\"\"\n",
    "# Declare hash tables for results\n",
    "ids = {}\n",
    "terms = {}\n",
    "errs = {}\n",
    "\n",
    "# Run SPARQL query and collate results\n",
    "errfound = False    \n",
    "report = list()\n",
    "results = g.query(query_term)"
   ]
  },
  {
   "cell_type": "markdown",
   "metadata": {},
   "source": [
    "Analyse results of query."
   ]
  },
  {
   "cell_type": "code",
   "execution_count": 30,
   "metadata": {
    "pycharm": {
     "name": "#%%\n"
    }
   },
   "outputs": [],
   "source": [
    "for r in results :\n",
    "    \n",
    "    id      = str(r['id'])\n",
    "    term    = str(r['term'])\n",
    "    seealso = str(r['seealso']) \n",
    "    deprecated = str(r['deprecated'])\n",
    "\n",
    "    # Skip deprecated concepts\n",
    "    if deprecated == \"true\":\n",
    "        continue\n",
    "            \n",
    "  # print(id, \"(\", term, \")   \", seealso, \"   \", str(r['seealso']))\n",
    "\n",
    "    # id is assigned to both the key and value of the 'ids' hash table\n",
    "    # Later on, just the key is used\n",
    "    ids[id] = id\n",
    "    terms[id] = term\n",
    "\n",
    "    # Concepts can have more than one seeAlso property, not all of which include\n",
    "    # a Wikipedia URL - deal with that.\n",
    "    if id not in errs:\n",
    "        errs[id] = True\n",
    "      \n",
    "    # \"None\" string is return from SPARQL query where value was not found\n",
    "    if seealso != \"None\" and \"wikipedia\" in seealso:\n",
    "        errs[id] = False\n",
    "    \n",
    "for key in ids:\n",
    "    if errs[key]:\n",
    "        errfound = True\n",
    "        report.append(\"Missing wikipedia link ::: \" + key +  ' (' + terms[key] + ')')"
   ]
  },
  {
   "cell_type": "markdown",
   "metadata": {},
   "source": [
    "Write report and return approriate value."
   ]
  },
  {
   "cell_type": "code",
   "execution_count": 31,
   "metadata": {
    "pycharm": {
     "name": "#%%\n"
    }
   },
   "outputs": [
    {
     "name": "stdout",
     "output_type": "stream",
     "text": [
      "{\n",
      "    \"test_name\": \"wikipediaLinkMissing\",\n",
      "    \"reason\": [\n",
      "        \"Missing wikipedia link ::: http://edamontology.org/topic_3339 (Microbial collection)\",\n",
      "        \"Missing wikipedia link ::: http://edamontology.org/topic_3524 (Simulation experiment)\",\n",
      "        \"Missing wikipedia link ::: http://edamontology.org/topic_3374 (Biotherapeutics)\",\n",
      "        \"Missing wikipedia link ::: http://edamontology.org/topic_3511 (Nucleic acid sites, features and motifs)\",\n",
      "        \"Missing wikipedia link ::: http://edamontology.org/topic_0632 (Probes and primers)\",\n",
      "        \"Missing wikipedia link ::: http://edamontology.org/topic_3393 (Quality affairs)\",\n",
      "        \"Missing wikipedia link ::: http://edamontology.org/topic_0736 (Protein folds and structural domains)\",\n",
      "        \"Missing wikipedia link ::: http://edamontology.org/topic_0160 (Sequence sites, features and motifs)\",\n",
      "        \"Missing wikipedia link ::: http://edamontology.org/topic_1775 (Function analysis)\",\n",
      "        \"Missing wikipedia link ::: http://edamontology.org/topic_3510 (Protein sites, features and motifs)\",\n",
      "        \"Missing wikipedia link ::: http://edamontology.org/topic_3388 (Molecular medicine)\",\n",
      "        \"Missing wikipedia link ::: http://edamontology.org/topic_0123 (Protein properties)\",\n",
      "        \"Missing wikipedia link ::: http://edamontology.org/topic_0003 (Topic)\",\n",
      "        \"Missing wikipedia link ::: http://edamontology.org/topic_3892 (Biomolecular simulation)\",\n",
      "        \"Missing wikipedia link ::: http://edamontology.org/topic_3371 (Synthetic chemistry)\",\n",
      "        \"Missing wikipedia link ::: http://edamontology.org/topic_3576 (Medical biotechnology)\",\n",
      "        \"Missing wikipedia link ::: http://edamontology.org/topic_3345 (Data identity and mapping)\",\n",
      "        \"Missing wikipedia link ::: http://edamontology.org/topic_0166 (Protein structural motifs and surfaces)\",\n",
      "        \"Missing wikipedia link ::: http://edamontology.org/topic_0219 (Data submission, annotation and curation)\",\n",
      "        \"Missing wikipedia link ::: http://edamontology.org/topic_0157 (Sequence composition, complexity and repeats)\",\n",
      "        \"Missing wikipedia link ::: http://edamontology.org/topic_3068 (Literature and language)\"\n",
      "    ],\n",
      "    \"comment\": \"Missing wikepedia link for one or more Topic concepts.\",\n",
      "    \"status\": \"INFO\"\n",
      "}\n"
     ]
    }
   ],
   "source": [
    "report_obj = {}\n",
    "report_obj['test_name'] = 'wikipediaLinkMissing'\n",
    "report_obj['comment'] = 'Missing wikepedia link for one or more Topic concepts.'\n",
    "\n",
    "if errfound:\n",
    "    report_obj['status'] = INFO\n",
    "    report_obj['reason'] = report\n",
    "else:\n",
    "    report_obj['status'] = NOERR\n",
    "\n",
    "report_json = json.dumps(report_obj, indent=4)\n",
    "print(report_json)\n"
   ]
  }
 ],
 "metadata": {
  "kernelspec": {
   "display_name": "Python 3",
   "language": "python",
   "name": "python3"
  },
  "language_info": {
   "codemirror_mode": {
    "name": "ipython",
    "version": 3
   },
   "file_extension": ".py",
   "mimetype": "text/x-python",
   "name": "python",
   "nbconvert_exporter": "python",
   "pygments_lexer": "ipython3",
   "version": "3.7.6"
  }
 },
 "nbformat": 4,
 "nbformat_minor": 1
}
