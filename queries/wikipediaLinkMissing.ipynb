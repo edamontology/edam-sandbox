{
 "cells": [
  {
   "cell_type": "markdown",
   "metadata": {
    "collapsed": true,
    "pycharm": {
     "name": "#%% md\n"
    }
   },
   "source": [
    "**wikipediaLinkMissing.ipynb**\n",
    "\n",
    "Wikipedia link missing from EDAM Topic concept.\n",
    "\n",
    "**Documentation:** https://github.com/edamontology/edamverify/blob/master/docs/wikiepediaLinkMissing.md\n",
    "\n",
    "**NB:** Wikipedia links may be specified in the following ways:\n",
    "* ``<rdfs:seeAlso>http://en.wikipedia.org/wiki/List_of_file_formats</rdfs:seeAlso>``        \n",
    "* ``<rdfs:seeAlso rdf:resource=\"https://en.wikipedia.org/wiki/Information_Hyperlinked_over_Proteins\"/>``       \n"
   ]
  },
  {
   "cell_type": "markdown",
   "source": [
    "Set constants for script return values. Load EDAM_dev.owl from GitHub into an RDF graph."
   ],
   "metadata": {
    "collapsed": false
   }
  },
  {
   "cell_type": "code",
   "execution_count": 17,
   "outputs": [
    {
     "name": "stdout",
     "text": [
      "Loading graph ...done!\n"
     ],
     "output_type": "stream"
    }
   ],
   "source": [
    "import sys\n",
    "from rdflib import ConjunctiveGraph, Namespace\n",
    "\n",
    "# Constants for script error reporting as per https://github.com/edamontology/edamverify.\n",
    "NOERR = \"NOERR\"\n",
    "INFO  = \"INFO\"\n",
    "WARN  = \"WARN\"\n",
    "ERROR = \"ERROR\"\n",
    "\n",
    "#Load EDAM_dev.owl from GitHub into an RDF graph.\n",
    "print(\"Loading graph ...\", end=\"\")\n",
    "g = ConjunctiveGraph()\n",
    "g.load('https://raw.githubusercontent.com/edamontology/edamontology/master/EDAM_dev.owl', format='xml')\n",
    "# g.load('EDAM_dev.owl')\n",
    "g.bind('edam', Namespace('http://edamontology.org#'))\n",
    "print(\"done!\")"
   ],
   "metadata": {
    "collapsed": false,
    "pycharm": {
     "name": "#%%\n",
     "is_executing": false
    }
   }
  },
  {
   "cell_type": "markdown",
   "source": [
    "Define SPARQL query to extract ID, term, and (if available) seealso and deprecated fields of all Topic concepts. Run the query.\n",
    "\n",
    "**NB:** Use ``\"/topic_\"`` in query to avoid detection of http://edamontology.org/is_topic_of"
   ],
   "metadata": {
    "collapsed": false
   }
  },
  {
   "cell_type": "code",
   "execution_count": 18,
   "outputs": [],
   "source": [
    "# Compile SPARQL query\n",
    "query_term = \"\"\"\n",
    "SELECT ?id ?term ?seealso ?deprecated WHERE\n",
    "{\n",
    "?id rdfs:label ?term .\n",
    "OPTIONAL {?id rdfs:seeAlso ?seealso .}\n",
    "OPTIONAL {?id owl:deprecated ?deprecated .}\n",
    "FILTER regex(str(?id), \"/topic_\")\n",
    "}\n",
    "\"\"\"\n",
    "# Declare hash tables for results\n",
    "ids = {}\n",
    "terms = {}\n",
    "errs = {}\n",
    "\n",
    "# Run SPARQL query and collate results\n",
    "errfound = False    \n",
    "report = list()\n",
    "results = g.query(query_term)"
   ],
   "metadata": {
    "collapsed": false,
    "pycharm": {
     "name": "#%%\n",
     "is_executing": false
    }
   }
  },
  {
   "cell_type": "markdown",
   "source": [
    "Analyse results of query."
   ],
   "metadata": {
    "collapsed": false
   }
  },
  {
   "cell_type": "code",
   "execution_count": 19,
   "outputs": [],
   "source": [
    "report.append(\"Missing wikepedia link for these Topic concepts:\")\n",
    "\n",
    "for r in results :\n",
    "    \n",
    "    id      = str(r['id'])\n",
    "    term    = str(r['term'])\n",
    "    seealso = str(r['seealso']) \n",
    "    deprecated = str(r['deprecated'])\n",
    "\n",
    "    # Skip deprecated concepts\n",
    "    if deprecated == \"true\":\n",
    "        continue\n",
    "            \n",
    "  # print(id, \"(\", term, \")   \", seealso, \"   \", str(r['seealso']))\n",
    "\n",
    "    # id is assingned to both the key and value of the 'ids' hash table\n",
    "    # Later on, just the key is used\n",
    "    ids[id] = id\n",
    "    terms[id] = term\n",
    "    errs[id] = True    \n",
    "      \n",
    "    # \"None\" string is return from SPARQL query where value was not found\n",
    "    if seealso != \"None\" and \"wikipedia\" in seealso:\n",
    "        errs[id] = False\n",
    "    \n",
    "for key in ids:\n",
    "    if errs[key]:\n",
    "        errfound = True\n",
    "        report.append(\"Missing wikipedia link ::: \" + key +  ' (' + terms[key] + ')')"
   ],
   "metadata": {
    "collapsed": false,
    "pycharm": {
     "name": "#%%\n",
     "is_executing": false
    }
   }
  },
  {
   "cell_type": "markdown",
   "source": [
    "Write report and return approriate value."
   ],
   "metadata": {
    "collapsed": false
   }
  },
  {
   "cell_type": "code",
   "execution_count": 20,
   "outputs": [
    {
     "name": "stdout",
     "text": [
      "Missing wikepedia link for these Topic concepts:\n",
      "Missing wikipedia link ::: http://edamontology.org/topic_3892 (Biomolecular simulation)\n",
      "Missing wikipedia link ::: http://edamontology.org/topic_3071 (Biological databases)\n",
      "Missing wikipedia link ::: http://edamontology.org/topic_3322 (Respiratory medicine)\n",
      "Missing wikipedia link ::: http://edamontology.org/topic_0123 (Protein properties)\n",
      "Missing wikipedia link ::: http://edamontology.org/topic_3421 (Surgery)\n",
      "Missing wikipedia link ::: http://edamontology.org/topic_0166 (Protein structural motifs and surfaces)\n",
      "Missing wikipedia link ::: http://edamontology.org/topic_3673 (Whole genome sequencing)\n",
      "Missing wikipedia link ::: http://edamontology.org/topic_3967 (Immunomics)\n",
      "Missing wikipedia link ::: http://edamontology.org/topic_3371 (Synthetic chemistry)\n",
      "Missing wikipedia link ::: http://edamontology.org/topic_0804 (Immunology)\n",
      "Missing wikipedia link ::: http://edamontology.org/topic_3377 (Safety sciences)\n",
      "Missing wikipedia link ::: http://edamontology.org/topic_3340 (Cell culture collection)\n",
      "Missing wikipedia link ::: http://edamontology.org/topic_0160 (Sequence sites, features and motifs)\n",
      "Missing wikipedia link ::: http://edamontology.org/topic_3293 (Phylogenetics)\n",
      "Missing wikipedia link ::: http://edamontology.org/topic_3409 (Gastroenterology)\n",
      "Missing wikipedia link ::: http://edamontology.org/topic_3050 (Biodiversity)\n",
      "Missing wikipedia link ::: http://edamontology.org/topic_3534 (Protein binding sites)\n",
      "Missing wikipedia link ::: http://edamontology.org/topic_3374 (Biotherapeutics)\n",
      "Missing wikipedia link ::: http://edamontology.org/topic_3382 (Imaging)\n",
      "Missing wikipedia link ::: http://edamontology.org/topic_3407 (Endocrinology and metabolism)\n",
      "Missing wikipedia link ::: http://edamontology.org/topic_0632 (Probes and primers)\n",
      "Missing wikipedia link ::: http://edamontology.org/topic_3376 (Medicines research and development)\n",
      "Missing wikipedia link ::: http://edamontology.org/topic_3404 (Dermatology)\n",
      "Missing wikipedia link ::: http://edamontology.org/topic_0084 (Phylogeny)\n",
      "Missing wikipedia link ::: http://edamontology.org/topic_0121 (Proteomics)\n",
      "Missing wikipedia link ::: http://edamontology.org/topic_0610 (Ecology)\n",
      "Missing wikipedia link ::: http://edamontology.org/topic_3361 (Laboratory techniques)\n",
      "Missing wikipedia link ::: http://edamontology.org/topic_3325 (Rare diseases)\n",
      "Missing wikipedia link ::: http://edamontology.org/topic_3523 (RNAi experiment)\n",
      "Missing wikipedia link ::: http://edamontology.org/topic_0634 (Pathology)\n",
      "Missing wikipedia link ::: http://edamontology.org/topic_3678 (Experimental design and studies)\n",
      "Missing wikipedia link ::: http://edamontology.org/topic_3305 (Public health and epidemiology)\n",
      "Missing wikipedia link ::: http://edamontology.org/topic_3957 (Protein interaction experiment)\n",
      "Missing wikipedia link ::: http://edamontology.org/topic_0080 (Sequence analysis)\n",
      "Missing wikipedia link ::: http://edamontology.org/topic_3954 (Echography)\n",
      "Missing wikipedia link ::: http://edamontology.org/topic_3401 (Pain medicine)\n",
      "Missing wikipedia link ::: http://edamontology.org/topic_3538 (Protein disordered structure)\n",
      "Missing wikipedia link ::: http://edamontology.org/topic_0081 (Structure analysis)\n",
      "Missing wikipedia link ::: http://edamontology.org/topic_3324 (Infectious disease)\n",
      "Missing wikipedia link ::: http://edamontology.org/topic_2640 (Oncology)\n",
      "Missing wikipedia link ::: http://edamontology.org/topic_3168 (Sequencing)\n",
      "Missing wikipedia link ::: http://edamontology.org/topic_3510 (Protein sites, features and motifs)\n",
      "Missing wikipedia link ::: http://edamontology.org/topic_3405 (Dentistry)\n",
      "Missing wikipedia link ::: http://edamontology.org/topic_3388 (Molecular medicine)\n",
      "Missing wikipedia link ::: http://edamontology.org/topic_0219 (Data submission, annotation and curation)\n",
      "Missing wikipedia link ::: http://edamontology.org/topic_0091 (Bioinformatics)\n",
      "Missing wikipedia link ::: http://edamontology.org/topic_3966 (Vaccinology)\n",
      "Missing wikipedia link ::: http://edamontology.org/topic_3679 (Animal study)\n",
      "Missing wikipedia link ::: http://edamontology.org/topic_3524 (Simulation experiment)\n",
      "Missing wikipedia link ::: http://edamontology.org/topic_0736 (Protein folds and structural domains)\n",
      "Missing wikipedia link ::: http://edamontology.org/topic_3300 (Physiology)\n",
      "Missing wikipedia link ::: http://edamontology.org/topic_3511 (Nucleic acid sites, features and motifs)\n",
      "Missing wikipedia link ::: http://edamontology.org/topic_3411 (Gynaecology and obstetrics)\n",
      "Missing wikipedia link ::: http://edamontology.org/topic_3334 (Neurology)\n",
      "Missing wikipedia link ::: http://edamontology.org/topic_0157 (Sequence composition, complexity and repeats)\n",
      "Missing wikipedia link ::: http://edamontology.org/topic_3420 (Reproductive health)\n",
      "Missing wikipedia link ::: http://edamontology.org/topic_3277 (Sample collections)\n",
      "Missing wikipedia link ::: http://edamontology.org/topic_3512 (Gene transcripts)\n",
      "Missing wikipedia link ::: http://edamontology.org/topic_0003 (Topic)\n",
      "Missing wikipedia link ::: http://edamontology.org/topic_3418 (Paediatrics)\n",
      "Missing wikipedia link ::: http://edamontology.org/topic_3412 (Hepatic and biliary medicine)\n",
      "Missing wikipedia link ::: http://edamontology.org/topic_3417 (Opthalmology)\n",
      "Missing wikipedia link ::: http://edamontology.org/topic_3339 (Microbial collection)\n",
      "Missing wikipedia link ::: http://edamontology.org/topic_3396 (Systems medicine)\n",
      "Missing wikipedia link ::: http://edamontology.org/topic_3393 (Quality affairs)\n",
      "Missing wikipedia link ::: http://edamontology.org/topic_1775 (Function analysis)\n",
      "Missing wikipedia link ::: http://edamontology.org/topic_3406 (Ear, nose and throat medicine)\n",
      "Missing wikipedia link ::: http://edamontology.org/topic_0622 (Genomics)\n",
      "Missing wikipedia link ::: http://edamontology.org/topic_3419 (Psychiatry)\n",
      "Missing wikipedia link ::: http://edamontology.org/topic_3410 (Gender medicine)\n",
      "Missing wikipedia link ::: http://edamontology.org/topic_3414 (Trauma medicine)\n",
      "Missing wikipedia link ::: http://edamontology.org/topic_3342 (Translational medicine)\n",
      "Missing wikipedia link ::: http://edamontology.org/topic_3408 (Haematology)\n",
      "Missing wikipedia link ::: http://edamontology.org/topic_3068 (Literature and language)\n",
      "Missing wikipedia link ::: http://edamontology.org/topic_3345 (Data identity and mapping)\n",
      "Missing wikipedia link ::: http://edamontology.org/topic_3338 (Mouse clinic)\n",
      "Missing wikipedia link ::: http://edamontology.org/topic_3571 (Data governance)\n",
      "Missing wikipedia link ::: http://edamontology.org/topic_3676 (Exome sequencing)\n",
      "Missing wikipedia link ::: http://edamontology.org/topic_3120 (Protein variants)\n",
      "Missing wikipedia link ::: http://edamontology.org/topic_3837 (Metagenomic sequencing)\n",
      "Missing wikipedia link ::: http://edamontology.org/topic_3520 (Proteomics experiment)\n",
      "Missing wikipedia link ::: http://edamontology.org/topic_3955 (Fluxomics)\n",
      "Missing wikipedia link ::: http://edamontology.org/topic_3399 (Geriatric medicine)\n",
      "Missing wikipedia link ::: http://edamontology.org/topic_3576 (Medical biotechnology)\n",
      "Missing wikipedia link ::: http://edamontology.org/topic_3415 (Medical toxicology)\n",
      "Missing wikipedia link ::: http://edamontology.org/topic_3577 (Personalised medicine)\n",
      "Missing wikipedia link ::: http://edamontology.org/topic_3416 (Musculoskeletal medicine)\n"
     ],
     "output_type": "stream"
    },
    {
     "ename": "SystemExit",
     "evalue": "3",
     "traceback": [
      "An exception has occurred, use %tb to see the full traceback.\n",
      "\u001B[0;31mSystemExit\u001B[0m\u001B[0;31m:\u001B[0m 3\n"
     ],
     "output_type": "error"
    }
   ],
   "source": [
    "# Return exit code (raises exception)\n",
    "if errfound:\n",
    "    print('\"Test name\": ' + '\"wikipediaLinkMissing\", ' +\\\n",
    "          '\"Status\": ' + '\"' + INFO + '\", ' +\\\n",
    "          '\"Reason\": ' + '\"' + '\\n'.join(report) + '\"')\n",
    "\n",
    "    # print(\"\\n\".join(report))\n",
    "    # sys.exit(INFO)\n",
    "else:\n",
    "    print('\"Test name\": ' + '\"wikipediaLinkMissing\", ' +\\\n",
    "          '\"Status\": ' + '\"' + NOERR + '\", ' +\\\n",
    "          '\"Reason\": ' + '\"-\"')\n",
    "\n",
    "    # print(\"No issues found.\")\n",
    "    # sys.exit(INFO)\n",
    "\n"
   ],
   "metadata": {
    "collapsed": false,
    "pycharm": {
     "name": "#%%\n",
     "is_executing": false
    }
   }
  }
 ],
 "metadata": {
  "kernelspec": {
   "display_name": "Python 3",
   "language": "python",
   "name": "python3"
  },
  "language_info": {
   "codemirror_mode": {
    "name": "ipython",
    "version": 2
   },
   "file_extension": ".py",
   "mimetype": "text/x-python",
   "name": "python",
   "nbconvert_exporter": "python",
   "pygments_lexer": "ipython2",
   "version": "2.7.6"
  }
 },
 "nbformat": 4,
 "nbformat_minor": 0
}