{
 "cells": [
  {
   "cell_type": "markdown",
   "source": [
    "**fileExtensionMissingSynonym.ipynb**\n",
    "\n",
    "EDAM Format concept is missing synyonm or label matching the file extension.\n",
    "\n",
    "**Documentation:** https://github.com/edamontology/edamverify/blob/master/docs/fileExtensionMissingSynonym.md\n",
    "\n",
    "Set constants for script return values. Load EDAM_dev.owl from GitHub into an RDF graph.\n",
    "\n",
    "**NB.1:** The ``EDAM_PATH`` environment variable (location of ``EDAM_dev.owl`` file) must be set.  The script requires the test to be run from a subdirectory of this path, hence ``'../EDAM_dev.owl'`` below."
   ],
   "metadata": {
    "collapsed": false
   }
  },
  {
   "cell_type": "code",
   "execution_count": 1,
   "outputs": [
    {
     "name": "stdout",
     "output_type": "stream",
     "text": [
      "Loading graph ...done!\n"
     ]
    }
   ],
   "source": [
    "import os\n",
    "from rdflib import ConjunctiveGraph, Namespace\n",
    "import json\n",
    "from collections import OrderedDict\n",
    "\n",
    "# Constants for script return value as per https://github.com/edamontology/edamverify.\n",
    "NOERR = \"NOERR\"\n",
    "INFO  = \"INFO\"\n",
    "WARN  = \"WARN\"\n",
    "ERROR = \"ERROR\"\n",
    "\n",
    "#Load EDAM_dev.owl from GitHub into an RDF graph.\n",
    "print(\"Loading graph ...\", end=\"\")\n",
    "g = ConjunctiveGraph()\n",
    "g.load(os.environ.get('EDAM_PATH', '../EDAM_dev.owl'), format='xml')\n",
    "# g.load('https://raw.githubusercontent.com/edamontology/edamontology/master/EDAM_dev.owl', format='xml')\n",
    "# g.load('EDAM_dev.owl', format='xml')\n",
    "g.bind('edam', Namespace('http://edamontology.org#'))\n",
    "print(\"done!\")\n",
    "\n"
   ],
   "metadata": {
    "collapsed": false,
    "pycharm": {
     "name": "#%%\n"
    }
   }
  },
  {
   "cell_type": "markdown",
   "source": [
    "Define SPARQL query to retrieve ID, term, file extension and exact synonym of concepts. Run the query.\n",
    "\n",
    "**NB:** BASE is used to define the define the default namespace (for ``file_extension`` below)."
   ],
   "metadata": {
    "collapsed": false
   }
  },
  {
   "cell_type": "code",
   "execution_count": 2,
   "outputs": [],
   "source": [
    "# Compile SPARQL query\n",
    "query_term = \"\"\"\n",
    "BASE <http://edamontology.org/>\n",
    "SELECT ?id ?term ?ext ?exact_syn WHERE\n",
    "{\n",
    "?id rdfs:label ?term .\n",
    "?id :file_extension ?ext .\n",
    "?id oboInOwl:hasExactSynonym ?exact_syn \n",
    "}\n",
    "\"\"\"\n",
    "\n",
    "# Run SPARQL query and collate results\n",
    "errfound = False    \n",
    "report = list()\n",
    "results = g.query(query_term)"
   ],
   "metadata": {
    "collapsed": false,
    "pycharm": {
     "name": "#%%\n"
    }
   }
  },
  {
   "cell_type": "markdown",
   "source": [
    "Analyse results of query."
   ],
   "metadata": {
    "collapsed": false
   }
  },
  {
   "cell_type": "code",
   "execution_count": 3,
   "outputs": [],
   "source": [
    "for r in results :\n",
    "#    print(str(r['id']), str(r['term']), str(r['ext']), str(r['exact_syn']))\n",
    "    id   = str(r['id'])\n",
    "    term = str(r['term']) \n",
    "    ext  = str(r['ext'])\n",
    "    exact_syn = str(r['exact_syn'])\n",
    "\n",
    "    if (ext.lower() != exact_syn.lower()) and (ext.lower() != term.lower()): \n",
    "        errfound = True\n",
    "        report.append(id +  ' (' + term + '): ' + ext)"
   ],
   "metadata": {
    "collapsed": false,
    "pycharm": {
     "name": "#%%\n"
    }
   }
  },
  {
   "cell_type": "markdown",
   "source": [
    "Write report and return approriate value."
   ],
   "metadata": {
    "collapsed": false
   }
  },
  {
   "cell_type": "code",
   "execution_count": 4,
   "outputs": [
    {
     "name": "stdout",
     "output_type": "stream",
     "text": [
      "{\n",
      "    \"test_name\": \"fileExtensionMissingSynonym\",\n",
      "    \"reason\": [\n",
      "        \"http://edamontology.org/format_3475 (TSV): tsv|tab\",\n",
      "        \"http://edamontology.org/format_3475 (TSV): tsv|tab\",\n",
      "        \"http://edamontology.org/format_3750 (YAML): yaml|yml\",\n",
      "        \"http://edamontology.org/format_3556 (MHTML): mhtml|mht|eml\",\n",
      "        \"http://edamontology.org/format_3556 (MHTML): mhtml|mht|eml\",\n",
      "        \"http://edamontology.org/format_3556 (MHTML): mhtml|mht|eml\",\n",
      "        \"http://edamontology.org/format_3556 (MHTML): mhtml|mht|eml\",\n",
      "        \"http://edamontology.org/format_3556 (MHTML): mhtml|mht|eml\",\n",
      "        \"http://edamontology.org/format_3556 (MHTML): mhtml|mht|eml\",\n",
      "        \"http://edamontology.org/format_3556 (MHTML): mhtml|mht|eml\",\n",
      "        \"http://edamontology.org/format_3789 (XQuery): xq|xqy|xquery\",\n",
      "        \"http://edamontology.org/format_3749 (JSON-LD): jsonld\",\n",
      "        \"http://edamontology.org/format_3746 (BIOM format): biom\",\n",
      "        \"http://edamontology.org/format_1930 (FASTQ): fq\",\n",
      "        \"http://edamontology.org/format_1930 (FASTQ): fq\"\n",
      "    ],\n",
      "    \"status\": \"WARN\",\n",
      "    \"comment\": \"No <exactSynonym> or <rdfs:label> found matching to <file_extension> for one or more concepts.\"\n",
      "}\n"
     ]
    }
   ],
   "source": [
    "# Write report\n",
    "# Use ordered dictionary to get consistent listing of properties in the JSON output\n",
    "#report_dict = OrderedDict\n",
    "#if errfound:\n",
    "#    report_dict = {\n",
    "#        'test_name': 'fileExtensionMissingSynonym',\n",
    "#        'status' : WARN,\n",
    "#        'reason' : report\n",
    "#    }\n",
    "#else:\n",
    "#    report_dict = {\n",
    "#        'test_name': 'fileExtensionMissingSynonym',\n",
    "#        'status' : NOERR,\n",
    "#        'reason' : '-'\n",
    "#    }\n",
    "#report_json = json.dumps(report_dict, indent=4)\n",
    "#print(report_json)\n",
    "\n",
    "report_obj = {}\n",
    "report_obj['test_name'] = 'fileExtensionMissingSynonym'\n",
    "report_obj['comment'] = 'No <exactSynonym> or <rdfs:label> found matching to <file_extension> for one or more concepts.'\n",
    "\n",
    "if errfound:\n",
    "    report_obj['status'] = WARN\n",
    "    report_obj['reason'] = report\n",
    "else:\n",
    "    report_obj['status'] = NOERR\n",
    "\n",
    "report_json = json.dumps(report_obj, indent=4)\n",
    "print(report_json)"
   ],
   "metadata": {
    "collapsed": false,
    "pycharm": {
     "name": "#%%\n"
    }
   }
  }
 ],
 "metadata": {
  "kernelspec": {
   "display_name": "Python 3",
   "language": "python",
   "name": "python3"
  },
  "language_info": {
   "codemirror_mode": {
    "name": "ipython",
    "version": 2
   },
   "file_extension": ".py",
   "mimetype": "text/x-python",
   "name": "python",
   "nbconvert_exporter": "python",
   "pygments_lexer": "ipython2",
   "version": "2.7.6"
  }
 },
 "nbformat": 4,
 "nbformat_minor": 0
}