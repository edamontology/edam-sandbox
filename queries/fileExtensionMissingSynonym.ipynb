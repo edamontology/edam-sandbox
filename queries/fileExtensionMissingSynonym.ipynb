{
 "cells": [
  {
   "cell_type": "markdown",
   "source": [
    "**fileExtensionMissingSynonym.ipynb**\n",
    "\n",
    "EDAM Format concept is missing synyonm or label matching the file extension.\n",
    "\n",
    "**Documentation:** https://github.com/edamontology/edamverify/blob/master/docs/fileExtensionMissingSynonym.md\n",
    "\n",
    "**NB.1: - Running the notebook**\n",
    "The directory containing the ``EDAM_dev.owl`` file must be defined by ``EDAM_PATH`` environment variable.\n",
    "\n",
    "The script requires the test to be run from a subdirectory of ``EDAM_PATH`` (hence ``'../EDAM_dev.owl'`` below)"
   ],
   "metadata": {
    "collapsed": false
   }
  },
  {
   "cell_type": "code",
   "execution_count": 36,
   "outputs": [
    {
     "name": "stdout",
     "output_type": "stream",
     "text": [
      "Loading graph ...done!\n"
     ]
    }
   ],
   "source": [
    "import os\n",
    "from rdflib import ConjunctiveGraph, Namespace\n",
    "import json\n",
    "\n",
    "# Constants for script return value as per https://github.com/edamontology/edamverify.\n",
    "NOERR = \"NOERR\"\n",
    "INFO  = \"INFO\"\n",
    "WARN  = \"WARN\"\n",
    "ERROR = \"ERROR\"\n",
    "\n",
    "#Load EDAM_dev.owl from GitHub into an RDF graph.\n",
    "print(\"Loading graph ...\", end=\"\")\n",
    "g = ConjunctiveGraph()\n",
    "g.load(os.environ.get('EDAM_PATH', '../EDAM_dev.owl'), format='xml')\n",
    "# g.load('https://raw.githubusercontent.com/edamontology/edamontology/master/EDAM_dev.owl', format='xml')\n",
    "# g.load('EDAM_dev.owl', format='xml')\n",
    "g.bind('edam', Namespace('http://edamontology.org#'))\n",
    "print(\"done!\")\n",
    "\n"
   ],
   "metadata": {
    "collapsed": false,
    "pycharm": {
     "name": "#%%\n"
    }
   }
  },
  {
   "cell_type": "markdown",
   "source": [
    "Define SPARQL query to retrieve ID, term, file extension and exact synonym of concepts. Run the query.\n",
    "\n",
    "**NB:** BASE is used to define the define the default namespace (for ``file_extension`` below)."
   ],
   "metadata": {
    "collapsed": false
   }
  },
  {
   "cell_type": "code",
   "execution_count": 37,
   "outputs": [],
   "source": [
    "# Compile SPARQL query\n",
    "query_term = \"\"\"\n",
    "BASE <http://edamontology.org/>\n",
    "SELECT ?id ?term ?ext ?exact_syn WHERE\n",
    "{\n",
    "?id rdfs:label ?term .\n",
    "?id :file_extension ?ext .\n",
    "?id oboInOwl:hasExactSynonym ?exact_syn \n",
    "}\n",
    "\"\"\"\n",
    "\n",
    "# Run SPARQL query and collate results\n",
    "errfound = False\n",
    "errs = {}\n",
    "report = list()\n",
    "results = g.query(query_term)"
   ],
   "metadata": {
    "collapsed": false,
    "pycharm": {
     "name": "#%%\n"
    }
   }
  },
  {
   "cell_type": "markdown",
   "source": [
    "Analyse results of query."
   ],
   "metadata": {
    "collapsed": false
   }
  },
  {
   "cell_type": "code",
   "execution_count": 38,
   "outputs": [],
   "source": [
    "# Code is a bit bloaty below (3 separate loops) but has been tested & works well.\n",
    "\n",
    "for r in results :\n",
    "    id   = str(r['id'])\n",
    "    errs[id]={}\n",
    "\n",
    "for r in results :\n",
    "#    print(str(r['id']), str(r['term']), str(r['ext']), str(r['exact_syn']))\n",
    "    id   = str(r['id'])\n",
    "    term = str(r['term']) \n",
    "    ext  = str(r['ext'])\n",
    "    exact_syn = str(r['exact_syn'])\n",
    "\n",
    "    if (ext.lower() != exact_syn.lower()) and (ext.lower() != term.lower()): \n",
    "        if ext not in errs[id]:\n",
    "            errs[id][ext] = True\n",
    "    else:\n",
    "        errs[id][ext] = False\n",
    "\n",
    "for r in results :\n",
    "    id   = str(r['id'])\n",
    "    term = str(r['term'])\n",
    "    ext  = str(r['ext'])\n",
    "\n",
    "    if errs[id][ext] == True:\n",
    "        errfound = True\n",
    "        report.append(id +  ' (' + term + '): ' + ext)"
   ],
   "metadata": {
    "collapsed": false,
    "pycharm": {
     "name": "#%%\n"
    }
   }
  },
  {
   "cell_type": "markdown",
   "source": [
    "Write report and return approriate value."
   ],
   "metadata": {
    "collapsed": false
   }
  },
  {
   "cell_type": "code",
   "execution_count": 39,
   "outputs": [
    {
     "name": "stdout",
     "output_type": "stream",
     "text": [
      "{\n",
      "    \"comment\": \"No <exactSynonym> or <rdfs:label> found matching to <file_extension> for one or more concepts.\",\n",
      "    \"test_name\": \"fileExtensionMissingSynonym\",\n",
      "    \"status\": \"NOERR\"\n",
      "}\n"
     ]
    }
   ],
   "source": [
    "report_obj = {}\n",
    "report_obj['test_name'] = 'fileExtensionMissingSynonym'\n",
    "report_obj['comment'] = 'No <exactSynonym> or <rdfs:label> found matching to <file_extension> for one or more concepts.'\n",
    "\n",
    "if errfound:\n",
    "    report_obj['status'] = WARN\n",
    "    report_obj['reason'] = report\n",
    "else:\n",
    "    report_obj['status'] = NOERR\n",
    "\n",
    "report_json = json.dumps(report_obj, indent=4)\n",
    "print(report_json)"
   ],
   "metadata": {
    "collapsed": false,
    "pycharm": {
     "name": "#%%\n"
    }
   }
  }
 ],
 "metadata": {
  "kernelspec": {
   "display_name": "Python 3",
   "language": "python",
   "name": "python3"
  },
  "language_info": {
   "codemirror_mode": {
    "name": "ipython",
    "version": 2
   },
   "file_extension": ".py",
   "mimetype": "text/x-python",
   "name": "python",
   "nbconvert_exporter": "python",
   "pygments_lexer": "ipython2",
   "version": "2.7.6"
  }
 },
 "nbformat": 4,
 "nbformat_minor": 0
}