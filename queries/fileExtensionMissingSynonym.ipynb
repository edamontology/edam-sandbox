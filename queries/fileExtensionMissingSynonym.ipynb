{
 "cells": [
  {
   "cell_type": "markdown",
   "source": [
    "**fileExtensionMissingSynonym.ipynb**\n",
    "\n",
    "EDAM Format concept is missing synyonm or label matching the file extension.\n",
    "\n",
    "**Documentation:** https://github.com/edamontology/edamverify/blob/master/docs/fileExtensionMissingSynonym.md\n",
    "\n",
    "Set constants for script return values. Load EDAM_dev.owl from GitHub into an RDF graph."
   ],
   "metadata": {
    "collapsed": false
   }
  },
  {
   "cell_type": "code",
   "execution_count": 37,
   "outputs": [
    {
     "name": "stdout",
     "text": [
      "Loading graph ...done!\n"
     ],
     "output_type": "stream"
    }
   ],
   "source": [
    "import io\n",
    "import sys\n",
    "from rdflib import ConjunctiveGraph, Namespace\n",
    "\n",
    "# Constants for script return value as per https://github.com/edamontology/edamverify.\n",
    "NOERR = 0\n",
    "INFO  = 1\n",
    "WARN  = 2\n",
    "ERROR = 3\n",
    "\n",
    "#Load EDAM_dev.owl from GitHub into an RDF graph.\n",
    "print(\"Loading graph ...\", end=\"\")\n",
    "g = ConjunctiveGraph()\n",
    "# g.load('https://raw.githubusercontent.com/edamontology/edamontology/master/EDAM_dev.owl', format='xml')\n",
    "g.load('EDAM_dev.owl', format='xml')\n",
    "g.bind('edam', Namespace('http://edamontology.org#'))\n",
    "print(\"done!\")\n",
    "\n"
   ],
   "metadata": {
    "collapsed": false,
    "pycharm": {
     "name": "#%%\n",
     "is_executing": false
    }
   }
  },
  {
   "cell_type": "markdown",
   "source": [
    "Define SPARQL query to retrieve file extension of (EDAM Format) concepts. Run the query.\n",
    "\n",
    "**NB:** BASE is used to define the define the default namespace (for ``file_extension`` below)."
   ],
   "metadata": {
    "collapsed": false
   }
  },
  {
   "cell_type": "code",
   "execution_count": 38,
   "outputs": [
    {
     "name": "stdout",
     "text": [
      "No <exactSynonym> or <rdfs:label> found corresponding to <file_extension> for these concepts:\n",
      "http://edamontology.org/format_3749 (JSON-LD): jsonld\n",
      "http://edamontology.org/format_3789 (XQuery): xq|xqy|xquery\n",
      "http://edamontology.org/format_3556 (MHTML): mhtml|mht|eml\n",
      "http://edamontology.org/format_3556 (MHTML): mhtml|mht|eml\n",
      "http://edamontology.org/format_3556 (MHTML): mhtml|mht|eml\n",
      "http://edamontology.org/format_3556 (MHTML): mhtml|mht|eml\n",
      "http://edamontology.org/format_3556 (MHTML): mhtml|mht|eml\n",
      "http://edamontology.org/format_3556 (MHTML): mhtml|mht|eml\n",
      "http://edamontology.org/format_3556 (MHTML): mhtml|mht|eml\n",
      "http://edamontology.org/format_3750 (YAML): yaml|yml\n",
      "http://edamontology.org/format_3475 (TSV): tsv|tab\n",
      "http://edamontology.org/format_3475 (TSV): tsv|tab\n",
      "http://edamontology.org/format_1930 (FASTQ): fq\n",
      "http://edamontology.org/format_1930 (FASTQ): fq\n",
      "http://edamontology.org/format_3746 (BIOM format): biom\n"
     ],
     "output_type": "stream"
    },
    {
     "ename": "SystemExit",
     "evalue": "2",
     "traceback": [
      "An exception has occurred, use %tb to see the full traceback.\n",
      "\u001b[0;31mSystemExit\u001b[0m\u001b[0;31m:\u001b[0m 2\n"
     ],
     "output_type": "error"
    },
    {
     "name": "stderr",
     "text": [
      "/usr/local/lib/python3.5/dist-packages/IPython/core/interactiveshell.py:3334: UserWarning: To exit: use 'exit', 'quit', or Ctrl-D.\n",
      "  warn(\"To exit: use 'exit', 'quit', or Ctrl-D.\", stacklevel=1)\n"
     ],
     "output_type": "stream"
    }
   ],
   "source": [
    "# Compile SPARQL query\n",
    "query_term = \"\"\"\n",
    "BASE <http://edamontology.org/>\n",
    "SELECT ?id ?term ?ext ?exact_syn WHERE\n",
    "{\n",
    "?id rdfs:label ?term .\n",
    "?id :file_extension ?ext .\n",
    "?id oboInOwl:hasExactSynonym ?exact_syn \n",
    "}\n",
    "\"\"\"\n",
    "\n",
    "# Run SPARQL query and collate results\n",
    "errfound = False    \n",
    "report = list()\n",
    "results = g.query(query_term)"
   ],
   "metadata": {
    "collapsed": false,
    "pycharm": {
     "name": "#%%\n",
     "is_executing": false
    }
   }
  },
  {
   "cell_type": "markdown",
   "source": [
    "Analyse results of query."
   ],
   "metadata": {
    "collapsed": false
   }
  },
  {
   "cell_type": "code",
   "execution_count": null,
   "outputs": [],
   "source": [
    "for r in results :\n",
    "#    print(str(r['id']), str(r['term']), str(r['ext']), str(r['exact_syn']))\n",
    "    id   = str(r['id'])\n",
    "    term = str(r['term']) \n",
    "    ext  = str(r['ext'])\n",
    "    exact_syn = str(r['exact_syn'])\n",
    "\n",
    "    if (ext.lower() != exact_syn.lower()) and (ext.lower() != term.lower()): \n",
    "        errfound = True\n",
    "        report.append(id +  ' (' + term + '): ' + ext)"
   ],
   "metadata": {
    "collapsed": false,
    "pycharm": {
     "name": "#%%\n"
    }
   }
  },
  {
   "cell_type": "markdown",
   "source": [
    "Write report and return approriate value."
   ],
   "metadata": {
    "collapsed": false
   }
  },
  {
   "cell_type": "code",
   "execution_count": null,
   "outputs": [],
   "source": [
    "# Return exit code (raises exception) \n",
    "if errfound == True:\n",
    "    print(\"No <exactSynonym> or <rdfs:label> found matching to <file_extension> for these concepts:\")\n",
    "    print(\"\\n\".join(report))\n",
    "    sys.exit(WARN)\n",
    "else:\n",
    "    print(\"No issues found.\")\n",
    "    sys.exit(NOERR)"
   ],
   "metadata": {
    "collapsed": false,
    "pycharm": {
     "name": "#%%\n"
    }
   }
  }
 ],
 "metadata": {
  "kernelspec": {
   "display_name": "Python 3",
   "language": "python",
   "name": "python3"
  },
  "language_info": {
   "codemirror_mode": {
    "name": "ipython",
    "version": 2
   },
   "file_extension": ".py",
   "mimetype": "text/x-python",
   "name": "python",
   "nbconvert_exporter": "python",
   "pygments_lexer": "ipython2",
   "version": "2.7.6"
  },
  "pycharm": {
   "stem_cell": {
    "cell_type": "raw",
    "source": [],
    "metadata": {
     "collapsed": false
    }
   }
  }
 },
 "nbformat": 4,
 "nbformat_minor": 0
}