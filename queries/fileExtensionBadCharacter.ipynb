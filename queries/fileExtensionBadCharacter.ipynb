{
 "cells": [
  {
   "cell_type": "markdown",
   "source": [
    "**fileExtensionBadCharacter.ipynb**\n",
    "\n",
    "EDAM Format concept is missing synyonm or label matching the file extension.\n",
    "\n",
    "**Documentation:** https://github.com/edamontology/edamverify/blob/master/docs/fileExtensionBadCharacter.md\n",
    "\n",
    "**NB.1: - Running the notebook**\n",
    "The directory containing the ``EDAM_dev.owl`` file must be defined by ``EDAM_PATH`` environment variable.\n",
    "\n",
    "The script requires the test to be run from a subdirectory of ``EDAM_PATH`` (hence ``'../EDAM_dev.owl'`` below)"
   ],
   "metadata": {
    "collapsed": false
   }
  },
  {
   "cell_type": "code",
   "execution_count": 5,
   "outputs": [
    {
     "name": "stdout",
     "output_type": "stream",
     "text": [
      "Loading graph ...done!\n"
     ]
    }
   ],
   "source": [
    "import os\n",
    "from rdflib import ConjunctiveGraph, Namespace\n",
    "import json\n",
    "\n",
    "# Constants for script return value as per https://github.com/edamontology/edamverify.NOERR = \"NOERR\"\n",
    "NOERR = \"NOERR\"\n",
    "INFO  = \"INFO\"\n",
    "WARN  = \"WARN\"\n",
    "ERROR = \"ERROR\"\n",
    "\n",
    "#Load EDAM_dev.owl from GitHub into an RDF graph.\n",
    "print(\"Loading graph ...\", end=\"\")\n",
    "g = ConjunctiveGraph()\n",
    "g.load(os.environ.get('EDAM_PATH', '../EDAM_dev.owl'), format='xml')\n",
    "# g.load('https://raw.githubusercontent.com/edamontology/edamontology/master/EDAM_dev.owl', format='xml')\n",
    "# g.load('EDAM_dev.owl', format='xml')\n",
    "g.bind('edam', Namespace('http://edamontology.org#'))\n",
    "print(\"done!\")\n",
    "\n"
   ],
   "metadata": {
    "collapsed": false,
    "pycharm": {
     "name": "#%%\n"
    }
   }
  },
  {
   "cell_type": "markdown",
   "source": [
    "Define SPARQL query to retrieve ID, term and file extension of concepts. Run the query.\n",
    "\n",
    "**NB:** BASE is used to define the define the default namespace (for `:file_extension` below)."
   ],
   "metadata": {
    "collapsed": false
   }
  },
  {
   "cell_type": "code",
   "execution_count": 6,
   "outputs": [],
   "source": [
    "# Compile SPARQL query\n",
    "query_term = \"\"\"\n",
    "BASE <http://edamontology.org/>\n",
    "SELECT ?id ?term ?ext WHERE\n",
    "{\n",
    "?id rdfs:label ?term .\n",
    "?id :file_extension ?ext .\n",
    "}\n",
    "\"\"\"\n",
    "\n",
    "# Run SPARQL query and collate results\n",
    "errfound = False    \n",
    "report = list()\n",
    "results = g.query(query_term)"
   ],
   "metadata": {
    "collapsed": false,
    "pycharm": {
     "name": "#%%\n"
    }
   }
  },
  {
   "cell_type": "markdown",
   "source": [
    "Analyse results of query.\n"
   ],
   "metadata": {
    "collapsed": false
   }
  },
  {
   "cell_type": "code",
   "execution_count": 7,
   "outputs": [],
   "source": [
    "for r in results :\n",
    "    # print(str(r['id']), str(r['term']), str(r['ext']))\n",
    "    id   = str(r['id'])\n",
    "    term = str(r['term']) \n",
    "    ext  = str(r['ext'])\n",
    "\n",
    "    if not ext.isalnum() or ext != ext.lower(): \n",
    "        errfound = True\n",
    "        report.append(id +  ' (' + term + '): ' + ext)\n"
   ],
   "metadata": {
    "collapsed": false,
    "pycharm": {
     "name": "#%%\n"
    }
   }
  },
  {
   "cell_type": "markdown",
   "source": [
    "Write report and return approriate value.\n",
    "\n"
   ],
   "metadata": {
    "collapsed": false
   }
  },
  {
   "cell_type": "code",
   "execution_count": 8,
   "outputs": [
    {
     "name": "stdout",
     "output_type": "stream",
     "text": [
      "{\n",
      "    \"comment\": \"Bad characters found in <file_extension> property of one or more concepts.\",\n",
      "    \"test_name\": \"fileExtensionBadCharacter\",\n",
      "    \"status\": \"NOERR\"\n",
      "}\n"
     ]
    }
   ],
   "source": [
    "report_obj = {}\n",
    "report_obj['test_name'] = 'fileExtensionBadCharacter'\n",
    "report_obj['comment'] = 'Bad characters found in <file_extension> property of one or more concepts.'\n",
    "\n",
    "if errfound:\n",
    "    report_obj['status'] = WARN\n",
    "    report_obj['reason'] = report\n",
    "else:\n",
    "    report_obj['status'] = NOERR\n",
    "\n",
    "report_json = json.dumps(report_obj, indent=4)\n",
    "print(report_json)"
   ],
   "metadata": {
    "collapsed": false,
    "pycharm": {
     "name": "#%%\n"
    }
   }
  }
 ],
 "metadata": {
  "kernelspec": {
   "display_name": "Python 3",
   "language": "python",
   "name": "python3"
  },
  "language_info": {
   "codemirror_mode": {
    "name": "ipython",
    "version": 2
   },
   "file_extension": ".py",
   "mimetype": "text/x-python",
   "name": "python",
   "nbconvert_exporter": "python",
   "pygments_lexer": "ipython2",
   "version": "2.7.6"
  }
 },
 "nbformat": 4,
 "nbformat_minor": 0
}