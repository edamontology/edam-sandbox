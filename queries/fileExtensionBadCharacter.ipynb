{
 "cells": [
  {
   "cell_type": "code",
   "execution_count": 30,
   "metadata": {
    "collapsed": true,
    "pycharm": {
     "is_executing": false
    }
   },
   "outputs": [],
   "source": []
  },
  {
   "cell_type": "markdown",
   "source": [
    "Set constants for script return values. Load EDAM_dev.owl from GitHub into an RDF graph.\n"
   ],
   "metadata": {
    "collapsed": false
   }
  },
  {
   "cell_type": "code",
   "execution_count": 31,
   "outputs": [
    {
     "name": "stdout",
     "text": [
      "system version .../usr/bin/python3\n",
      "Loading graph ...done!\n"
     ],
     "output_type": "stream"
    }
   ],
   "source": [
    "import io\n",
    "import sys\n",
    "from rdflib import ConjunctiveGraph, Namespace\n",
    "\n",
    "# Constants for script return value as per https://github.com/edamontology/edamverify.\n",
    "NOERR = 0\n",
    "INFO  = 1\n",
    "WARN  = 2\n",
    "ERROR = 3\n",
    "\n",
    "print(\"system version ...\", end=\"\")\n",
    "print (sys.executable)\n",
    "\n",
    "#Load EDAM_dev.owl from GitHub into an RDF graph.\n",
    "print(\"Loading graph ...\", end=\"\")\n",
    "g = ConjunctiveGraph()\n",
    "g.load('https://raw.githubusercontent.com/edamontology/edamontology/master/EDAM_dev.owl', format='xml')\n",
    "g.bind('edam', Namespace('http://edamontology.org#'))\n",
    "print(\"done!\")\n",
    "\n"
   ],
   "metadata": {
    "collapsed": false,
    "pycharm": {
     "name": "#%%\n",
     "is_executing": false
    }
   }
  },
  {
   "cell_type": "markdown",
   "source": [
    "Define SPARQL query to retrieve file extension of (EDAM Format) concepts. Run the query, write report and return approriate value.\n",
    "NB. BASE is used to define the define the default namespace (for :file_extension below)."
   ],
   "metadata": {
    "collapsed": false
   }
  },
  {
   "cell_type": "code",
   "execution_count": 32,
   "outputs": [
    {
     "name": "stdout",
     "text": [
      "Issues found with <file_extension> property of these concepts:\n",
      "http://edamontology.org/format_3789 (XQuery): xq|xqy|xquery\n",
      "http://edamontology.org/format_3475 (TSV): tsv|tab\n",
      "http://edamontology.org/format_3750 (YAML): yaml|yml\n",
      "http://edamontology.org/format_3682 (imzML metadata file): imzML\n",
      "http://edamontology.org/format_3556 (MHTML): mhtml|mht|eml\n"
     ],
     "output_type": "stream"
    },
    {
     "ename": "SystemExit",
     "evalue": "2",
     "traceback": [
      "An exception has occurred, use %tb to see the full traceback.\n",
      "\u001b[0;31mSystemExit\u001b[0m\u001b[0;31m:\u001b[0m 2\n"
     ],
     "output_type": "error"
    }
   ],
   "source": [
    "query_term = \"\"\"\n",
    "BASE <http://edamontology.org/>\n",
    "SELECT ?id ?term ?ext WHERE\n",
    "{\n",
    "?id rdfs:label ?term .\n",
    "?id :file_extension ?ext .\n",
    "}\n",
    "\"\"\"\n",
    "\n",
    "errfound = False    \n",
    "report = list()\n",
    "results = g.query(query_term)\n",
    "for r in results :\n",
    "    # print(str(r['id']), str(r['term']), str(r['ext']))\n",
    "    id   = str(r['id'])\n",
    "    term = str(r['term']) \n",
    "    ext  = str(r['ext'])\n",
    "\n",
    "    if not ext.isalnum() or ext != ext.lower(): \n",
    "        errfound = True\n",
    "        report.append(id +  ' (' + term + '): ' + ext)\n",
    "\n",
    "if errfound == True:\n",
    "    print(\"Issues found with <file_extension> property of these concepts:\")\n",
    "    print(\"\\n\".join(report))\n",
    "    sys.exit(WARN)\n",
    "else:\n",
    "    print(\"No issues found.\")\n",
    "    sys.exit(NOERR)\n",
    "\n",
    "        \n",
    "# Use sys.exit(0) to indicate no error encountered, or sys.exit(1), sys.exit (2) and sys.exit(3) for INFO< WARN and ERROR."
   ],
   "metadata": {
    "collapsed": false,
    "pycharm": {
     "name": "#%%\n",
     "is_executing": false
    }
   }
  }
 ],
 "metadata": {
  "kernelspec": {
   "display_name": "Python 3",
   "language": "python",
   "name": "python3"
  },
  "language_info": {
   "codemirror_mode": {
    "name": "ipython",
    "version": 2
   },
   "file_extension": ".py",
   "mimetype": "text/x-python",
   "name": "python",
   "nbconvert_exporter": "python",
   "pygments_lexer": "ipython2",
   "version": "2.7.6"
  },
  "pycharm": {
   "stem_cell": {
    "cell_type": "raw",
    "source": [],
    "metadata": {
     "collapsed": false
    }
   }
  }
 },
 "nbformat": 4,
 "nbformat_minor": 0
}