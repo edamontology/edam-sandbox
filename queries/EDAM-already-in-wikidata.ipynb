{
 "cells": [
  {
   "cell_type": "code",
   "execution_count": 36,
   "metadata": {
    "pycharm": {
     "name": "#%%\n"
    }
   },
   "outputs": [
    {
     "name": "stdout",
     "output_type": "stream",
     "text": [
      "Loading graph ...done!\n"
     ]
    }
   ],
   "source": [
    "import os\n",
    "from rdflib import ConjunctiveGraph, Namespace\n",
    "import json\n",
    "import requests\n",
    "import time\n",
    "\n",
    "# Constants for script error reporting as per https://github.com/edamontology/edamverify.\n",
    "NOERR = \"NOERR\"\n",
    "INFO  = \"INFO\"\n",
    "WARN  = \"WARN\"\n",
    "ERROR = \"ERROR\"\n",
    "\n",
    "#Load EDAM_dev.owl from GitHub into an RDF graph.\n",
    "print(\"Loading graph ...\", end=\"\")\n",
    "g = ConjunctiveGraph()\n",
    "# g.load(os.environ.get('EDAM_PATH', '../EDAM_dev.owl'), format='xml')\n",
    "g.load('https://raw.githubusercontent.com/edamontology/edamontology/master/EDAM_dev.owl', format='xml')\n",
    "# g.load('EDAM_dev.owl')\n",
    "g.bind('edam', Namespace('http://edamontology.org#'))\n",
    "print(\"done!\")"
   ]
  },
  {
   "cell_type": "code",
   "execution_count": 13,
   "metadata": {
    "pycharm": {
     "name": "#%%\n"
    }
   },
   "outputs": [
    {
     "name": "stdout",
     "output_type": "stream",
     "text": [
      "Found 3502 EDAM classes\n"
     ]
    }
   ],
   "source": [
    "# Compile SPARQL query\n",
    "query_term = \"\"\"\n",
    "SELECT DISTINCT ?edam_class ?seealso WHERE {\n",
    "    ?edam_class a owl:Class .\n",
    "} \n",
    "\"\"\"\n",
    "results = g.query(query_term)\n",
    "\n",
    "edam_classes = []\n",
    "\n",
    "for r in results :\n",
    "    edam_uri      = str(r['edam_class'])\n",
    "    edam_classes.append(edam_uri)\n",
    "    \n",
    "print(f'Found {len(edam_classes)} EDAM classes')"
   ]
  },
  {
   "cell_type": "code",
   "execution_count": 39,
   "metadata": {
    "pycharm": {
     "name": "#%%\n"
    }
   },
   "outputs": [],
   "source": [
    "def query_wikidata(list_of_classes):\n",
    "    results = []\n",
    "    endpoint = \"https://query.wikidata.org/sparql\"\n",
    "    query = \"\"\"\n",
    "SELECT ?edam ?wd_entity WHERE {\n",
    "    \n",
    "    VALUES ?edam { \"\"\" + \" \".join(map('<{0}>'.format, list_of_classes) ) + \"\"\"}\n",
    "\n",
    "    ?wd_entity wdt:P2888 ?edam .\n",
    "    \n",
    "}\n",
    "        \"\"\"\n",
    "    #print(query)\n",
    "\n",
    "    h = {\"Accept\": \"application/sparql-results+json\"}\n",
    "    p = {\"query\": query}\n",
    "    res = requests.get(endpoint, headers=h, params=p, verify=False)\n",
    "    \n",
    "    print(f\"{len(res.json()['results']['bindings'])} results\")\n",
    "    \n",
    "    for r in res.json()['results']['bindings']:\n",
    "        print(f\"{r['edam']['value']} -> {r['wd_entity']['value']}\")\n",
    "        results.append((r['edam']['value'], r['wd_entity']['value']))\n",
    "    return results"
   ]
  },
  {
   "cell_type": "code",
   "execution_count": 40,
   "metadata": {
    "scrolled": true
   },
   "outputs": [
    {
     "name": "stderr",
     "output_type": "stream",
     "text": [
      "/Users/gaignard-a/miniconda3/envs/edamverify/lib/python3.7/site-packages/urllib3/connectionpool.py:1050: InsecureRequestWarning: Unverified HTTPS request is being made to host 'query.wikidata.org'. Adding certificate verification is strongly advised. See: https://urllib3.readthedocs.io/en/1.26.x/advanced-usage.html#ssl-warnings\n",
      "  InsecureRequestWarning,\n"
     ]
    },
    {
     "name": "stdout",
     "output_type": "stream",
     "text": [
      "2 results\n",
      "http://edamontology.org/operation_0310 -> http://www.wikidata.org/entity/Q740578\n",
      "http://edamontology.org/operation_0524 -> http://www.wikidata.org/entity/Q67573816\n",
      "Processed 100 EDAM classes\n"
     ]
    },
    {
     "name": "stderr",
     "output_type": "stream",
     "text": [
      "/Users/gaignard-a/miniconda3/envs/edamverify/lib/python3.7/site-packages/urllib3/connectionpool.py:1050: InsecureRequestWarning: Unverified HTTPS request is being made to host 'query.wikidata.org'. Adding certificate verification is strongly advised. See: https://urllib3.readthedocs.io/en/1.26.x/advanced-usage.html#ssl-warnings\n",
      "  InsecureRequestWarning,\n"
     ]
    },
    {
     "name": "stdout",
     "output_type": "stream",
     "text": [
      "0 results\n",
      "Processed 200 EDAM classes\n"
     ]
    },
    {
     "name": "stderr",
     "output_type": "stream",
     "text": [
      "/Users/gaignard-a/miniconda3/envs/edamverify/lib/python3.7/site-packages/urllib3/connectionpool.py:1050: InsecureRequestWarning: Unverified HTTPS request is being made to host 'query.wikidata.org'. Adding certificate verification is strongly advised. See: https://urllib3.readthedocs.io/en/1.26.x/advanced-usage.html#ssl-warnings\n",
      "  InsecureRequestWarning,\n"
     ]
    },
    {
     "name": "stdout",
     "output_type": "stream",
     "text": [
      "0 results\n",
      "Processed 300 EDAM classes\n"
     ]
    },
    {
     "name": "stderr",
     "output_type": "stream",
     "text": [
      "/Users/gaignard-a/miniconda3/envs/edamverify/lib/python3.7/site-packages/urllib3/connectionpool.py:1050: InsecureRequestWarning: Unverified HTTPS request is being made to host 'query.wikidata.org'. Adding certificate verification is strongly advised. See: https://urllib3.readthedocs.io/en/1.26.x/advanced-usage.html#ssl-warnings\n",
      "  InsecureRequestWarning,\n"
     ]
    },
    {
     "name": "stdout",
     "output_type": "stream",
     "text": [
      "0 results\n",
      "Processed 400 EDAM classes\n"
     ]
    },
    {
     "name": "stderr",
     "output_type": "stream",
     "text": [
      "/Users/gaignard-a/miniconda3/envs/edamverify/lib/python3.7/site-packages/urllib3/connectionpool.py:1050: InsecureRequestWarning: Unverified HTTPS request is being made to host 'query.wikidata.org'. Adding certificate verification is strongly advised. See: https://urllib3.readthedocs.io/en/1.26.x/advanced-usage.html#ssl-warnings\n",
      "  InsecureRequestWarning,\n"
     ]
    },
    {
     "name": "stdout",
     "output_type": "stream",
     "text": [
      "2 results\n",
      "http://edamontology.org/topic_0082 -> http://www.wikidata.org/entity/Q67577480\n",
      "http://edamontology.org/operation_2995 -> http://www.wikidata.org/entity/Q67587688\n",
      "Processed 500 EDAM classes\n"
     ]
    },
    {
     "name": "stderr",
     "output_type": "stream",
     "text": [
      "/Users/gaignard-a/miniconda3/envs/edamverify/lib/python3.7/site-packages/urllib3/connectionpool.py:1050: InsecureRequestWarning: Unverified HTTPS request is being made to host 'query.wikidata.org'. Adding certificate verification is strongly advised. See: https://urllib3.readthedocs.io/en/1.26.x/advanced-usage.html#ssl-warnings\n",
      "  InsecureRequestWarning,\n"
     ]
    },
    {
     "name": "stdout",
     "output_type": "stream",
     "text": [
      "0 results\n",
      "Processed 600 EDAM classes\n"
     ]
    },
    {
     "name": "stderr",
     "output_type": "stream",
     "text": [
      "/Users/gaignard-a/miniconda3/envs/edamverify/lib/python3.7/site-packages/urllib3/connectionpool.py:1050: InsecureRequestWarning: Unverified HTTPS request is being made to host 'query.wikidata.org'. Adding certificate verification is strongly advised. See: https://urllib3.readthedocs.io/en/1.26.x/advanced-usage.html#ssl-warnings\n",
      "  InsecureRequestWarning,\n"
     ]
    },
    {
     "name": "stdout",
     "output_type": "stream",
     "text": [
      "1 results\n",
      "http://edamontology.org/topic_3673 -> http://www.wikidata.org/entity/Q2068526\n",
      "Processed 700 EDAM classes\n"
     ]
    },
    {
     "name": "stderr",
     "output_type": "stream",
     "text": [
      "/Users/gaignard-a/miniconda3/envs/edamverify/lib/python3.7/site-packages/urllib3/connectionpool.py:1050: InsecureRequestWarning: Unverified HTTPS request is being made to host 'query.wikidata.org'. Adding certificate verification is strongly advised. See: https://urllib3.readthedocs.io/en/1.26.x/advanced-usage.html#ssl-warnings\n",
      "  InsecureRequestWarning,\n"
     ]
    },
    {
     "name": "stdout",
     "output_type": "stream",
     "text": [
      "0 results\n",
      "Processed 800 EDAM classes\n"
     ]
    },
    {
     "name": "stderr",
     "output_type": "stream",
     "text": [
      "/Users/gaignard-a/miniconda3/envs/edamverify/lib/python3.7/site-packages/urllib3/connectionpool.py:1050: InsecureRequestWarning: Unverified HTTPS request is being made to host 'query.wikidata.org'. Adding certificate verification is strongly advised. See: https://urllib3.readthedocs.io/en/1.26.x/advanced-usage.html#ssl-warnings\n",
      "  InsecureRequestWarning,\n"
     ]
    },
    {
     "name": "stdout",
     "output_type": "stream",
     "text": [
      "2 results\n",
      "http://edamontology.org/operation_2403 -> http://www.wikidata.org/entity/Q1154615\n",
      "http://edamontology.org/operation_0004 -> http://www.wikidata.org/entity/Q3884033\n",
      "Processed 900 EDAM classes\n"
     ]
    },
    {
     "name": "stderr",
     "output_type": "stream",
     "text": [
      "/Users/gaignard-a/miniconda3/envs/edamverify/lib/python3.7/site-packages/urllib3/connectionpool.py:1050: InsecureRequestWarning: Unverified HTTPS request is being made to host 'query.wikidata.org'. Adding certificate verification is strongly advised. See: https://urllib3.readthedocs.io/en/1.26.x/advanced-usage.html#ssl-warnings\n",
      "  InsecureRequestWarning,\n"
     ]
    },
    {
     "name": "stdout",
     "output_type": "stream",
     "text": [
      "0 results\n",
      "Processed 1000 EDAM classes\n"
     ]
    },
    {
     "name": "stderr",
     "output_type": "stream",
     "text": [
      "/Users/gaignard-a/miniconda3/envs/edamverify/lib/python3.7/site-packages/urllib3/connectionpool.py:1050: InsecureRequestWarning: Unverified HTTPS request is being made to host 'query.wikidata.org'. Adding certificate verification is strongly advised. See: https://urllib3.readthedocs.io/en/1.26.x/advanced-usage.html#ssl-warnings\n",
      "  InsecureRequestWarning,\n"
     ]
    },
    {
     "name": "stdout",
     "output_type": "stream",
     "text": [
      "0 results\n",
      "Processed 1100 EDAM classes\n"
     ]
    },
    {
     "name": "stderr",
     "output_type": "stream",
     "text": [
      "/Users/gaignard-a/miniconda3/envs/edamverify/lib/python3.7/site-packages/urllib3/connectionpool.py:1050: InsecureRequestWarning: Unverified HTTPS request is being made to host 'query.wikidata.org'. Adding certificate verification is strongly advised. See: https://urllib3.readthedocs.io/en/1.26.x/advanced-usage.html#ssl-warnings\n",
      "  InsecureRequestWarning,\n"
     ]
    },
    {
     "name": "stdout",
     "output_type": "stream",
     "text": [
      "0 results\n",
      "Processed 1200 EDAM classes\n"
     ]
    },
    {
     "name": "stderr",
     "output_type": "stream",
     "text": [
      "/Users/gaignard-a/miniconda3/envs/edamverify/lib/python3.7/site-packages/urllib3/connectionpool.py:1050: InsecureRequestWarning: Unverified HTTPS request is being made to host 'query.wikidata.org'. Adding certificate verification is strongly advised. See: https://urllib3.readthedocs.io/en/1.26.x/advanced-usage.html#ssl-warnings\n",
      "  InsecureRequestWarning,\n"
     ]
    },
    {
     "name": "stdout",
     "output_type": "stream",
     "text": [
      "3 results\n",
      "http://edamontology.org/operation_3460 -> http://www.wikidata.org/entity/Q67588531\n",
      "http://edamontology.org/operation_0294 -> http://www.wikidata.org/entity/Q4116110\n",
      "http://edamontology.org/operation_0495 -> http://www.wikidata.org/entity/Q67570706\n",
      "Processed 1300 EDAM classes\n"
     ]
    },
    {
     "name": "stderr",
     "output_type": "stream",
     "text": [
      "/Users/gaignard-a/miniconda3/envs/edamverify/lib/python3.7/site-packages/urllib3/connectionpool.py:1050: InsecureRequestWarning: Unverified HTTPS request is being made to host 'query.wikidata.org'. Adding certificate verification is strongly advised. See: https://urllib3.readthedocs.io/en/1.26.x/advanced-usage.html#ssl-warnings\n",
      "  InsecureRequestWarning,\n"
     ]
    },
    {
     "name": "stdout",
     "output_type": "stream",
     "text": [
      "0 results\n",
      "Processed 1400 EDAM classes\n"
     ]
    },
    {
     "name": "stderr",
     "output_type": "stream",
     "text": [
      "/Users/gaignard-a/miniconda3/envs/edamverify/lib/python3.7/site-packages/urllib3/connectionpool.py:1050: InsecureRequestWarning: Unverified HTTPS request is being made to host 'query.wikidata.org'. Adding certificate verification is strongly advised. See: https://urllib3.readthedocs.io/en/1.26.x/advanced-usage.html#ssl-warnings\n",
      "  InsecureRequestWarning,\n"
     ]
    },
    {
     "name": "stdout",
     "output_type": "stream",
     "text": [
      "0 results\n",
      "Processed 1500 EDAM classes\n"
     ]
    },
    {
     "name": "stderr",
     "output_type": "stream",
     "text": [
      "/Users/gaignard-a/miniconda3/envs/edamverify/lib/python3.7/site-packages/urllib3/connectionpool.py:1050: InsecureRequestWarning: Unverified HTTPS request is being made to host 'query.wikidata.org'. Adding certificate verification is strongly advised. See: https://urllib3.readthedocs.io/en/1.26.x/advanced-usage.html#ssl-warnings\n",
      "  InsecureRequestWarning,\n"
     ]
    },
    {
     "name": "stdout",
     "output_type": "stream",
     "text": [
      "0 results\n",
      "Processed 1600 EDAM classes\n"
     ]
    },
    {
     "name": "stderr",
     "output_type": "stream",
     "text": [
      "/Users/gaignard-a/miniconda3/envs/edamverify/lib/python3.7/site-packages/urllib3/connectionpool.py:1050: InsecureRequestWarning: Unverified HTTPS request is being made to host 'query.wikidata.org'. Adding certificate verification is strongly advised. See: https://urllib3.readthedocs.io/en/1.26.x/advanced-usage.html#ssl-warnings\n",
      "  InsecureRequestWarning,\n"
     ]
    },
    {
     "name": "stdout",
     "output_type": "stream",
     "text": [
      "0 results\n",
      "Processed 1700 EDAM classes\n"
     ]
    },
    {
     "name": "stderr",
     "output_type": "stream",
     "text": [
      "/Users/gaignard-a/miniconda3/envs/edamverify/lib/python3.7/site-packages/urllib3/connectionpool.py:1050: InsecureRequestWarning: Unverified HTTPS request is being made to host 'query.wikidata.org'. Adding certificate verification is strongly advised. See: https://urllib3.readthedocs.io/en/1.26.x/advanced-usage.html#ssl-warnings\n",
      "  InsecureRequestWarning,\n"
     ]
    },
    {
     "name": "stdout",
     "output_type": "stream",
     "text": [
      "2 results\n",
      "http://edamontology.org/operation_0492 -> http://www.wikidata.org/entity/Q1377767\n",
      "http://edamontology.org/data_2600 -> http://www.wikidata.org/entity/Q4915012\n",
      "Processed 1800 EDAM classes\n"
     ]
    },
    {
     "name": "stderr",
     "output_type": "stream",
     "text": [
      "/Users/gaignard-a/miniconda3/envs/edamverify/lib/python3.7/site-packages/urllib3/connectionpool.py:1050: InsecureRequestWarning: Unverified HTTPS request is being made to host 'query.wikidata.org'. Adding certificate verification is strongly advised. See: https://urllib3.readthedocs.io/en/1.26.x/advanced-usage.html#ssl-warnings\n",
      "  InsecureRequestWarning,\n"
     ]
    },
    {
     "name": "stdout",
     "output_type": "stream",
     "text": [
      "0 results\n",
      "Processed 1900 EDAM classes\n"
     ]
    },
    {
     "name": "stderr",
     "output_type": "stream",
     "text": [
      "/Users/gaignard-a/miniconda3/envs/edamverify/lib/python3.7/site-packages/urllib3/connectionpool.py:1050: InsecureRequestWarning: Unverified HTTPS request is being made to host 'query.wikidata.org'. Adding certificate verification is strongly advised. See: https://urllib3.readthedocs.io/en/1.26.x/advanced-usage.html#ssl-warnings\n",
      "  InsecureRequestWarning,\n"
     ]
    },
    {
     "name": "stdout",
     "output_type": "stream",
     "text": [
      "0 results\n",
      "Processed 2000 EDAM classes\n"
     ]
    },
    {
     "name": "stderr",
     "output_type": "stream",
     "text": [
      "/Users/gaignard-a/miniconda3/envs/edamverify/lib/python3.7/site-packages/urllib3/connectionpool.py:1050: InsecureRequestWarning: Unverified HTTPS request is being made to host 'query.wikidata.org'. Adding certificate verification is strongly advised. See: https://urllib3.readthedocs.io/en/1.26.x/advanced-usage.html#ssl-warnings\n",
      "  InsecureRequestWarning,\n"
     ]
    },
    {
     "name": "stdout",
     "output_type": "stream",
     "text": [
      "0 results\n",
      "Processed 2100 EDAM classes\n"
     ]
    },
    {
     "name": "stderr",
     "output_type": "stream",
     "text": [
      "/Users/gaignard-a/miniconda3/envs/edamverify/lib/python3.7/site-packages/urllib3/connectionpool.py:1050: InsecureRequestWarning: Unverified HTTPS request is being made to host 'query.wikidata.org'. Adding certificate verification is strongly advised. See: https://urllib3.readthedocs.io/en/1.26.x/advanced-usage.html#ssl-warnings\n",
      "  InsecureRequestWarning,\n"
     ]
    },
    {
     "name": "stdout",
     "output_type": "stream",
     "text": [
      "0 results\n",
      "Processed 2200 EDAM classes\n"
     ]
    },
    {
     "name": "stderr",
     "output_type": "stream",
     "text": [
      "/Users/gaignard-a/miniconda3/envs/edamverify/lib/python3.7/site-packages/urllib3/connectionpool.py:1050: InsecureRequestWarning: Unverified HTTPS request is being made to host 'query.wikidata.org'. Adding certificate verification is strongly advised. See: https://urllib3.readthedocs.io/en/1.26.x/advanced-usage.html#ssl-warnings\n",
      "  InsecureRequestWarning,\n"
     ]
    },
    {
     "name": "stdout",
     "output_type": "stream",
     "text": [
      "0 results\n",
      "Processed 2300 EDAM classes\n"
     ]
    },
    {
     "name": "stderr",
     "output_type": "stream",
     "text": [
      "/Users/gaignard-a/miniconda3/envs/edamverify/lib/python3.7/site-packages/urllib3/connectionpool.py:1050: InsecureRequestWarning: Unverified HTTPS request is being made to host 'query.wikidata.org'. Adding certificate verification is strongly advised. See: https://urllib3.readthedocs.io/en/1.26.x/advanced-usage.html#ssl-warnings\n",
      "  InsecureRequestWarning,\n"
     ]
    },
    {
     "name": "stdout",
     "output_type": "stream",
     "text": [
      "1 results\n",
      "http://edamontology.org/operation_0496 -> http://www.wikidata.org/entity/Q67571423\n",
      "Processed 2400 EDAM classes\n"
     ]
    },
    {
     "name": "stderr",
     "output_type": "stream",
     "text": [
      "/Users/gaignard-a/miniconda3/envs/edamverify/lib/python3.7/site-packages/urllib3/connectionpool.py:1050: InsecureRequestWarning: Unverified HTTPS request is being made to host 'query.wikidata.org'. Adding certificate verification is strongly advised. See: https://urllib3.readthedocs.io/en/1.26.x/advanced-usage.html#ssl-warnings\n",
      "  InsecureRequestWarning,\n"
     ]
    },
    {
     "name": "stdout",
     "output_type": "stream",
     "text": [
      "2 results\n",
      "http://edamontology.org/data_1731 -> http://www.wikidata.org/entity/Q106205899\n",
      "http://edamontology.org/topic_0081 -> http://www.wikidata.org/entity/Q910121\n",
      "Processed 2500 EDAM classes\n"
     ]
    },
    {
     "name": "stderr",
     "output_type": "stream",
     "text": [
      "/Users/gaignard-a/miniconda3/envs/edamverify/lib/python3.7/site-packages/urllib3/connectionpool.py:1050: InsecureRequestWarning: Unverified HTTPS request is being made to host 'query.wikidata.org'. Adding certificate verification is strongly advised. See: https://urllib3.readthedocs.io/en/1.26.x/advanced-usage.html#ssl-warnings\n",
      "  InsecureRequestWarning,\n"
     ]
    },
    {
     "name": "stdout",
     "output_type": "stream",
     "text": [
      "3 results\n",
      "http://edamontology.org/operation_0292 -> http://www.wikidata.org/entity/Q827246\n",
      "http://edamontology.org/operation_0306 -> http://www.wikidata.org/entity/Q676880\n",
      "http://edamontology.org/operation_2478 -> http://www.wikidata.org/entity/Q47185139\n",
      "Processed 2600 EDAM classes\n"
     ]
    },
    {
     "name": "stderr",
     "output_type": "stream",
     "text": [
      "/Users/gaignard-a/miniconda3/envs/edamverify/lib/python3.7/site-packages/urllib3/connectionpool.py:1050: InsecureRequestWarning: Unverified HTTPS request is being made to host 'query.wikidata.org'. Adding certificate verification is strongly advised. See: https://urllib3.readthedocs.io/en/1.26.x/advanced-usage.html#ssl-warnings\n",
      "  InsecureRequestWarning,\n"
     ]
    },
    {
     "name": "stdout",
     "output_type": "stream",
     "text": [
      "0 results\n",
      "Processed 2700 EDAM classes\n"
     ]
    },
    {
     "name": "stderr",
     "output_type": "stream",
     "text": [
      "/Users/gaignard-a/miniconda3/envs/edamverify/lib/python3.7/site-packages/urllib3/connectionpool.py:1050: InsecureRequestWarning: Unverified HTTPS request is being made to host 'query.wikidata.org'. Adding certificate verification is strongly advised. See: https://urllib3.readthedocs.io/en/1.26.x/advanced-usage.html#ssl-warnings\n",
      "  InsecureRequestWarning,\n"
     ]
    },
    {
     "name": "stdout",
     "output_type": "stream",
     "text": [
      "1 results\n",
      "http://edamontology.org/topic_0176 -> http://www.wikidata.org/entity/Q901663\n",
      "Processed 2800 EDAM classes\n"
     ]
    },
    {
     "name": "stderr",
     "output_type": "stream",
     "text": [
      "/Users/gaignard-a/miniconda3/envs/edamverify/lib/python3.7/site-packages/urllib3/connectionpool.py:1050: InsecureRequestWarning: Unverified HTTPS request is being made to host 'query.wikidata.org'. Adding certificate verification is strongly advised. See: https://urllib3.readthedocs.io/en/1.26.x/advanced-usage.html#ssl-warnings\n",
      "  InsecureRequestWarning,\n"
     ]
    },
    {
     "name": "stdout",
     "output_type": "stream",
     "text": [
      "1 results\n",
      "http://edamontology.org/data_3505 -> http://www.wikidata.org/entity/Q1631107\n",
      "Processed 2900 EDAM classes\n"
     ]
    },
    {
     "name": "stderr",
     "output_type": "stream",
     "text": [
      "/Users/gaignard-a/miniconda3/envs/edamverify/lib/python3.7/site-packages/urllib3/connectionpool.py:1050: InsecureRequestWarning: Unverified HTTPS request is being made to host 'query.wikidata.org'. Adding certificate verification is strongly advised. See: https://urllib3.readthedocs.io/en/1.26.x/advanced-usage.html#ssl-warnings\n",
      "  InsecureRequestWarning,\n"
     ]
    },
    {
     "name": "stdout",
     "output_type": "stream",
     "text": [
      "0 results\n",
      "Processed 3000 EDAM classes\n"
     ]
    },
    {
     "name": "stderr",
     "output_type": "stream",
     "text": [
      "/Users/gaignard-a/miniconda3/envs/edamverify/lib/python3.7/site-packages/urllib3/connectionpool.py:1050: InsecureRequestWarning: Unverified HTTPS request is being made to host 'query.wikidata.org'. Adding certificate verification is strongly advised. See: https://urllib3.readthedocs.io/en/1.26.x/advanced-usage.html#ssl-warnings\n",
      "  InsecureRequestWarning,\n"
     ]
    },
    {
     "name": "stdout",
     "output_type": "stream",
     "text": [
      "1 results\n",
      "http://edamontology.org/operation_3443 -> http://www.wikidata.org/entity/Q860755\n",
      "Processed 3100 EDAM classes\n"
     ]
    },
    {
     "name": "stderr",
     "output_type": "stream",
     "text": [
      "/Users/gaignard-a/miniconda3/envs/edamverify/lib/python3.7/site-packages/urllib3/connectionpool.py:1050: InsecureRequestWarning: Unverified HTTPS request is being made to host 'query.wikidata.org'. Adding certificate verification is strongly advised. See: https://urllib3.readthedocs.io/en/1.26.x/advanced-usage.html#ssl-warnings\n",
      "  InsecureRequestWarning,\n"
     ]
    },
    {
     "name": "stdout",
     "output_type": "stream",
     "text": [
      "2 results\n",
      "http://edamontology.org/operation_2990 -> http://www.wikidata.org/entity/Q13582682\n",
      "http://edamontology.org/operation_3214 -> http://www.wikidata.org/entity/Q67522086\n",
      "Processed 3200 EDAM classes\n"
     ]
    },
    {
     "name": "stderr",
     "output_type": "stream",
     "text": [
      "/Users/gaignard-a/miniconda3/envs/edamverify/lib/python3.7/site-packages/urllib3/connectionpool.py:1050: InsecureRequestWarning: Unverified HTTPS request is being made to host 'query.wikidata.org'. Adding certificate verification is strongly advised. See: https://urllib3.readthedocs.io/en/1.26.x/advanced-usage.html#ssl-warnings\n",
      "  InsecureRequestWarning,\n"
     ]
    },
    {
     "name": "stdout",
     "output_type": "stream",
     "text": [
      "1 results\n",
      "http://edamontology.org/data_2044 -> http://www.wikidata.org/entity/Q3511065\n",
      "Processed 3300 EDAM classes\n"
     ]
    },
    {
     "name": "stderr",
     "output_type": "stream",
     "text": [
      "/Users/gaignard-a/miniconda3/envs/edamverify/lib/python3.7/site-packages/urllib3/connectionpool.py:1050: InsecureRequestWarning: Unverified HTTPS request is being made to host 'query.wikidata.org'. Adding certificate verification is strongly advised. See: https://urllib3.readthedocs.io/en/1.26.x/advanced-usage.html#ssl-warnings\n",
      "  InsecureRequestWarning,\n"
     ]
    },
    {
     "name": "stdout",
     "output_type": "stream",
     "text": [
      "0 results\n",
      "Processed 3400 EDAM classes\n"
     ]
    },
    {
     "name": "stderr",
     "output_type": "stream",
     "text": [
      "/Users/gaignard-a/miniconda3/envs/edamverify/lib/python3.7/site-packages/urllib3/connectionpool.py:1050: InsecureRequestWarning: Unverified HTTPS request is being made to host 'query.wikidata.org'. Adding certificate verification is strongly advised. See: https://urllib3.readthedocs.io/en/1.26.x/advanced-usage.html#ssl-warnings\n",
      "  InsecureRequestWarning,\n"
     ]
    },
    {
     "name": "stdout",
     "output_type": "stream",
     "text": [
      "1 results\n",
      "http://edamontology.org/operation_2928 -> http://www.wikidata.org/entity/Q67566254\n",
      "Processed 3500 EDAM classes\n"
     ]
    }
   ],
   "source": [
    "i = 1\n",
    "split = []\n",
    "results = []\n",
    "for c in edam_classes:\n",
    "    split.append(c)\n",
    "    if (i % 100) == 0 :\n",
    "        results.append(query_wikidata(split))\n",
    "        split = []\n",
    "        print(f\"Processed {i} EDAM classes\")\n",
    "        time.sleep(2)\n",
    "    i += 1"
   ]
  },
  {
   "cell_type": "code",
   "execution_count": 41,
   "metadata": {},
   "outputs": [
    {
     "name": "stdout",
     "output_type": "stream",
     "text": [
      "[[('http://edamontology.org/operation_0310', 'http://www.wikidata.org/entity/Q740578'), ('http://edamontology.org/operation_0524', 'http://www.wikidata.org/entity/Q67573816')], [], [], [], [('http://edamontology.org/topic_0082', 'http://www.wikidata.org/entity/Q67577480'), ('http://edamontology.org/operation_2995', 'http://www.wikidata.org/entity/Q67587688')], [], [('http://edamontology.org/topic_3673', 'http://www.wikidata.org/entity/Q2068526')], [], [('http://edamontology.org/operation_2403', 'http://www.wikidata.org/entity/Q1154615'), ('http://edamontology.org/operation_0004', 'http://www.wikidata.org/entity/Q3884033')], [], [], [], [('http://edamontology.org/operation_3460', 'http://www.wikidata.org/entity/Q67588531'), ('http://edamontology.org/operation_0294', 'http://www.wikidata.org/entity/Q4116110'), ('http://edamontology.org/operation_0495', 'http://www.wikidata.org/entity/Q67570706')], [], [], [], [], [('http://edamontology.org/operation_0492', 'http://www.wikidata.org/entity/Q1377767'), ('http://edamontology.org/data_2600', 'http://www.wikidata.org/entity/Q4915012')], [], [], [], [], [], [('http://edamontology.org/operation_0496', 'http://www.wikidata.org/entity/Q67571423')], [('http://edamontology.org/data_1731', 'http://www.wikidata.org/entity/Q106205899'), ('http://edamontology.org/topic_0081', 'http://www.wikidata.org/entity/Q910121')], [('http://edamontology.org/operation_0292', 'http://www.wikidata.org/entity/Q827246'), ('http://edamontology.org/operation_0306', 'http://www.wikidata.org/entity/Q676880'), ('http://edamontology.org/operation_2478', 'http://www.wikidata.org/entity/Q47185139')], [], [('http://edamontology.org/topic_0176', 'http://www.wikidata.org/entity/Q901663')], [('http://edamontology.org/data_3505', 'http://www.wikidata.org/entity/Q1631107')], [], [('http://edamontology.org/operation_3443', 'http://www.wikidata.org/entity/Q860755')], [('http://edamontology.org/operation_2990', 'http://www.wikidata.org/entity/Q13582682'), ('http://edamontology.org/operation_3214', 'http://www.wikidata.org/entity/Q67522086')], [('http://edamontology.org/data_2044', 'http://www.wikidata.org/entity/Q3511065')], [], [('http://edamontology.org/operation_2928', 'http://www.wikidata.org/entity/Q67566254')]]\n"
     ]
    }
   ],
   "source": [
    "print(results)"
   ]
  },
  {
   "cell_type": "code",
   "execution_count": null,
   "metadata": {},
   "outputs": [],
   "source": []
  },
  {
   "cell_type": "code",
   "execution_count": null,
   "metadata": {},
   "outputs": [],
   "source": []
  }
 ],
 "metadata": {
  "kernelspec": {
   "display_name": "Python 3",
   "language": "python",
   "name": "python3"
  },
  "language_info": {
   "codemirror_mode": {
    "name": "ipython",
    "version": 3
   },
   "file_extension": ".py",
   "mimetype": "text/x-python",
   "name": "python",
   "nbconvert_exporter": "python",
   "pygments_lexer": "ipython3",
   "version": "3.7.6"
  }
 },
 "nbformat": 4,
 "nbformat_minor": 1
}
