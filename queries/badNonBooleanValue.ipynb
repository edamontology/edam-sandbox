{
 "cells": [
  {
   "cell_type": "markdown",
   "metadata": {
    "collapsed": true,
    "pycharm": {
     "name": "#%% md\n"
    }
   },
   "source": [
    "**badNonBooleanValue.ipynb**\n",
    "\n",
    "Invalid non-booeal annotation property value.\n",
    "\n",
    "**Documentation:** https://github.com/edamontology/edamverify/blob/master/docs/badNonBooleanValue.md\n",
    "\n",
    "Set constants for script return values. Load EDAM_dev.owl from GitHub into an RDF graph.\n",
    "\n",
    "**NB.1:** The ``EDAM_PATH`` environment variable (location of ``EDAM_dev.owl`` file) must be set.  The script requires the test to be run from a subdirectory of this path, hence ``'../EDAM_dev.owl'`` below."
   ]
  },
  {
   "cell_type": "code",
   "execution_count": 1,
   "outputs": [
    {
     "name": "stdout",
     "output_type": "stream",
     "text": [
      "Loading graph ...done!\n"
     ]
    }
   ],
   "source": [
    "import os\n",
    "from rdflib import ConjunctiveGraph, Namespace\n",
    "import json\n",
    "from collections import OrderedDict\n",
    "\n",
    "# Constants for script return value as per https://github.com/edamontology/edamverify.\n",
    "NOERR = \"NOERR\"\n",
    "INFO  = \"INFO\"\n",
    "WARN  = \"WARN\"\n",
    "ERROR = \"ERROR\"\n",
    "\n",
    "#Load EDAM_dev.owl from GitHub into an RDF graph.\n",
    "print(\"Loading graph ...\", end=\"\")\n",
    "g = ConjunctiveGraph()\n",
    "g.load(os.environ.get('EDAM_PATH', '../EDAM_dev.owl'), format='xml')\n",
    "# g.load('https://raw.githubusercontent.com/edamontology/edamontology/master/EDAM_dev.owl', format='xml')\n",
    "# g.load('EDAM_dev.owl', format='xml')\n",
    "g.bind('edam', Namespace('http://edamontology.org#'))\n",
    "print(\"done!\")\n",
    "\n"
   ],
   "metadata": {
    "collapsed": false,
    "pycharm": {
     "name": "#%%\n"
    }
   }
  },
  {
   "cell_type": "markdown",
   "source": [
    "Define SPARQL query to retrieve ID, term, file extension of (EDAM Format) concepts. Run the query.\n",
    "\n",
    "**NB.1:** BASE is used to define the define the default namespace (for ``is_deprecation_candidate`` & ``notRecommendedForAnnotation``below).\n",
    "\n",
    "**NB.2:** Detects three annotation properties that require boolean values:\n",
    "* ``<owl:deprecated>``\n",
    "* ``<is_deprecation_candidate>``\n",
    "* ``<notRecommendedForAnnotation>`` "
   ],
   "metadata": {
    "collapsed": false
   }
  },
  {
   "cell_type": "code",
   "execution_count": 2,
   "outputs": [],
   "source": [
    "# Compile SPARQL query\n",
    "query_term = \"\"\"\n",
    "BASE <http://edamontology.org/>\n",
    "SELECT ?id ?term ?deprecated ?candidate ?notrecommended WHERE\n",
    "{\n",
    "?id rdfs:label ?term .\n",
    "OPTIONAL {?id owl:deprecated ?deprecated .}\n",
    "OPTIONAL {?id :is_deprecation_candidate ?candidate .}\n",
    "OPTIONAL {?id :notRecommendedForAnnotation ?notrecommended} \n",
    "}\n",
    "\"\"\"\n",
    "\n",
    "# Run SPARQL query and collate results\n",
    "errfound = False    \n",
    "report = list()\n",
    "results = g.query(query_term)"
   ],
   "metadata": {
    "collapsed": false,
    "pycharm": {
     "name": "#%%\n"
    }
   }
  },
  {
   "cell_type": "markdown",
   "source": [
    "Analyse results of query."
   ],
   "metadata": {
    "collapsed": false
   }
  },
  {
   "cell_type": "code",
   "execution_count": 3,
   "outputs": [],
   "source": [
    "for r in results :\n",
    "#    print(str(r['id']), str(r['term']), str(r['ext']), str(r['exact_syn']))\n",
    "    id   = str(r['id'])\n",
    "    term = str(r['term']) \n",
    "    deprecated  = str(r['deprecated'])\n",
    "    candidate = str(r['candidate'])\n",
    "    notrecommended = str(r['notrecommended'])\n",
    "\n",
    "    # \"None\" string is return from SPARQL query where value was not found\n",
    "    if (deprecated != \"None\" and deprecated != \"true\"):\n",
    "        errfound = True\n",
    "        report.append('Value other than \"true\" for <deprecated> element::: ' + id +  ' (' + term + ') ' + deprecated)\n",
    "\n",
    "    # \"None\" string is return from SPARQL query where value was not found\n",
    "    if (candidate != \"None\" and candidate != \"true\"):\n",
    "        errfound = True\n",
    "        report.append('Value other than \"true\" for <is_deprecation_candidate> element::: ' + id +  ' (' + term + ') ' + candidate)\n",
    "\n",
    "    # \"None\" string is return from SPARQL query where value was not found\n",
    "    if (notrecommended != \"None\" and notrecommended != \"true\"):\n",
    "        errfound = True\n",
    "        report.append('Value other than \"true\" for <notRecommendedForAnnotation> element::: ' + id +  ' (' + term + ') '  + notrecommended)"
   ],
   "metadata": {
    "collapsed": false,
    "pycharm": {
     "name": "#%%\n"
    }
   }
  },
  {
   "cell_type": "markdown",
   "source": [
    "Write report and return approriate value."
   ],
   "metadata": {
    "collapsed": false
   }
  },
  {
   "cell_type": "code",
   "execution_count": 4,
   "outputs": [
    {
     "name": "stdout",
     "output_type": "stream",
     "text": [
      "{\n",
      "    \"reason\": [\n",
      "        \"Value other than \\\"true\\\" for <is_deprecation_candidate> element::: http://edamontology.org/data_1381 (Pair sequence alignment) true_TEST2\",\n",
      "        \"Value other than \\\"true\\\" for <notRecommendedForAnnotation> element::: http://edamontology.org/data_1855 (Clone ID) true_TEST3\",\n",
      "        \"Value other than \\\"true\\\" for <deprecated> element::: http://edamontology.org/data_1382 (Sequence alignment (multiple)) true_TEST1\"\n",
      "    ],\n",
      "    \"comment\": \"Invalid value (must be \\\"true\\\") found for a property of one or more concepts.\",\n",
      "    \"test_name\": \"badNonBooleanValue\",\n",
      "    \"status\": \"WARN\"\n",
      "}\n"
     ]
    }
   ],
   "source": [
    "# Write report\n",
    "# Use ordered dictionary to get consistent listing of properties in the JSON output\n",
    "#report_dict = OrderedDict\n",
    "#if errfound:\n",
    "#    report_dict = {\n",
    "#        'test_name': 'badNonBooleanValue',\n",
    "#        'status' : WARN,\n",
    "#        'reason' : report\n",
    "#    }\n",
    "#else:\n",
    "#    report_dict = {\n",
    "#        'test_name': 'badNonBooleanValue',\n",
    "#        'status' : NOERR,\n",
    "#        'reason' : '-'\n",
    "#    }\n",
    "#report_json = json.dumps(report_dict, indent=4)\n",
    "#print(report_json)\n",
    "\n",
    "\n",
    "report_obj = {}\n",
    "report_obj['test_name'] = 'badNonBooleanValue'\n",
    "report_obj['comment'] = 'Invalid value (must be \"true\") found for a property of one or more concepts.'\n",
    "\n",
    "if errfound:\n",
    "    report_obj['status'] = WARN\n",
    "    report_obj['reason'] = report\n",
    "else:\n",
    "    report_obj['status'] = NOERR\n",
    "\n",
    "report_json = json.dumps(report_obj, indent=4)\n",
    "print(report_json)"
   ],
   "metadata": {
    "collapsed": false,
    "pycharm": {
     "name": "#%%\n"
    }
   }
  }
 ],
 "metadata": {
  "kernelspec": {
   "display_name": "Python 3",
   "language": "python",
   "name": "python3"
  },
  "language_info": {
   "codemirror_mode": {
    "name": "ipython",
    "version": 2
   },
   "file_extension": ".py",
   "mimetype": "text/x-python",
   "name": "python",
   "nbconvert_exporter": "python",
   "pygments_lexer": "ipython2",
   "version": "2.7.6"
  }
 },
 "nbformat": 4,
 "nbformat_minor": 0
}