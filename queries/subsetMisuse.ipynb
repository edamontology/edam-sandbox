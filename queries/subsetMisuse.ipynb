{
 "cells": [
  {
   "cell_type": "markdown",
   "metadata": {
    "collapsed": true,
    "pycharm": {
     "name": "#%% md\n"
    }
   },
   "source": [
    "**subsetMisuse.ipynb**\n",
    "\n",
    "Misuse of subset annotation property.\n",
    "\n",
    "**Documentation:** https://github.com/edamontology/edamverify/blob/master/docs/subsetMisuse.md    "
   ]
  },
  {
   "cell_type": "markdown",
   "source": [
    "Set constants for script return values. Load EDAM_dev.owl from GitHub into an RDF graph."
   ],
   "metadata": {
    "collapsed": false
   }
  },
  {
   "cell_type": "code",
   "execution_count": null,
   "outputs": [],
   "source": [
    "import sys\n",
    "from rdflib import ConjunctiveGraph, Namespace\n",
    "\n",
    "# Constants for script return value as per https://github.com/edamontology/edamverify.\n",
    "NOERR = 0\n",
    "INFO  = 1\n",
    "WARN  = 2\n",
    "ERROR = 3\n",
    "\n",
    "#Load EDAM_dev.owl from GitHub into an RDF graph.\n",
    "print(\"Loading graph ...\", end=\"\")\n",
    "g = ConjunctiveGraph()\n",
    "g.load('https://raw.githubusercontent.com/edamontology/edamontology/master/EDAM_dev.owl', format='xml')\n",
    "# g.load('EDAM_dev.owl')\n",
    "g.bind('edam', Namespace('http://edamontology.org#'))\n",
    "print(\"done!\")"
   ],
   "metadata": {
    "collapsed": false,
    "pycharm": {
     "name": "#%%\n",
     "is_executing": false
    }
   }
  },
  {
   "cell_type": "markdown",
   "source": [
    "Define SPARQL query to extract ID, term, subset and (if available) deprecated field of all concepts. Run the query."
   ],
   "metadata": {
    "collapsed": false
   }
  },
  {
   "cell_type": "code",
   "execution_count": null,
   "outputs": [],
   "source": [
    "# Compile SPARQL query\n",
    "query_term = \"\"\"\n",
    "SELECT ?id ?term ?subset ?deprecated WHERE\n",
    "{\n",
    "?id rdfs:label ?term .\n",
    "?id oboInOwl:inSubset ?subset . \n",
    "OPTIONAL {?id owl:deprecated ?deprecated .}\n",
    "}\n",
    "\"\"\"\n",
    "\n",
    "# Run SPARQL query and collate results\n",
    "errfound = False    \n",
    "report = list()\n",
    "results = g.query(query_term)"
   ],
   "metadata": {
    "collapsed": false,
    "pycharm": {
     "name": "#%%\n",
     "is_executing": false
    }
   }
  },
  {
   "cell_type": "markdown",
   "source": [
    "Analyse results of query.\n",
    "\n",
    "**NB:**\n",
    "Subsets in EDAM are (currently) defined in one of two ways:\n",
    "  \n",
    "``<oboInOwl:inSubset rdf:resource=\"http://purl.obolibrary.org/obo/edam#data\" />``\n",
    "\n",
    "``<oboInOwl:inSubset>concept_properties />``\n",
    "\n",
    "this complicates the logic slightly. \n",
    "\n",
    "\n"
   ],
   "metadata": {
    "collapsed": false
   }
  },
  {
   "cell_type": "code",
   "execution_count": null,
   "outputs": [],
   "source": [
    "for r in results :\n",
    "    \n",
    "    id     = str(r['id'])\n",
    "    term   = str(r['term']) \n",
    "    subsetpath = str(r['subset'])\n",
    "    deprecated = str(r['deprecated'])\n",
    "            \n",
    "    # print(str(r['id']), \"   \", str(r['term']), \"   \",  str(r['subset']), \"   \",  str(r['deprecated']), \"   \", deprecated)\n",
    "\n",
    "    # Extract subset without path, e.g. \"data\"    \n",
    "    pos = subsetpath.rfind(\"#\")\n",
    "    if pos == -1: \n",
    "        # subset path does not contain '#'\n",
    "        subset = subsetpath\n",
    "    else:\n",
    "        subset = subsetpath[pos+1:] \n",
    "\n",
    "    # Check for invalid subset\n",
    "    if subset != \"topics\" \\\n",
    "            and subset != \"operations\" \\\n",
    "            and subset != \"data\" \\\n",
    "            and subset != \"identifiers\" \\\n",
    "            and subset != \"formats\" \\\n",
    "            and subset != \"edam\" \\\n",
    "            and subset != \"events\" \\\n",
    "            and subset != \"obsolete\" \\\n",
    "            and subset != \"relations\" \\\n",
    "            and subset != \"concept_properties\" :\n",
    "            errfound = True\n",
    "            report.append(\"Invalid subset ::: \" + id +  ' (' + term + ')' + \" in subset:\" + subset + \"   \" + subsetpath)\n",
    "            continue\n",
    "                 \n",
    "    # Check deprecated concepts are in right subset \n",
    "    if deprecated == \"true\" and subset !=  \"obsolete\" :\n",
    "        errfound = True\n",
    "        report.append(\"Invalid subset for deprecated concept ::: \" + id +  ' (' + term + ')' + \" in subset:\" + subset)\n",
    "\n",
    "    # Check concept in \"deprecated\" subset is actually deprecated \n",
    "    if subset ==  \"obsolete\" and deprecated != \"true\":\n",
    "        errfound = True\n",
    "        report.append(\"Concept in deprecated subset lacks <owl:deprecated>true</>\" + \" ::: \" + id +  ' (' + term + ')' + \" in subset:\" + subset)\n",
    "\n",
    "    # Skip subsets not corresponding to main sub-ontologies\n",
    "    if subset == \"edam\" or subset == \"events\" or subset == \"relations\" or subset == \"concept_properties\":\n",
    "        continue\n",
    "\n",
    "    # We're also done processing obsolete concepts\n",
    "    if subset == \"obsolete\":\n",
    "        continue\n",
    "    \n",
    "    # Check for mismatch between subset and subontology (non-deprecated concepts)    \n",
    "    # if subset not in id and subset != \"identifier\" :\n",
    "    if \"topic\" in id and subset != \"topics\" or \\\n",
    "        \"operation\" in id and subset != \"operations\" or \\\n",
    "        \"data\" in id and subset != \"data\" and subset != \"identifiers\" or \\\n",
    "        \"format\" in id and subset != \"formats\" :\n",
    "        errfound = True\n",
    "        report.append(\"Wrong subset ::: \" + id +  ' (' + term + ')' + \" in subset:\" + subset)\n",
    "\n",
    "    "
   ],
   "metadata": {
    "collapsed": false,
    "pycharm": {
     "name": "#%%\n",
     "is_executing": false
    }
   }
  },
  {
   "cell_type": "markdown",
   "source": [
    "Write report and return approriate value."
   ],
   "metadata": {
    "collapsed": false
   }
  },
  {
   "cell_type": "code",
   "execution_count": null,
   "outputs": [],
   "source": [
    "# Return exit code (raises exception)\n",
    "if errfound:\n",
    "    print(\"Suspected error in subset assignation for these concepts:\")\n",
    "    print(\"\\n\".join(report))\n",
    "    sys.exit(ERROR)\n",
    "else:\n",
    "    print(\"No issues found.\")\n",
    "    sys.exit(NOERR)\n",
    "\n",
    "\n"
   ],
   "metadata": {
    "collapsed": false,
    "pycharm": {
     "name": "#%%\n",
     "is_executing": false
    }
   }
  }
 ],
 "metadata": {
  "kernelspec": {
   "display_name": "Python 3",
   "language": "python",
   "name": "python3"
  },
  "language_info": {
   "codemirror_mode": {
    "name": "ipython",
    "version": 2
   },
   "file_extension": ".py",
   "mimetype": "text/x-python",
   "name": "python",
   "nbconvert_exporter": "python",
   "pygments_lexer": "ipython2",
   "version": "2.7.6"
  },
  "pycharm": {
   "stem_cell": {
    "cell_type": "raw",
    "source": [],
    "metadata": {
     "collapsed": false
    }
   }
  }
 },
 "nbformat": 4,
 "nbformat_minor": 0
}