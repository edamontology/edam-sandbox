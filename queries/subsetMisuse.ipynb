{
 "cells": [
  {
   "cell_type": "markdown",
   "metadata": {
    "collapsed": true,
    "pycharm": {
     "name": "#%% md\n"
    }
   },
   "source": [
    "**subsetMisuse.ipynb**\n",
    "\n",
    "Misuse of subset annotation property.\n",
    "\n",
    "**Documentation:** https://github.com/edamontology/edamverify/blob/master/docs/subsetMisuse.md\n",
    "\n",
    "Note: ...    "
   ]
  },
  {
   "cell_type": "markdown",
   "source": [
    "Set constants for script return values. Load EDAM_dev.owl from GitHub into an RDF graph."
   ],
   "metadata": {
    "collapsed": false
   }
  },
  {
   "cell_type": "code",
   "execution_count": null,
   "outputs": [],
   "source": [
    "import io\n",
    "import sys\n",
    "from rdflib import ConjunctiveGraph, Namespace\n",
    "\n",
    "# Constants for script return value as per https://github.com/edamontology/edamverify.\n",
    "NOERR = 0\n",
    "INFO  = 1\n",
    "WARN  = 2\n",
    "ERROR = 3\n",
    "\n",
    "#Load EDAM_dev.owl from GitHub into an RDF graph.\n",
    "print(\"Loading graph ...\", end=\"\")\n",
    "g = ConjunctiveGraph()\n",
    "# g.load('https://raw.githubusercontent.com/edamontology/edamontology/master/EDAM_dev.owl', format='xml')\n",
    "g.load('EDAM_dev.owl')\n",
    "g.bind('edam', Namespace('http://edamontology.org#'))\n",
    "print(\"done!\")"
   ],
   "metadata": {
    "collapsed": false,
    "pycharm": {
     "name": "#%%\n"
    }
   }
  },
  {
   "cell_type": "markdown",
   "source": [
    "Define SPARQL query to extract ID, term and subset of all concepts. Run the query."
   ],
   "metadata": {
    "collapsed": false
   }
  },
  {
   "cell_type": "code",
   "execution_count": null,
   "outputs": [],
   "source": [
    "# Compile SPARQL query\n",
    "query_term = \"\"\"\n",
    "SELECT ?id ?term ?subset ?deprecated WHERE\n",
    "{\n",
    "?id rdfs:label ?term .\n",
    "?id oboInOwl:inSubset ?subset . \n",
    "OPTIONAL {?id owl:deprecated ?deprecated .}\n",
    "}\n",
    "\"\"\"\n",
    "\n",
    "# Declare hash tables for results\n",
    "ids = {}\n",
    "numerical_ids = {}\n",
    "terms = {}\n",
    "subsets = {}\n",
    "\n",
    "# Run SPARQL query and collate results\n",
    "errfound = False    \n",
    "report = list()\n",
    "results = g.query(query_term)"
   ],
   "metadata": {
    "collapsed": false,
    "pycharm": {
     "name": "#%%\n"
    }
   }
  },
  {
   "cell_type": "markdown",
   "source": [
    "Analyse results of query.\n",
    "\n",
    "**NOTE**\n",
    "1. Concepts which are not defined to be in one of the \"topics\", \"operations\", \"data\" or \"formats\" subsets are ignored (not checked)."
   ],
   "metadata": {
    "collapsed": false
   }
  },
  {
   "cell_type": "code",
   "execution_count": null,
   "outputs": [],
   "source": [
    "for r in results :\n",
    "#    print(str(r['id']), str(r['term']), str(r['subset']))\n",
    "    \n",
    "    id     = str(r['id'])\n",
    "    term   = str(r['term']) \n",
    "    subset = str(r['subset']) \n",
    "    deprecated = str(r['deprecated'])\n",
    "\n",
    "    # Discard concepts in irrelevant subsets\n",
    "    if subset != \"http://purl.obolibrary.org/obo/edam#topics\" \\\n",
    "            and subset != \"http://purl.obolibrary.org/obo/edam#operations\" \\\n",
    "            and subset != \"http://purl.obolibrary.org/obo/edam#data\" \\\n",
    "            and subset != \"http://purl.obolibrary.org/obo/edam#formats\":\n",
    "        continue\n",
    "        \n",
    "    \n",
    "    # Check value of <deprecated> is \"true\" only \n",
    "\n",
    "    # Check for mismatch between subset and subontology (non-deprecated concepts)    \n",
    "\n",
    "    # Check subset is correct for deprecated concepts \n",
    "\n",
    " \n",
    " "
   ],
   "metadata": {
    "collapsed": false,
    "pycharm": {
     "name": "#%%\n"
    }
   }
  }
 ],
 "metadata": {
  "kernelspec": {
   "display_name": "Python 3",
   "language": "python",
   "name": "python3"
  },
  "language_info": {
   "codemirror_mode": {
    "name": "ipython",
    "version": 2
   },
   "file_extension": ".py",
   "mimetype": "text/x-python",
   "name": "python",
   "nbconvert_exporter": "python",
   "pygments_lexer": "ipython2",
   "version": "2.7.6"
  },
  "pycharm": {
   "stem_cell": {
    "cell_type": "raw",
    "source": [],
    "metadata": {
     "collapsed": false
    }
   }
  }
 },
 "nbformat": 4,
 "nbformat_minor": 0
}