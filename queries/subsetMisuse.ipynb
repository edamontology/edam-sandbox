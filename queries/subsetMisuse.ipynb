{
 "cells": [
  {
   "cell_type": "markdown",
   "metadata": {
    "collapsed": true,
    "pycharm": {
     "name": "#%% md\n"
    }
   },
   "source": [
    "**subsetMisuse.ipynb**\n",
    "\n",
    "Misuse of subset annotation property.\n",
    "\n",
    "**Documentation:** https://github.com/edamontology/edamverify/blob/master/docs/subsetMisuse.md    "
   ]
  },
  {
   "cell_type": "markdown",
   "source": [
    "Set constants for script return values. Load EDAM_dev.owl from GitHub into an RDF graph."
   ],
   "metadata": {
    "collapsed": false
   }
  },
  {
   "cell_type": "code",
   "execution_count": 1,
   "outputs": [
    {
     "name": "stdout",
     "output_type": "stream",
     "text": [
      "Loading graph ...done!\n"
     ]
    },
    {
     "name": "stderr",
     "output_type": "stream",
     "text": [
      "https://neuroml.org/neuromlv2|https://neuroml-db.org/ does not look like a valid URI, trying to serialize this will break.\n"
     ]
    }
   ],
   "source": [
    "import os\n",
    "from rdflib import ConjunctiveGraph, Namespace\n",
    "import json\n",
    "from collections import OrderedDict\n",
    "\n",
    "# Constants for script error reporting as per https://github.com/edamontology/edamverify.\n",
    "NOERR = \"NOERR\"\n",
    "INFO  = \"INFO\"\n",
    "WARN  = \"WARN\"\n",
    "ERROR = \"ERROR\"\n",
    "\n",
    "#Load EDAM_dev.owl from GitHub into an RDF graph.\n",
    "print(\"Loading graph ...\", end=\"\")\n",
    "g = ConjunctiveGraph()\n",
    "g.load(os.environ.get('EDAM_PATH', '../EDAM_dev.owl'), format='xml')\n",
    "# g.load('https://raw.githubusercontent.com/edamontology/edamontology/master/EDAM_dev.owl', format='xml')\n",
    "# g.load('EDAM_dev.owl')\n",
    "g.bind('edam', Namespace('http://edamontology.org#'))\n",
    "print(\"done!\")"
   ],
   "metadata": {
    "collapsed": false,
    "pycharm": {
     "name": "#%%\n"
    }
   }
  },
  {
   "cell_type": "markdown",
   "source": [
    "Define SPARQL query to extract ID, term, subset and (if available) deprecated field of all concepts. Run the query."
   ],
   "metadata": {
    "collapsed": false
   }
  },
  {
   "cell_type": "code",
   "execution_count": 2,
   "outputs": [],
   "source": [
    "# Compile SPARQL query\n",
    "query_term = \"\"\"\n",
    "SELECT ?id ?term ?subset ?deprecated WHERE\n",
    "{\n",
    "?id rdfs:label ?term .\n",
    "?id oboInOwl:inSubset ?subset . \n",
    "OPTIONAL {?id owl:deprecated ?deprecated .}\n",
    "}\n",
    "\"\"\"\n",
    "\n",
    "\n",
    "# Declare hash tables for ids, counts of subset assignations, terms and subsets\n",
    "# ids_subset_count_data : count of subset assignations to 'data' and 'identifiers'\n",
    "# ids_subset_count_other : count of subset assignations to 'operations', 'topics' and 'formats'\n",
    "ids = {}\n",
    "ids_subset_count_data = {}\n",
    "ids_subset_count_other = {}\n",
    "terms = {}\n",
    "subsets = {}\n",
    "\n",
    "# Run SPARQL query and collate results\n",
    "errfound = False    \n",
    "report = list()\n",
    "results = g.query(query_term)"
   ],
   "metadata": {
    "collapsed": false,
    "pycharm": {
     "name": "#%%\n"
    }
   }
  },
  {
   "cell_type": "markdown",
   "source": [
    "Analyse results of query.\n",
    "\n",
    "**NB:**\n",
    "Subsets in EDAM are (currently) defined in one of two ways:\n",
    "  \n",
    "``<oboInOwl:inSubset rdf:resource=\"http://purl.obolibrary.org/obo/edam#data\" />``\n",
    "\n",
    "``<oboInOwl:inSubset>concept_properties />``\n",
    "\n",
    "this complicates the logic slightly. \n",
    "\n",
    "\n"
   ],
   "metadata": {
    "collapsed": false
   }
  },
  {
   "cell_type": "code",
   "execution_count": 3,
   "outputs": [],
   "source": [
    "report.append(\"Suspected error in subset assignation for these concepts:\")\n",
    "\n",
    "for r in results :\n",
    "    \n",
    "    id     = str(r['id'])\n",
    "    term   = str(r['term']) \n",
    "    subsetpath = str(r['subset'])\n",
    "    deprecated = str(r['deprecated'])\n",
    "            \n",
    "    # print(str(r['id']), \"   \", str(r['term']), \"   \",  str(r['subset']), \"   \",  str(r['deprecated']), \"   \", deprecated)\n",
    "\n",
    "    # Extract subset without path, e.g. \"data\"    \n",
    "    pos = subsetpath.rfind(\"#\")\n",
    "    if pos == -1: \n",
    "        # subset path does not contain '#'\n",
    "        subset = subsetpath\n",
    "    else:\n",
    "        subset = subsetpath[pos+1:] \n",
    "\n",
    "    # Check for invalid subset\n",
    "    if subset != \"topics\" \\\n",
    "            and subset != \"operations\" \\\n",
    "            and subset != \"data\" \\\n",
    "            and subset != \"identifiers\" \\\n",
    "            and subset != \"formats\" \\\n",
    "            and subset != \"edam\" \\\n",
    "            and subset != \"events\" \\\n",
    "            and subset != \"obsolete\" \\\n",
    "            and subset != \"relations\" \\\n",
    "            and subset != \"concept_properties\" :\n",
    "            errfound = True\n",
    "            report.append(\"Invalid subset ::: \" + id +  ' (' + term + ')' + \" in subset:\" + subset + \"   \")\n",
    "            continue\n",
    "\n",
    "    # Check deprecated concepts are in right subset \n",
    "    if deprecated == \"true\" and subset !=  \"obsolete\" :\n",
    "        errfound = True\n",
    "        report.append(\"Invalid subset for deprecated concept ::: \" + id +  ' (' + term + ')' + \" in subset:\" + subset)\n",
    "\n",
    "    # Check concept in \"deprecated\" subset is actually deprecated \n",
    "    if subset ==  \"obsolete\" and deprecated != \"true\":\n",
    "        errfound = True\n",
    "        report.append(\"Concept in deprecated subset lacks <owl:deprecated>true</>\" + \" ::: \" + id +  ' (' + term + ')' + \" in subset:\" + subset)\n",
    "\n",
    "    # Skip subsets not corresponding to main sub-ontologies\n",
    "    if subset == \"edam\" or subset == \"events\" or subset == \"relations\" or subset == \"concept_properties\":\n",
    "        continue\n",
    "    else:\n",
    "        # Count the number of subset assignations\n",
    "        # There must be only one of `topics`, `operations`, 'formats' and 'data' subset assignations\n",
    "        # Identifier concepts must have both 'data' and 'identifiers' subset assignations\n",
    "        ids[id] = id\n",
    "        terms[id] = term\n",
    "        subsets[id] = subset\n",
    "        if subset==\"data\" or subset==\"identifiers\":\n",
    "            if id not in ids_subset_count_data:\n",
    "                ids_subset_count_data[id] = 1\n",
    "            else:\n",
    "                ids_subset_count_data[id] += 1\n",
    "        elif subset==\"topics\" \\\n",
    "                or subset==\"operations\" \\\n",
    "                or subset==\"formats\":\n",
    "            if id not in ids_subset_count_other:\n",
    "                ids_subset_count_other[id] = 1\n",
    "            else:\n",
    "                ids_subset_count_other[id] += 1\n",
    "\n",
    "\n",
    "\n",
    "    # We're also done processing obsolete concepts\n",
    "    if subset == \"obsolete\":\n",
    "        continue\n",
    "    \n",
    "    # Check for mismatch between subset and subontology (non-deprecated concepts)    \n",
    "    # if subset not in id and subset != \"identifier\" :\n",
    "    if \"topic\" in id and subset != \"topics\" or \\\n",
    "        \"operation\" in id and subset != \"operations\" or \\\n",
    "        \"data\" in id and subset != \"data\" and subset != \"identifiers\" or \\\n",
    "        \"format\" in id and subset != \"formats\" :\n",
    "        errfound = True\n",
    "        report.append(\"Wrong subset ::: \" + id +  ' (' + term + ')' + \" in subset:\" + subset)\n",
    "\n",
    "\n",
    "# Check for multiple subset assignations\n",
    "# There must be only one of `topics`, `operations` etc. subset assignations per concept!\n",
    "for next_id in ids:\n",
    "    # Check if Identifier concepts have both 'data' and 'identifiers' subset assignations\n",
    "    if next_id in ids_subset_count_data \\\n",
    "            and subsets[next_id] == \"identifiers\" \\\n",
    "            and ids_subset_count_data[next_id] != 2:\n",
    "        report.append(\"Identifier concept should have both 'data' and 'identifiers' subset assignations ::: \" + next_id +  ' (' + terms[next_id] + ')')\n",
    "       # Check that there is only one of `topics`, `operations`, 'formats' and 'data' subset assignations\n",
    "    if next_id in ids_subset_count_other:\n",
    "       if (ids_subset_count_other[next_id] >1) or (next_id in ids_subset_count_data):\n",
    "           report.append(\"Concept with multiple erroneous subset assignations ::: \" + next_id +  ' (' + terms[next_id] + ')')\n",
    "\n",
    "\n"
   ],
   "metadata": {
    "collapsed": false,
    "pycharm": {
     "name": "#%%\n"
    }
   }
  },
  {
   "cell_type": "markdown",
   "source": [
    "Write report and return approriate value."
   ],
   "metadata": {
    "collapsed": false
   }
  },
  {
   "cell_type": "code",
   "execution_count": 4,
   "outputs": [
    {
     "name": "stdout",
     "output_type": "stream",
     "text": [
      "{\n",
      "    \"test_name\": \"subsetMisuse\",\n",
      "    \"status\": \"ERROR\",\n",
      "    \"reason\": [\n",
      "        \"Suspected error in subset assignation for these concepts:\",\n",
      "        \"Invalid subset ::: http://edamontology.org/format_3876 (TNG) in subset:TNG   \",\n",
      "        \"Wrong subset ::: http://edamontology.org/topic_3077 (Data acquisition) in subset:data\",\n",
      "        \"Wrong subset ::: http://edamontology.org/operation_3456 (Rigid body refinement) in subset:data\",\n",
      "        \"Wrong subset ::: http://edamontology.org/operation_3931 (Chemometrics) in subset:topics\",\n",
      "        \"Wrong subset ::: http://edamontology.org/operation_3482 (Antimicrobial resistance prediction) in subset:data\",\n",
      "        \"Wrong subset ::: http://edamontology.org/operation_3454 (Phasing) in subset:data\",\n",
      "        \"Wrong subset ::: http://edamontology.org/operation_3939 (Metabolic engineering) in subset:topics\",\n",
      "        \"Wrong subset ::: http://edamontology.org/operation_3461 (Virulence prediction) in subset:data\",\n",
      "        \"Wrong subset ::: http://edamontology.org/operation_3968 (Adhesin prediction) in subset:topics\",\n",
      "        \"Wrong subset ::: http://edamontology.org/format_3873 (HDF) in subset:data\",\n",
      "        \"Invalid subset for deprecated concept ::: http://edamontology.org/format_3623 (Index format) in subset:edam\",\n",
      "        \"Wrong subset ::: http://edamontology.org/operation_3455 (Molecular replacement) in subset:data\",\n",
      "        \"Wrong subset ::: http://edamontology.org/operation_3472 (k-mer counting) in subset:data\",\n",
      "        \"Concept with multiple erroneous subset assignations ::: http://edamontology.org/format_3873 (HDF)\",\n",
      "        \"Identifier concept should have both 'data' and 'identifiers' subset assignations ::: http://edamontology.org/data_3952 (Pathway ID (WikiPathways))\",\n",
      "        \"Concept with multiple erroneous subset assignations ::: http://edamontology.org/topic_3077 (Data acquisition)\",\n",
      "        \"Concept with multiple erroneous subset assignations ::: http://edamontology.org/operation_3455 (Molecular replacement)\",\n",
      "        \"Concept with multiple erroneous subset assignations ::: http://edamontology.org/operation_3461 (Virulence prediction)\",\n",
      "        \"Concept with multiple erroneous subset assignations ::: http://edamontology.org/operation_3456 (Rigid body refinement)\",\n",
      "        \"Concept with multiple erroneous subset assignations ::: http://edamontology.org/operation_3454 (Phasing)\"\n",
      "    ]\n",
      "}\n"
     ]
    }
   ],
   "source": [
    "# Write report\n",
    "# Use ordered dictionary to get consistent listing of properties in the JSON output\n",
    "report_dict = OrderedDict\n",
    "\n",
    "if errfound:\n",
    "    report_dict = {\n",
    "        'test_name': 'subsetMisuse',\n",
    "        'status' : ERROR,\n",
    "        'reason' : report\n",
    "    }\n",
    "else:\n",
    "    report_dict = {\n",
    "        'test_name': 'subsetMisuse',\n",
    "        'status' : NOERR,\n",
    "        'reason' : '-'\n",
    "    }\n",
    "\n",
    "report_json = json.dumps(report_dict, indent=4)\n",
    "print(report_json)\n",
    "\n",
    "\n",
    "\n"
   ],
   "metadata": {
    "collapsed": false,
    "pycharm": {
     "name": "#%%\n"
    }
   }
  }
 ],
 "metadata": {
  "kernelspec": {
   "display_name": "Python 3",
   "language": "python",
   "name": "python3"
  },
  "language_info": {
   "codemirror_mode": {
    "name": "ipython",
    "version": 2
   },
   "file_extension": ".py",
   "mimetype": "text/x-python",
   "name": "python",
   "nbconvert_exporter": "python",
   "pygments_lexer": "ipython2",
   "version": "2.7.6"
  }
 },
 "nbformat": 4,
 "nbformat_minor": 0
}