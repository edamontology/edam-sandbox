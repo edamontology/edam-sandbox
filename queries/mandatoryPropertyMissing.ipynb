{
 "cells": [
  {
   "cell_type": "markdown",
   "metadata": {
    "collapsed": true,
    "pycharm": {
     "name": "#%% md\n"
    }
   },
   "source": [
    "**mandatoryPropertyMissing.ipynb**\n",
    "\n",
    "EDAM concept is missing a mandatory annotation propery\n",
    "\n",
    "**Documentation:** https://github.com/edamontology/edamverify/blob/master/docs/mandatoryPropertyMissing.md\n",
    "\n",
    "Set constants for script return values. Load EDAM_dev.owl from GitHub into an RDF graph.\n",
    "\n",
    "**NB.1:** The ``EDAM_PATH`` environment variable (location of ``EDAM_dev.owl`` file) must be set.  The script requires the test to be run from a subdirectory of this path, hence ``'../EDAM_dev.owl'`` below."
   ]
  },
  {
   "cell_type": "code",
   "execution_count": 5,
   "outputs": [
    {
     "name": "stdout",
     "output_type": "stream",
     "text": [
      "Loading graph ...done!\n"
     ]
    },
    {
     "name": "stderr",
     "output_type": "stream",
     "text": [
      "https://neuroml.org/neuromlv2|https://neuroml-db.org/ does not look like a valid URI, trying to serialize this will break.\n"
     ]
    }
   ],
   "source": [
    "import os\n",
    "from rdflib import ConjunctiveGraph, Namespace\n",
    "import json\n",
    "from collections import OrderedDict\n",
    "\n",
    "# Constants for script error reporting as per https://github.com/edamontology/edamverify.\n",
    "NOERR = \"NOERR\"\n",
    "INFO  = \"INFO\"\n",
    "WARN  = \"WARN\"\n",
    "ERROR = \"ERROR\"\n",
    "\n",
    "#Load EDAM_dev.owl from GitHub into an RDF graph.\n",
    "print(\"Loading graph ...\", end=\"\")\n",
    "g = ConjunctiveGraph()\n",
    "g.load(os.environ.get('EDAM_PATH', '../EDAM_dev.owl'), format='xml')\n",
    "# g.load('https://raw.githubusercontent.com/edamontology/edamontology/master/EDAM_dev.owl', format='xml')\n",
    "# g.load('EDAM_dev.owl', format='xml')\n",
    "g.bind('edam', Namespace('http://edamontology.org#'))\n",
    "print(\"done!\")\n",
    "\n"
   ],
   "metadata": {
    "collapsed": false,
    "pycharm": {
     "name": "#%%\n"
    }
   }
  },
  {
   "cell_type": "markdown",
   "source": [
    "Define SPARQL query to retrieve ID, term, and all other properties that are mandatory for Operation, Data, Identifier, Format or Topic concepts. Run the query.\n",
    "\n",
    "**NB.1:** BASE is used to define the define the default namespace (for various elements below).\n",
    "\n",
    "**NB.2:** Concepts are identified by one of ``operation``, ``data``, ``format`` or ``topic`` occurring in the concept ID."
   ],
   "metadata": {
    "collapsed": false
   }
  },
  {
   "cell_type": "code",
   "execution_count": 6,
   "outputs": [],
   "source": [
    "# Compile SPARQL query\n",
    "query_term = \"\"\"\n",
    "BASE <http://edamontology.org/>\n",
    "SELECT ?id ?term ?subsetpath ?definition ?created_in WHERE\n",
    "{\n",
    "?id rdfs:label ?term .\n",
    "?id oboInOwl:inSubset ?subsetpath .\n",
    "OPTIONAL {?id oboInOwl:hasDefinition ?definition .}\n",
    "OPTIONAL {?id :created_in ?created_in .}\n",
    "}\n",
    "\"\"\"\n",
    "\n",
    "# Declare hash tables for results\n",
    "# ids is for concept IDs\n",
    "# edamSubset is used to record 'edam' subset assignations\n",
    "# branchSubset is used to record 'topics', 'data', 'formats' or 'operations' subset assignations\n",
    "edamSubset = {}\n",
    "branchSubset = {}\n",
    "ids = {}\n",
    "terms = {}\n",
    "\n",
    "# Run SPARQL query and collate results\n",
    "err = NOERR\n",
    "errfound = False\n",
    "report = list()\n",
    "results = g.query(query_term)"
   ],
   "metadata": {
    "collapsed": false,
    "pycharm": {
     "name": "#%%\n"
    }
   }
  },
  {
   "cell_type": "markdown",
   "source": [
    "Analyse results of query."
   ],
   "metadata": {
    "collapsed": false
   }
  },
  {
   "cell_type": "code",
   "execution_count": 7,
   "outputs": [],
   "source": [
    "# Error message building function\n",
    "def report_append(err_new, msg):\n",
    "    \"\"\"\n",
    "    Writes a report of an error and sets the error level appropriately.\n",
    "    err: the error level to set\n",
    "    msg: the message to write\n",
    "    \"\"\"\n",
    "    global err\n",
    "    global errfound\n",
    "    global report\n",
    "    if err_new > err:\n",
    "        err = err_new\n",
    "    errfound = True\n",
    "    report.append(msg)\n",
    "\n",
    "report.append('Mandatory properties missing from these concepts:')\n",
    "\n",
    "for r in results :\n",
    "#    print(str(r['id']), str(r['term']), str(r['ext']), str(r['exact_syn']))\n",
    "    id   = str(r['id'])\n",
    "    term = str(r['term'])\n",
    "    subsetpath  = str(r['subsetpath'])\n",
    "    definition = str(r['definition'])\n",
    "    created_in = str(r['created_in'])\n",
    "\n",
    "\n",
    "    # Skip obsolete concepts\n",
    "    if subsetpath != 'None' and \"obsolete\" in subsetpath:\n",
    "        continue\n",
    "\n",
    "    # Operate on EDAM Operation, Data, Format or Topic concepts only\n",
    "    if \"operation_\" in id \\\n",
    "        or \"data_\" in id \\\n",
    "        or (\"format_\" in id and \"is_format_of\" not in id)\\\n",
    "        or (\"topic_\" in id and \"is_topic_of\" not in id):\n",
    "\n",
    "        # Update the IDs hash table\n",
    "        ids[id] = id\n",
    "        terms[id] = term\n",
    "\n",
    "        # Update the subset assignation hash tables\n",
    "        # Values are set to True but later on, just the key is used\n",
    "        # '#' is needed for edam because of how subsets are defined: http://purl.obolibrary.org/obo/edam#edam\n",
    "        if \"#edam\" in subsetpath:\n",
    "            edamSubset[id] = True\n",
    "        if \"topics\" in subsetpath \\\n",
    "            or \"operations\" in subsetpath \\\n",
    "            or \"data\" in subsetpath \\\n",
    "            or \"identifiers\" in subsetpath \\\n",
    "            or \"formats\" in subsetpath:\n",
    "            branchSubset[id] = True\n",
    "\n",
    "        # Check for missing 'definition' and 'created_in' properties\n",
    "        if definition == \"None\":\n",
    "            report_append(ERROR, \"ERROR Missing property (definition) on ::: \" + id +  ' (' + term + ')')\n",
    "        if created_in == \"None\":\n",
    "            report_append(ERROR, \"ERROR Missing property (created_in) on ::: \" + id +  ' (' + term + ')')\n",
    "\n",
    "# Check for missing subset properties\n",
    "for next_id in ids:\n",
    "    if next_id not in edamSubset:\n",
    "        report_append(ERROR, \"ERROR subset ('edam') assignation missing on ::: \" + next_id +  ' (' + terms[next_id] + ')')\n",
    "    if next_id not in branchSubset:\n",
    "        report_append(ERROR, \"ERROR subset assignation ('topics', 'operations', 'data', 'identifier' or 'formats') missing on ::: \" + next_id +  ' (' + terms[next_id] + ')')"
   ],
   "metadata": {
    "collapsed": false,
    "pycharm": {
     "name": "#%%\n"
    }
   }
  },
  {
   "cell_type": "markdown",
   "source": [
    "Write report and return approriate value."
   ],
   "metadata": {
    "collapsed": false
   }
  },
  {
   "cell_type": "code",
   "execution_count": 8,
   "outputs": [
    {
     "name": "stdout",
     "output_type": "stream",
     "text": [
      "{\n",
      "    \"status\": \"NOERR\",\n",
      "    \"reason\": [\n",
      "        \"Mandatory properties missing from these concepts:\",\n",
      "        \"ERROR subset ('edam') assignation missing on ::: http://edamontology.org/topic_3179 (ChIP-on-chip)\",\n",
      "        \"ERROR subset ('edam') assignation missing on ::: http://edamontology.org/operation_3456 (Rigid body refinement)\",\n",
      "        \"ERROR subset ('edam') assignation missing on ::: http://edamontology.org/topic_0102 (Mapping)\",\n",
      "        \"ERROR subset ('edam') assignation missing on ::: http://edamontology.org/topic_0769 (Workflows)\",\n",
      "        \"ERROR subset ('edam') assignation missing on ::: http://edamontology.org/topic_3077 (Data acquisition)\",\n",
      "        \"ERROR subset ('edam') assignation missing on ::: http://edamontology.org/operation_3454 (Phasing)\",\n",
      "        \"ERROR subset ('edam') assignation missing on ::: http://edamontology.org/format_3873 (HDF)\",\n",
      "        \"ERROR subset ('edam') assignation missing on ::: http://edamontology.org/topic_3674 (Methylated DNA immunoprecipitation)\",\n",
      "        \"ERROR subset ('edam') assignation missing on ::: http://edamontology.org/topic_3673 (Whole genome sequencing)\",\n",
      "        \"ERROR subset ('edam') assignation missing on ::: http://edamontology.org/data_3358 (Format identifier)\",\n",
      "        \"ERROR subset ('edam') assignation missing on ::: http://edamontology.org/topic_0605 (Informatics)\",\n",
      "        \"ERROR subset ('edam') assignation missing on ::: http://edamontology.org/data_3354 (Transition matrix)\",\n",
      "        \"ERROR subset ('edam') assignation missing on ::: http://edamontology.org/operation_3455 (Molecular replacement)\",\n",
      "        \"ERROR subset ('edam') assignation missing on ::: http://edamontology.org/topic_3170 (RNA-Seq)\",\n",
      "        \"ERROR subset ('edam') assignation missing on ::: http://edamontology.org/data_3355 (Emission matrix)\",\n",
      "        \"ERROR subset ('edam') assignation missing on ::: http://edamontology.org/operation_3461 (Virulence prediction)\",\n",
      "        \"ERROR subset ('edam') assignation missing on ::: http://edamontology.org/topic_3837 (Metagenomic sequencing)\",\n",
      "        \"ERROR subset ('edam') assignation missing on ::: http://edamontology.org/topic_3794 (RNA immunoprecipitation)\",\n",
      "        \"ERROR subset assignation ('topics', 'operations', 'data', 'identifier' or 'formats') missing on ::: http://edamontology.org/format_3623 (Index format)\",\n",
      "        \"ERROR subset ('edam') assignation missing on ::: http://edamontology.org/topic_3169 (ChIP-seq)\"\n",
      "    ],\n",
      "    \"test_name\": \"mandatoryPropertyMissing\"\n",
      "}\n"
     ]
    }
   ],
   "source": [
    "# Write report\n",
    "# Use ordered dictionary to get consistent listing of properties in the JSON output\n",
    "report_dict = OrderedDict\n",
    "\n",
    "if errfound:\n",
    "    report_dict = {\n",
    "        'test_name': 'mandatoryPropertyMissing',\n",
    "        'status' : err,\n",
    "        'reason' : report\n",
    "    }\n",
    "else:\n",
    "    report_dict = {\n",
    "        'test_name': 'mandatoryPropertyMissing',\n",
    "        'status' : NOERR,\n",
    "        'reason' : '-'\n",
    "    }\n",
    "\n",
    "report_json = json.dumps(report_dict, indent=4)\n",
    "print(report_json)"
   ],
   "metadata": {
    "collapsed": false,
    "pycharm": {
     "name": "#%%\n"
    }
   }
  }
 ],
 "metadata": {
  "kernelspec": {
   "display_name": "Python 3",
   "language": "python",
   "name": "python3"
  },
  "language_info": {
   "codemirror_mode": {
    "name": "ipython",
    "version": 2
   },
   "file_extension": ".py",
   "mimetype": "text/x-python",
   "name": "python",
   "nbconvert_exporter": "python",
   "pygments_lexer": "ipython2",
   "version": "2.7.6"
  }
 },
 "nbformat": 4,
 "nbformat_minor": 0
}