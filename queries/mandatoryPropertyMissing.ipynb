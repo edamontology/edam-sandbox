{
 "cells": [
  {
   "cell_type": "markdown",
   "metadata": {
    "collapsed": true,
    "pycharm": {
     "name": "#%% md\n"
    }
   },
   "source": [
    "**mandatoryPropertyMissing.ipynb**\n",
    "\n",
    "EDAM concept is missing a mandatory annotation propery\n",
    "\n",
    "**Documentation:** https://github.com/edamontology/edamverify/blob/master/docs/mandatoryPropertyMissing.md\n",
    "\n",
    "Set constants for script return values. Load EDAM_dev.owl from GitHub into an RDF graph."
   ]
  },
  {
   "cell_type": "code",
   "execution_count": 29,
   "outputs": [
    {
     "name": "stdout",
     "output_type": "stream",
     "text": [
      "Loading graph ...done!\n"
     ]
    }
   ],
   "source": [
    "import sys\n",
    "from rdflib import ConjunctiveGraph, Namespace\n",
    "\n",
    "# Constants for script return value as per https://github.com/edamontology/edamverify.\n",
    "NOERR = 0\n",
    "INFO  = 1\n",
    "WARN  = 2\n",
    "ERROR = 3\n",
    "\n",
    "#Load EDAM_dev.owl from GitHub into an RDF graph.\n",
    "print(\"Loading graph ...\", end=\"\")\n",
    "g = ConjunctiveGraph()\n",
    "g.load('https://raw.githubusercontent.com/edamontology/edamontology/master/EDAM_dev.owl', format='xml')\n",
    "# g.load('EDAM_dev.owl', format='xml')\n",
    "g.bind('edam', Namespace('http://edamontology.org#'))\n",
    "print(\"done!\")\n",
    "\n"
   ],
   "metadata": {
    "collapsed": false,
    "pycharm": {
     "name": "#%%\n"
    }
   }
  },
  {
   "cell_type": "markdown",
   "source": [
    "Define SPARQL query to retrieve ID, term, and all other properties that are mandatory for Operation, Data, Identifier, Format or Topic concepts. Run the query.\n",
    "\n",
    "**NB.1:** BASE is used to define the define the default namespace (for various elements below).\n",
    "\n",
    "**NB.2:** Concepts are identified by one of ``operation``, ``data``, ``format`` or ``topic`` occurring in the concept ID."
   ],
   "metadata": {
    "collapsed": false
   }
  },
  {
   "cell_type": "code",
   "execution_count": 30,
   "outputs": [],
   "source": [
    "# Compile SPARQL query\n",
    "query_term = \"\"\"\n",
    "BASE <http://edamontology.org/>\n",
    "SELECT ?id ?term ?subsetpath ?definition ?created_in WHERE\n",
    "{\n",
    "?id rdfs:label ?term .\n",
    "?id oboInOwl:inSubset ?subsetpath .\n",
    "OPTIONAL {?id oboInOwl:hasDefinition ?definition .}\n",
    "OPTIONAL {?id :created_in ?created_in .}\n",
    "}\n",
    "\"\"\"\n",
    "\n",
    "# Declare hash tables for results\n",
    "# ids is for concept IDs\n",
    "# edamSubset is used to record 'edam' subset assignations\n",
    "# branchSubset is used to record 'topics', 'data', 'formats' or 'operations' subset assignations\n",
    "edamSubset = {}\n",
    "branchSubset = {}\n",
    "ids = {}\n",
    "terms = {}\n",
    "\n",
    "# Run SPARQL query and collate results\n",
    "err = NOERR\n",
    "errfound = False\n",
    "report = list()\n",
    "results = g.query(query_term)"
   ],
   "metadata": {
    "collapsed": false,
    "pycharm": {
     "name": "#%%\n"
    }
   }
  },
  {
   "cell_type": "markdown",
   "source": [
    "Analyse results of query."
   ],
   "metadata": {
    "collapsed": false
   }
  },
  {
   "cell_type": "code",
   "execution_count": 31,
   "outputs": [],
   "source": [
    "# Error message building function\n",
    "def report_append(err_new, msg):\n",
    "    \"\"\"\n",
    "    Writes a report of an error and sets the error level appropriately.\n",
    "    err: the error level to set\n",
    "    msg: the message to write\n",
    "    \"\"\"\n",
    "    global err\n",
    "    global errfound\n",
    "    global report\n",
    "    if err_new > err:\n",
    "        err = err_new\n",
    "    errfound = True\n",
    "    report.append(msg)\n",
    "\n",
    "for r in results :\n",
    "#    print(str(r['id']), str(r['term']), str(r['ext']), str(r['exact_syn']))\n",
    "    id   = str(r['id'])\n",
    "    term = str(r['term'])\n",
    "    subsetpath  = str(r['subsetpath'])\n",
    "    definition = str(r['definition'])\n",
    "    created_in = str(r['created_in'])\n",
    "\n",
    "\n",
    "    # Skip obsolete concepts\n",
    "    if subsetpath != 'None' and \"obsolete\" in subsetpath:\n",
    "        continue\n",
    "\n",
    "    # Check for Format concepts\n",
    "    if \"operation_\" in id \\\n",
    "        or \"data_\" in id \\\n",
    "        or (\"format_\" in id and \"is_format_of\" not in id)\\\n",
    "        or (\"topic_\" in id and \"is_topic_of\" not in id):\n",
    "\n",
    "        # Update the IDs hash table\n",
    "        ids[id] = id\n",
    "        terms[id] = term\n",
    "\n",
    "        # Update the subset assignation hash tables\n",
    "        if \"edam\" in subsetpath:\n",
    "            edamSubset[id] = \"true\"\n",
    "        if \"topics\" in subsetpath \\\n",
    "            or \"operations\" in subsetpath \\\n",
    "            or \"data\" in subsetpath \\\n",
    "            or \"identifiers\" in subsetpath \\\n",
    "            or \"formats\" in subsetpath:\n",
    "            branchSubset[id] = \"true\"\n",
    "\n",
    "        # Check for missing 'definition' and 'created_in' properties\n",
    "        if definition == \"None\":\n",
    "            report_append(ERROR, \"ERROR Missing property (definition) on ::: \" + id +  ' (' + term + ')')\n",
    "        if created_in == \"None\":\n",
    "            report_append(ERROR, \"ERROR Missing property (created_in) on ::: \" + id +  ' (' + term + ')')\n",
    "\n",
    "# Check for missing subset properties\n",
    "for next_id in ids:\n",
    "    if next_id not in edamSubset:\n",
    "        report_append(ERROR, \"ERROR 'edam' subset assignation missing on ::: \" + next_id +  ' (' + terms[next_id] + ')')\n",
    "    if next_id not in branchSubset:\n",
    "        report_append(ERROR, \"ERROR 'topics', 'operations', 'data' or 'formats' subset assignation missing on ::: \" + next_id +  ' (' + terms[next_id] + ')')"
   ],
   "metadata": {
    "collapsed": false,
    "pycharm": {
     "name": "#%%\n"
    }
   }
  },
  {
   "cell_type": "markdown",
   "source": [
    "Write report and return approriate value."
   ],
   "metadata": {
    "collapsed": false
   }
  },
  {
   "cell_type": "code",
   "execution_count": 32,
   "outputs": [
    {
     "name": "stdout",
     "output_type": "stream",
     "text": [
      "Mandatory properties missing from these concepts:\n",
      "ERROR 'topics', 'operations', 'data' or 'formats' subset assignation missing on ::: http://edamontology.org/format_3623 (Index format)\n"
     ]
    },
    {
     "ename": "SystemExit",
     "evalue": "3",
     "output_type": "error",
     "traceback": [
      "An exception has occurred, use %tb to see the full traceback.\n",
      "\u001B[0;31mSystemExit\u001B[0m\u001B[0;31m:\u001B[0m 3\n"
     ]
    },
    {
     "name": "stderr",
     "output_type": "stream",
     "text": [
      "/usr/local/lib/python3.5/dist-packages/IPython/core/interactiveshell.py:3334: UserWarning: To exit: use 'exit', 'quit', or Ctrl-D.\n",
      "  warn(\"To exit: use 'exit', 'quit', or Ctrl-D.\", stacklevel=1)\n"
     ]
    }
   ],
   "source": [
    "# Return exit code (raises exception)\n",
    "if errfound:\n",
    "    print('Mandatory properties missing from these concepts:')\n",
    "    print(\"\\n\".join(report))\n",
    "    sys.exit(err)\n",
    "else:\n",
    "    print(\"No issues found.\")\n",
    "    sys.exit(NOERR)"
   ],
   "metadata": {
    "collapsed": false,
    "pycharm": {
     "name": "#%%\n"
    }
   }
  }
 ],
 "metadata": {
  "kernelspec": {
   "display_name": "Python 3",
   "language": "python",
   "name": "python3"
  },
  "language_info": {
   "codemirror_mode": {
    "name": "ipython",
    "version": 2
   },
   "file_extension": ".py",
   "mimetype": "text/x-python",
   "name": "python",
   "nbconvert_exporter": "python",
   "pygments_lexer": "ipython2",
   "version": "2.7.6"
  }
 },
 "nbformat": 4,
 "nbformat_minor": 0
}