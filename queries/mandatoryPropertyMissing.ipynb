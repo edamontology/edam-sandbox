{
 "cells": [
  {
   "cell_type": "markdown",
   "metadata": {
    "collapsed": true,
    "pycharm": {
     "name": "#%% md\n"
    }
   },
   "source": [
    "**mandatoryPropertyMissing.ipynb**\n",
    "\n",
    "EDAM concept is missing a mandatory annotation propery\n",
    "\n",
    "**Documentation:** https://github.com/edamontology/edamverify/blob/master/docs/mandatoryPropertyMissing.md\n",
    "\n",
    "Set constants for script return values. Load EDAM_dev.owl from GitHub into an RDF graph."
   ]
  },
  {
   "cell_type": "code",
   "execution_count": null,
   "outputs": [],
   "source": [
    "import sys\n",
    "from rdflib import ConjunctiveGraph, Namespace\n",
    "\n",
    "# Constants for script return value as per https://github.com/edamontology/edamverify.\n",
    "NOERR = 0\n",
    "INFO  = 1\n",
    "WARN  = 2\n",
    "ERROR = 3\n",
    "\n",
    "#Load EDAM_dev.owl from GitHub into an RDF graph.\n",
    "print(\"Loading graph ...\", end=\"\")\n",
    "g = ConjunctiveGraph()\n",
    "g.load('https://raw.githubusercontent.com/edamontology/edamontology/master/EDAM_dev.owl', format='xml')\n",
    "# g.load('EDAM_dev.owl', format='xml')\n",
    "g.bind('edam', Namespace('http://edamontology.org#'))\n",
    "print(\"done!\")\n",
    "\n"
   ],
   "metadata": {
    "collapsed": false,
    "pycharm": {
     "name": "#%%\n"
    }
   }
  },
  {
   "cell_type": "markdown",
   "source": [
    "Define SPARQL query to retrieve ID, term, and all other properties that are mandatory for Operation, Data, Identifier, Format or Topic concepts. Run the query.\n",
    "\n",
    "**NB.1:** BASE is used to define the define the default namespace (for various elements below).\n",
    "\n",
    "**NB.2:** A concept is considered to be e.g. an Identifier if it has a property ``<oboInOwl:inSubset>`` whose value contains the string e.g. ``identifiers``, e.g. ``<oboInOwl:inSubset rdf:resource=\"http://purl.obolibrary.org/obo/edam#identifiers\"/>`` or ``<oboInOwl:inSubset>identifiers />``"
   ],
   "metadata": {
    "collapsed": false
   }
  },
  {
   "cell_type": "code",
   "execution_count": null,
   "outputs": [],
   "source": [
    "# Compile SPARQL query\n",
    "query_term = \"\"\"\n",
    "BASE <http://edamontology.org/>\n",
    "SELECT ?id ?term ?subsetpath ?definition ?created_in WHERE\n",
    "{\n",
    "?id rdfs:label ?term .\n",
    "?id oboInOwl:inSubset ?subsetpath .\n",
    "OPTIONAL {?id oboInOwl:hasDefinition ?definition .}\n",
    "OPTIONAL {?id :created_in ?created_in .}\n",
    "}\n",
    "\"\"\"\n",
    "\n",
    "# Run SPARQL query and collate results\n",
    "err = NOERR\n",
    "errfound = False\n",
    "report = list()\n",
    "results = g.query(query_term)"
   ],
   "metadata": {
    "collapsed": false,
    "pycharm": {
     "name": "#%%\n"
    }
   }
  },
  {
   "cell_type": "markdown",
   "source": [
    "Analyse results of query."
   ],
   "metadata": {
    "collapsed": false
   }
  },
  {
   "cell_type": "code",
   "execution_count": null,
   "outputs": [],
   "source": [
    "# Error message building function\n",
    "def report_append(err_new, msg):\n",
    "    \"\"\"\n",
    "    Writes a report of an error and sets the error level appropriately.\n",
    "    err: the error level to set\n",
    "    msg: the message to write\n",
    "    \"\"\"\n",
    "    global err\n",
    "    global errfound\n",
    "    global report\n",
    "    if err_new > err:\n",
    "        err = err_new\n",
    "    errfound = True\n",
    "    report.append(msg)\n",
    "\n",
    "for r in results :\n",
    "#    print(str(r['id']), str(r['term']), str(r['ext']), str(r['exact_syn']))\n",
    "    id   = str(r['id'])\n",
    "    term = str(r['term'])\n",
    "    subsetpath  = str(r['subsetpath'])\n",
    "    definition = str(r['definition'])\n",
    "    created_in = str(r['created_in'])\n",
    "\n",
    "\n",
    "    # Check for Format concepts\n",
    "    if \"operations\" in subsetpath \\\n",
    "        or \"data\" in subsetpath \\\n",
    "        or \"identifiers\" in subsetpath \\\n",
    "        or \"formats\" in subsetpath \\\n",
    "        or \"topics\" in subsetpath:\n",
    "\n",
    "        if definition == \"None\":\n",
    "            report_append(ERROR, \"ERROR Missing property (definition) on ::: \" + id +  ' (' + term + ')')\n",
    "        if created_in == \"None\":\n",
    "            report_append(ERROR, \"ERROR Missing property (created_in) on ::: \" + id +  ' (' + term + ')')"
   ],
   "metadata": {
    "collapsed": false,
    "pycharm": {
     "name": "#%%\n"
    }
   }
  },
  {
   "cell_type": "markdown",
   "source": [
    "Write report and return approriate value."
   ],
   "metadata": {
    "collapsed": false
   }
  },
  {
   "cell_type": "code",
   "execution_count": null,
   "outputs": [],
   "source": [
    "# Return exit code (raises exception)\n",
    "if errfound:\n",
    "    print('Mandatory properties missing from these concepts:')\n",
    "    print(\"\\n\".join(report))\n",
    "    sys.exit(err)\n",
    "else:\n",
    "    print(\"No issues found.\")\n",
    "    sys.exit(NOERR)"
   ],
   "metadata": {
    "collapsed": false,
    "pycharm": {
     "name": "#%%\n"
    }
   }
  }
 ],
 "metadata": {
  "kernelspec": {
   "display_name": "Python 3",
   "language": "python",
   "name": "python3"
  },
  "language_info": {
   "codemirror_mode": {
    "name": "ipython",
    "version": 2
   },
   "file_extension": ".py",
   "mimetype": "text/x-python",
   "name": "python",
   "nbconvert_exporter": "python",
   "pygments_lexer": "ipython2",
   "version": "2.7.6"
  }
 },
 "nbformat": 4,
 "nbformat_minor": 0
}