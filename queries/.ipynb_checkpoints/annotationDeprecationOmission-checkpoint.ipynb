{
 "cells": [
  {
   "cell_type": "markdown",
   "metadata": {
    "collapsed": true,
    "pycharm": {
     "name": "#%% md\n"
    }
   },
   "source": [
    "**annotationDeprecationOmission.ipynb**\n",
    "\n",
    "Omission of properties required for deprecated concepts.\n",
    "\n",
    "**Documentation:** https://github.com/edamontology/edamverify/blob/master/docs/annotationDeprecationOmission.md\n",
    "\n",
    "**NB.1: - Running the notebook**\n",
    "The directory containing the ``EDAM_dev.owl`` file must be defined by ``EDAM_PATH`` environment variable.\n",
    "\n",
    "The script requires the test to be run from a subdirectory of ``EDAM_PATH`` (hence ``'../EDAM_dev.owl'`` below)"
   ]
  },
  {
   "cell_type": "code",
   "execution_count": 1,
   "outputs": [
    {
     "name": "stdout",
     "output_type": "stream",
     "text": [
      "Loading graph ...done!\n"
     ]
    }
   ],
   "source": [
    "import os\n",
    "from rdflib import ConjunctiveGraph, Namespace\n",
    "import json\n",
    "\n",
    "# Constants for script error reporting as per https://github.com/edamontology/edamverify.\n",
    "NOERR = \"NOERR\"\n",
    "INFO  = \"INFO\"\n",
    "WARN  = \"WARN\"\n",
    "ERROR = \"ERROR\"\n",
    "\n",
    "#Load EDAM_dev.owl from GitHub into an RDF graph.\n",
    "print(\"Loading graph ...\", end=\"\")\n",
    "g = ConjunctiveGraph()\n",
    "g.load(os.environ.get('EDAM_PATH', '../EDAM_dev.owl'), format='xml')\n",
    "# g.load('https://raw.githubusercontent.com/edamontology/edamontology/master/EDAM_dev.owl', format='xml')\n",
    "# g.load('EDAM_dev.owl', format='xml')\n",
    "g.bind('edam', Namespace('http://edamontology.org#'))\n",
    "print(\"done!\")\n",
    "\n"
   ],
   "metadata": {
    "collapsed": false,
    "pycharm": {
     "name": "#%%\n"
    }
   }
  },
  {
   "cell_type": "markdown",
   "source": [
    "Define SPARQL query to retrieve ID, term, and properties that are reservd for use on deprecated concepts. Run the query.\n",
    "\n",
    "**NB.1:** BASE is used to define the define the default namespace (for various elements below).\n",
    "\n",
    "**NB.2:** A concept is considered deprecated if it has a property ``<oboInOwl:inSubset>`` whose value contains the string ``obsolete``, e.g. ``<oboInOwl:inSubset rdf:resource=\"http://purl.obolibrary.org/obo/edam#obsolete\"/>`` or``<oboInOwl:inSubset>obsolete/>``.\n"
   ],
   "metadata": {
    "collapsed": false
   }
  },
  {
   "cell_type": "code",
   "execution_count": 2,
   "outputs": [],
   "source": [
    "# Compile SPARQL query\n",
    "query_term = \"\"\"\n",
    "BASE <http://edamontology.org/>\n",
    "SELECT ?id ?term ?obsolete_since ?subsetpath ?deprecated ?replacedBy ?consider ?oldParent ?deprecation_comment WHERE\n",
    "{\n",
    "?id rdfs:label ?term .\n",
    "?id oboInOwl:inSubset ?subsetpath .\n",
    "OPTIONAL {?id :obsolete_since ?obsolete_since .}\n",
    "OPTIONAL {?id owl:deprecated ?deprecated .}\n",
    "OPTIONAL {?id oboInOwl:replacedBy ?replacedBy .}\n",
    "OPTIONAL {?id oboInOwl:consider ?consider .}\n",
    "OPTIONAL {?id :oldParent ?oldParent .}\n",
    "OPTIONAL {?id :deprecation_comment ?deprecation_comment .}\n",
    "}\n",
    "\"\"\"\n",
    "\n",
    "# Run SPARQL query and collate results\n",
    "errfound = False\n",
    "err = NOERR\n",
    "report = list()\n",
    "results = g.query(query_term)"
   ],
   "metadata": {
    "collapsed": false,
    "pycharm": {
     "name": "#%%\n"
    }
   }
  },
  {
   "cell_type": "markdown",
   "source": [
    "Analyse results of query."
   ],
   "metadata": {
    "collapsed": false
   }
  },
  {
   "cell_type": "code",
   "execution_count": 3,
   "outputs": [],
   "source": [
    "# Error message building function\n",
    "def report_append(err_new, msg):\n",
    "    \"\"\"\n",
    "    Writes a report of an error and sets the error level appropriately.\n",
    "    err: the error level to set\n",
    "    msg: the message to write\n",
    "    \"\"\"\n",
    "    global err\n",
    "    global errfound\n",
    "    global report\n",
    "    if err_new > err:\n",
    "        err = err_new\n",
    "    errfound = True\n",
    "    report.append(msg)\n",
    "\n",
    "for r in results :\n",
    "#    print(str(r['id']), str(r['term']), str(r['ext']), str(r['exact_syn']))\n",
    "    id   = str(r['id'])\n",
    "    term = str(r['term'])\n",
    "    subsetpath  = str(r['subsetpath'])\n",
    "    obsolete_since  = str(r['obsolete_since'])\n",
    "    deprecated = str(r['deprecated'])\n",
    "    replacedBy = str(r['replacedBy'])\n",
    "    consider = str(r['consider'])\n",
    "    oldParent = str(r['oldParent'])\n",
    "    deprecation_comment = str(r['deprecation_comment'])\n",
    "\n",
    "    # Check for obsolete concepts\n",
    "    if \"obsolete\" in subsetpath:\n",
    "        if obsolete_since == \"None\":\n",
    "            report_append(WARN, \"WARN <obsolete_since> property missing ::: \" + id +  ' (' + term + ')')\n",
    "        if deprecated == \"None\":\n",
    "            report_append(ERROR, \"ERROR <owl:deprecated> property missing ::: \" + id +  ' (' + term + ')')\n",
    "        if replacedBy == \"None\" and consider == \"None\":\n",
    "            report_append(ERROR, \"ERROR Both <oboInOwl:replacedBy> and <oboInOwl:consider> missing ::: \" + id +  ' (' + term + ')')\n",
    "        if oldParent == \"None\":\n",
    "            report_append(INFO, \"INFO <oldParent> missing ::: \" + id +  ' (' + term + ')')\n",
    "        continue"
   ],
   "metadata": {
    "collapsed": false,
    "pycharm": {
     "name": "#%%\n"
    }
   }
  },
  {
   "cell_type": "markdown",
   "source": [
    "Write report and return approriate value."
   ],
   "metadata": {
    "collapsed": false
   }
  },
  {
   "cell_type": "code",
   "execution_count": 4,
   "outputs": [
    {
     "name": "stdout",
     "output_type": "stream",
     "text": [
      "{\n",
      "    \"comment\": \"Properties omitted for one or more obsolete concepts.\",\n",
      "    \"status\": \"NOERR\",\n",
      "    \"test_name\": \"annotationDeprecationOmission\"\n",
      "}\n"
     ]
    }
   ],
   "source": [
    "report_obj = {}\n",
    "report_obj['test_name'] = 'annotationDeprecationOmission'\n",
    "report_obj['comment'] = 'Properties omitted for one or more obsolete concepts.'\n",
    "\n",
    "if errfound:\n",
    "    report_obj['status'] = err\n",
    "    report_obj['reason'] = report\n",
    "else:\n",
    "    report_obj['status'] = NOERR\n",
    "\n",
    "report_json = json.dumps(report_obj, indent=4)\n",
    "print(report_json)"
   ],
   "metadata": {
    "collapsed": false,
    "pycharm": {
     "name": "#%%\n"
    }
   }
  }
 ],
 "metadata": {
  "kernelspec": {
   "display_name": "Python 3",
   "language": "python",
   "name": "python3"
  },
  "language_info": {
   "codemirror_mode": {
    "name": "ipython",
    "version": 2
   },
   "file_extension": ".py",
   "mimetype": "text/x-python",
   "name": "python",
   "nbconvert_exporter": "python",
   "pygments_lexer": "ipython2",
   "version": "2.7.6"
  }
 },
 "nbformat": 4,
 "nbformat_minor": 0
}