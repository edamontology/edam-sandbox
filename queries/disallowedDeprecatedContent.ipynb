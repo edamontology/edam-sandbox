{
 "cells": [
  {
   "cell_type": "markdown",
   "metadata": {
    "collapsed": true,
    "pycharm": {
     "name": "#%% md\n"
    }
   },
   "source": [
    "**disallowedDeprecatedContent.ipynb**\n",
    "\n",
    "Deprecated concept with disallowed annotations or axioms.\n",
    "\n",
    "**Documentation:** https://github.com/edamontology/edamverify/blob/master/docs/disallowedDeprecatedContent.md\n",
    "\n",
    "**NB.1: - Running the notebook**\n",
    "The directory containing the ``EDAM_dev.owl`` file must be defined by ``EDAM_PATH`` environment variable.\n",
    "\n",
    "The script requires the test to be run from a subdirectory of ``EDAM_PATH`` (hence ``'../EDAM_dev.owl'`` below)"
   ]
  },
  {
   "cell_type": "code",
   "execution_count": 17,
   "outputs": [
    {
     "name": "stdout",
     "output_type": "stream",
     "text": [
      "Loading graph ...done!\n"
     ]
    }
   ],
   "source": [
    "import os\n",
    "from rdflib import ConjunctiveGraph, Namespace\n",
    "import json\n",
    "\n",
    "# Constants for script error reporting as per https://github.com/edamontology/edamverify.\n",
    "NOERR = \"NOERR\"\n",
    "INFO  = \"INFO\"\n",
    "WARN  = \"WARN\"\n",
    "ERROR = \"ERROR\"\n",
    "\n",
    "#Load EDAM_dev.owl from GitHub into an RDF graph.\n",
    "print(\"Loading graph ...\", end=\"\")\n",
    "g = ConjunctiveGraph()\n",
    "g.load(os.environ.get('EDAM_PATH', '../EDAM_dev.owl'), format='xml')\n",
    "# g.load('https://raw.githubusercontent.com/edamontology/edamontology/master/EDAM_dev.owl', format='xml')\n",
    "# g.load('EDAM_dev.owl', format='xml')\n",
    "g.bind('edam', Namespace('http://edamontology.org#'))\n",
    "print(\"done!\")\n",
    "\n"
   ],
   "metadata": {
    "collapsed": false,
    "pycharm": {
     "name": "#%%\n"
    }
   }
  },
  {
   "cell_type": "markdown",
   "source": [
    "Define SPARQL query to retrieve ID, term, and all properties that are *not* allowed on deprecated concepts. Run the query.\n",
    "\n",
    "**NB.1:** BASE is used to define the define the default namespace (for various elements below).\n",
    "\n",
    "**NB.2:** A concept is considered deprecated if it has a property ``<oboInOwl:inSubset>`` whose value contains the string ``obsolete``, e.g. ``<oboInOwl:inSubset rdf:resource=\"http://purl.obolibrary.org/obo/edam#obsolete\"/>`` or\n",
    "``<oboInOwl:inSubset>obsolete />``"
   ],
   "metadata": {
    "collapsed": false
   }
  },
  {
   "cell_type": "code",
   "execution_count": 18,
   "outputs": [],
   "source": [
    "# Compile SPARQL query\n",
    "query_term = \"\"\"\n",
    "BASE <http://edamontology.org/>\n",
    "SELECT ?id ?term ?subsetpath ?documentation ?exact_syn ?narrow_syn ?broad_syn ?notRecommendedForAnnotation ?file_extension ?media_type ?example ?information_standard ?ontology_used ?organisation ?regex WHERE\n",
    "{\n",
    "?id rdfs:label ?term .\n",
    "?id oboInOwl:inSubset ?subsetpath .\n",
    "OPTIONAL {?id :documentation ?documentation .}\n",
    "OPTIONAL {?id oboInOwl:hasExactSynonym ?exact_syn .}\n",
    "OPTIONAL {?id oboInOwl:hasNarrowSynonym ?narrow_syn .}\n",
    "OPTIONAL {?id oboInOwl:hasBroadSynonym ?broad_syn .}\n",
    "OPTIONAL {?id rdfs:comment ?comment .}\n",
    "OPTIONAL {?id :notRecommendedForAnnotation ?notRecommendedForAnnotation .}\n",
    "OPTIONAL {?id :file_extension ?file_extension .}\n",
    "OPTIONAL {?id :media_type ?media_type .}\n",
    "OPTIONAL {?id :example ?example .}\n",
    "OPTIONAL {?id :information_standard ?information_standard .}\n",
    "OPTIONAL {?id :ontology_used ?ontology_used .}\n",
    "OPTIONAL {?id :organisation ?organisation .}\n",
    "OPTIONAL {?id :regex ?regex .}\n",
    "}\n",
    "\"\"\"\n",
    "\n",
    "# Run SPARQL query and collate results\n",
    "errfound = False\n",
    "report = list()\n",
    "results = g.query(query_term)"
   ],
   "metadata": {
    "collapsed": false,
    "pycharm": {
     "name": "#%%\n"
    }
   }
  },
  {
   "cell_type": "markdown",
   "source": [
    "Analyse results of query."
   ],
   "metadata": {
    "collapsed": false
   }
  },
  {
   "cell_type": "code",
   "execution_count": 19,
   "outputs": [],
   "source": [
    "# Error message building function\n",
    "def report_append(msg):\n",
    "    \"\"\"\n",
    "    Writes a report of an error and sets the error level appropriately.\n",
    "    err: the error level to set\n",
    "    msg: the message to write\n",
    "    \"\"\"\n",
    "    global errfound\n",
    "    global report\n",
    "\n",
    "    report.append(\"Invalid property \" + \"(\" + msg + \") \" + \"on ::: \" + id +  \" (\" + term + \")\")\n",
    "    errfound = True\n",
    "\n",
    "for r in results :\n",
    "#    print(str(r['id']), str(r['term']), str(r['ext']), str(r['exact_syn']))\n",
    "    id   = str(r['id'])\n",
    "    term = str(r['term'])\n",
    "    subsetpath  = str(r['subsetpath'])\n",
    "\n",
    "    documentation = str(r['documentation'])\n",
    "    exact_syn = str(r['exact_syn'])\n",
    "    narrow_syn = str(r['narrow_syn'])\n",
    "    broad_syn = str(r['broad_syn'])\n",
    "    notRecommendedForAnnotation = str(r['notRecommendedForAnnotation'])\n",
    "    file_extension = str(r['file_extension'])\n",
    "    media_type = str(r['media_type'])\n",
    "    example = str(r['example'])\n",
    "    information_standard = str(r['information_standard'])\n",
    "    ontology_used = str(r['ontology_used'])\n",
    "    organisation = str(r['organisation'])\n",
    "    regex = str(r['regex'])\n",
    "\n",
    "    # Check for obsolete concepts\n",
    "    if \"obsolete\" in subsetpath:\n",
    "        if documentation != \"None\":\n",
    "            report_append(\"documentation\")\n",
    "        if exact_syn  != \"None\":\n",
    "            report_append(\"exact_syn\")\n",
    "        if narrow_syn  != \"None\":\n",
    "            report_append(\"narrow_syn\")\n",
    "        if broad_syn  != \"None\":\n",
    "            report_append(\"broad_syn\")\n",
    "        if notRecommendedForAnnotation != \"None\":\n",
    "            report_append(\"notRecommendedForAnnotation\")\n",
    "        if file_extension  != \"None\":\n",
    "            report_append(\"file_extension\")\n",
    "        if media_type  != \"None\":\n",
    "            report_append(\"media_type\")\n",
    "        if example  != \"None\":\n",
    "            report_append(\"example\")\n",
    "        if information_standard != \"None\":\n",
    "            report_append(\"information_standard\")\n",
    "        if ontology_used  != \"None\":\n",
    "            report_append(\"ontology_used\")\n",
    "        if organisation  != \"None\":\n",
    "            report_append(\"organisation\")\n",
    "        if regex != \"None\":\n",
    "            report_append(\"regex\")"
   ],
   "metadata": {
    "collapsed": false,
    "pycharm": {
     "name": "#%%\n"
    }
   }
  },
  {
   "cell_type": "markdown",
   "source": [
    "Write report and return approriate value."
   ],
   "metadata": {
    "collapsed": false
   }
  },
  {
   "cell_type": "code",
   "execution_count": 20,
   "outputs": [
    {
     "name": "stdout",
     "output_type": "stream",
     "text": [
      "{\n",
      "    \"comment\": \"Invalid property found for one or more obsolete concepts.\",\n",
      "    \"status\": \"NOERR\",\n",
      "    \"test_name\": \"disallowedDeprecatedContent\"\n",
      "}\n"
     ]
    }
   ],
   "source": [
    "report_obj = {}\n",
    "report_obj['test_name'] = 'disallowedDeprecatedContent'\n",
    "report_obj['comment'] = 'Invalid property found for one or more obsolete concepts.'\n",
    "\n",
    "if errfound:\n",
    "    report_obj['status'] = WARN\n",
    "    report_obj['reason'] = report\n",
    "else:\n",
    "    report_obj['status'] = NOERR\n",
    "\n",
    "report_json = json.dumps(report_obj, indent=4)\n",
    "print(report_json)"
   ],
   "metadata": {
    "collapsed": false,
    "pycharm": {
     "name": "#%%\n"
    }
   }
  }
 ],
 "metadata": {
  "kernelspec": {
   "display_name": "Python 3",
   "language": "python",
   "name": "python3"
  },
  "language_info": {
   "codemirror_mode": {
    "name": "ipython",
    "version": 2
   },
   "file_extension": ".py",
   "mimetype": "text/x-python",
   "name": "python",
   "nbconvert_exporter": "python",
   "pygments_lexer": "ipython2",
   "version": "2.7.6"
  }
 },
 "nbformat": 4,
 "nbformat_minor": 0
}