{
 "cells": [
  {
   "cell_type": "markdown",
   "metadata": {
    "collapsed": true,
    "pycharm": {
     "name": "#%% md\n"
    }
   },
   "source": [
    "**disallowedDeprecatedContent.ipynb**\n",
    "\n",
    "Deprecated concept with disallowed annotations or axioms.\n",
    "\n",
    "**Documentation:** https://github.com/edamontology/edamverify/blob/master/docs/disallowedDeprecatedContent.md\n",
    "\n",
    "Set constants for script return values. Load EDAM_dev.owl from GitHub into an RDF graph."
   ]
  },
  {
   "cell_type": "code",
   "execution_count": 25,
   "outputs": [
    {
     "name": "stdout",
     "output_type": "stream",
     "text": [
      "Loading graph ...done!\n"
     ]
    }
   ],
   "source": [
    "import sys\n",
    "from rdflib import ConjunctiveGraph, Namespace\n",
    "\n",
    "# Constants for script error reporting as per https://github.com/edamontology/edamverify.\n",
    "NOERR = \"NOERR\"\n",
    "INFO  = \"INFO\"\n",
    "WARN  = \"WARN\"\n",
    "ERROR = \"ERROR\"\n",
    "\n",
    "#Load EDAM_dev.owl from GitHub into an RDF graph.\n",
    "print(\"Loading graph ...\", end=\"\")\n",
    "g = ConjunctiveGraph()\n",
    "g.load('https://raw.githubusercontent.com/edamontology/edamontology/master/EDAM_dev.owl', format='xml')\n",
    "# g.load('EDAM_dev.owl', format='xml')\n",
    "g.bind('edam', Namespace('http://edamontology.org#'))\n",
    "print(\"done!\")\n",
    "\n"
   ],
   "metadata": {
    "collapsed": false,
    "pycharm": {
     "name": "#%%\n"
    }
   }
  },
  {
   "cell_type": "markdown",
   "source": [
    "Define SPARQL query to retrieve ID, term, and all properties that are *not* allowed on deprecated concepts. Run the query.\n",
    "\n",
    "**NB.1:** BASE is used to define the define the default namespace (for various elements below).\n",
    "\n",
    "**NB.2:** A concept is considered deprecated if it has a property ``<oboInOwl:inSubset>`` whose value contains the string ``obsolete``, e.g. ``<oboInOwl:inSubset rdf:resource=\"http://purl.obolibrary.org/obo/edam#obsolete\"/>`` or\n",
    "``<oboInOwl:inSubset>obsolete />``"
   ],
   "metadata": {
    "collapsed": false
   }
  },
  {
   "cell_type": "code",
   "execution_count": 26,
   "outputs": [],
   "source": [
    "# Compile SPARQL query\n",
    "query_term = \"\"\"\n",
    "BASE <http://edamontology.org/>\n",
    "SELECT ?id ?term ?subsetpath ?documentation ?exact_syn ?narrow_syn ?broad_syn ?notRecommendedForAnnotation ?file_extension ?media_type ?example ?information_standard ?ontology_used ?organisation ?regex WHERE\n",
    "{\n",
    "?id rdfs:label ?term .\n",
    "?id oboInOwl:inSubset ?subsetpath .\n",
    "OPTIONAL {?id :documentation ?documentation .}\n",
    "OPTIONAL {?id oboInOwl:hasExactSynonym ?exact_syn .}\n",
    "OPTIONAL {?id oboInOwl:hasNarrowSynonym ?narrow_syn .}\n",
    "OPTIONAL {?id oboInOwl:hasBroadSynonym ?broad_syn .}\n",
    "OPTIONAL {?id rdfs:comment ?comment .}\n",
    "OPTIONAL {?id :notRecommendedForAnnotation ?notRecommendedForAnnotation .}\n",
    "OPTIONAL {?id :file_extension ?file_extension .}\n",
    "OPTIONAL {?id :media_type ?media_type .}\n",
    "OPTIONAL {?id :example ?example .}\n",
    "OPTIONAL {?id :information_standard ?information_standard .}\n",
    "OPTIONAL {?id :ontology_used ?ontology_used .}\n",
    "OPTIONAL {?id :organisation ?organisation .}\n",
    "OPTIONAL {?id :regex ?regex .}\n",
    "}\n",
    "\"\"\"\n",
    "\n",
    "# Run SPARQL query and collate results\n",
    "errfound = False\n",
    "report = list()\n",
    "results = g.query(query_term)"
   ],
   "metadata": {
    "collapsed": false,
    "pycharm": {
     "name": "#%%\n"
    }
   }
  },
  {
   "cell_type": "markdown",
   "source": [
    "Analyse results of query."
   ],
   "metadata": {
    "collapsed": false
   }
  },
  {
   "cell_type": "code",
   "execution_count": 27,
   "outputs": [],
   "source": [
    "# Error message building function\n",
    "def report_append(msg):\n",
    "    \"\"\"\n",
    "    Writes a report of an error and sets the error level appropriately.\n",
    "    err: the error level to set\n",
    "    msg: the message to write\n",
    "    \"\"\"\n",
    "    global errfound\n",
    "    global report\n",
    "\n",
    "    report.append(\"Invalid property \" + \"(\" + msg + \") \" + \"on ::: \" + id +  \" (\" + term + \")\")\n",
    "    errfound = True\n",
    "\n",
    "\n",
    "for r in results :\n",
    "#    print(str(r['id']), str(r['term']), str(r['ext']), str(r['exact_syn']))\n",
    "    id   = str(r['id'])\n",
    "    term = str(r['term'])\n",
    "    subsetpath  = str(r['subsetpath'])\n",
    "\n",
    "    documentation = str(r['documentation'])\n",
    "    exact_syn = str(r['exact_syn'])\n",
    "    narrow_syn = str(r['narrow_syn'])\n",
    "    broad_syn = str(r['broad_syn'])\n",
    "    notRecommendedForAnnotation = str(r['notRecommendedForAnnotation'])\n",
    "    file_extension = str(r['file_extension'])\n",
    "    media_type = str(r['media_type'])\n",
    "    example = str(r['example'])\n",
    "    information_standard = str(r['information_standard'])\n",
    "    ontology_used = str(r['ontology_used'])\n",
    "    organisation = str(r['organisation'])\n",
    "    regex = str(r['regex'])\n",
    "\n",
    "    # Check for obsolete concepts\n",
    "    if \"obsolete\" in subsetpath:\n",
    "        if documentation != \"None\":\n",
    "            report_append(\"documentation\")\n",
    "        if exact_syn  != \"None\":\n",
    "            report_append(\"exact_syn\")\n",
    "        if narrow_syn  != \"None\":\n",
    "            report_append(\"narrow_syn\")\n",
    "        if broad_syn  != \"None\":\n",
    "            report_append(\"broad_syn\")\n",
    "        if notRecommendedForAnnotation != \"None\":\n",
    "            report_append(\"notRecommendedForAnnotation\")\n",
    "        if file_extension  != \"None\":\n",
    "            report_append(\"file_extension\")\n",
    "        if media_type  != \"None\":\n",
    "            report_append(\"media_type\")\n",
    "        if example  != \"None\":\n",
    "            report_append(\"example\")\n",
    "        if information_standard != \"None\":\n",
    "            report_append(\"information_standard\")\n",
    "        if ontology_used  != \"None\":\n",
    "            report_append(\"ontology_used\")\n",
    "        if organisation  != \"None\":\n",
    "            report_append(\"organisation\")\n",
    "        if regex != \"None\":\n",
    "            report_append(\"regex\")"
   ],
   "metadata": {
    "collapsed": false,
    "pycharm": {
     "name": "#%%\n"
    }
   }
  },
  {
   "cell_type": "markdown",
   "source": [
    "Write report and return approriate value."
   ],
   "metadata": {
    "collapsed": false
   }
  },
  {
   "cell_type": "code",
   "execution_count": 28,
   "outputs": [
    {
     "name": "stdout",
     "output_type": "stream",
     "text": [
      "Invalid property found for these obsolete concepts:\n",
      "Invalid property (regex) on ::: http://edamontology.org/data_2687 (Ensembl ID ('Monodelphis domestica'))\n",
      "Invalid property (exact_syn) on ::: http://edamontology.org/data_3497 (DNA sequence (raw))\n",
      "Invalid property (exact_syn) on ::: http://edamontology.org/data_3497 (DNA sequence (raw))\n",
      "Invalid property (exact_syn) on ::: http://edamontology.org/data_3497 (DNA sequence (raw))\n",
      "Invalid property (exact_syn) on ::: http://edamontology.org/topic_2842 (High-throughput sequencing)\n",
      "Invalid property (exact_syn) on ::: http://edamontology.org/data_1533 (Protein subcellular localisation)\n",
      "Invalid property (regex) on ::: http://edamontology.org/data_2696 (Ensembl ID ('Spermophilus tridecemlineatus'))\n",
      "Invalid property (regex) on ::: http://edamontology.org/data_2699 (Ensembl ID ('Xenopus tropicalis'))\n",
      "Invalid property (exact_syn) on ::: http://edamontology.org/data_2975 (Nucleic acid sequence (raw))\n",
      "Invalid property (exact_syn) on ::: http://edamontology.org/data_2975 (Nucleic acid sequence (raw))\n",
      "Invalid property (exact_syn) on ::: http://edamontology.org/data_2975 (Nucleic acid sequence (raw))\n",
      "Invalid property (exact_syn) on ::: http://edamontology.org/data_2975 (Nucleic acid sequence (raw))\n",
      "Invalid property (exact_syn) on ::: http://edamontology.org/data_1892 (Gene name (GeneFarm))\n",
      "Invalid property (regex) on ::: http://edamontology.org/data_2683 (Ensembl ID ('Gasterosteus aculeatus'))\n",
      "Invalid property (regex) on ::: http://edamontology.org/data_2681 (Ensembl ID ('Felis catus'))\n",
      "Invalid property (regex) on ::: http://edamontology.org/data_2690 (Ensembl ID (\"Ornithorhynchus anatinus\"))\n",
      "Invalid property (regex) on ::: http://edamontology.org/data_2671 (Ensembl ID (Homo sapiens))\n",
      "Invalid property (regex) on ::: http://edamontology.org/data_2695 (Ensembl ID ('Rattus norvegicus'))\n",
      "Invalid property (exact_syn) on ::: http://edamontology.org/data_1746 (Atomic z coordinate)\n",
      "Invalid property (regex) on ::: http://edamontology.org/data_2697 (Ensembl ID ('Takifugu rubripes'))\n",
      "Invalid property (regex) on ::: http://edamontology.org/data_2689 (Ensembl ID ('Myotis lucifugus'))\n",
      "Invalid property (regex) on ::: http://edamontology.org/data_2672 (Ensembl ID ('Bos taurus'))\n",
      "Invalid property (regex) on ::: http://edamontology.org/data_2673 (Ensembl ID ('Canis familiaris'))\n",
      "Invalid property (regex) on ::: http://edamontology.org/data_2679 (Ensembl ID ('Echinops telfairi'))\n",
      "Invalid property (exact_syn) on ::: http://edamontology.org/data_1450 (Nucleotide comparison matrix (integers))\n",
      "Invalid property (regex) on ::: http://edamontology.org/data_1792 (Gene name (MGD))\n",
      "Invalid property (regex) on ::: http://edamontology.org/data_2693 (Ensembl ID ('Otolemur garnettii'))\n",
      "Invalid property (exact_syn) on ::: http://edamontology.org/topic_3346 (Sequence search)\n",
      "Invalid property (regex) on ::: http://edamontology.org/data_2103 (Gene name (KEGG GENES))\n",
      "Invalid property (exact_syn) on ::: http://edamontology.org/operation_3259 (Transcriptome assembly (de novo))\n",
      "Invalid property (narrow_syn) on ::: http://edamontology.org/topic_0782 (Fungi)\n",
      "Invalid property (exact_syn) on ::: http://edamontology.org/data_0891 (Sequence-3D profile alignment)\n",
      "Invalid property (regex) on ::: http://edamontology.org/data_1030 (Gene identifier (Entrez))\n",
      "Invalid property (example) on ::: http://edamontology.org/data_0985 (Molecule type)\n",
      "Invalid property (regex) on ::: http://edamontology.org/data_2692 (Ensembl ID ('Oryzias latipes'))\n",
      "Invalid property (exact_syn) on ::: http://edamontology.org/data_2763 (Locus annotation)\n",
      "Invalid property (regex) on ::: http://edamontology.org/data_2698 (Ensembl ID ('Tupaia belangeri'))\n",
      "Invalid property (exact_syn) on ::: http://edamontology.org/data_2974 (Protein sequence (raw))\n",
      "Invalid property (exact_syn) on ::: http://edamontology.org/data_2974 (Protein sequence (raw))\n",
      "Invalid property (exact_syn) on ::: http://edamontology.org/data_2974 (Protein sequence (raw))\n",
      "Invalid property (exact_syn) on ::: http://edamontology.org/data_2974 (Protein sequence (raw))\n",
      "Invalid property (exact_syn) on ::: http://edamontology.org/data_2047 (Protein sequence record (lite))\n",
      "Invalid property (regex) on ::: http://edamontology.org/data_2676 (Ensembl ID ('Ciona savignyi'))\n",
      "Invalid property (exact_syn) on ::: http://edamontology.org/data_3496 (RNA sequence (raw))\n",
      "Invalid property (exact_syn) on ::: http://edamontology.org/data_3496 (RNA sequence (raw))\n",
      "Invalid property (exact_syn) on ::: http://edamontology.org/data_3496 (RNA sequence (raw))\n",
      "Invalid property (regex) on ::: http://edamontology.org/data_2686 (Ensembl ID ('Macaca mulatta'))\n",
      "Invalid property (exact_syn) on ::: http://edamontology.org/data_1786 (Gene name (EcoGene primary))\n",
      "Invalid property (regex) on ::: http://edamontology.org/data_2694 (Ensembl ID ('Pan troglodytes'))\n",
      "Invalid property (narrow_syn) on ::: http://edamontology.org/topic_3514 (Protein-ligand interactions)\n",
      "Invalid property (example) on ::: http://edamontology.org/data_1099 (UniProt accession (extended))\n",
      "Invalid property (regex) on ::: http://edamontology.org/data_1099 (UniProt accession (extended))\n",
      "Invalid property (exact_syn) on ::: http://edamontology.org/data_1156 (Pathway ID (aMAZE))\n",
      "Invalid property (exact_syn) on ::: http://edamontology.org/topic_0635 (Specific protein resources)\n",
      "Invalid property (example) on ::: http://edamontology.org/data_1122 (Phylogenetic tree type)\n",
      "Invalid property (exact_syn) on ::: http://edamontology.org/data_2740 (Gene name (Genolist))\n",
      "Invalid property (regex) on ::: http://edamontology.org/data_2685 (Ensembl ID ('Loxodonta africana'))\n",
      "Invalid property (exact_syn) on ::: http://edamontology.org/data_2300 (Gene name (NCBI))\n",
      "Invalid property (regex) on ::: http://edamontology.org/data_2677 (Ensembl ID ('Danio rerio'))\n",
      "Invalid property (regex) on ::: http://edamontology.org/data_1791 (Gene name (HGNC))\n",
      "Invalid property (exact_syn) on ::: http://edamontology.org/data_0861 (Sequence alignment (words))\n",
      "Invalid property (regex) on ::: http://edamontology.org/data_2680 (Ensembl ID ('Erinaceus europaeus'))\n",
      "Invalid property (regex) on ::: http://edamontology.org/data_2688 (Ensembl ID ('Mus musculus'))\n",
      "Invalid property (regex) on ::: http://edamontology.org/data_2675 (Ensembl ID ('Ciona intestinalis'))\n",
      "Invalid property (broad_syn) on ::: http://edamontology.org/topic_1811 (Prokaryotes and Archaea)\n",
      "Invalid property (regex) on ::: http://edamontology.org/data_2674 (Ensembl ID ('Cavia porcellus'))\n",
      "Invalid property (exact_syn) on ::: http://edamontology.org/data_1745 (Atomic y coordinate)\n",
      "Invalid property (exact_syn) on ::: http://edamontology.org/data_1744 (Atomic x coordinate)\n",
      "Invalid property (regex) on ::: http://edamontology.org/data_2678 (Ensembl ID ('Dasypus novemcinctus'))\n",
      "Invalid property (regex) on ::: http://edamontology.org/data_2691 (Ensembl ID ('Oryctolagus cuniculus'))\n",
      "Invalid property (exact_syn) on ::: http://edamontology.org/data_1451 (Nucleotide comparison matrix (floats))\n",
      "Invalid property (regex) on ::: http://edamontology.org/data_2682 (Ensembl ID ('Gallus gallus'))\n",
      "Invalid property (regex) on ::: http://edamontology.org/data_2684 (Ensembl ID ('Homo sapiens'))\n",
      "Invalid property (example) on ::: http://edamontology.org/data_1125 (Comparison matrix type)\n",
      "Invalid property (exact_syn) on ::: http://edamontology.org/topic_0158 (Sequence motifs)\n"
     ]
    },
    {
     "ename": "SystemExit",
     "evalue": "2",
     "output_type": "error",
     "traceback": [
      "An exception has occurred, use %tb to see the full traceback.\n",
      "\u001B[0;31mSystemExit\u001B[0m\u001B[0;31m:\u001B[0m 2\n"
     ]
    }
   ],
   "source": [
    "# Return exit code (raises exception)\n",
    "if errfound:\n",
    "    print('Invalid property found for these obsolete concepts:')\n",
    "\n",
    "    print('\"Test name\": ' + '\"disallowedDeprecatedContent\", ' +\\\n",
    "          '\"Status\": ' + '\"' + WARN + '\", ' +\\\n",
    "          '\"Reason\": ' + '\"' + '\\n'.join(report) + '\"')\n",
    "\n",
    "    # print(\"\\n\".join(report))\n",
    "    # sys.exit(WARN)\n",
    "else:\n",
    "    print('\"Test name\": ' + '\"disallowedDeprecatedContent\", ' +\\\n",
    "          '\"Status\": ' + '\"' + NOERR + '\", ' +\\\n",
    "          '\"Reason\": ' + '\"-\"')\n",
    "\n",
    "    # print(\"No issues found.\")\n",
    "    # sys.exit(NOERR)"
   ],
   "metadata": {
    "collapsed": false,
    "pycharm": {
     "name": "#%%\n"
    }
   }
  }
 ],
 "metadata": {
  "kernelspec": {
   "display_name": "Python 3",
   "language": "python",
   "name": "python3"
  },
  "language_info": {
   "codemirror_mode": {
    "name": "ipython",
    "version": 2
   },
   "file_extension": ".py",
   "mimetype": "text/x-python",
   "name": "python",
   "nbconvert_exporter": "python",
   "pygments_lexer": "ipython2",
   "version": "2.7.6"
  }
 },
 "nbformat": 4,
 "nbformat_minor": 0
}