{
 "cells": [
  {
   "cell_type": "markdown",
   "metadata": {
    "collapsed": true,
    "pycharm": {
     "name": "#%% md\n"
    }
   },
   "source": [
    "**annotationDeprecationMisuse.ipynb**\n",
    "\n",
    "Misuse of properties intended for deprecated concepts only.\n",
    "\n",
    "**Documentation:** https://github.com/edamontology/edamverify/blob/master/docs/annotationDeprecationMisuse.md\n",
    "\n",
    "Set constants for script return values. Load EDAM_dev.owl from GitHub into an RDF graph.\n",
    "\n",
    "**NB.1:** The ``EDAM_PATH`` environment variable (location of ``EDAM_dev.owl`` file) must be set.  The script requires the test to be run from a subdirectory of this path, hence ``'../EDAM_dev.owl'`` below."
   ]
  },
  {
   "cell_type": "code",
   "execution_count": 1,
   "outputs": [
    {
     "name": "stdout",
     "output_type": "stream",
     "text": [
      "Loading graph ...done!\n"
     ]
    }
   ],
   "source": [
    "import os\n",
    "from rdflib import ConjunctiveGraph, Namespace\n",
    "import json\n",
    "from collections import OrderedDict\n",
    "import sys\n",
    "import os\n",
    "sys.path.append(\"/mnt/e/repos/GitHub/edamverify/queries/\")  # path to current directory\n",
    "import edamverifylib\n",
    "\n",
    "# Constants for script error reporting as per https://github.com/edamontology/edamverify.\n",
    "NOERR = \"NOERR\"\n",
    "INFO  = \"INFO\"\n",
    "WARN  = \"WARN\"\n",
    "ERROR = \"ERROR\"\n",
    "\n",
    "#Load EDAM_dev.owl from GitHub into an RDF graph.\n",
    "print(\"Loading graph ...\", end=\"\")\n",
    "g = ConjunctiveGraph()\n",
    "g.load(os.environ.get('EDAM_PATH', '../EDAM_dev.owl'), format='xml')\n",
    "# g.load('EDAM_dev.owl', format='xml')\n",
    "g.bind('edam', Namespace('http://edamontology.org#'))\n",
    "print(\"done!\")\n",
    "\n"
   ],
   "metadata": {
    "collapsed": false,
    "pycharm": {
     "name": "#%%\n"
    }
   }
  },
  {
   "cell_type": "markdown",
   "source": [
    "Define SPARQL query to retrieve ID, term, and attributes that are reservd for use on deprecated concepts. Run the query.\n",
    "\n",
    "**NB.1:** BASE is used to define the define the default namespace (for various properties below).\n",
    "\n",
    "**NB.2:** A concept is considered deprecated if it has a property ``<oboInOwl:inSubset>`` whose value contains the string ``obsolete``, e.g. ``<oboInOwl:inSubset rdf:resource=\"http://purl.obolibrary.org/obo/edam#obsolete\"/>`` or ``<oboInOwl:inSubset>obsolete/>``."
   ],
   "metadata": {
    "collapsed": false
   }
  },
  {
   "cell_type": "code",
   "execution_count": 2,
   "outputs": [],
   "source": [
    "# Compile SPARQL query\n",
    "query_term = \"\"\"\n",
    "BASE <http://edamontology.org/>\n",
    "SELECT ?id ?term ?obsolete_since ?subsetpath ?deprecated ?replacedBy ?consider ?oldParent ?deprecation_comment WHERE\n",
    "{\n",
    "?id rdfs:label ?term .\n",
    "?id oboInOwl:inSubset ?subsetpath .\n",
    "OPTIONAL {?id :obsolete_since ?obsolete_since .}\n",
    "OPTIONAL {?id owl:deprecated ?deprecated .}\n",
    "OPTIONAL {?id oboInOwl:replacedBy ?replacedBy .}\n",
    "OPTIONAL {?id oboInOwl:consider ?consider .}\n",
    "OPTIONAL {?id :oldParent ?oldParent .}\n",
    "OPTIONAL {?id :deprecation_comment ?deprecation_comment .}\n",
    "}\n",
    "\"\"\"\n",
    "\n",
    "# Run SPARQL query and collate results\n",
    "errfound = False\n",
    "report = list()\n",
    "results = g.query(query_term)"
   ],
   "metadata": {
    "collapsed": false,
    "pycharm": {
     "name": "#%%\n"
    }
   }
  },
  {
   "cell_type": "markdown",
   "source": [
    "Analyse results of query."
   ],
   "metadata": {
    "collapsed": false
   }
  },
  {
   "cell_type": "code",
   "execution_count": 3,
   "outputs": [],
   "source": [
    "for r in results :\n",
    "#    print(str(r['id']), str(r['term']), str(r['ext']), str(r['exact_syn']))\n",
    "    id   = str(r['id'])\n",
    "    term = str(r['term'])\n",
    "    subsetpath  = str(r['subsetpath'])\n",
    "    obsolete_since  = str(r['obsolete_since'])\n",
    "    deprecated = str(r['deprecated'])\n",
    "    replacedBy = str(r['replacedBy'])\n",
    "    consider = str(r['consider'])\n",
    "    oldParent = str(r['oldParent'])\n",
    "    deprecation_comment = str(r['deprecation_comment'])\n",
    "\n",
    "    # Check for (and skip) obsolete concepts\n",
    "    if \"obsolete\" not in subsetpath:\n",
    "        if obsolete_since != \"None\":\n",
    "            errfound = True\n",
    "            report.append(\"Invalid <obsolete_since> property in \" + id +  ' (' + term + ')')\n",
    "        if deprecated != \"None\":\n",
    "            errfound = True\n",
    "            report.append(\"Invalid <owl:deprecated> property in \" + id +  ' (' + term + ')')\n",
    "        if replacedBy != \"None\":\n",
    "            errfound = True\n",
    "            report.append(\"Invalid <oboInOwl:replacedBy> property in \" + id +  ' (' + term + ')')\n",
    "        if consider != \"None\":\n",
    "            errfound = True\n",
    "            report.append(\"Invalid <oboInOwl:consider> property in \" + id +  ' (' + term + ')')\n",
    "        if oldParent != \"None\":\n",
    "            errfound = True\n",
    "            report.append(\"Invalid <oldParent> property in \" + id +  ' (' + term + ')')\n",
    "        if deprecation_comment != \"None\":\n",
    "            errfound = True\n",
    "            report.append(\"Invalid <deprecation_comment> property in \" + id +  ' (' + term + ')')\n",
    "        continue"
   ],
   "metadata": {
    "collapsed": false,
    "pycharm": {
     "name": "#%%\n"
    }
   }
  },
  {
   "cell_type": "markdown",
   "source": [
    "Write report and return approriate value."
   ],
   "metadata": {
    "collapsed": false
   }
  },
  {
   "cell_type": "code",
   "execution_count": 4,
   "outputs": [
    {
     "name": "stdout",
     "output_type": "stream",
     "text": [
      "report ['Invalid <oboInOwl:replacedBy> property in http://edamontology.org/data_0582 (Ontology)', 'Invalid <deprecation_comment> property in http://edamontology.org/data_0870 (Sequence distance matrix)', 'Invalid <oboInOwl:consider> property in http://edamontology.org/operation_3267 (Sequence coordinate conversion)', 'Invalid <oldParent> property in http://edamontology.org/data_0849 (Sequence record)', 'Invalid <deprecation_comment> property in http://edamontology.org/data_0870 (Sequence distance matrix)', 'Invalid <obsolete_since> property in http://edamontology.org/data_0005 (Resource type)', 'Invalid <owl:deprecated> property in http://edamontology.org/data_0005 (Resource type)', 'Invalid <oboInOwl:consider> property in http://edamontology.org/data_0005 (Resource type)', 'Invalid <oldParent> property in http://edamontology.org/data_0849 (Sequence record)', 'Invalid <oboInOwl:replacedBy> property in http://edamontology.org/data_0582 (Ontology)', 'Invalid <obsolete_since> property in http://edamontology.org/format_3623 (Index format)', 'Invalid <owl:deprecated> property in http://edamontology.org/format_3623 (Index format)', 'Invalid <oboInOwl:replacedBy> property in http://edamontology.org/format_3623 (Index format)', 'Invalid <oldParent> property in http://edamontology.org/format_3623 (Index format)', 'Invalid <deprecation_comment> property in http://edamontology.org/format_3623 (Index format)', 'Invalid <obsolete_since> property in http://edamontology.org/format_3623 (Index format)', 'Invalid <owl:deprecated> property in http://edamontology.org/format_3623 (Index format)', 'Invalid <oboInOwl:replacedBy> property in http://edamontology.org/format_3623 (Index format)', 'Invalid <oldParent> property in http://edamontology.org/format_3623 (Index format)', 'Invalid <deprecation_comment> property in http://edamontology.org/format_3623 (Index format)', 'Invalid <oboInOwl:consider> property in http://edamontology.org/operation_3267 (Sequence coordinate conversion)']\n",
      "# annotationDeprecationMisuse\n",
      "Invalid properties found for one or more non-obsolete concepts.\n",
      "**STATUS**:  WARN\n",
      "*  Invalid <oboInOwl:replacedBy> property in http://edamontology.org/data_0582 (Ontology)\n",
      "*  Invalid <deprecation_comment> property in http://edamontology.org/data_0870 (Sequence distance matrix)\n",
      "*  Invalid <oboInOwl:consider> property in http://edamontology.org/operation_3267 (Sequence coordinate conversion)\n",
      "*  Invalid <oldParent> property in http://edamontology.org/data_0849 (Sequence record)\n",
      "*  Invalid <deprecation_comment> property in http://edamontology.org/data_0870 (Sequence distance matrix)\n",
      "*  Invalid <obsolete_since> property in http://edamontology.org/data_0005 (Resource type)\n",
      "*  Invalid <owl:deprecated> property in http://edamontology.org/data_0005 (Resource type)\n",
      "*  Invalid <oboInOwl:consider> property in http://edamontology.org/data_0005 (Resource type)\n",
      "*  Invalid <oldParent> property in http://edamontology.org/data_0849 (Sequence record)\n",
      "*  Invalid <oboInOwl:replacedBy> property in http://edamontology.org/data_0582 (Ontology)\n",
      "*  Invalid <obsolete_since> property in http://edamontology.org/format_3623 (Index format)\n",
      "*  Invalid <owl:deprecated> property in http://edamontology.org/format_3623 (Index format)\n",
      "*  Invalid <oboInOwl:replacedBy> property in http://edamontology.org/format_3623 (Index format)\n",
      "*  Invalid <oldParent> property in http://edamontology.org/format_3623 (Index format)\n",
      "*  Invalid <deprecation_comment> property in http://edamontology.org/format_3623 (Index format)\n",
      "*  Invalid <obsolete_since> property in http://edamontology.org/format_3623 (Index format)\n",
      "*  Invalid <owl:deprecated> property in http://edamontology.org/format_3623 (Index format)\n",
      "*  Invalid <oboInOwl:replacedBy> property in http://edamontology.org/format_3623 (Index format)\n",
      "*  Invalid <oldParent> property in http://edamontology.org/format_3623 (Index format)\n",
      "*  Invalid <deprecation_comment> property in http://edamontology.org/format_3623 (Index format)\n",
      "*  Invalid <oboInOwl:consider> property in http://edamontology.org/operation_3267 (Sequence coordinate conversion)\n",
      "{\n",
      "    \"comment\": \"Invalid properties found for one or more non-obsolete concepts.\",\n",
      "    \"reason\": [\n",
      "        \"Invalid <oboInOwl:replacedBy> property in http://edamontology.org/data_0582 (Ontology)\",\n",
      "        \"Invalid <deprecation_comment> property in http://edamontology.org/data_0870 (Sequence distance matrix)\",\n",
      "        \"Invalid <oboInOwl:consider> property in http://edamontology.org/operation_3267 (Sequence coordinate conversion)\",\n",
      "        \"Invalid <oldParent> property in http://edamontology.org/data_0849 (Sequence record)\",\n",
      "        \"Invalid <deprecation_comment> property in http://edamontology.org/data_0870 (Sequence distance matrix)\",\n",
      "        \"Invalid <obsolete_since> property in http://edamontology.org/data_0005 (Resource type)\",\n",
      "        \"Invalid <owl:deprecated> property in http://edamontology.org/data_0005 (Resource type)\",\n",
      "        \"Invalid <oboInOwl:consider> property in http://edamontology.org/data_0005 (Resource type)\",\n",
      "        \"Invalid <oldParent> property in http://edamontology.org/data_0849 (Sequence record)\",\n",
      "        \"Invalid <oboInOwl:replacedBy> property in http://edamontology.org/data_0582 (Ontology)\",\n",
      "        \"Invalid <obsolete_since> property in http://edamontology.org/format_3623 (Index format)\",\n",
      "        \"Invalid <owl:deprecated> property in http://edamontology.org/format_3623 (Index format)\",\n",
      "        \"Invalid <oboInOwl:replacedBy> property in http://edamontology.org/format_3623 (Index format)\",\n",
      "        \"Invalid <oldParent> property in http://edamontology.org/format_3623 (Index format)\",\n",
      "        \"Invalid <deprecation_comment> property in http://edamontology.org/format_3623 (Index format)\",\n",
      "        \"Invalid <obsolete_since> property in http://edamontology.org/format_3623 (Index format)\",\n",
      "        \"Invalid <owl:deprecated> property in http://edamontology.org/format_3623 (Index format)\",\n",
      "        \"Invalid <oboInOwl:replacedBy> property in http://edamontology.org/format_3623 (Index format)\",\n",
      "        \"Invalid <oldParent> property in http://edamontology.org/format_3623 (Index format)\",\n",
      "        \"Invalid <deprecation_comment> property in http://edamontology.org/format_3623 (Index format)\",\n",
      "        \"Invalid <oboInOwl:consider> property in http://edamontology.org/operation_3267 (Sequence coordinate conversion)\"\n",
      "    ],\n",
      "    \"status\": \"WARN\",\n",
      "    \"testname\": \"annotationDeprecationMisuse\"\n",
      "}\n"
     ]
    }
   ],
   "source": [
    "# Write report\n",
    "# Use ordered dictionary to get consistent listing of properties in the JSON output\n",
    "#report_dict = OrderedDict\n",
    "\n",
    "#if errfound:\n",
    "#    report_dict = {\n",
    "#        'test_name': 'annotationDeprecationMisuse',\n",
    "#        'status' : WARN,\n",
    "#        'reason' : report\n",
    "#    }\n",
    "#else:\n",
    "#    report_dict = {\n",
    "#        'test_name': 'annotationDeprecationMisuse',\n",
    "#        'status' : NOERR,\n",
    "#        'reason' : '-'\n",
    "#    }\n",
    "#report_json = json.dumps(report_dict, indent=4)\n",
    "#print(report_json)\n",
    "\n",
    "print(\"report\", report)\n",
    "\n",
    "if errfound:\n",
    "    status = WARN\n",
    "else:\n",
    "    status = NOERR\n",
    "\n",
    "report_obj = edamverifylib.EdamReport(\n",
    "    'annotationDeprecationMisuse',\n",
    "    'Invalid properties found for one or more non-obsolete concepts.',\n",
    "    status,\n",
    "    report\n",
    ")\n",
    "\n",
    "report_obj.reportWriteMd()\n",
    "report_obj.reportWriteJson()\n",
    "\n",
    "#report_obj = {}\n",
    "#report_obj['test_name'] = 'annotationDeprecationMisuse'\n",
    "#report_obj['comment'] = 'Invalid properties found for one or more non-obsolete concepts.'\n",
    "\n",
    "#if errfound:\n",
    "#    report_obj['status'] = WARN\n",
    "#    report_obj['reason'] = report\n",
    "#else:\n",
    "#    report_obj['status'] = NOERR\n",
    "\n",
    "#\n",
    "# report_json = json.dumps(report_obj, indent=4)\n",
    "# print(report_json)\n",
    "\n",
    "\n"
   ],
   "metadata": {
    "collapsed": false,
    "pycharm": {
     "name": "#%%\n"
    }
   }
  }
 ],
 "metadata": {
  "kernelspec": {
   "display_name": "Python 3",
   "language": "python",
   "name": "python3"
  },
  "language_info": {
   "codemirror_mode": {
    "name": "ipython",
    "version": 2
   },
   "file_extension": ".py",
   "mimetype": "text/x-python",
   "name": "python",
   "nbconvert_exporter": "python",
   "pygments_lexer": "ipython2",
   "version": "2.7.6"
  }
 },
 "nbformat": 4,
 "nbformat_minor": 0
}