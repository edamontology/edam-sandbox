{
 "cells": [
  {
   "cell_type": "markdown",
   "metadata": {
    "collapsed": true,
    "pycharm": {
     "name": "#%% md\n"
    }
   },
   "source": [
    "**annotationDeprecationMisuse.ipynb**\n",
    "\n",
    "Misuse of properties intended for deprecated concepts only.\n",
    "\n",
    "**Documentation:** https://github.com/edamontology/edamverify/blob/master/docs/annotationDeprecationMisuse.md\n",
    "\n",
    "Set constants for script return values. Load EDAM_dev.owl from GitHub into an RDF graph."
   ]
  },
  {
   "cell_type": "code",
   "execution_count": 3,
   "metadata": {
    "pycharm": {
     "name": "#%%\n"
    }
   },
   "outputs": [
    {
     "name": "stdout",
     "output_type": "stream",
     "text": [
      "Loading graph ..."
     ]
    },
    {
     "name": "stderr",
     "output_type": "stream",
     "text": [
      "https://neuroml.org/neuromlv2|https://neuroml-db.org/ does not look like a valid URI, trying to serialize this will break.\n"
     ]
    },
    {
     "name": "stdout",
     "output_type": "stream",
     "text": [
      "done!\n"
     ]
    }
   ],
   "source": [
    "import sys\n",
    "from rdflib import ConjunctiveGraph, Namespace\n",
    "\n",
    "# Constants for script error reporting as per https://github.com/edamontology/edamverify.\n",
    "NOERR = \"NOERR\"\n",
    "INFO  = \"INFO\"\n",
    "WARN  = \"WARN\"\n",
    "ERROR = \"ERROR\"\n",
    "\n",
    "#Load EDAM_dev.owl from GitHub into an RDF graph.\n",
    "print(\"Loading graph ...\", end=\"\")\n",
    "g = ConjunctiveGraph()\n",
    "g.load('https://raw.githubusercontent.com/edamontology/edamontology/master/EDAM_dev.owl', format='xml')\n",
    "# g.load('EDAM_dev.owl', format='xml')\n",
    "g.bind('edam', Namespace('http://edamontology.org#'))\n",
    "print(\"done!\")\n",
    "\n"
   ]
  },
  {
   "cell_type": "markdown",
   "metadata": {},
   "source": [
    "Define SPARQL query to retrieve ID, term, and attributes that are reservd for use on deprecated concepts. Run the query.\n",
    "\n",
    "**NB.1:** BASE is used to define the define the default namespace (for various elements below).\n",
    "\n",
    "**NB.2:** A concept is considered deprecated if it has a property ``<oboInOwl:inSubset>`` whose value contains the string ``obsolete``, e.g. ``<oboInOwl:inSubset rdf:resource=\"http://purl.obolibrary.org/obo/edam#obsolete\"/>`` or ``<oboInOwl:inSubset>obsolete/>``."
   ]
  },
  {
   "cell_type": "code",
   "execution_count": 4,
   "metadata": {
    "pycharm": {
     "name": "#%%\n"
    }
   },
   "outputs": [],
   "source": [
    "# Compile SPARQL query\n",
    "query_term = \"\"\"\n",
    "BASE <http://edamontology.org/>\n",
    "SELECT ?id ?term ?obsolete_since ?subsetpath ?deprecated ?replacedBy ?consider ?oldParent ?deprecation_comment WHERE\n",
    "{\n",
    "?id rdfs:label ?term .\n",
    "?id oboInOwl:inSubset ?subsetpath .\n",
    "OPTIONAL {?id :obsolete_since ?obsolete_since .}\n",
    "OPTIONAL {?id owl:deprecated ?deprecated .}\n",
    "OPTIONAL {?id oboInOwl:replacedBy ?replacedBy .}\n",
    "OPTIONAL {?id oboInOwl:consider ?consider .}\n",
    "OPTIONAL {?id :oldParent ?oldParent .}\n",
    "OPTIONAL {?id :deprecation_comment ?deprecation_comment .}\n",
    "}\n",
    "\"\"\"\n",
    "\n",
    "# Run SPARQL query and collate results\n",
    "errfound = False\n",
    "report = list()\n",
    "results = g.query(query_term)"
   ]
  },
  {
   "cell_type": "markdown",
   "metadata": {},
   "source": [
    "Analyse results of query."
   ]
  },
  {
   "cell_type": "code",
   "execution_count": 5,
   "metadata": {
    "pycharm": {
     "name": "#%%\n"
    }
   },
   "outputs": [],
   "source": [
    "report.append('Invalid properties found for these non-obsolete concepts:')\n",
    "\n",
    "for r in results :\n",
    "#    print(str(r['id']), str(r['term']), str(r['ext']), str(r['exact_syn']))\n",
    "    id   = str(r['id'])\n",
    "    term = str(r['term'])\n",
    "    subsetpath  = str(r['subsetpath'])\n",
    "    obsolete_since  = str(r['obsolete_since'])\n",
    "    deprecated = str(r['deprecated'])\n",
    "    replacedBy = str(r['replacedBy'])\n",
    "    consider = str(r['consider'])\n",
    "    oldParent = str(r['oldParent'])\n",
    "    deprecation_comment = str(r['deprecation_comment'])\n",
    "\n",
    "    # Check for (and skip) obsolete concepts\n",
    "    if \"obsolete\" not in subsetpath:\n",
    "        if obsolete_since != \"None\":\n",
    "            errfound = True\n",
    "            report.append(\"Invalid <obsolete_since> element ::: \" + id +  ' (' + term + ')')\n",
    "        if deprecated != \"None\":\n",
    "            errfound = True\n",
    "            report.append(\"Invalid <owl:deprecated> element ::: \" + id +  ' (' + term + ')')\n",
    "        if replacedBy != \"None\":\n",
    "            errfound = True\n",
    "            report.append(\"Invalid <oboInOwl:replacedBy> element ::: \" + id +  ' (' + term + ')')\n",
    "        if consider != \"None\":\n",
    "            errfound = True\n",
    "            report.append(\"Invalid <oboInOwl:consider> element ::: \" + id +  ' (' + term + ')')\n",
    "        if oldParent != \"None\":\n",
    "            errfound = True\n",
    "            report.append(\"Invalid <oldParent> element ::: \" + id +  ' (' + term + ')')\n",
    "        if deprecation_comment != \"None\":\n",
    "            errfound = True\n",
    "            report.append(\"Invalid <deprecation_comment> element ::: \" + id +  ' (' + term + ')')\n",
    "        continue"
   ]
  },
  {
   "cell_type": "markdown",
   "metadata": {},
   "source": [
    "Write report and return approriate value."
   ]
  },
  {
   "cell_type": "code",
   "execution_count": 8,
   "metadata": {
    "pycharm": {
     "name": "#%%\n"
    }
   },
   "outputs": [
    {
     "name": "stdout",
     "output_type": "stream",
     "text": [
      "{\"test_name\": \"annotationDeprecationMisuse\", \"status\": \"WARN\", \"reason\": \"Invalid properties found for these non-obsolete concepts:\\nInvalid <obsolete_since> element ::: http://edamontology.org/format_3623 (Index format)\\nInvalid <owl:deprecated> element ::: http://edamontology.org/format_3623 (Index format)\\nInvalid <oboInOwl:replacedBy> element ::: http://edamontology.org/format_3623 (Index format)\\nInvalid <oldParent> element ::: http://edamontology.org/format_3623 (Index format)\\nInvalid <deprecation_comment> element ::: http://edamontology.org/format_3623 (Index format)\\nInvalid <obsolete_since> element ::: http://edamontology.org/format_3623 (Index format)\\nInvalid <owl:deprecated> element ::: http://edamontology.org/format_3623 (Index format)\\nInvalid <oboInOwl:replacedBy> element ::: http://edamontology.org/format_3623 (Index format)\\nInvalid <oldParent> element ::: http://edamontology.org/format_3623 (Index format)\\nInvalid <deprecation_comment> element ::: http://edamontology.org/format_3623 (Index format)\"}\n"
     ]
    }
   ],
   "source": [
    "import json\n",
    "\n",
    "output = {}\n",
    "\n",
    "# Return exit code (raises exception)\n",
    "if errfound:\n",
    "    output = {\"test_name\":\"annotationDeprecationMisuse\", \"status\":WARN, \"reason\": '\\n'.join(report)}\n",
    "\n",
    "else:\n",
    "    output = {\"test_name\":\"annotationDeprecationMisuse\", \"status\":NOERR, \"reason\": \"-\"}\n",
    "\n",
    "print(json.dumps(output))"
   ]
  }
 ],
 "metadata": {
  "kernelspec": {
   "display_name": "Python 3",
   "language": "python",
   "name": "python3"
  },
  "language_info": {
   "codemirror_mode": {
    "name": "ipython",
    "version": 3
   },
   "file_extension": ".py",
   "mimetype": "text/x-python",
   "name": "python",
   "nbconvert_exporter": "python",
   "pygments_lexer": "ipython3",
   "version": "3.7.6"
  }
 },
 "nbformat": 4,
 "nbformat_minor": 1
}
