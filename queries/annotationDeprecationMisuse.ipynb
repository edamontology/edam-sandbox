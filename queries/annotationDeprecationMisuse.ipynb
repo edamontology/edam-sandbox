{
 "cells": [
  {
   "cell_type": "markdown",
   "metadata": {
    "collapsed": true,
    "pycharm": {
     "name": "#%% md\n"
    }
   },
   "source": [
    "**annotationDeprecationMisuse.ipynb**\n",
    "\n",
    "Misuse of properties intended for deprecated concepts only.\n",
    "\n",
    "**Documentation:** https://github.com/edamontology/edamverify/blob/master/docs/annotationDeprecationMisuse.md\n",
    "\n",
    "Set constants for script return values. Load EDAM_dev.owl from GitHub into an RDF graph."
   ]
  },
  {
   "cell_type": "code",
   "execution_count": 41,
   "outputs": [
    {
     "name": "stdout",
     "output_type": "stream",
     "text": [
      "Loading graph ...done!\n"
     ]
    }
   ],
   "source": [
    "import sys\n",
    "from rdflib import ConjunctiveGraph, Namespace\n",
    "\n",
    "# Constants for script return value as per https://github.com/edamontology/edamverify.\n",
    "NOERR = 0\n",
    "INFO  = 1\n",
    "WARN  = 2\n",
    "ERROR = 3\n",
    "\n",
    "#Load EDAM_dev.owl from GitHub into an RDF graph.\n",
    "print(\"Loading graph ...\", end=\"\")\n",
    "g = ConjunctiveGraph()\n",
    "g.load('https://raw.githubusercontent.com/edamontology/edamontology/master/EDAM_dev.owl', format='xml')\n",
    "# g.load('EDAM_dev.owl', format='xml')\n",
    "g.bind('edam', Namespace('http://edamontology.org#'))\n",
    "print(\"done!\")\n",
    "\n"
   ],
   "metadata": {
    "collapsed": false,
    "pycharm": {
     "name": "#%%\n"
    }
   }
  },
  {
   "cell_type": "markdown",
   "source": [
    "Define SPARQL query to retrieve ID, term, and attributes that are reservd for use on deprecated concepts. Run the query.\n",
    "\n",
    "**NB.1:** BASE is used to define the define the default namespace (for various elements below).\n",
    "\n",
    "**NB.2:** A concecpt is considered deprecated if it has a property ``<oboInOwl:inSubset>`` whose value contains the string ``obsolete``, e.g. ``<oboInOwl:inSubset rdf:resource=\"http://purl.obolibrary.org/obo/edam#obsolete\"/>``.\n",
    "\n",
    "**NB.3:**\n",
    "Subsets in EDAM are (currently) defined in one of two ways:\n",
    "\n",
    "``<oboInOwl:inSubset rdf:resource=\"http://purl.obolibrary.org/obo/edam#data\" />``\n",
    "\n",
    "``<oboInOwl:inSubset>concept_properties />``\n",
    "\n",
    "this complicates the logic slightly."
   ],
   "metadata": {
    "collapsed": false
   }
  },
  {
   "cell_type": "code",
   "execution_count": 42,
   "outputs": [],
   "source": [
    "# Compile SPARQL query\n",
    "query_term = \"\"\"\n",
    "BASE <http://edamontology.org/>\n",
    "SELECT ?id ?term ?obsolete_since ?subsetpath ?deprecated ?replacedBy ?consider ?oldParent ?deprecation_comment WHERE\n",
    "{\n",
    "?id rdfs:label ?term .\n",
    "?id oboInOwl:inSubset ?subsetpath .\n",
    "OPTIONAL {?id :obsolete_since ?obsolete_since .}\n",
    "OPTIONAL {?id owl:deprecated ?deprecated .}\n",
    "OPTIONAL {?id oboInOwl:replacedBy ?replacedBy .}\n",
    "OPTIONAL {?id oboInOwl:consider ?consider .}\n",
    "OPTIONAL {?id :oldParent ?oldParent .}\n",
    "OPTIONAL {?id :deprecation_comment ?deprecation_comment .}\n",
    "}\n",
    "\"\"\"\n",
    "\n",
    "# Run SPARQL query and collate results\n",
    "errfound = False\n",
    "report = list()\n",
    "results = g.query(query_term)"
   ],
   "metadata": {
    "collapsed": false,
    "pycharm": {
     "name": "#%%\n"
    }
   }
  },
  {
   "cell_type": "markdown",
   "source": [
    "Analyse results of query."
   ],
   "metadata": {
    "collapsed": false
   }
  },
  {
   "cell_type": "code",
   "execution_count": 43,
   "outputs": [],
   "source": [
    "for r in results :\n",
    "#    print(str(r['id']), str(r['term']), str(r['ext']), str(r['exact_syn']))\n",
    "    id   = str(r['id'])\n",
    "    term = str(r['term'])\n",
    "    subsetpath  = str(r['subsetpath'])\n",
    "    obsolete_since  = str(r['obsolete_since'])\n",
    "    deprecated = str(r['deprecated'])\n",
    "    replacedBy = str(r['replacedBy'])\n",
    "    consider = str(r['consider'])\n",
    "    oldParent = str(r['oldParent'])\n",
    "    deprecation_comment = str(r['deprecation_comment'])\n",
    "\n",
    "    # Extract subset without path, e.g. \"data\"\n",
    "    pos = subsetpath.rfind(\"#\")\n",
    "    if pos == -1:\n",
    "        # subset path does not contain '#'\n",
    "        subset = subsetpath\n",
    "    else:\n",
    "        subset = subsetpath[pos+1:]\n",
    "\n",
    "    # Check for (and skip) obsolete concepts\n",
    "    if subset == \"obsolete\":\n",
    "        continue\n",
    "    else:\n",
    "        if obsolete_since != \"None\":\n",
    "            errfound = True\n",
    "            report.append(\"Invalid <obsolete_since> element ::: \" + id +  ' (' + term + ')')\n",
    "        if deprecated != \"None\":\n",
    "            errfound = True\n",
    "            report.append(\"Invalid <owl:deprecated> element ::: \" + id +  ' (' + term + ')')\n",
    "        if replacedBy != \"None\":\n",
    "            errfound = True\n",
    "            report.append(\"Invalid <oboInOwl:replacedBy> element ::: \" + id +  ' (' + term + ')')\n",
    "        if consider != \"None\":\n",
    "            errfound = True\n",
    "            report.append(\"Invalid <oboInOwl:consider> element ::: \" + id +  ' (' + term + ')')\n",
    "        if oldParent != \"None\":\n",
    "            errfound = True\n",
    "            report.append(\"Invalid <oldParent> element ::: \" + id +  ' (' + term + ')')\n",
    "        if deprecation_comment != \"None\":\n",
    "            errfound = True\n",
    "            report.append(\"Invalid <deprecation_comment> element ::: \" + id +  ' (' + term + ')')\n",
    "        continue"
   ],
   "metadata": {
    "collapsed": false,
    "pycharm": {
     "name": "#%%\n"
    }
   }
  },
  {
   "cell_type": "markdown",
   "source": [
    "Write report and return approriate value."
   ],
   "metadata": {
    "collapsed": false
   }
  },
  {
   "cell_type": "code",
   "execution_count": 44,
   "outputs": [
    {
     "name": "stdout",
     "output_type": "stream",
     "text": [
      "Invalid property found for these obsolete concepts:\n",
      "Invalid <oldParent> element ::: http://edamontology.org/data_0849 (Sequence record)\n",
      "Invalid <obsolete_since> element ::: http://edamontology.org/format_3623 (Index format)\n",
      "Invalid <owl:deprecated> element ::: http://edamontology.org/format_3623 (Index format)\n",
      "Invalid <oboInOwl:replacedBy> element ::: http://edamontology.org/format_3623 (Index format)\n",
      "Invalid <oldParent> element ::: http://edamontology.org/format_3623 (Index format)\n",
      "Invalid <deprecation_comment> element ::: http://edamontology.org/format_3623 (Index format)\n",
      "Invalid <obsolete_since> element ::: http://edamontology.org/format_3623 (Index format)\n",
      "Invalid <owl:deprecated> element ::: http://edamontology.org/format_3623 (Index format)\n",
      "Invalid <oboInOwl:replacedBy> element ::: http://edamontology.org/format_3623 (Index format)\n",
      "Invalid <oldParent> element ::: http://edamontology.org/format_3623 (Index format)\n",
      "Invalid <deprecation_comment> element ::: http://edamontology.org/format_3623 (Index format)\n",
      "Invalid <deprecation_comment> element ::: http://edamontology.org/data_0870 (Sequence distance matrix)\n",
      "Invalid <oboInOwl:consider> element ::: http://edamontology.org/operation_3267 (Sequence coordinate conversion)\n",
      "Invalid <obsolete_since> element ::: http://edamontology.org/data_0005 (Resource type)\n",
      "Invalid <owl:deprecated> element ::: http://edamontology.org/data_0005 (Resource type)\n",
      "Invalid <oboInOwl:consider> element ::: http://edamontology.org/data_0005 (Resource type)\n",
      "Invalid <oboInOwl:replacedBy> element ::: http://edamontology.org/data_0582 (Ontology)\n",
      "Invalid <oboInOwl:consider> element ::: http://edamontology.org/operation_3267 (Sequence coordinate conversion)\n",
      "Invalid <oldParent> element ::: http://edamontology.org/data_0849 (Sequence record)\n",
      "Invalid <oboInOwl:replacedBy> element ::: http://edamontology.org/data_0582 (Ontology)\n",
      "Invalid <deprecation_comment> element ::: http://edamontology.org/data_0870 (Sequence distance matrix)\n"
     ]
    },
    {
     "ename": "SystemExit",
     "evalue": "2",
     "output_type": "error",
     "traceback": [
      "An exception has occurred, use %tb to see the full traceback.\n",
      "\u001B[0;31mSystemExit\u001B[0m\u001B[0;31m:\u001B[0m 2\n"
     ]
    }
   ],
   "source": [
    "# Return exit code (raises exception)\n",
    "if errfound:\n",
    "    print('Invalid property found for these obsolete concepts:')\n",
    "    print(\"\\n\".join(report))\n",
    "    sys.exit(WARN)\n",
    "else:\n",
    "    print(\"No issues found.\")\n",
    "    sys.exit(NOERR)"
   ],
   "metadata": {
    "collapsed": false,
    "pycharm": {
     "name": "#%%\n"
    }
   }
  }
 ],
 "metadata": {
  "kernelspec": {
   "display_name": "Python 3",
   "language": "python",
   "name": "python3"
  },
  "language_info": {
   "codemirror_mode": {
    "name": "ipython",
    "version": 2
   },
   "file_extension": ".py",
   "mimetype": "text/x-python",
   "name": "python",
   "nbconvert_exporter": "python",
   "pygments_lexer": "ipython2",
   "version": "2.7.6"
  }
 },
 "nbformat": 4,
 "nbformat_minor": 0
}