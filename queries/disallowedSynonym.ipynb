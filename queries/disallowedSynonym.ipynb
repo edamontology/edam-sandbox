{
 "cells": [
  {
   "cell_type": "markdown",
   "source": [
    "**disallowedSynonym.ipynb**\n",
    "\n",
    "narrowSynonym or broadSynonym defined in Format subontology.\n",
    "\n",
    "**Documentation:** https://github.com/edamontology/edamverify/blob/master/docs/disallowedSynonym.md"
   ],
   "metadata": {
    "collapsed": false
   }
  },
  {
   "cell_type": "markdown",
   "source": [
    "Set constants for script return values. Load EDAM_dev.owl from GitHub into an RDF graph."
   ],
   "metadata": {
    "collapsed": false
   }
  },
  {
   "cell_type": "code",
   "execution_count": 1,
   "outputs": [
    {
     "name": "stdout",
     "output_type": "stream",
     "text": [
      "Loading graph ...done!\n"
     ]
    },
    {
     "name": "stderr",
     "output_type": "stream",
     "text": [
      "https://neuroml.org/neuromlv2|https://neuroml-db.org/ does not look like a valid URI, trying to serialize this will break.\n"
     ]
    }
   ],
   "source": [
    "import os\n",
    "from rdflib import ConjunctiveGraph, Namespace\n",
    "import json\n",
    "from collections import OrderedDict\n",
    "\n",
    "# Constants for script error reporting as per https://github.com/edamontology/edamverify.\n",
    "NOERR = \"NOERR\"\n",
    "INFO  = \"INFO\"\n",
    "WARN  = \"WARN\"\n",
    "ERROR = \"ERROR\"\n",
    "\n",
    "#Load EDAM_dev.owl from GitHub into an RDF graph.\n",
    "print(\"Loading graph ...\", end=\"\")\n",
    "g = ConjunctiveGraph()\n",
    "g.load(os.environ.get('EDAM_PATH', '../EDAM_dev.owl'), format='xml')\n",
    "# g.load('https://raw.githubusercontent.com/edamontology/edamontology/master/EDAM_dev.owl', format='xml')\n",
    "# g.load('EDAM_dev.owl')\n",
    "g.bind('edam', Namespace('http://edamontology.org#'))\n",
    "print(\"done!\")"
   ],
   "metadata": {
    "collapsed": false,
    "pycharm": {
     "name": "#%%\n"
    }
   }
  },
  {
   "cell_type": "markdown",
   "source": [
    "Define SPARQL query to extract ID, term, and (if available) narrow and broad synonyms of all Format concepts. Run the query."
   ],
   "metadata": {
    "collapsed": false
   }
  },
  {
   "cell_type": "code",
   "execution_count": 2,
   "outputs": [],
   "source": [
    "# Compile SPARQL query\n",
    "query_term = \"\"\"\n",
    "SELECT ?id ?term ?narrow_syn ?broad_syn WHERE\n",
    "{\n",
    "?id rdfs:label ?term .\n",
    "OPTIONAL {?id oboInOwl:hasNarrowSynonym ?narrow_syn .}\n",
    "OPTIONAL {?id oboInOwl:hasBroadSynonym ?broad_syn .}\n",
    "FILTER regex(str(?id), \"format_\")\n",
    "}\n",
    "\"\"\"\n",
    "\n",
    "# Run SPARQL query and collate results\n",
    "errfound = False    \n",
    "report = list()\n",
    "results = g.query(query_term)"
   ],
   "metadata": {
    "collapsed": false,
    "pycharm": {
     "name": "#%%\n"
    }
   }
  },
  {
   "cell_type": "markdown",
   "source": [
    "Analyse results of query.\n",
    "\n",
    "**NB:**\n",
    "**CAUTION:** If a (part of a) SPARQL query cannot be satisfied then the associated SPARQL variable will get assigned the value of \"None\" - *note* \"None\" as a *string value*.  This should not be confused with the **None** (null) Python keyword. \n",
    "\n"
   ],
   "metadata": {
    "collapsed": false
   }
  },
  {
   "cell_type": "code",
   "execution_count": 3,
   "outputs": [],
   "source": [
    "report.append(\"Synonym (disallowed) defined for these Format concepts:\")\n",
    "\n",
    "for r in results :\n",
    "    \n",
    "    id     = str(r['id'])\n",
    "    term   = str(r['term'])\n",
    "    narrow_syn = str(r['narrow_syn']) \n",
    "    broad_syn = str(r['broad_syn']) \n",
    "            \n",
    "#    print(str(r['id']), \"   \", id, \"   narrow:\", narrow_syn, \"   broad:\", broad_syn)\n",
    "   \n",
    "    # \"None\" string is return from SPARQL query where value was not found\n",
    "    if narrow_syn != \"None\":\n",
    "        errfound = True\n",
    "        report.append(\"Disallowed narrowSynonym ::: \" + id +  ' (' + term + ')' + \" ::: \" + \"narrowSynonym:\" + \"   \" + narrow_syn)\n",
    "\n",
    "    if broad_syn != \"None\":\n",
    "        errfound = True\n",
    "        report.append(\"Disallowed broadSnonym ::: \" + id +  ' (' + term + ')' + \" ::: \" + \"broadSynonym:\" + \"   \" + broad_syn)"
   ],
   "metadata": {
    "collapsed": false,
    "pycharm": {
     "name": "#%%\n"
    }
   }
  },
  {
   "cell_type": "markdown",
   "source": [
    "Write report and return appropriate value."
   ],
   "metadata": {
    "collapsed": false
   }
  },
  {
   "cell_type": "code",
   "execution_count": 4,
   "outputs": [
    {
     "name": "stdout",
     "output_type": "stream",
     "text": [
      "{\n",
      "    \"test_name\": \"disallowedSynonym\",\n",
      "    \"status\": \"ERROR\",\n",
      "    \"reason\": [\n",
      "        \"Synonym (disallowed) defined for these Format concepts:\",\n",
      "        \"Disallowed narrowSynonym ::: http://edamontology.org/format_2330 (Textual format) ::: narrowSynonym:   txt\",\n",
      "        \"Disallowed narrowSynonym ::: http://edamontology.org/format_2330 (Textual format) ::: narrowSynonym:   Plain text format\",\n",
      "        \"Disallowed narrowSynonym ::: http://edamontology.org/format_3865 (RNA annotation format) ::: narrowSynonym:   miRNA data format\",\n",
      "        \"Disallowed broadSnonym ::: http://edamontology.org/format_3865 (RNA annotation format) ::: broadSynonym:   RNA data format\",\n",
      "        \"Disallowed narrowSynonym ::: http://edamontology.org/format_3865 (RNA annotation format) ::: narrowSynonym:   microRNA data format\",\n",
      "        \"Disallowed broadSnonym ::: http://edamontology.org/format_3865 (RNA annotation format) ::: broadSynonym:   RNA data format\",\n",
      "        \"Disallowed broadSnonym ::: http://edamontology.org/format_3164 (GTrack) ::: broadSynonym:   GTrack ecosystem of formats\",\n",
      "        \"Disallowed broadSnonym ::: http://edamontology.org/format_2352 (BioXSD (XML)) ::: broadSynonym:   BioXSD/GTrack\",\n",
      "        \"Disallowed broadSnonym ::: http://edamontology.org/format_2352 (BioXSD (XML)) ::: broadSynonym:   BioXSD data model\",\n",
      "        \"Disallowed broadSnonym ::: http://edamontology.org/format_2352 (BioXSD (XML)) ::: broadSynonym:   BioXSD format\",\n",
      "        \"Disallowed broadSnonym ::: http://edamontology.org/format_2352 (BioXSD (XML)) ::: broadSynonym:   BioXSD|GTrack\",\n",
      "        \"Disallowed broadSnonym ::: http://edamontology.org/format_2352 (BioXSD (XML)) ::: broadSynonym:   BioXSD|BioJSON|BioYAML\",\n",
      "        \"Disallowed broadSnonym ::: http://edamontology.org/format_2352 (BioXSD (XML)) ::: broadSynonym:   BioXSD\",\n",
      "        \"Disallowed narrowSynonym ::: http://edamontology.org/format_3866 (Trajectory format) ::: narrowSynonym:   CG trajectory formats\",\n",
      "        \"Disallowed narrowSynonym ::: http://edamontology.org/format_3866 (Trajectory format) ::: narrowSynonym:   MD trajectory formats\",\n",
      "        \"Disallowed narrowSynonym ::: http://edamontology.org/format_3866 (Trajectory format) ::: narrowSynonym:   NA trajectory formats\",\n",
      "        \"Disallowed narrowSynonym ::: http://edamontology.org/format_3866 (Trajectory format) ::: narrowSynonym:   Protein trajectory formats\",\n",
      "        \"Disallowed narrowSynonym ::: http://edamontology.org/format_3879 (Topology format) ::: narrowSynonym:   MD topology format\",\n",
      "        \"Disallowed narrowSynonym ::: http://edamontology.org/format_3879 (Topology format) ::: narrowSynonym:   NA topology format\",\n",
      "        \"Disallowed narrowSynonym ::: http://edamontology.org/format_3879 (Topology format) ::: narrowSynonym:   CG topology format\",\n",
      "        \"Disallowed narrowSynonym ::: http://edamontology.org/format_3879 (Topology format) ::: narrowSynonym:   Protein topology format\",\n",
      "        \"Disallowed narrowSynonym ::: http://edamontology.org/format_3771 (UniProtKB RDF) ::: narrowSynonym:   UniProt RDF/XML format\",\n",
      "        \"Disallowed narrowSynonym ::: http://edamontology.org/format_3771 (UniProtKB RDF) ::: narrowSynonym:   UniProtKB RDF/XML\",\n",
      "        \"Disallowed narrowSynonym ::: http://edamontology.org/format_3771 (UniProtKB RDF) ::: narrowSynonym:   UniProt RDF/XML\",\n",
      "        \"Disallowed narrowSynonym ::: http://edamontology.org/format_3771 (UniProtKB RDF) ::: narrowSynonym:   UniProtKB RDF/XML format\",\n",
      "        \"Disallowed narrowSynonym ::: http://edamontology.org/format_3824 (NMR data format) ::: narrowSynonym:   NMR processed data format\",\n",
      "        \"Disallowed narrowSynonym ::: http://edamontology.org/format_3824 (NMR data format) ::: narrowSynonym:   Processed NMR data format\",\n",
      "        \"Disallowed narrowSynonym ::: http://edamontology.org/format_3824 (NMR data format) ::: narrowSynonym:   NMR raw data format\",\n",
      "        \"Disallowed narrowSynonym ::: http://edamontology.org/format_3824 (NMR data format) ::: narrowSynonym:   NMR peak assignment data\",\n",
      "        \"Disallowed narrowSynonym ::: http://edamontology.org/format_3824 (NMR data format) ::: narrowSynonym:   Raw NMR data format\",\n",
      "        \"Disallowed narrowSynonym ::: http://edamontology.org/format_3262 (OWL/XML) ::: narrowSynonym:   OWL\",\n",
      "        \"Disallowed narrowSynonym ::: http://edamontology.org/format_3777 (MCPD) ::: narrowSynonym:   IPGRI MCPD\",\n",
      "        \"Disallowed narrowSynonym ::: http://edamontology.org/format_3777 (MCPD) ::: narrowSynonym:   MCPD V.1\",\n",
      "        \"Disallowed narrowSynonym ::: http://edamontology.org/format_3777 (MCPD) ::: narrowSynonym:   MCPD V.2\",\n",
      "        \"Disallowed broadSnonym ::: http://edamontology.org/format_2054 (Protein interaction format) ::: broadSynonym:   Molecular interaction format\",\n",
      "        \"Disallowed narrowSynonym ::: http://edamontology.org/format_1915 (Format) ::: narrowSynonym:   File format\",\n",
      "        \"Disallowed broadSnonym ::: http://edamontology.org/format_1915 (Format) ::: broadSynonym:   Data model\",\n",
      "        \"Disallowed broadSnonym ::: http://edamontology.org/format_3751 (DSV) ::: broadSynonym:   Tabular format\"\n",
      "    ]\n",
      "}\n"
     ]
    }
   ],
   "source": [
    "# Write report\n",
    "# Use ordered dictionary to get consistent listing of properties in the JSON output\n",
    "report_dict = OrderedDict\n",
    "\n",
    "if errfound:\n",
    "    report_dict = {\n",
    "        'test_name': 'disallowedSynonym',\n",
    "        'status' : ERROR,\n",
    "        'reason' : report\n",
    "    }\n",
    "else:\n",
    "    report_dict = {\n",
    "        'test_name': 'disallowedSynonym',\n",
    "        'status' : NOERR,\n",
    "        'reason' : '-'\n",
    "    }\n",
    "\n",
    "report_json = json.dumps(report_dict, indent=4)\n",
    "print(report_json)"
   ],
   "metadata": {
    "collapsed": false,
    "pycharm": {
     "name": "#%%\n"
    }
   }
  }
 ],
 "metadata": {
  "kernelspec": {
   "display_name": "Python 3",
   "language": "python",
   "name": "python3"
  },
  "language_info": {
   "codemirror_mode": {
    "name": "ipython",
    "version": 2
   },
   "file_extension": ".py",
   "mimetype": "text/x-python",
   "name": "python",
   "nbconvert_exporter": "python",
   "pygments_lexer": "ipython2",
   "version": "2.7.6"
  }
 },
 "nbformat": 4,
 "nbformat_minor": 0
}