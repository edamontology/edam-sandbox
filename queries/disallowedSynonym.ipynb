{
 "cells": [
  {
   "cell_type": "markdown",
   "source": [
    "**disallowedSynonym.ipynb**\n",
    "\n",
    "narrowSynonym or broadSynonym defined in Format subontology.\n",
    "\n",
    "**Documentation:** https://github.com/edamontology/edamverify/blob/master/docs/disallowedSynonym.md\n",
    "\n",
    "**NB.1: - Running the notebook**\n",
    "The directory containing the ``EDAM_dev.owl`` file must be defined by ``EDAM_PATH`` environment variable.\n",
    "\n",
    "The script requires the test to be run from a subdirectory of ``EDAM_PATH`` (hence ``'../EDAM_dev.owl'`` below)"
   ],
   "metadata": {
    "collapsed": false
   }
  },
  {
   "cell_type": "code",
   "execution_count": 14,
   "outputs": [
    {
     "name": "stdout",
     "output_type": "stream",
     "text": [
      "Loading graph ...done!\n"
     ]
    }
   ],
   "source": [
    "import os\n",
    "from rdflib import ConjunctiveGraph, Namespace\n",
    "import json\n",
    "\n",
    "# Constants for script error reporting as per https://github.com/edamontology/edamverify.\n",
    "NOERR = \"NOERR\"\n",
    "INFO  = \"INFO\"\n",
    "WARN  = \"WARN\"\n",
    "ERROR = \"ERROR\"\n",
    "\n",
    "#Load EDAM_dev.owl from GitHub into an RDF graph.\n",
    "print(\"Loading graph ...\", end=\"\")\n",
    "g = ConjunctiveGraph()\n",
    "g.load(os.environ.get('EDAM_PATH', '../EDAM_dev.owl'), format='xml')\n",
    "# g.load('https://raw.githubusercontent.com/edamontology/edamontology/master/EDAM_dev.owl', format='xml')\n",
    "# g.load('EDAM_dev.owl')\n",
    "g.bind('edam', Namespace('http://edamontology.org#'))\n",
    "print(\"done!\")"
   ],
   "metadata": {
    "collapsed": false,
    "pycharm": {
     "name": "#%%\n"
    }
   }
  },
  {
   "cell_type": "markdown",
   "source": [
    "Define SPARQL query to extract ID, term, and (if available) narrow and broad synonyms of all Format concepts. Run the query."
   ],
   "metadata": {
    "collapsed": false
   }
  },
  {
   "cell_type": "code",
   "execution_count": 15,
   "outputs": [],
   "source": [
    "# Compile SPARQL query\n",
    "query_term = \"\"\"\n",
    "SELECT ?id ?term ?narrow_syn ?broad_syn WHERE\n",
    "{\n",
    "?id rdfs:label ?term .\n",
    "OPTIONAL {?id oboInOwl:hasNarrowSynonym ?narrow_syn .}\n",
    "OPTIONAL {?id oboInOwl:hasBroadSynonym ?broad_syn .}\n",
    "FILTER regex(str(?id), \"format_\")\n",
    "}\n",
    "\"\"\"\n",
    "\n",
    "# Run SPARQL query and collate results\n",
    "errfound = False    \n",
    "report = list()\n",
    "results = g.query(query_term)"
   ],
   "metadata": {
    "collapsed": false,
    "pycharm": {
     "name": "#%%\n"
    }
   }
  },
  {
   "cell_type": "markdown",
   "source": [
    "Analyse results of query.\n",
    "\n",
    "**NB:**\n",
    "**CAUTION:** If a (part of a) SPARQL query cannot be satisfied then the associated SPARQL variable will get assigned the value of \"None\" - *note* \"None\" as a *string value*.  This should not be confused with the **None** (null) Python keyword. \n",
    "\n"
   ],
   "metadata": {
    "collapsed": false
   }
  },
  {
   "cell_type": "code",
   "execution_count": 16,
   "outputs": [],
   "source": [
    "for r in results :\n",
    "    \n",
    "    id     = str(r['id'])\n",
    "    term   = str(r['term'])\n",
    "    narrow_syn = str(r['narrow_syn']) \n",
    "    broad_syn = str(r['broad_syn']) \n",
    "            \n",
    "#    print(str(r['id']), \"   \", id, \"   narrow:\", narrow_syn, \"   broad:\", broad_syn)\n",
    "   \n",
    "    # \"None\" string is return from SPARQL query where value was not found\n",
    "    if narrow_syn != \"None\":\n",
    "        errfound = True\n",
    "        report.append(\"Disallowed narrowSynonym ::: \" + id +  ' (' + term + ')' + \" ::: \" + \"narrowSynonym:\" + \"   \" + narrow_syn)\n",
    "\n",
    "    if broad_syn != \"None\":\n",
    "        errfound = True\n",
    "        report.append(\"Disallowed broadSynonym ::: \" + id +  ' (' + term + ')' + \" ::: \" + \"broadSynonym:\" + \"   \" + broad_syn)"
   ],
   "metadata": {
    "collapsed": false,
    "pycharm": {
     "name": "#%%\n"
    }
   }
  },
  {
   "cell_type": "markdown",
   "source": [
    "Write report and return appropriate value."
   ],
   "metadata": {
    "collapsed": false
   }
  },
  {
   "cell_type": "code",
   "execution_count": 17,
   "outputs": [
    {
     "name": "stdout",
     "output_type": "stream",
     "text": [
      "{\n",
      "    \"test_name\": \"disallowedSynonym\",\n",
      "    \"comment\": \"Synonym (disallowed) defined for one or more Format concepts.\",\n",
      "    \"status\": \"NOERR\"\n",
      "}\n"
     ]
    }
   ],
   "source": [
    "report_obj = {}\n",
    "report_obj['test_name'] = 'disallowedSynonym'\n",
    "report_obj['comment'] = 'Synonym (disallowed) defined for one or more Format concepts.'\n",
    "\n",
    "if errfound:\n",
    "    report_obj['status'] = ERROR\n",
    "    report_obj['reason'] = report\n",
    "else:\n",
    "    report_obj['status'] = NOERR\n",
    "\n",
    "report_json = json.dumps(report_obj, indent=4)\n",
    "print(report_json)"
   ],
   "metadata": {
    "collapsed": false,
    "pycharm": {
     "name": "#%%\n"
    }
   }
  }
 ],
 "metadata": {
  "kernelspec": {
   "display_name": "Python 3",
   "language": "python",
   "name": "python3"
  },
  "language_info": {
   "codemirror_mode": {
    "name": "ipython",
    "version": 2
   },
   "file_extension": ".py",
   "mimetype": "text/x-python",
   "name": "python",
   "nbconvert_exporter": "python",
   "pygments_lexer": "ipython2",
   "version": "2.7.6"
  }
 },
 "nbformat": 4,
 "nbformat_minor": 0
}